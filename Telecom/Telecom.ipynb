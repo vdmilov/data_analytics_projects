{
 "cells": [
  {
   "cell_type": "markdown",
   "id": "6df74850",
   "metadata": {},
   "source": [
    "# Telecom Project"
   ]
  },
  {
   "cell_type": "markdown",
   "id": "ef313462",
   "metadata": {},
   "source": [
    "**The goal**:\n",
    "- Find out which tariff is more profitable: \"Smart\" or \"Ultra\"\n",
    "\n",
    "**Input data**: \n",
    "- Sample of 500 users' data points: who they are, where from, what tariff use, how many messages send and how much traffic use\n",
    "\n",
    "**Tariffs description**  \n",
    "\n",
    "*Smart*\n",
    "- Price: 550 rub\n",
    "- Includes 500 min, 50 messages, 15GB traffic\n",
    "- Above this:\n",
    "    - 3 rub/min\n",
    "    - 3 rub/message\n",
    "    - 200 rub/GB\n",
    "  \n",
    "*Ultra*\n",
    "- Price: 1950 rub\n",
    "- Includes 3000 min, 1000 messages, 30GB traffic\n",
    "- Above this:\n",
    "    - 1 rub/min\n",
    "    - 1 rub/message\n",
    "    - 150 rub/GB\n",
    "\n",
    "**Important note**  \n",
    "- Seconds are always rounded to minutes\n",
    "- Megabytes are always rounded to gigabytes\n",
    "- Traffic is summed for one month\n",
    "- Unused minutes, messages, and traffic can not be shifted to new month\n",
    "\n",
    "**Analysis structure**:\n",
    "* Data overview\n",
    "* Data preparation\n",
    "* Data analysis\n",
    "* Hypothesis testing\n",
    "* Results"
   ]
  },
  {
   "cell_type": "markdown",
   "id": "f8e05c99",
   "metadata": {
    "id": "Ml1hmfXC_Zcs"
   },
   "source": [
    "## Data overview"
   ]
  },
  {
   "cell_type": "code",
   "execution_count": 326,
   "id": "8d834665",
   "metadata": {},
   "outputs": [],
   "source": [
    "import pandas as pd\n",
    "import numpy as np\n",
    "from scipy import stats as st\n",
    "import seaborn as sns\n",
    "import datetime as dt"
   ]
  },
  {
   "cell_type": "code",
   "execution_count": 327,
   "id": "8b564fef",
   "metadata": {},
   "outputs": [],
   "source": [
    "try:\n",
    "    calls = pd.read_csv('/datasets/calls.csv')\n",
    "    internet = pd.read_csv('/datasets/internet.csv')\n",
    "    messages = pd.read_csv('/datasets/messages.csv')\n",
    "    tariffs = pd.read_csv('/datasets/tariffs.csv')\n",
    "    users = pd.read_csv('/datasets/users.csv')\n",
    "except:\n",
    "    calls = pd.read_csv('calls.csv')\n",
    "    internet = pd.read_csv('internet.csv')\n",
    "    messages = pd.read_csv('messages.csv')\n",
    "    tariffs = pd.read_csv('tariffs.csv')\n",
    "    users = pd.read_csv('users.csv')"
   ]
  },
  {
   "cell_type": "code",
   "execution_count": 328,
   "id": "1400c6c7",
   "metadata": {},
   "outputs": [],
   "source": [
    "# set floats formats (in order not to see scientific notation)\n",
    "pd.options.display.float_format = '{:.2f}'.format"
   ]
  },
  {
   "cell_type": "markdown",
   "id": "70cb7c79",
   "metadata": {},
   "source": [
    "### Calls"
   ]
  },
  {
   "cell_type": "code",
   "execution_count": 329,
   "id": "023044bb",
   "metadata": {},
   "outputs": [
    {
     "name": "stdout",
     "output_type": "stream",
     "text": [
      "<class 'pandas.core.frame.DataFrame'>\n",
      "RangeIndex: 202607 entries, 0 to 202606\n",
      "Data columns (total 4 columns):\n",
      " #   Column     Non-Null Count   Dtype  \n",
      "---  ------     --------------   -----  \n",
      " 0   id         202607 non-null  object \n",
      " 1   call_date  202607 non-null  object \n",
      " 2   duration   202607 non-null  float64\n",
      " 3   user_id    202607 non-null  int64  \n",
      "dtypes: float64(1), int64(1), object(2)\n",
      "memory usage: 6.2+ MB\n"
     ]
    }
   ],
   "source": [
    "calls.info()"
   ]
  },
  {
   "cell_type": "markdown",
   "id": "62f96e05",
   "metadata": {},
   "source": [
    "There are 4 columns in the table:\n",
    "\n",
    "`id` — unique call id; data type `object`  \n",
    "`call_date` — date of the call; data type `object`  \n",
    "`duration` — duration of the call in minutes; data type `float`  \n",
    "`user_id` - unique user id who did a call; data type `int`  \n",
    "\n",
    "\n",
    "- Non-null count for columns is the same, so there are no missing values\n",
    "- Object time for call_date is not appropriate, so we need to change it"
   ]
  },
  {
   "cell_type": "code",
   "execution_count": 330,
   "id": "682e22aa",
   "metadata": {},
   "outputs": [],
   "source": [
    "# change the type for call dates\n",
    "calls['call_date'] = pd.to_datetime(calls['call_date'])"
   ]
  },
  {
   "cell_type": "code",
   "execution_count": 331,
   "id": "10f3cc1d",
   "metadata": {
    "scrolled": true
   },
   "outputs": [
    {
     "name": "stdout",
     "output_type": "stream",
     "text": [
      "<class 'pandas.core.frame.DataFrame'>\n",
      "RangeIndex: 202607 entries, 0 to 202606\n",
      "Data columns (total 4 columns):\n",
      " #   Column     Non-Null Count   Dtype         \n",
      "---  ------     --------------   -----         \n",
      " 0   id         202607 non-null  object        \n",
      " 1   call_date  202607 non-null  datetime64[ns]\n",
      " 2   duration   202607 non-null  float64       \n",
      " 3   user_id    202607 non-null  int64         \n",
      "dtypes: datetime64[ns](1), float64(1), int64(1), object(1)\n",
      "memory usage: 6.2+ MB\n"
     ]
    }
   ],
   "source": [
    "calls.info()"
   ]
  },
  {
   "cell_type": "markdown",
   "id": "1f8d2cdc",
   "metadata": {},
   "source": [
    "### Internet"
   ]
  },
  {
   "cell_type": "code",
   "execution_count": 332,
   "id": "e5fa6684",
   "metadata": {},
   "outputs": [
    {
     "name": "stdout",
     "output_type": "stream",
     "text": [
      "<class 'pandas.core.frame.DataFrame'>\n",
      "RangeIndex: 149396 entries, 0 to 149395\n",
      "Data columns (total 5 columns):\n",
      " #   Column        Non-Null Count   Dtype  \n",
      "---  ------        --------------   -----  \n",
      " 0   Unnamed: 0    149396 non-null  int64  \n",
      " 1   id            149396 non-null  object \n",
      " 2   mb_used       149396 non-null  float64\n",
      " 3   session_date  149396 non-null  object \n",
      " 4   user_id       149396 non-null  int64  \n",
      "dtypes: float64(1), int64(2), object(2)\n",
      "memory usage: 5.7+ MB\n"
     ]
    }
   ],
   "source": [
    "internet.info()"
   ]
  },
  {
   "cell_type": "code",
   "execution_count": 333,
   "id": "1d385751",
   "metadata": {},
   "outputs": [
    {
     "data": {
      "text/html": [
       "<div>\n",
       "<style scoped>\n",
       "    .dataframe tbody tr th:only-of-type {\n",
       "        vertical-align: middle;\n",
       "    }\n",
       "\n",
       "    .dataframe tbody tr th {\n",
       "        vertical-align: top;\n",
       "    }\n",
       "\n",
       "    .dataframe thead th {\n",
       "        text-align: right;\n",
       "    }\n",
       "</style>\n",
       "<table border=\"1\" class=\"dataframe\">\n",
       "  <thead>\n",
       "    <tr style=\"text-align: right;\">\n",
       "      <th></th>\n",
       "      <th>Unnamed: 0</th>\n",
       "      <th>id</th>\n",
       "      <th>mb_used</th>\n",
       "      <th>session_date</th>\n",
       "      <th>user_id</th>\n",
       "    </tr>\n",
       "  </thead>\n",
       "  <tbody>\n",
       "    <tr>\n",
       "      <th>0</th>\n",
       "      <td>0</td>\n",
       "      <td>1000_0</td>\n",
       "      <td>112.95</td>\n",
       "      <td>2018-11-25</td>\n",
       "      <td>1000</td>\n",
       "    </tr>\n",
       "    <tr>\n",
       "      <th>1</th>\n",
       "      <td>1</td>\n",
       "      <td>1000_1</td>\n",
       "      <td>1052.81</td>\n",
       "      <td>2018-09-07</td>\n",
       "      <td>1000</td>\n",
       "    </tr>\n",
       "    <tr>\n",
       "      <th>2</th>\n",
       "      <td>2</td>\n",
       "      <td>1000_2</td>\n",
       "      <td>1197.26</td>\n",
       "      <td>2018-06-25</td>\n",
       "      <td>1000</td>\n",
       "    </tr>\n",
       "    <tr>\n",
       "      <th>3</th>\n",
       "      <td>3</td>\n",
       "      <td>1000_3</td>\n",
       "      <td>550.27</td>\n",
       "      <td>2018-08-22</td>\n",
       "      <td>1000</td>\n",
       "    </tr>\n",
       "    <tr>\n",
       "      <th>4</th>\n",
       "      <td>4</td>\n",
       "      <td>1000_4</td>\n",
       "      <td>302.56</td>\n",
       "      <td>2018-09-24</td>\n",
       "      <td>1000</td>\n",
       "    </tr>\n",
       "    <tr>\n",
       "      <th>...</th>\n",
       "      <td>...</td>\n",
       "      <td>...</td>\n",
       "      <td>...</td>\n",
       "      <td>...</td>\n",
       "      <td>...</td>\n",
       "    </tr>\n",
       "    <tr>\n",
       "      <th>149391</th>\n",
       "      <td>149391</td>\n",
       "      <td>1499_152</td>\n",
       "      <td>318.90</td>\n",
       "      <td>2018-10-03</td>\n",
       "      <td>1499</td>\n",
       "    </tr>\n",
       "    <tr>\n",
       "      <th>149392</th>\n",
       "      <td>149392</td>\n",
       "      <td>1499_153</td>\n",
       "      <td>490.13</td>\n",
       "      <td>2018-12-14</td>\n",
       "      <td>1499</td>\n",
       "    </tr>\n",
       "    <tr>\n",
       "      <th>149393</th>\n",
       "      <td>149393</td>\n",
       "      <td>1499_154</td>\n",
       "      <td>0.00</td>\n",
       "      <td>2018-10-27</td>\n",
       "      <td>1499</td>\n",
       "    </tr>\n",
       "    <tr>\n",
       "      <th>149394</th>\n",
       "      <td>149394</td>\n",
       "      <td>1499_155</td>\n",
       "      <td>1246.32</td>\n",
       "      <td>2018-11-26</td>\n",
       "      <td>1499</td>\n",
       "    </tr>\n",
       "    <tr>\n",
       "      <th>149395</th>\n",
       "      <td>149395</td>\n",
       "      <td>1499_156</td>\n",
       "      <td>544.37</td>\n",
       "      <td>2018-10-26</td>\n",
       "      <td>1499</td>\n",
       "    </tr>\n",
       "  </tbody>\n",
       "</table>\n",
       "<p>149396 rows × 5 columns</p>\n",
       "</div>"
      ],
      "text/plain": [
       "        Unnamed: 0        id  mb_used session_date  user_id\n",
       "0                0    1000_0   112.95   2018-11-25     1000\n",
       "1                1    1000_1  1052.81   2018-09-07     1000\n",
       "2                2    1000_2  1197.26   2018-06-25     1000\n",
       "3                3    1000_3   550.27   2018-08-22     1000\n",
       "4                4    1000_4   302.56   2018-09-24     1000\n",
       "...            ...       ...      ...          ...      ...\n",
       "149391      149391  1499_152   318.90   2018-10-03     1499\n",
       "149392      149392  1499_153   490.13   2018-12-14     1499\n",
       "149393      149393  1499_154     0.00   2018-10-27     1499\n",
       "149394      149394  1499_155  1246.32   2018-11-26     1499\n",
       "149395      149395  1499_156   544.37   2018-10-26     1499\n",
       "\n",
       "[149396 rows x 5 columns]"
      ]
     },
     "execution_count": 333,
     "metadata": {},
     "output_type": "execute_result"
    }
   ],
   "source": [
    "internet"
   ]
  },
  {
   "cell_type": "markdown",
   "id": "e7288d08",
   "metadata": {},
   "source": [
    "There are 5 columns in the table:\n",
    "\n",
    "`Unnamed: 0\t` — index; data type `int`  \n",
    "`id` — unique session id; data type `object`  \n",
    "`mb_used` — megabytes used in the session; data type `float`  \n",
    "`session_date` — date of session; data type `object`  \n",
    "`user_id` - unique user id who used traffic; data type `int`  \n",
    "\n",
    "\n",
    "- Non-null count for columns is the same, so there are no missing values\n",
    "- Object time for `session_date` is not appropriate, so we need to change it\n",
    "- We also delete `Unnamed: 0` as seems it was downloaded by mistake"
   ]
  },
  {
   "cell_type": "code",
   "execution_count": 334,
   "id": "e8551157",
   "metadata": {},
   "outputs": [],
   "source": [
    "# change the type for call dates\n",
    "internet['session_date'] = pd.to_datetime(internet['session_date'])"
   ]
  },
  {
   "cell_type": "code",
   "execution_count": 335,
   "id": "05b6105a",
   "metadata": {},
   "outputs": [],
   "source": [
    "# drop column Unnamed: 0\n",
    "internet = internet.drop('Unnamed: 0', axis=1)"
   ]
  },
  {
   "cell_type": "markdown",
   "id": "fcaa0745",
   "metadata": {},
   "source": [
    "### Messages"
   ]
  },
  {
   "cell_type": "code",
   "execution_count": 336,
   "id": "9bf225ba",
   "metadata": {},
   "outputs": [
    {
     "name": "stdout",
     "output_type": "stream",
     "text": [
      "<class 'pandas.core.frame.DataFrame'>\n",
      "RangeIndex: 123036 entries, 0 to 123035\n",
      "Data columns (total 3 columns):\n",
      " #   Column        Non-Null Count   Dtype \n",
      "---  ------        --------------   ----- \n",
      " 0   id            123036 non-null  object\n",
      " 1   message_date  123036 non-null  object\n",
      " 2   user_id       123036 non-null  int64 \n",
      "dtypes: int64(1), object(2)\n",
      "memory usage: 2.8+ MB\n"
     ]
    }
   ],
   "source": [
    "messages.info()"
   ]
  },
  {
   "cell_type": "code",
   "execution_count": 337,
   "id": "eecd5527",
   "metadata": {},
   "outputs": [
    {
     "data": {
      "text/html": [
       "<div>\n",
       "<style scoped>\n",
       "    .dataframe tbody tr th:only-of-type {\n",
       "        vertical-align: middle;\n",
       "    }\n",
       "\n",
       "    .dataframe tbody tr th {\n",
       "        vertical-align: top;\n",
       "    }\n",
       "\n",
       "    .dataframe thead th {\n",
       "        text-align: right;\n",
       "    }\n",
       "</style>\n",
       "<table border=\"1\" class=\"dataframe\">\n",
       "  <thead>\n",
       "    <tr style=\"text-align: right;\">\n",
       "      <th></th>\n",
       "      <th>id</th>\n",
       "      <th>message_date</th>\n",
       "      <th>user_id</th>\n",
       "    </tr>\n",
       "  </thead>\n",
       "  <tbody>\n",
       "    <tr>\n",
       "      <th>0</th>\n",
       "      <td>1000_0</td>\n",
       "      <td>2018-06-27</td>\n",
       "      <td>1000</td>\n",
       "    </tr>\n",
       "    <tr>\n",
       "      <th>1</th>\n",
       "      <td>1000_1</td>\n",
       "      <td>2018-10-08</td>\n",
       "      <td>1000</td>\n",
       "    </tr>\n",
       "    <tr>\n",
       "      <th>2</th>\n",
       "      <td>1000_2</td>\n",
       "      <td>2018-08-04</td>\n",
       "      <td>1000</td>\n",
       "    </tr>\n",
       "    <tr>\n",
       "      <th>3</th>\n",
       "      <td>1000_3</td>\n",
       "      <td>2018-06-16</td>\n",
       "      <td>1000</td>\n",
       "    </tr>\n",
       "    <tr>\n",
       "      <th>4</th>\n",
       "      <td>1000_4</td>\n",
       "      <td>2018-12-05</td>\n",
       "      <td>1000</td>\n",
       "    </tr>\n",
       "    <tr>\n",
       "      <th>...</th>\n",
       "      <td>...</td>\n",
       "      <td>...</td>\n",
       "      <td>...</td>\n",
       "    </tr>\n",
       "    <tr>\n",
       "      <th>123031</th>\n",
       "      <td>1499_179</td>\n",
       "      <td>2018-12-12</td>\n",
       "      <td>1499</td>\n",
       "    </tr>\n",
       "    <tr>\n",
       "      <th>123032</th>\n",
       "      <td>1499_180</td>\n",
       "      <td>2018-09-28</td>\n",
       "      <td>1499</td>\n",
       "    </tr>\n",
       "    <tr>\n",
       "      <th>123033</th>\n",
       "      <td>1499_181</td>\n",
       "      <td>2018-09-27</td>\n",
       "      <td>1499</td>\n",
       "    </tr>\n",
       "    <tr>\n",
       "      <th>123034</th>\n",
       "      <td>1499_182</td>\n",
       "      <td>2018-11-15</td>\n",
       "      <td>1499</td>\n",
       "    </tr>\n",
       "    <tr>\n",
       "      <th>123035</th>\n",
       "      <td>1499_183</td>\n",
       "      <td>2018-11-16</td>\n",
       "      <td>1499</td>\n",
       "    </tr>\n",
       "  </tbody>\n",
       "</table>\n",
       "<p>123036 rows × 3 columns</p>\n",
       "</div>"
      ],
      "text/plain": [
       "              id message_date  user_id\n",
       "0         1000_0   2018-06-27     1000\n",
       "1         1000_1   2018-10-08     1000\n",
       "2         1000_2   2018-08-04     1000\n",
       "3         1000_3   2018-06-16     1000\n",
       "4         1000_4   2018-12-05     1000\n",
       "...          ...          ...      ...\n",
       "123031  1499_179   2018-12-12     1499\n",
       "123032  1499_180   2018-09-28     1499\n",
       "123033  1499_181   2018-09-27     1499\n",
       "123034  1499_182   2018-11-15     1499\n",
       "123035  1499_183   2018-11-16     1499\n",
       "\n",
       "[123036 rows x 3 columns]"
      ]
     },
     "execution_count": 337,
     "metadata": {},
     "output_type": "execute_result"
    }
   ],
   "source": [
    "messages"
   ]
  },
  {
   "cell_type": "markdown",
   "id": "047f6e81",
   "metadata": {},
   "source": [
    "There are 3 columns in the table:\n",
    "\n",
    "`id` — unique message id; data type `object`  \n",
    "`message_date` — date of the message; data type `object`   \n",
    "`user_id` - unique user id who wrote a message; data type `int`  \n",
    "\n",
    "- Non-null count for columns is the same, so there are no missing values\n",
    "- Object time for `message_date` is not appropriate, so we need to change it"
   ]
  },
  {
   "cell_type": "code",
   "execution_count": 338,
   "id": "6e9a3c13",
   "metadata": {},
   "outputs": [],
   "source": [
    "# change the type for dates\n",
    "messages['message_date'] = pd.to_datetime(messages['message_date'])"
   ]
  },
  {
   "cell_type": "markdown",
   "id": "c67255d8",
   "metadata": {},
   "source": [
    "### Tariffs"
   ]
  },
  {
   "cell_type": "code",
   "execution_count": 339,
   "id": "9f524289",
   "metadata": {},
   "outputs": [
    {
     "data": {
      "text/html": [
       "<div>\n",
       "<style scoped>\n",
       "    .dataframe tbody tr th:only-of-type {\n",
       "        vertical-align: middle;\n",
       "    }\n",
       "\n",
       "    .dataframe tbody tr th {\n",
       "        vertical-align: top;\n",
       "    }\n",
       "\n",
       "    .dataframe thead th {\n",
       "        text-align: right;\n",
       "    }\n",
       "</style>\n",
       "<table border=\"1\" class=\"dataframe\">\n",
       "  <thead>\n",
       "    <tr style=\"text-align: right;\">\n",
       "      <th></th>\n",
       "      <th>messages_included</th>\n",
       "      <th>mb_per_month_included</th>\n",
       "      <th>minutes_included</th>\n",
       "      <th>rub_monthly_fee</th>\n",
       "      <th>rub_per_gb</th>\n",
       "      <th>rub_per_message</th>\n",
       "      <th>rub_per_minute</th>\n",
       "      <th>tariff_name</th>\n",
       "    </tr>\n",
       "  </thead>\n",
       "  <tbody>\n",
       "    <tr>\n",
       "      <th>0</th>\n",
       "      <td>50</td>\n",
       "      <td>15360</td>\n",
       "      <td>500</td>\n",
       "      <td>550</td>\n",
       "      <td>200</td>\n",
       "      <td>3</td>\n",
       "      <td>3</td>\n",
       "      <td>smart</td>\n",
       "    </tr>\n",
       "    <tr>\n",
       "      <th>1</th>\n",
       "      <td>1000</td>\n",
       "      <td>30720</td>\n",
       "      <td>3000</td>\n",
       "      <td>1950</td>\n",
       "      <td>150</td>\n",
       "      <td>1</td>\n",
       "      <td>1</td>\n",
       "      <td>ultra</td>\n",
       "    </tr>\n",
       "  </tbody>\n",
       "</table>\n",
       "</div>"
      ],
      "text/plain": [
       "   messages_included  mb_per_month_included  minutes_included  \\\n",
       "0                 50                  15360               500   \n",
       "1               1000                  30720              3000   \n",
       "\n",
       "   rub_monthly_fee  rub_per_gb  rub_per_message  rub_per_minute tariff_name  \n",
       "0              550         200                3               3       smart  \n",
       "1             1950         150                1               1       ultra  "
      ]
     },
     "execution_count": 339,
     "metadata": {},
     "output_type": "execute_result"
    }
   ],
   "source": [
    "tariffs"
   ]
  },
  {
   "cell_type": "code",
   "execution_count": 340,
   "id": "22273bf3",
   "metadata": {},
   "outputs": [],
   "source": [
    "# change column name for further merge\n",
    "tariffs = tariffs.rename(columns = {'tariff_name':'tariff'})"
   ]
  },
  {
   "cell_type": "markdown",
   "id": "136a451c",
   "metadata": {},
   "source": [
    "### Users"
   ]
  },
  {
   "cell_type": "code",
   "execution_count": 341,
   "id": "e0de07ad",
   "metadata": {},
   "outputs": [
    {
     "data": {
      "text/html": [
       "<div>\n",
       "<style scoped>\n",
       "    .dataframe tbody tr th:only-of-type {\n",
       "        vertical-align: middle;\n",
       "    }\n",
       "\n",
       "    .dataframe tbody tr th {\n",
       "        vertical-align: top;\n",
       "    }\n",
       "\n",
       "    .dataframe thead th {\n",
       "        text-align: right;\n",
       "    }\n",
       "</style>\n",
       "<table border=\"1\" class=\"dataframe\">\n",
       "  <thead>\n",
       "    <tr style=\"text-align: right;\">\n",
       "      <th></th>\n",
       "      <th>user_id</th>\n",
       "      <th>age</th>\n",
       "      <th>churn_date</th>\n",
       "      <th>city</th>\n",
       "      <th>first_name</th>\n",
       "      <th>last_name</th>\n",
       "      <th>reg_date</th>\n",
       "      <th>tariff</th>\n",
       "    </tr>\n",
       "  </thead>\n",
       "  <tbody>\n",
       "    <tr>\n",
       "      <th>0</th>\n",
       "      <td>1000</td>\n",
       "      <td>52</td>\n",
       "      <td>NaN</td>\n",
       "      <td>Краснодар</td>\n",
       "      <td>Рафаил</td>\n",
       "      <td>Верещагин</td>\n",
       "      <td>2018-05-25</td>\n",
       "      <td>ultra</td>\n",
       "    </tr>\n",
       "    <tr>\n",
       "      <th>1</th>\n",
       "      <td>1001</td>\n",
       "      <td>41</td>\n",
       "      <td>NaN</td>\n",
       "      <td>Москва</td>\n",
       "      <td>Иван</td>\n",
       "      <td>Ежов</td>\n",
       "      <td>2018-11-01</td>\n",
       "      <td>smart</td>\n",
       "    </tr>\n",
       "    <tr>\n",
       "      <th>2</th>\n",
       "      <td>1002</td>\n",
       "      <td>59</td>\n",
       "      <td>NaN</td>\n",
       "      <td>Стерлитамак</td>\n",
       "      <td>Евгений</td>\n",
       "      <td>Абрамович</td>\n",
       "      <td>2018-06-17</td>\n",
       "      <td>smart</td>\n",
       "    </tr>\n",
       "    <tr>\n",
       "      <th>3</th>\n",
       "      <td>1003</td>\n",
       "      <td>23</td>\n",
       "      <td>NaN</td>\n",
       "      <td>Москва</td>\n",
       "      <td>Белла</td>\n",
       "      <td>Белякова</td>\n",
       "      <td>2018-08-17</td>\n",
       "      <td>ultra</td>\n",
       "    </tr>\n",
       "    <tr>\n",
       "      <th>4</th>\n",
       "      <td>1004</td>\n",
       "      <td>68</td>\n",
       "      <td>NaN</td>\n",
       "      <td>Новокузнецк</td>\n",
       "      <td>Татьяна</td>\n",
       "      <td>Авдеенко</td>\n",
       "      <td>2018-05-14</td>\n",
       "      <td>ultra</td>\n",
       "    </tr>\n",
       "    <tr>\n",
       "      <th>...</th>\n",
       "      <td>...</td>\n",
       "      <td>...</td>\n",
       "      <td>...</td>\n",
       "      <td>...</td>\n",
       "      <td>...</td>\n",
       "      <td>...</td>\n",
       "      <td>...</td>\n",
       "      <td>...</td>\n",
       "    </tr>\n",
       "    <tr>\n",
       "      <th>495</th>\n",
       "      <td>1495</td>\n",
       "      <td>65</td>\n",
       "      <td>NaN</td>\n",
       "      <td>Иркутск</td>\n",
       "      <td>Авксентий</td>\n",
       "      <td>Фокин</td>\n",
       "      <td>2018-08-28</td>\n",
       "      <td>ultra</td>\n",
       "    </tr>\n",
       "    <tr>\n",
       "      <th>496</th>\n",
       "      <td>1496</td>\n",
       "      <td>36</td>\n",
       "      <td>NaN</td>\n",
       "      <td>Вологда</td>\n",
       "      <td>Трифон</td>\n",
       "      <td>Блохин</td>\n",
       "      <td>2018-01-27</td>\n",
       "      <td>smart</td>\n",
       "    </tr>\n",
       "    <tr>\n",
       "      <th>497</th>\n",
       "      <td>1497</td>\n",
       "      <td>32</td>\n",
       "      <td>NaN</td>\n",
       "      <td>Челябинск</td>\n",
       "      <td>Каролина</td>\n",
       "      <td>Агеева</td>\n",
       "      <td>2018-10-09</td>\n",
       "      <td>smart</td>\n",
       "    </tr>\n",
       "    <tr>\n",
       "      <th>498</th>\n",
       "      <td>1498</td>\n",
       "      <td>68</td>\n",
       "      <td>2018-10-25</td>\n",
       "      <td>Владикавказ</td>\n",
       "      <td>Всеволод</td>\n",
       "      <td>Акимчин</td>\n",
       "      <td>2018-07-19</td>\n",
       "      <td>smart</td>\n",
       "    </tr>\n",
       "    <tr>\n",
       "      <th>499</th>\n",
       "      <td>1499</td>\n",
       "      <td>35</td>\n",
       "      <td>NaN</td>\n",
       "      <td>Пермь</td>\n",
       "      <td>Гектор</td>\n",
       "      <td>Корнилов</td>\n",
       "      <td>2018-09-27</td>\n",
       "      <td>smart</td>\n",
       "    </tr>\n",
       "  </tbody>\n",
       "</table>\n",
       "<p>500 rows × 8 columns</p>\n",
       "</div>"
      ],
      "text/plain": [
       "     user_id  age  churn_date         city first_name  last_name    reg_date  \\\n",
       "0       1000   52         NaN    Краснодар     Рафаил  Верещагин  2018-05-25   \n",
       "1       1001   41         NaN       Москва       Иван       Ежов  2018-11-01   \n",
       "2       1002   59         NaN  Стерлитамак    Евгений  Абрамович  2018-06-17   \n",
       "3       1003   23         NaN       Москва      Белла   Белякова  2018-08-17   \n",
       "4       1004   68         NaN  Новокузнецк    Татьяна   Авдеенко  2018-05-14   \n",
       "..       ...  ...         ...          ...        ...        ...         ...   \n",
       "495     1495   65         NaN      Иркутск  Авксентий      Фокин  2018-08-28   \n",
       "496     1496   36         NaN      Вологда     Трифон     Блохин  2018-01-27   \n",
       "497     1497   32         NaN    Челябинск   Каролина     Агеева  2018-10-09   \n",
       "498     1498   68  2018-10-25  Владикавказ   Всеволод    Акимчин  2018-07-19   \n",
       "499     1499   35         NaN        Пермь     Гектор   Корнилов  2018-09-27   \n",
       "\n",
       "    tariff  \n",
       "0    ultra  \n",
       "1    smart  \n",
       "2    smart  \n",
       "3    ultra  \n",
       "4    ultra  \n",
       "..     ...  \n",
       "495  ultra  \n",
       "496  smart  \n",
       "497  smart  \n",
       "498  smart  \n",
       "499  smart  \n",
       "\n",
       "[500 rows x 8 columns]"
      ]
     },
     "execution_count": 341,
     "metadata": {},
     "output_type": "execute_result"
    }
   ],
   "source": [
    "users"
   ]
  },
  {
   "cell_type": "code",
   "execution_count": 342,
   "id": "cba2bfb5",
   "metadata": {},
   "outputs": [
    {
     "name": "stdout",
     "output_type": "stream",
     "text": [
      "<class 'pandas.core.frame.DataFrame'>\n",
      "RangeIndex: 500 entries, 0 to 499\n",
      "Data columns (total 8 columns):\n",
      " #   Column      Non-Null Count  Dtype \n",
      "---  ------      --------------  ----- \n",
      " 0   user_id     500 non-null    int64 \n",
      " 1   age         500 non-null    int64 \n",
      " 2   churn_date  38 non-null     object\n",
      " 3   city        500 non-null    object\n",
      " 4   first_name  500 non-null    object\n",
      " 5   last_name   500 non-null    object\n",
      " 6   reg_date    500 non-null    object\n",
      " 7   tariff      500 non-null    object\n",
      "dtypes: int64(2), object(6)\n",
      "memory usage: 31.4+ KB\n"
     ]
    }
   ],
   "source": [
    "users.info()"
   ]
  },
  {
   "cell_type": "markdown",
   "id": "499acccb",
   "metadata": {},
   "source": [
    "There are 8 columns in the table:\n",
    "\n",
    "`user_id` — unique user id; data type `int`  \n",
    "`age` — user age in years; data type `int`  \n",
    "`churn_date` - date when user stopped using tariff. NA if still uses; data type `object`   \n",
    "`city` — user city; data type `object`   \n",
    "`first_name` — user name; data type `object`   \n",
    "`last_name` — user surname; data type `object`   \n",
    "`reg_date` — user registration date; data type `object`   \n",
    "`tariff` - user tariff; data type `object`  \n",
    "\n",
    "- Non-null count for columns is the same, so there are no missing values (except for `churn_date` where it is ok)\n",
    "- Object time for `churn_date` and `reg_date` is not appropriate, so we need to change it"
   ]
  },
  {
   "cell_type": "code",
   "execution_count": 343,
   "id": "f8610777",
   "metadata": {},
   "outputs": [],
   "source": [
    "# change the type for dates\n",
    "users['churn_date'] = pd.to_datetime(users['churn_date'])\n",
    "users['reg_date'] = pd.to_datetime(users['reg_date'])"
   ]
  },
  {
   "cell_type": "markdown",
   "id": "199c2577",
   "metadata": {
    "id": "Ml1hmfXC_Zcs"
   },
   "source": [
    "## Data preparation"
   ]
  },
  {
   "cell_type": "markdown",
   "id": "ea4a2170",
   "metadata": {},
   "source": [
    "We create one dataframe with which we going to do all the analysis.  \n",
    "As we need only montly data for the further analysis we group all the data entries for one user_id by month."
   ]
  },
  {
   "cell_type": "code",
   "execution_count": 344,
   "id": "7b88183c",
   "metadata": {},
   "outputs": [],
   "source": [
    "# get months\n",
    "calls['month'] = calls['call_date'].dt.month"
   ]
  },
  {
   "cell_type": "code",
   "execution_count": 345,
   "id": "6fa9e405",
   "metadata": {},
   "outputs": [],
   "source": [
    "# create new column with user_id and month combined for further groupping\n",
    "calls['user_month'] = calls['user_id'].astype('str').str.cat(calls['month'].astype('str'), sep='_')"
   ]
  },
  {
   "cell_type": "code",
   "execution_count": 346,
   "id": "1263cf0f",
   "metadata": {},
   "outputs": [],
   "source": [
    "# round seconds to minutes\n",
    "calls['duration'] = calls['duration'].apply(np.ceil)"
   ]
  },
  {
   "cell_type": "code",
   "execution_count": 347,
   "id": "f2e2ce8c",
   "metadata": {},
   "outputs": [],
   "source": [
    "# create new column with monthly call duration\n",
    "calls['monthly_duration'] = calls.groupby('user_month')['duration'].transform('sum')"
   ]
  },
  {
   "cell_type": "code",
   "execution_count": 348,
   "id": "090c1144",
   "metadata": {},
   "outputs": [],
   "source": [
    "# get months\n",
    "messages['month'] = messages['message_date'].dt.month"
   ]
  },
  {
   "cell_type": "code",
   "execution_count": 349,
   "id": "fbdd7112",
   "metadata": {},
   "outputs": [],
   "source": [
    "# create new column with user_id and month combined for further groupping\n",
    "messages['user_month'] = messages['user_id'].astype('str').str.cat(messages['month'].astype('str'), sep='_')"
   ]
  },
  {
   "cell_type": "code",
   "execution_count": 350,
   "id": "8d452072",
   "metadata": {},
   "outputs": [],
   "source": [
    "# create new column with monthly messages sent\n",
    "messages['monthly_messages'] = messages.groupby('user_month')['id'].transform('count')"
   ]
  },
  {
   "cell_type": "code",
   "execution_count": 351,
   "id": "7395dd83",
   "metadata": {},
   "outputs": [],
   "source": [
    "# get months\n",
    "internet['month'] = internet['session_date'].dt.month"
   ]
  },
  {
   "cell_type": "code",
   "execution_count": 352,
   "id": "e1694321",
   "metadata": {},
   "outputs": [],
   "source": [
    "# create new column with user_id and month combined for further groupping\n",
    "internet['user_month'] = internet['user_id'].astype('str').str.cat(internet['month'].astype('str'), sep='_')"
   ]
  },
  {
   "cell_type": "code",
   "execution_count": 353,
   "id": "fe4e8ab0",
   "metadata": {},
   "outputs": [],
   "source": [
    "# create new column with monthly internet traffic\n",
    "internet['monthly_traffic'] = internet.groupby('user_month')['mb_used'].transform('sum')"
   ]
  },
  {
   "cell_type": "code",
   "execution_count": 354,
   "id": "79a8906a",
   "metadata": {},
   "outputs": [],
   "source": [
    "# create one dataframe\n",
    "\n",
    "months = pd.DataFrame(internet['month'].sort_values(ascending=True).unique(), columns=['month'])\n",
    "user_id = pd.DataFrame(users['user_id'].unique(), columns=['user_id'])\n",
    "df = user_id.merge(months, how='cross')"
   ]
  },
  {
   "cell_type": "code",
   "execution_count": 355,
   "id": "b8a2fb97",
   "metadata": {},
   "outputs": [],
   "source": [
    "# create new column with user_id and month combined\n",
    "\n",
    "df['user_month'] = df['user_id'].astype('str').str.cat(df['month'].astype('str'), sep='_')"
   ]
  },
  {
   "cell_type": "code",
   "execution_count": 356,
   "id": "f30decb5",
   "metadata": {},
   "outputs": [],
   "source": [
    "# create new dataframes for calls, messages, and internet for merging\n",
    "\n",
    "calls_m = pd.DataFrame(calls.groupby('user_month')['duration'].sum())\n",
    "messages_m = pd.DataFrame(messages.groupby('user_month')['id'].count())\n",
    "internet_m = pd.DataFrame(internet.groupby('user_month')['mb_used'].sum())"
   ]
  },
  {
   "cell_type": "code",
   "execution_count": 357,
   "id": "b5b48e3e",
   "metadata": {},
   "outputs": [],
   "source": [
    "# create new total dataframe\n",
    "\n",
    "df = df.merge(calls_m, on='user_month', how='left')\n",
    "df = df.merge(messages_m, on='user_month', how='left')\n",
    "df = df.merge(internet_m, on='user_month', how='left')"
   ]
  },
  {
   "cell_type": "code",
   "execution_count": 358,
   "id": "a4ea0927",
   "metadata": {},
   "outputs": [],
   "source": [
    "# renaming columns names\n",
    "\n",
    "df = df.rename(columns = {'duration': 'calls_duration', 'id': 'messages'})"
   ]
  },
  {
   "cell_type": "code",
   "execution_count": 359,
   "id": "cf36a3b7",
   "metadata": {},
   "outputs": [
    {
     "data": {
      "text/html": [
       "<div>\n",
       "<style scoped>\n",
       "    .dataframe tbody tr th:only-of-type {\n",
       "        vertical-align: middle;\n",
       "    }\n",
       "\n",
       "    .dataframe tbody tr th {\n",
       "        vertical-align: top;\n",
       "    }\n",
       "\n",
       "    .dataframe thead th {\n",
       "        text-align: right;\n",
       "    }\n",
       "</style>\n",
       "<table border=\"1\" class=\"dataframe\">\n",
       "  <thead>\n",
       "    <tr style=\"text-align: right;\">\n",
       "      <th></th>\n",
       "      <th>user_id</th>\n",
       "      <th>month</th>\n",
       "      <th>user_month</th>\n",
       "      <th>calls_duration</th>\n",
       "      <th>messages</th>\n",
       "      <th>mb_used</th>\n",
       "    </tr>\n",
       "  </thead>\n",
       "  <tbody>\n",
       "    <tr>\n",
       "      <th>0</th>\n",
       "      <td>1000</td>\n",
       "      <td>1</td>\n",
       "      <td>1000_1</td>\n",
       "      <td>NaN</td>\n",
       "      <td>NaN</td>\n",
       "      <td>NaN</td>\n",
       "    </tr>\n",
       "    <tr>\n",
       "      <th>1</th>\n",
       "      <td>1000</td>\n",
       "      <td>2</td>\n",
       "      <td>1000_2</td>\n",
       "      <td>NaN</td>\n",
       "      <td>NaN</td>\n",
       "      <td>NaN</td>\n",
       "    </tr>\n",
       "    <tr>\n",
       "      <th>2</th>\n",
       "      <td>1000</td>\n",
       "      <td>3</td>\n",
       "      <td>1000_3</td>\n",
       "      <td>NaN</td>\n",
       "      <td>NaN</td>\n",
       "      <td>NaN</td>\n",
       "    </tr>\n",
       "    <tr>\n",
       "      <th>3</th>\n",
       "      <td>1000</td>\n",
       "      <td>4</td>\n",
       "      <td>1000_4</td>\n",
       "      <td>NaN</td>\n",
       "      <td>NaN</td>\n",
       "      <td>NaN</td>\n",
       "    </tr>\n",
       "    <tr>\n",
       "      <th>4</th>\n",
       "      <td>1000</td>\n",
       "      <td>5</td>\n",
       "      <td>1000_5</td>\n",
       "      <td>159.00</td>\n",
       "      <td>22.00</td>\n",
       "      <td>2253.49</td>\n",
       "    </tr>\n",
       "    <tr>\n",
       "      <th>...</th>\n",
       "      <td>...</td>\n",
       "      <td>...</td>\n",
       "      <td>...</td>\n",
       "      <td>...</td>\n",
       "      <td>...</td>\n",
       "      <td>...</td>\n",
       "    </tr>\n",
       "    <tr>\n",
       "      <th>5995</th>\n",
       "      <td>1499</td>\n",
       "      <td>8</td>\n",
       "      <td>1499_8</td>\n",
       "      <td>NaN</td>\n",
       "      <td>NaN</td>\n",
       "      <td>NaN</td>\n",
       "    </tr>\n",
       "    <tr>\n",
       "      <th>5996</th>\n",
       "      <td>1499</td>\n",
       "      <td>9</td>\n",
       "      <td>1499_9</td>\n",
       "      <td>70.00</td>\n",
       "      <td>11.00</td>\n",
       "      <td>1845.75</td>\n",
       "    </tr>\n",
       "    <tr>\n",
       "      <th>5997</th>\n",
       "      <td>1499</td>\n",
       "      <td>10</td>\n",
       "      <td>1499_10</td>\n",
       "      <td>449.00</td>\n",
       "      <td>48.00</td>\n",
       "      <td>17788.51</td>\n",
       "    </tr>\n",
       "    <tr>\n",
       "      <th>5998</th>\n",
       "      <td>1499</td>\n",
       "      <td>11</td>\n",
       "      <td>1499_11</td>\n",
       "      <td>612.00</td>\n",
       "      <td>59.00</td>\n",
       "      <td>17963.31</td>\n",
       "    </tr>\n",
       "    <tr>\n",
       "      <th>5999</th>\n",
       "      <td>1499</td>\n",
       "      <td>12</td>\n",
       "      <td>1499_12</td>\n",
       "      <td>492.00</td>\n",
       "      <td>66.00</td>\n",
       "      <td>13055.58</td>\n",
       "    </tr>\n",
       "  </tbody>\n",
       "</table>\n",
       "<p>6000 rows × 6 columns</p>\n",
       "</div>"
      ],
      "text/plain": [
       "      user_id  month user_month  calls_duration  messages  mb_used\n",
       "0        1000      1     1000_1             NaN       NaN      NaN\n",
       "1        1000      2     1000_2             NaN       NaN      NaN\n",
       "2        1000      3     1000_3             NaN       NaN      NaN\n",
       "3        1000      4     1000_4             NaN       NaN      NaN\n",
       "4        1000      5     1000_5          159.00     22.00  2253.49\n",
       "...       ...    ...        ...             ...       ...      ...\n",
       "5995     1499      8     1499_8             NaN       NaN      NaN\n",
       "5996     1499      9     1499_9           70.00     11.00  1845.75\n",
       "5997     1499     10    1499_10          449.00     48.00 17788.51\n",
       "5998     1499     11    1499_11          612.00     59.00 17963.31\n",
       "5999     1499     12    1499_12          492.00     66.00 13055.58\n",
       "\n",
       "[6000 rows x 6 columns]"
      ]
     },
     "execution_count": 359,
     "metadata": {},
     "output_type": "execute_result"
    }
   ],
   "source": [
    "df"
   ]
  },
  {
   "cell_type": "code",
   "execution_count": 360,
   "id": "672ffcbb",
   "metadata": {},
   "outputs": [],
   "source": [
    "# round up monthly MB used to GB and change name for the column\n",
    "\n",
    "df['mb_used'] = (df['mb_used'] / 1000).apply(np.ceil)\n",
    "df = df.rename(columns = {'mb_used': 'gb_used'})"
   ]
  },
  {
   "cell_type": "code",
   "execution_count": 361,
   "id": "499331c0",
   "metadata": {},
   "outputs": [],
   "source": [
    "# continue to merge with other dataframes by adding data about users and tariffs\n",
    "\n",
    "df = df.merge(users, on='user_id', how='left')\n",
    "df = df.merge(tariffs, on='tariff', how='left')"
   ]
  },
  {
   "cell_type": "code",
   "execution_count": 362,
   "id": "8ee0d110",
   "metadata": {},
   "outputs": [],
   "source": [
    "# round up monthly MB limits to GB and change name for the column\n",
    "\n",
    "df['mb_per_month_included'] = (df['mb_per_month_included'] / 1000).apply(np.ceil)\n",
    "df = df.rename(columns = {'mb_per_month_included': 'gb_per_month_included'})"
   ]
  },
  {
   "cell_type": "code",
   "execution_count": 363,
   "id": "eafb80f4",
   "metadata": {},
   "outputs": [
    {
     "data": {
      "text/html": [
       "<div>\n",
       "<style scoped>\n",
       "    .dataframe tbody tr th:only-of-type {\n",
       "        vertical-align: middle;\n",
       "    }\n",
       "\n",
       "    .dataframe tbody tr th {\n",
       "        vertical-align: top;\n",
       "    }\n",
       "\n",
       "    .dataframe thead th {\n",
       "        text-align: right;\n",
       "    }\n",
       "</style>\n",
       "<table border=\"1\" class=\"dataframe\">\n",
       "  <thead>\n",
       "    <tr style=\"text-align: right;\">\n",
       "      <th></th>\n",
       "      <th>user_id</th>\n",
       "      <th>month</th>\n",
       "      <th>user_month</th>\n",
       "      <th>calls_duration</th>\n",
       "      <th>messages</th>\n",
       "      <th>gb_used</th>\n",
       "      <th>age</th>\n",
       "      <th>churn_date</th>\n",
       "      <th>city</th>\n",
       "      <th>first_name</th>\n",
       "      <th>last_name</th>\n",
       "      <th>reg_date</th>\n",
       "      <th>tariff</th>\n",
       "      <th>messages_included</th>\n",
       "      <th>gb_per_month_included</th>\n",
       "      <th>minutes_included</th>\n",
       "      <th>rub_monthly_fee</th>\n",
       "      <th>rub_per_gb</th>\n",
       "      <th>rub_per_message</th>\n",
       "      <th>rub_per_minute</th>\n",
       "    </tr>\n",
       "  </thead>\n",
       "  <tbody>\n",
       "    <tr>\n",
       "      <th>0</th>\n",
       "      <td>1000</td>\n",
       "      <td>1</td>\n",
       "      <td>1000_1</td>\n",
       "      <td>NaN</td>\n",
       "      <td>NaN</td>\n",
       "      <td>NaN</td>\n",
       "      <td>52</td>\n",
       "      <td>NaT</td>\n",
       "      <td>Краснодар</td>\n",
       "      <td>Рафаил</td>\n",
       "      <td>Верещагин</td>\n",
       "      <td>2018-05-25</td>\n",
       "      <td>ultra</td>\n",
       "      <td>1000</td>\n",
       "      <td>31.00</td>\n",
       "      <td>3000</td>\n",
       "      <td>1950</td>\n",
       "      <td>150</td>\n",
       "      <td>1</td>\n",
       "      <td>1</td>\n",
       "    </tr>\n",
       "    <tr>\n",
       "      <th>1</th>\n",
       "      <td>1000</td>\n",
       "      <td>2</td>\n",
       "      <td>1000_2</td>\n",
       "      <td>NaN</td>\n",
       "      <td>NaN</td>\n",
       "      <td>NaN</td>\n",
       "      <td>52</td>\n",
       "      <td>NaT</td>\n",
       "      <td>Краснодар</td>\n",
       "      <td>Рафаил</td>\n",
       "      <td>Верещагин</td>\n",
       "      <td>2018-05-25</td>\n",
       "      <td>ultra</td>\n",
       "      <td>1000</td>\n",
       "      <td>31.00</td>\n",
       "      <td>3000</td>\n",
       "      <td>1950</td>\n",
       "      <td>150</td>\n",
       "      <td>1</td>\n",
       "      <td>1</td>\n",
       "    </tr>\n",
       "    <tr>\n",
       "      <th>2</th>\n",
       "      <td>1000</td>\n",
       "      <td>3</td>\n",
       "      <td>1000_3</td>\n",
       "      <td>NaN</td>\n",
       "      <td>NaN</td>\n",
       "      <td>NaN</td>\n",
       "      <td>52</td>\n",
       "      <td>NaT</td>\n",
       "      <td>Краснодар</td>\n",
       "      <td>Рафаил</td>\n",
       "      <td>Верещагин</td>\n",
       "      <td>2018-05-25</td>\n",
       "      <td>ultra</td>\n",
       "      <td>1000</td>\n",
       "      <td>31.00</td>\n",
       "      <td>3000</td>\n",
       "      <td>1950</td>\n",
       "      <td>150</td>\n",
       "      <td>1</td>\n",
       "      <td>1</td>\n",
       "    </tr>\n",
       "    <tr>\n",
       "      <th>3</th>\n",
       "      <td>1000</td>\n",
       "      <td>4</td>\n",
       "      <td>1000_4</td>\n",
       "      <td>NaN</td>\n",
       "      <td>NaN</td>\n",
       "      <td>NaN</td>\n",
       "      <td>52</td>\n",
       "      <td>NaT</td>\n",
       "      <td>Краснодар</td>\n",
       "      <td>Рафаил</td>\n",
       "      <td>Верещагин</td>\n",
       "      <td>2018-05-25</td>\n",
       "      <td>ultra</td>\n",
       "      <td>1000</td>\n",
       "      <td>31.00</td>\n",
       "      <td>3000</td>\n",
       "      <td>1950</td>\n",
       "      <td>150</td>\n",
       "      <td>1</td>\n",
       "      <td>1</td>\n",
       "    </tr>\n",
       "    <tr>\n",
       "      <th>4</th>\n",
       "      <td>1000</td>\n",
       "      <td>5</td>\n",
       "      <td>1000_5</td>\n",
       "      <td>159.00</td>\n",
       "      <td>22.00</td>\n",
       "      <td>3.00</td>\n",
       "      <td>52</td>\n",
       "      <td>NaT</td>\n",
       "      <td>Краснодар</td>\n",
       "      <td>Рафаил</td>\n",
       "      <td>Верещагин</td>\n",
       "      <td>2018-05-25</td>\n",
       "      <td>ultra</td>\n",
       "      <td>1000</td>\n",
       "      <td>31.00</td>\n",
       "      <td>3000</td>\n",
       "      <td>1950</td>\n",
       "      <td>150</td>\n",
       "      <td>1</td>\n",
       "      <td>1</td>\n",
       "    </tr>\n",
       "    <tr>\n",
       "      <th>...</th>\n",
       "      <td>...</td>\n",
       "      <td>...</td>\n",
       "      <td>...</td>\n",
       "      <td>...</td>\n",
       "      <td>...</td>\n",
       "      <td>...</td>\n",
       "      <td>...</td>\n",
       "      <td>...</td>\n",
       "      <td>...</td>\n",
       "      <td>...</td>\n",
       "      <td>...</td>\n",
       "      <td>...</td>\n",
       "      <td>...</td>\n",
       "      <td>...</td>\n",
       "      <td>...</td>\n",
       "      <td>...</td>\n",
       "      <td>...</td>\n",
       "      <td>...</td>\n",
       "      <td>...</td>\n",
       "      <td>...</td>\n",
       "    </tr>\n",
       "    <tr>\n",
       "      <th>5995</th>\n",
       "      <td>1499</td>\n",
       "      <td>8</td>\n",
       "      <td>1499_8</td>\n",
       "      <td>NaN</td>\n",
       "      <td>NaN</td>\n",
       "      <td>NaN</td>\n",
       "      <td>35</td>\n",
       "      <td>NaT</td>\n",
       "      <td>Пермь</td>\n",
       "      <td>Гектор</td>\n",
       "      <td>Корнилов</td>\n",
       "      <td>2018-09-27</td>\n",
       "      <td>smart</td>\n",
       "      <td>50</td>\n",
       "      <td>16.00</td>\n",
       "      <td>500</td>\n",
       "      <td>550</td>\n",
       "      <td>200</td>\n",
       "      <td>3</td>\n",
       "      <td>3</td>\n",
       "    </tr>\n",
       "    <tr>\n",
       "      <th>5996</th>\n",
       "      <td>1499</td>\n",
       "      <td>9</td>\n",
       "      <td>1499_9</td>\n",
       "      <td>70.00</td>\n",
       "      <td>11.00</td>\n",
       "      <td>2.00</td>\n",
       "      <td>35</td>\n",
       "      <td>NaT</td>\n",
       "      <td>Пермь</td>\n",
       "      <td>Гектор</td>\n",
       "      <td>Корнилов</td>\n",
       "      <td>2018-09-27</td>\n",
       "      <td>smart</td>\n",
       "      <td>50</td>\n",
       "      <td>16.00</td>\n",
       "      <td>500</td>\n",
       "      <td>550</td>\n",
       "      <td>200</td>\n",
       "      <td>3</td>\n",
       "      <td>3</td>\n",
       "    </tr>\n",
       "    <tr>\n",
       "      <th>5997</th>\n",
       "      <td>1499</td>\n",
       "      <td>10</td>\n",
       "      <td>1499_10</td>\n",
       "      <td>449.00</td>\n",
       "      <td>48.00</td>\n",
       "      <td>18.00</td>\n",
       "      <td>35</td>\n",
       "      <td>NaT</td>\n",
       "      <td>Пермь</td>\n",
       "      <td>Гектор</td>\n",
       "      <td>Корнилов</td>\n",
       "      <td>2018-09-27</td>\n",
       "      <td>smart</td>\n",
       "      <td>50</td>\n",
       "      <td>16.00</td>\n",
       "      <td>500</td>\n",
       "      <td>550</td>\n",
       "      <td>200</td>\n",
       "      <td>3</td>\n",
       "      <td>3</td>\n",
       "    </tr>\n",
       "    <tr>\n",
       "      <th>5998</th>\n",
       "      <td>1499</td>\n",
       "      <td>11</td>\n",
       "      <td>1499_11</td>\n",
       "      <td>612.00</td>\n",
       "      <td>59.00</td>\n",
       "      <td>18.00</td>\n",
       "      <td>35</td>\n",
       "      <td>NaT</td>\n",
       "      <td>Пермь</td>\n",
       "      <td>Гектор</td>\n",
       "      <td>Корнилов</td>\n",
       "      <td>2018-09-27</td>\n",
       "      <td>smart</td>\n",
       "      <td>50</td>\n",
       "      <td>16.00</td>\n",
       "      <td>500</td>\n",
       "      <td>550</td>\n",
       "      <td>200</td>\n",
       "      <td>3</td>\n",
       "      <td>3</td>\n",
       "    </tr>\n",
       "    <tr>\n",
       "      <th>5999</th>\n",
       "      <td>1499</td>\n",
       "      <td>12</td>\n",
       "      <td>1499_12</td>\n",
       "      <td>492.00</td>\n",
       "      <td>66.00</td>\n",
       "      <td>14.00</td>\n",
       "      <td>35</td>\n",
       "      <td>NaT</td>\n",
       "      <td>Пермь</td>\n",
       "      <td>Гектор</td>\n",
       "      <td>Корнилов</td>\n",
       "      <td>2018-09-27</td>\n",
       "      <td>smart</td>\n",
       "      <td>50</td>\n",
       "      <td>16.00</td>\n",
       "      <td>500</td>\n",
       "      <td>550</td>\n",
       "      <td>200</td>\n",
       "      <td>3</td>\n",
       "      <td>3</td>\n",
       "    </tr>\n",
       "  </tbody>\n",
       "</table>\n",
       "<p>6000 rows × 20 columns</p>\n",
       "</div>"
      ],
      "text/plain": [
       "      user_id  month user_month  calls_duration  messages  gb_used  age  \\\n",
       "0        1000      1     1000_1             NaN       NaN      NaN   52   \n",
       "1        1000      2     1000_2             NaN       NaN      NaN   52   \n",
       "2        1000      3     1000_3             NaN       NaN      NaN   52   \n",
       "3        1000      4     1000_4             NaN       NaN      NaN   52   \n",
       "4        1000      5     1000_5          159.00     22.00     3.00   52   \n",
       "...       ...    ...        ...             ...       ...      ...  ...   \n",
       "5995     1499      8     1499_8             NaN       NaN      NaN   35   \n",
       "5996     1499      9     1499_9           70.00     11.00     2.00   35   \n",
       "5997     1499     10    1499_10          449.00     48.00    18.00   35   \n",
       "5998     1499     11    1499_11          612.00     59.00    18.00   35   \n",
       "5999     1499     12    1499_12          492.00     66.00    14.00   35   \n",
       "\n",
       "     churn_date       city first_name  last_name   reg_date tariff  \\\n",
       "0           NaT  Краснодар     Рафаил  Верещагин 2018-05-25  ultra   \n",
       "1           NaT  Краснодар     Рафаил  Верещагин 2018-05-25  ultra   \n",
       "2           NaT  Краснодар     Рафаил  Верещагин 2018-05-25  ultra   \n",
       "3           NaT  Краснодар     Рафаил  Верещагин 2018-05-25  ultra   \n",
       "4           NaT  Краснодар     Рафаил  Верещагин 2018-05-25  ultra   \n",
       "...         ...        ...        ...        ...        ...    ...   \n",
       "5995        NaT      Пермь     Гектор   Корнилов 2018-09-27  smart   \n",
       "5996        NaT      Пермь     Гектор   Корнилов 2018-09-27  smart   \n",
       "5997        NaT      Пермь     Гектор   Корнилов 2018-09-27  smart   \n",
       "5998        NaT      Пермь     Гектор   Корнилов 2018-09-27  smart   \n",
       "5999        NaT      Пермь     Гектор   Корнилов 2018-09-27  smart   \n",
       "\n",
       "      messages_included  gb_per_month_included  minutes_included  \\\n",
       "0                  1000                  31.00              3000   \n",
       "1                  1000                  31.00              3000   \n",
       "2                  1000                  31.00              3000   \n",
       "3                  1000                  31.00              3000   \n",
       "4                  1000                  31.00              3000   \n",
       "...                 ...                    ...               ...   \n",
       "5995                 50                  16.00               500   \n",
       "5996                 50                  16.00               500   \n",
       "5997                 50                  16.00               500   \n",
       "5998                 50                  16.00               500   \n",
       "5999                 50                  16.00               500   \n",
       "\n",
       "      rub_monthly_fee  rub_per_gb  rub_per_message  rub_per_minute  \n",
       "0                1950         150                1               1  \n",
       "1                1950         150                1               1  \n",
       "2                1950         150                1               1  \n",
       "3                1950         150                1               1  \n",
       "4                1950         150                1               1  \n",
       "...               ...         ...              ...             ...  \n",
       "5995              550         200                3               3  \n",
       "5996              550         200                3               3  \n",
       "5997              550         200                3               3  \n",
       "5998              550         200                3               3  \n",
       "5999              550         200                3               3  \n",
       "\n",
       "[6000 rows x 20 columns]"
      ]
     },
     "execution_count": 363,
     "metadata": {},
     "output_type": "execute_result"
    }
   ],
   "source": [
    "df"
   ]
  },
  {
   "cell_type": "code",
   "execution_count": 364,
   "id": "70244e36",
   "metadata": {},
   "outputs": [],
   "source": [
    "# In order to calculate the monthly revenue for each user we create a function revenue \n",
    "# which checks the limits according to the tariff \n",
    "# and adds on top of monthly fee if more calls, messages, or internet used.\n",
    "\n",
    "def revenue(row):\n",
    "    \n",
    "    if row['calls_duration'] == 0 and row['messages'] == 0 and row['gb_used'] == 0:\n",
    "        return 0\n",
    "    else:\n",
    "        if row['calls_duration'] <= row['minutes_included']:\n",
    "            fee_per_calls = 0\n",
    "        else: \n",
    "            fee_per_calls = (row['calls_duration'] - row['minutes_included']) * row['rub_per_minute']\n",
    "\n",
    "        if row['messages'] <= row['messages_included']:\n",
    "            fee_per_messages = 0\n",
    "        else: \n",
    "            fee_per_messages = (row['messages'] - row['messages_included']) * row['rub_per_message']\n",
    "\n",
    "        if row['gb_used'] <= row['gb_per_month_included']:\n",
    "            fee_per_internet = 0\n",
    "        else: \n",
    "            fee_per_internet = (row['gb_used'] - row['gb_per_month_included']) * row['rub_per_gb']\n",
    "\n",
    "        return row['rub_monthly_fee'] + fee_per_calls + fee_per_messages + fee_per_internet"
   ]
  },
  {
   "cell_type": "code",
   "execution_count": 365,
   "id": "7c6c8349",
   "metadata": {},
   "outputs": [],
   "source": [
    "# change types for calls, messages, internet to int\n",
    "\n",
    "df['calls_duration'] = df['calls_duration'].fillna(0).astype('int64')\n",
    "df['messages'] = df['messages'].fillna(0).astype('int64')\n",
    "df['gb_used'] = df['gb_used'].fillna(0).astype('int64')\n",
    "df['gb_per_month_included'] = df['gb_per_month_included'].fillna(0).astype('int64')"
   ]
  },
  {
   "cell_type": "code",
   "execution_count": 366,
   "id": "c42b1419",
   "metadata": {},
   "outputs": [],
   "source": [
    "df['revenue'] = df.apply(revenue, axis=1)"
   ]
  },
  {
   "cell_type": "code",
   "execution_count": 367,
   "id": "084a68d3",
   "metadata": {},
   "outputs": [
    {
     "data": {
      "text/html": [
       "<div>\n",
       "<style scoped>\n",
       "    .dataframe tbody tr th:only-of-type {\n",
       "        vertical-align: middle;\n",
       "    }\n",
       "\n",
       "    .dataframe tbody tr th {\n",
       "        vertical-align: top;\n",
       "    }\n",
       "\n",
       "    .dataframe thead th {\n",
       "        text-align: right;\n",
       "    }\n",
       "</style>\n",
       "<table border=\"1\" class=\"dataframe\">\n",
       "  <thead>\n",
       "    <tr style=\"text-align: right;\">\n",
       "      <th></th>\n",
       "      <th>user_id</th>\n",
       "      <th>month</th>\n",
       "      <th>user_month</th>\n",
       "      <th>calls_duration</th>\n",
       "      <th>messages</th>\n",
       "      <th>gb_used</th>\n",
       "      <th>age</th>\n",
       "      <th>churn_date</th>\n",
       "      <th>city</th>\n",
       "      <th>first_name</th>\n",
       "      <th>...</th>\n",
       "      <th>reg_date</th>\n",
       "      <th>tariff</th>\n",
       "      <th>messages_included</th>\n",
       "      <th>gb_per_month_included</th>\n",
       "      <th>minutes_included</th>\n",
       "      <th>rub_monthly_fee</th>\n",
       "      <th>rub_per_gb</th>\n",
       "      <th>rub_per_message</th>\n",
       "      <th>rub_per_minute</th>\n",
       "      <th>revenue</th>\n",
       "    </tr>\n",
       "  </thead>\n",
       "  <tbody>\n",
       "    <tr>\n",
       "      <th>0</th>\n",
       "      <td>1000</td>\n",
       "      <td>1</td>\n",
       "      <td>1000_1</td>\n",
       "      <td>0</td>\n",
       "      <td>0</td>\n",
       "      <td>0</td>\n",
       "      <td>52</td>\n",
       "      <td>NaT</td>\n",
       "      <td>Краснодар</td>\n",
       "      <td>Рафаил</td>\n",
       "      <td>...</td>\n",
       "      <td>2018-05-25</td>\n",
       "      <td>ultra</td>\n",
       "      <td>1000</td>\n",
       "      <td>31</td>\n",
       "      <td>3000</td>\n",
       "      <td>1950</td>\n",
       "      <td>150</td>\n",
       "      <td>1</td>\n",
       "      <td>1</td>\n",
       "      <td>0</td>\n",
       "    </tr>\n",
       "    <tr>\n",
       "      <th>1</th>\n",
       "      <td>1000</td>\n",
       "      <td>2</td>\n",
       "      <td>1000_2</td>\n",
       "      <td>0</td>\n",
       "      <td>0</td>\n",
       "      <td>0</td>\n",
       "      <td>52</td>\n",
       "      <td>NaT</td>\n",
       "      <td>Краснодар</td>\n",
       "      <td>Рафаил</td>\n",
       "      <td>...</td>\n",
       "      <td>2018-05-25</td>\n",
       "      <td>ultra</td>\n",
       "      <td>1000</td>\n",
       "      <td>31</td>\n",
       "      <td>3000</td>\n",
       "      <td>1950</td>\n",
       "      <td>150</td>\n",
       "      <td>1</td>\n",
       "      <td>1</td>\n",
       "      <td>0</td>\n",
       "    </tr>\n",
       "    <tr>\n",
       "      <th>2</th>\n",
       "      <td>1000</td>\n",
       "      <td>3</td>\n",
       "      <td>1000_3</td>\n",
       "      <td>0</td>\n",
       "      <td>0</td>\n",
       "      <td>0</td>\n",
       "      <td>52</td>\n",
       "      <td>NaT</td>\n",
       "      <td>Краснодар</td>\n",
       "      <td>Рафаил</td>\n",
       "      <td>...</td>\n",
       "      <td>2018-05-25</td>\n",
       "      <td>ultra</td>\n",
       "      <td>1000</td>\n",
       "      <td>31</td>\n",
       "      <td>3000</td>\n",
       "      <td>1950</td>\n",
       "      <td>150</td>\n",
       "      <td>1</td>\n",
       "      <td>1</td>\n",
       "      <td>0</td>\n",
       "    </tr>\n",
       "    <tr>\n",
       "      <th>3</th>\n",
       "      <td>1000</td>\n",
       "      <td>4</td>\n",
       "      <td>1000_4</td>\n",
       "      <td>0</td>\n",
       "      <td>0</td>\n",
       "      <td>0</td>\n",
       "      <td>52</td>\n",
       "      <td>NaT</td>\n",
       "      <td>Краснодар</td>\n",
       "      <td>Рафаил</td>\n",
       "      <td>...</td>\n",
       "      <td>2018-05-25</td>\n",
       "      <td>ultra</td>\n",
       "      <td>1000</td>\n",
       "      <td>31</td>\n",
       "      <td>3000</td>\n",
       "      <td>1950</td>\n",
       "      <td>150</td>\n",
       "      <td>1</td>\n",
       "      <td>1</td>\n",
       "      <td>0</td>\n",
       "    </tr>\n",
       "    <tr>\n",
       "      <th>4</th>\n",
       "      <td>1000</td>\n",
       "      <td>5</td>\n",
       "      <td>1000_5</td>\n",
       "      <td>159</td>\n",
       "      <td>22</td>\n",
       "      <td>3</td>\n",
       "      <td>52</td>\n",
       "      <td>NaT</td>\n",
       "      <td>Краснодар</td>\n",
       "      <td>Рафаил</td>\n",
       "      <td>...</td>\n",
       "      <td>2018-05-25</td>\n",
       "      <td>ultra</td>\n",
       "      <td>1000</td>\n",
       "      <td>31</td>\n",
       "      <td>3000</td>\n",
       "      <td>1950</td>\n",
       "      <td>150</td>\n",
       "      <td>1</td>\n",
       "      <td>1</td>\n",
       "      <td>1950</td>\n",
       "    </tr>\n",
       "    <tr>\n",
       "      <th>...</th>\n",
       "      <td>...</td>\n",
       "      <td>...</td>\n",
       "      <td>...</td>\n",
       "      <td>...</td>\n",
       "      <td>...</td>\n",
       "      <td>...</td>\n",
       "      <td>...</td>\n",
       "      <td>...</td>\n",
       "      <td>...</td>\n",
       "      <td>...</td>\n",
       "      <td>...</td>\n",
       "      <td>...</td>\n",
       "      <td>...</td>\n",
       "      <td>...</td>\n",
       "      <td>...</td>\n",
       "      <td>...</td>\n",
       "      <td>...</td>\n",
       "      <td>...</td>\n",
       "      <td>...</td>\n",
       "      <td>...</td>\n",
       "      <td>...</td>\n",
       "    </tr>\n",
       "    <tr>\n",
       "      <th>5995</th>\n",
       "      <td>1499</td>\n",
       "      <td>8</td>\n",
       "      <td>1499_8</td>\n",
       "      <td>0</td>\n",
       "      <td>0</td>\n",
       "      <td>0</td>\n",
       "      <td>35</td>\n",
       "      <td>NaT</td>\n",
       "      <td>Пермь</td>\n",
       "      <td>Гектор</td>\n",
       "      <td>...</td>\n",
       "      <td>2018-09-27</td>\n",
       "      <td>smart</td>\n",
       "      <td>50</td>\n",
       "      <td>16</td>\n",
       "      <td>500</td>\n",
       "      <td>550</td>\n",
       "      <td>200</td>\n",
       "      <td>3</td>\n",
       "      <td>3</td>\n",
       "      <td>0</td>\n",
       "    </tr>\n",
       "    <tr>\n",
       "      <th>5996</th>\n",
       "      <td>1499</td>\n",
       "      <td>9</td>\n",
       "      <td>1499_9</td>\n",
       "      <td>70</td>\n",
       "      <td>11</td>\n",
       "      <td>2</td>\n",
       "      <td>35</td>\n",
       "      <td>NaT</td>\n",
       "      <td>Пермь</td>\n",
       "      <td>Гектор</td>\n",
       "      <td>...</td>\n",
       "      <td>2018-09-27</td>\n",
       "      <td>smart</td>\n",
       "      <td>50</td>\n",
       "      <td>16</td>\n",
       "      <td>500</td>\n",
       "      <td>550</td>\n",
       "      <td>200</td>\n",
       "      <td>3</td>\n",
       "      <td>3</td>\n",
       "      <td>550</td>\n",
       "    </tr>\n",
       "    <tr>\n",
       "      <th>5997</th>\n",
       "      <td>1499</td>\n",
       "      <td>10</td>\n",
       "      <td>1499_10</td>\n",
       "      <td>449</td>\n",
       "      <td>48</td>\n",
       "      <td>18</td>\n",
       "      <td>35</td>\n",
       "      <td>NaT</td>\n",
       "      <td>Пермь</td>\n",
       "      <td>Гектор</td>\n",
       "      <td>...</td>\n",
       "      <td>2018-09-27</td>\n",
       "      <td>smart</td>\n",
       "      <td>50</td>\n",
       "      <td>16</td>\n",
       "      <td>500</td>\n",
       "      <td>550</td>\n",
       "      <td>200</td>\n",
       "      <td>3</td>\n",
       "      <td>3</td>\n",
       "      <td>950</td>\n",
       "    </tr>\n",
       "    <tr>\n",
       "      <th>5998</th>\n",
       "      <td>1499</td>\n",
       "      <td>11</td>\n",
       "      <td>1499_11</td>\n",
       "      <td>612</td>\n",
       "      <td>59</td>\n",
       "      <td>18</td>\n",
       "      <td>35</td>\n",
       "      <td>NaT</td>\n",
       "      <td>Пермь</td>\n",
       "      <td>Гектор</td>\n",
       "      <td>...</td>\n",
       "      <td>2018-09-27</td>\n",
       "      <td>smart</td>\n",
       "      <td>50</td>\n",
       "      <td>16</td>\n",
       "      <td>500</td>\n",
       "      <td>550</td>\n",
       "      <td>200</td>\n",
       "      <td>3</td>\n",
       "      <td>3</td>\n",
       "      <td>1313</td>\n",
       "    </tr>\n",
       "    <tr>\n",
       "      <th>5999</th>\n",
       "      <td>1499</td>\n",
       "      <td>12</td>\n",
       "      <td>1499_12</td>\n",
       "      <td>492</td>\n",
       "      <td>66</td>\n",
       "      <td>14</td>\n",
       "      <td>35</td>\n",
       "      <td>NaT</td>\n",
       "      <td>Пермь</td>\n",
       "      <td>Гектор</td>\n",
       "      <td>...</td>\n",
       "      <td>2018-09-27</td>\n",
       "      <td>smart</td>\n",
       "      <td>50</td>\n",
       "      <td>16</td>\n",
       "      <td>500</td>\n",
       "      <td>550</td>\n",
       "      <td>200</td>\n",
       "      <td>3</td>\n",
       "      <td>3</td>\n",
       "      <td>598</td>\n",
       "    </tr>\n",
       "  </tbody>\n",
       "</table>\n",
       "<p>6000 rows × 21 columns</p>\n",
       "</div>"
      ],
      "text/plain": [
       "      user_id  month user_month  calls_duration  messages  gb_used  age  \\\n",
       "0        1000      1     1000_1               0         0        0   52   \n",
       "1        1000      2     1000_2               0         0        0   52   \n",
       "2        1000      3     1000_3               0         0        0   52   \n",
       "3        1000      4     1000_4               0         0        0   52   \n",
       "4        1000      5     1000_5             159        22        3   52   \n",
       "...       ...    ...        ...             ...       ...      ...  ...   \n",
       "5995     1499      8     1499_8               0         0        0   35   \n",
       "5996     1499      9     1499_9              70        11        2   35   \n",
       "5997     1499     10    1499_10             449        48       18   35   \n",
       "5998     1499     11    1499_11             612        59       18   35   \n",
       "5999     1499     12    1499_12             492        66       14   35   \n",
       "\n",
       "     churn_date       city first_name  ...   reg_date tariff  \\\n",
       "0           NaT  Краснодар     Рафаил  ... 2018-05-25  ultra   \n",
       "1           NaT  Краснодар     Рафаил  ... 2018-05-25  ultra   \n",
       "2           NaT  Краснодар     Рафаил  ... 2018-05-25  ultra   \n",
       "3           NaT  Краснодар     Рафаил  ... 2018-05-25  ultra   \n",
       "4           NaT  Краснодар     Рафаил  ... 2018-05-25  ultra   \n",
       "...         ...        ...        ...  ...        ...    ...   \n",
       "5995        NaT      Пермь     Гектор  ... 2018-09-27  smart   \n",
       "5996        NaT      Пермь     Гектор  ... 2018-09-27  smart   \n",
       "5997        NaT      Пермь     Гектор  ... 2018-09-27  smart   \n",
       "5998        NaT      Пермь     Гектор  ... 2018-09-27  smart   \n",
       "5999        NaT      Пермь     Гектор  ... 2018-09-27  smart   \n",
       "\n",
       "     messages_included  gb_per_month_included  minutes_included  \\\n",
       "0                 1000                     31              3000   \n",
       "1                 1000                     31              3000   \n",
       "2                 1000                     31              3000   \n",
       "3                 1000                     31              3000   \n",
       "4                 1000                     31              3000   \n",
       "...                ...                    ...               ...   \n",
       "5995                50                     16               500   \n",
       "5996                50                     16               500   \n",
       "5997                50                     16               500   \n",
       "5998                50                     16               500   \n",
       "5999                50                     16               500   \n",
       "\n",
       "      rub_monthly_fee  rub_per_gb  rub_per_message  rub_per_minute  revenue  \n",
       "0                1950         150                1               1        0  \n",
       "1                1950         150                1               1        0  \n",
       "2                1950         150                1               1        0  \n",
       "3                1950         150                1               1        0  \n",
       "4                1950         150                1               1     1950  \n",
       "...               ...         ...              ...             ...      ...  \n",
       "5995              550         200                3               3        0  \n",
       "5996              550         200                3               3      550  \n",
       "5997              550         200                3               3      950  \n",
       "5998              550         200                3               3     1313  \n",
       "5999              550         200                3               3      598  \n",
       "\n",
       "[6000 rows x 21 columns]"
      ]
     },
     "execution_count": 367,
     "metadata": {},
     "output_type": "execute_result"
    }
   ],
   "source": [
    "df"
   ]
  },
  {
   "cell_type": "markdown",
   "id": "e4cf9091",
   "metadata": {
    "id": "Ml1hmfXC_Zcs"
   },
   "source": [
    "## Data analysis"
   ]
  },
  {
   "cell_type": "markdown",
   "id": "5e68c853",
   "metadata": {},
   "source": [
    "For further analysis we take a slice from df where revenue is not 0."
   ]
  },
  {
   "cell_type": "code",
   "execution_count": 368,
   "id": "acbc89cd",
   "metadata": {},
   "outputs": [],
   "source": [
    "df_a = df[['user_id','month','user_month', 'city','calls_duration', 'messages', 'gb_used', 'tariff', 'revenue']].query('revenue != 0')"
   ]
  },
  {
   "cell_type": "code",
   "execution_count": 369,
   "id": "5909cd47",
   "metadata": {},
   "outputs": [
    {
     "data": {
      "text/html": [
       "<div>\n",
       "<style scoped>\n",
       "    .dataframe tbody tr th:only-of-type {\n",
       "        vertical-align: middle;\n",
       "    }\n",
       "\n",
       "    .dataframe tbody tr th {\n",
       "        vertical-align: top;\n",
       "    }\n",
       "\n",
       "    .dataframe thead th {\n",
       "        text-align: right;\n",
       "    }\n",
       "</style>\n",
       "<table border=\"1\" class=\"dataframe\">\n",
       "  <thead>\n",
       "    <tr style=\"text-align: right;\">\n",
       "      <th></th>\n",
       "      <th>user_id</th>\n",
       "      <th>month</th>\n",
       "      <th>user_month</th>\n",
       "      <th>city</th>\n",
       "      <th>calls_duration</th>\n",
       "      <th>messages</th>\n",
       "      <th>gb_used</th>\n",
       "      <th>tariff</th>\n",
       "      <th>revenue</th>\n",
       "    </tr>\n",
       "  </thead>\n",
       "  <tbody>\n",
       "    <tr>\n",
       "      <th>4</th>\n",
       "      <td>1000</td>\n",
       "      <td>5</td>\n",
       "      <td>1000_5</td>\n",
       "      <td>Краснодар</td>\n",
       "      <td>159</td>\n",
       "      <td>22</td>\n",
       "      <td>3</td>\n",
       "      <td>ultra</td>\n",
       "      <td>1950</td>\n",
       "    </tr>\n",
       "    <tr>\n",
       "      <th>5</th>\n",
       "      <td>1000</td>\n",
       "      <td>6</td>\n",
       "      <td>1000_6</td>\n",
       "      <td>Краснодар</td>\n",
       "      <td>172</td>\n",
       "      <td>60</td>\n",
       "      <td>24</td>\n",
       "      <td>ultra</td>\n",
       "      <td>1950</td>\n",
       "    </tr>\n",
       "    <tr>\n",
       "      <th>6</th>\n",
       "      <td>1000</td>\n",
       "      <td>7</td>\n",
       "      <td>1000_7</td>\n",
       "      <td>Краснодар</td>\n",
       "      <td>340</td>\n",
       "      <td>75</td>\n",
       "      <td>15</td>\n",
       "      <td>ultra</td>\n",
       "      <td>1950</td>\n",
       "    </tr>\n",
       "    <tr>\n",
       "      <th>7</th>\n",
       "      <td>1000</td>\n",
       "      <td>8</td>\n",
       "      <td>1000_8</td>\n",
       "      <td>Краснодар</td>\n",
       "      <td>408</td>\n",
       "      <td>81</td>\n",
       "      <td>15</td>\n",
       "      <td>ultra</td>\n",
       "      <td>1950</td>\n",
       "    </tr>\n",
       "    <tr>\n",
       "      <th>8</th>\n",
       "      <td>1000</td>\n",
       "      <td>9</td>\n",
       "      <td>1000_9</td>\n",
       "      <td>Краснодар</td>\n",
       "      <td>466</td>\n",
       "      <td>57</td>\n",
       "      <td>15</td>\n",
       "      <td>ultra</td>\n",
       "      <td>1950</td>\n",
       "    </tr>\n",
       "    <tr>\n",
       "      <th>...</th>\n",
       "      <td>...</td>\n",
       "      <td>...</td>\n",
       "      <td>...</td>\n",
       "      <td>...</td>\n",
       "      <td>...</td>\n",
       "      <td>...</td>\n",
       "      <td>...</td>\n",
       "      <td>...</td>\n",
       "      <td>...</td>\n",
       "    </tr>\n",
       "    <tr>\n",
       "      <th>5985</th>\n",
       "      <td>1498</td>\n",
       "      <td>10</td>\n",
       "      <td>1498_10</td>\n",
       "      <td>Владикавказ</td>\n",
       "      <td>247</td>\n",
       "      <td>42</td>\n",
       "      <td>21</td>\n",
       "      <td>smart</td>\n",
       "      <td>1550</td>\n",
       "    </tr>\n",
       "    <tr>\n",
       "      <th>5996</th>\n",
       "      <td>1499</td>\n",
       "      <td>9</td>\n",
       "      <td>1499_9</td>\n",
       "      <td>Пермь</td>\n",
       "      <td>70</td>\n",
       "      <td>11</td>\n",
       "      <td>2</td>\n",
       "      <td>smart</td>\n",
       "      <td>550</td>\n",
       "    </tr>\n",
       "    <tr>\n",
       "      <th>5997</th>\n",
       "      <td>1499</td>\n",
       "      <td>10</td>\n",
       "      <td>1499_10</td>\n",
       "      <td>Пермь</td>\n",
       "      <td>449</td>\n",
       "      <td>48</td>\n",
       "      <td>18</td>\n",
       "      <td>smart</td>\n",
       "      <td>950</td>\n",
       "    </tr>\n",
       "    <tr>\n",
       "      <th>5998</th>\n",
       "      <td>1499</td>\n",
       "      <td>11</td>\n",
       "      <td>1499_11</td>\n",
       "      <td>Пермь</td>\n",
       "      <td>612</td>\n",
       "      <td>59</td>\n",
       "      <td>18</td>\n",
       "      <td>smart</td>\n",
       "      <td>1313</td>\n",
       "    </tr>\n",
       "    <tr>\n",
       "      <th>5999</th>\n",
       "      <td>1499</td>\n",
       "      <td>12</td>\n",
       "      <td>1499_12</td>\n",
       "      <td>Пермь</td>\n",
       "      <td>492</td>\n",
       "      <td>66</td>\n",
       "      <td>14</td>\n",
       "      <td>smart</td>\n",
       "      <td>598</td>\n",
       "    </tr>\n",
       "  </tbody>\n",
       "</table>\n",
       "<p>3214 rows × 9 columns</p>\n",
       "</div>"
      ],
      "text/plain": [
       "      user_id  month user_month         city  calls_duration  messages  \\\n",
       "4        1000      5     1000_5    Краснодар             159        22   \n",
       "5        1000      6     1000_6    Краснодар             172        60   \n",
       "6        1000      7     1000_7    Краснодар             340        75   \n",
       "7        1000      8     1000_8    Краснодар             408        81   \n",
       "8        1000      9     1000_9    Краснодар             466        57   \n",
       "...       ...    ...        ...          ...             ...       ...   \n",
       "5985     1498     10    1498_10  Владикавказ             247        42   \n",
       "5996     1499      9     1499_9        Пермь              70        11   \n",
       "5997     1499     10    1499_10        Пермь             449        48   \n",
       "5998     1499     11    1499_11        Пермь             612        59   \n",
       "5999     1499     12    1499_12        Пермь             492        66   \n",
       "\n",
       "      gb_used tariff  revenue  \n",
       "4           3  ultra     1950  \n",
       "5          24  ultra     1950  \n",
       "6          15  ultra     1950  \n",
       "7          15  ultra     1950  \n",
       "8          15  ultra     1950  \n",
       "...       ...    ...      ...  \n",
       "5985       21  smart     1550  \n",
       "5996        2  smart      550  \n",
       "5997       18  smart      950  \n",
       "5998       18  smart     1313  \n",
       "5999       14  smart      598  \n",
       "\n",
       "[3214 rows x 9 columns]"
      ]
     },
     "execution_count": 369,
     "metadata": {},
     "output_type": "execute_result"
    }
   ],
   "source": [
    "df_a"
   ]
  },
  {
   "cell_type": "markdown",
   "id": "afad1591",
   "metadata": {},
   "source": [
    "As we see, non zero revenues are only in 3214 out of 6000 which is a bit more than 50% of the full year for 500 users.  \n",
    "This is explained by the fact that some joined the tariff when the year already started and some quited the tariff before the year end."
   ]
  },
  {
   "cell_type": "code",
   "execution_count": 370,
   "id": "fbe46988",
   "metadata": {},
   "outputs": [
    {
     "data": {
      "text/html": [
       "<div>\n",
       "<style scoped>\n",
       "    .dataframe tbody tr th:only-of-type {\n",
       "        vertical-align: middle;\n",
       "    }\n",
       "\n",
       "    .dataframe tbody tr th {\n",
       "        vertical-align: top;\n",
       "    }\n",
       "\n",
       "    .dataframe thead th {\n",
       "        text-align: right;\n",
       "    }\n",
       "</style>\n",
       "<table border=\"1\" class=\"dataframe\">\n",
       "  <thead>\n",
       "    <tr style=\"text-align: right;\">\n",
       "      <th></th>\n",
       "      <th>user_id</th>\n",
       "      <th>month</th>\n",
       "      <th>calls_duration</th>\n",
       "      <th>messages</th>\n",
       "      <th>gb_used</th>\n",
       "      <th>revenue</th>\n",
       "    </tr>\n",
       "  </thead>\n",
       "  <tbody>\n",
       "    <tr>\n",
       "      <th>count</th>\n",
       "      <td>2229.00</td>\n",
       "      <td>2229.00</td>\n",
       "      <td>2229.00</td>\n",
       "      <td>2229.00</td>\n",
       "      <td>2229.00</td>\n",
       "      <td>2229.00</td>\n",
       "    </tr>\n",
       "    <tr>\n",
       "      <th>mean</th>\n",
       "      <td>1246.51</td>\n",
       "      <td>8.35</td>\n",
       "      <td>417.93</td>\n",
       "      <td>33.38</td>\n",
       "      <td>16.70</td>\n",
       "      <td>1225.10</td>\n",
       "    </tr>\n",
       "    <tr>\n",
       "      <th>std</th>\n",
       "      <td>146.12</td>\n",
       "      <td>2.92</td>\n",
       "      <td>190.31</td>\n",
       "      <td>28.23</td>\n",
       "      <td>5.88</td>\n",
       "      <td>794.25</td>\n",
       "    </tr>\n",
       "    <tr>\n",
       "      <th>min</th>\n",
       "      <td>1001.00</td>\n",
       "      <td>1.00</td>\n",
       "      <td>0.00</td>\n",
       "      <td>0.00</td>\n",
       "      <td>0.00</td>\n",
       "      <td>550.00</td>\n",
       "    </tr>\n",
       "    <tr>\n",
       "      <th>25%</th>\n",
       "      <td>1121.00</td>\n",
       "      <td>6.00</td>\n",
       "      <td>282.00</td>\n",
       "      <td>10.00</td>\n",
       "      <td>13.00</td>\n",
       "      <td>550.00</td>\n",
       "    </tr>\n",
       "    <tr>\n",
       "      <th>50%</th>\n",
       "      <td>1239.00</td>\n",
       "      <td>9.00</td>\n",
       "      <td>422.00</td>\n",
       "      <td>28.00</td>\n",
       "      <td>17.00</td>\n",
       "      <td>950.00</td>\n",
       "    </tr>\n",
       "    <tr>\n",
       "      <th>75%</th>\n",
       "      <td>1376.00</td>\n",
       "      <td>11.00</td>\n",
       "      <td>545.00</td>\n",
       "      <td>51.00</td>\n",
       "      <td>21.00</td>\n",
       "      <td>1666.00</td>\n",
       "    </tr>\n",
       "    <tr>\n",
       "      <th>max</th>\n",
       "      <td>1499.00</td>\n",
       "      <td>12.00</td>\n",
       "      <td>1435.00</td>\n",
       "      <td>143.00</td>\n",
       "      <td>39.00</td>\n",
       "      <td>6770.00</td>\n",
       "    </tr>\n",
       "  </tbody>\n",
       "</table>\n",
       "</div>"
      ],
      "text/plain": [
       "       user_id   month  calls_duration  messages  gb_used  revenue\n",
       "count  2229.00 2229.00         2229.00   2229.00  2229.00  2229.00\n",
       "mean   1246.51    8.35          417.93     33.38    16.70  1225.10\n",
       "std     146.12    2.92          190.31     28.23     5.88   794.25\n",
       "min    1001.00    1.00            0.00      0.00     0.00   550.00\n",
       "25%    1121.00    6.00          282.00     10.00    13.00   550.00\n",
       "50%    1239.00    9.00          422.00     28.00    17.00   950.00\n",
       "75%    1376.00   11.00          545.00     51.00    21.00  1666.00\n",
       "max    1499.00   12.00         1435.00    143.00    39.00  6770.00"
      ]
     },
     "execution_count": 370,
     "metadata": {},
     "output_type": "execute_result"
    }
   ],
   "source": [
    "# we check statistics for Smart tariff\n",
    "\n",
    "df_smart = df_a[df_a['tariff'] == 'smart']\n",
    "df_smart.describe()"
   ]
  },
  {
   "cell_type": "markdown",
   "id": "820d8b43",
   "metadata": {},
   "source": [
    "**The \"Smart\" tariff**:\n",
    "- around 70% of paying users\n",
    "- monthly calls duration is 418 minutes on average and 422 minutes in median; both are below the limits\n",
    "- users send 33 messages on average and 28 one in 50% of cases\n",
    "- both mean and median for amount of monthly traffic used on this tariff is around 17 GB which is 2GB more than the limit\n",
    "- users pay 1225 rubles on average monthly, while 50% of cases they pay 950 under this tariff"
   ]
  },
  {
   "cell_type": "code",
   "execution_count": 371,
   "id": "91cc6e98",
   "metadata": {},
   "outputs": [
    {
     "data": {
      "text/plain": [
       "<AxesSubplot:title={'center':'Monthly calls duration distribution'}, ylabel='Frequency'>"
      ]
     },
     "execution_count": 371,
     "metadata": {},
     "output_type": "execute_result"
    },
    {
     "data": {
      "image/png": "[encoded data removed]",
      "text/plain": [
       "<Figure size 432x288 with 1 Axes>"
      ]
     },
     "metadata": {
      "needs_background": "light"
     },
     "output_type": "display_data"
    }
   ],
   "source": [
    "df_smart['calls_duration'].plot(kind='hist', bins=50, title='Monthly calls duration distribution')"
   ]
  },
  {
   "cell_type": "code",
   "execution_count": 372,
   "id": "0b2db410",
   "metadata": {},
   "outputs": [
    {
     "data": {
      "text/plain": [
       "<AxesSubplot:>"
      ]
     },
     "execution_count": 372,
     "metadata": {},
     "output_type": "execute_result"
    },
    {
     "data": {
      "image/png": "[encoded data removed]",
      "text/plain": [
       "<Figure size 1080x360 with 1 Axes>"
      ]
     },
     "metadata": {
      "needs_background": "light"
     },
     "output_type": "display_data"
    }
   ],
   "source": [
    "df_smart.boxplot('calls_duration', vert=False, figsize=(15,5))"
   ]
  },
  {
   "cell_type": "markdown",
   "id": "93c8339b",
   "metadata": {},
   "source": [
    "Calls look to be skewed towards the right side with strong outliers, however the mean and median are not too far from each other. "
   ]
  },
  {
   "cell_type": "code",
   "execution_count": 373,
   "id": "dd73cadd",
   "metadata": {},
   "outputs": [
    {
     "data": {
      "text/plain": [
       "0.3396141767608793"
      ]
     },
     "execution_count": 373,
     "metadata": {},
     "output_type": "execute_result"
    }
   ],
   "source": [
    "df_smart[df_smart['calls_duration'] >= 500]['calls_duration'].count() / len(df_smart)"
   ]
  },
  {
   "cell_type": "markdown",
   "id": "9c639ead",
   "metadata": {},
   "source": [
    "Around 34% of cases lie above the \"free\" limits of the tariff. "
   ]
  },
  {
   "cell_type": "code",
   "execution_count": 374,
   "id": "ba968acb",
   "metadata": {},
   "outputs": [
    {
     "data": {
      "text/plain": [
       "<AxesSubplot:title={'center':'Monthly messages sent distribution'}, ylabel='Frequency'>"
      ]
     },
     "execution_count": 374,
     "metadata": {},
     "output_type": "execute_result"
    },
    {
     "data": {
      "image/png": "[encoded data removed]",
      "text/plain": [
       "<Figure size 432x288 with 1 Axes>"
      ]
     },
     "metadata": {
      "needs_background": "light"
     },
     "output_type": "display_data"
    }
   ],
   "source": [
    "df_smart['messages'].plot(kind='hist', bins=50, title='Monthly messages sent distribution')"
   ]
  },
  {
   "cell_type": "code",
   "execution_count": 375,
   "id": "a95cd676",
   "metadata": {},
   "outputs": [
    {
     "data": {
      "text/plain": [
       "0.26065500224315835"
      ]
     },
     "execution_count": 375,
     "metadata": {},
     "output_type": "execute_result"
    }
   ],
   "source": [
    "df_smart[df_smart['messages'] >= 50]['messages'].count() / len(df_smart)"
   ]
  },
  {
   "cell_type": "markdown",
   "id": "c34739b9",
   "metadata": {},
   "source": [
    "In many cases users don't write messages at all which is not surprising. However, on the other hand, there are 26% of cases when users brake the \"free\" limits of the tariff and send more than 50 messages."
   ]
  },
  {
   "cell_type": "code",
   "execution_count": 376,
   "id": "a28bd26d",
   "metadata": {},
   "outputs": [
    {
     "data": {
      "text/plain": [
       "<AxesSubplot:title={'center':'Monthly GBs used distribution'}, ylabel='Frequency'>"
      ]
     },
     "execution_count": 376,
     "metadata": {},
     "output_type": "execute_result"
    },
    {
     "data": {
      "image/png": "[encoded data removed]",
      "text/plain": [
       "<Figure size 432x288 with 1 Axes>"
      ]
     },
     "metadata": {
      "needs_background": "light"
     },
     "output_type": "display_data"
    }
   ],
   "source": [
    "df_smart['gb_used'].plot(kind='hist', bins=40, title='Monthly GBs used distribution')"
   ]
  },
  {
   "cell_type": "code",
   "execution_count": 377,
   "id": "de1a7aa4",
   "metadata": {},
   "outputs": [
    {
     "data": {
      "text/plain": [
       "0.670704351727232"
      ]
     },
     "execution_count": 377,
     "metadata": {},
     "output_type": "execute_result"
    }
   ],
   "source": [
    "df_smart[df_smart['gb_used'] >= 15]['gb_used'].count() / len(df_smart)"
   ]
  },
  {
   "cell_type": "markdown",
   "id": "9e729591",
   "metadata": {},
   "source": [
    "- The distribution of monthly traffic used looks more normal than others  \n",
    "- Its mean and median are shifted more to right from 15GB tariff \"free\" limit  \n",
    "- In 67% of cases users break the limit"
   ]
  },
  {
   "cell_type": "code",
   "execution_count": 378,
   "id": "9c71bdbc",
   "metadata": {},
   "outputs": [
    {
     "data": {
      "text/plain": [
       "<AxesSubplot:title={'center':'Monthly revenue distribution'}, ylabel='Frequency'>"
      ]
     },
     "execution_count": 378,
     "metadata": {},
     "output_type": "execute_result"
    },
    {
     "data": {
      "image/png": "[encoded data removed]",
      "text/plain": [
       "<Figure size 432x288 with 1 Axes>"
      ]
     },
     "metadata": {
      "needs_background": "light"
     },
     "output_type": "display_data"
    }
   ],
   "source": [
    "df_smart['revenue'].plot(kind='hist', bins=20, title='Monthly revenue distribution')"
   ]
  },
  {
   "cell_type": "code",
   "execution_count": 379,
   "id": "6c9a3ace",
   "metadata": {},
   "outputs": [
    {
     "data": {
      "text/plain": [
       "<AxesSubplot:>"
      ]
     },
     "execution_count": 379,
     "metadata": {},
     "output_type": "execute_result"
    },
    {
     "data": {
      "image/png": "[encoded data removed]",
      "text/plain": [
       "<Figure size 720x360 with 1 Axes>"
      ]
     },
     "metadata": {
      "needs_background": "light"
     },
     "output_type": "display_data"
    }
   ],
   "source": [
    "df_smart.boxplot('revenue', vert=False, figsize=(10,5))"
   ]
  },
  {
   "cell_type": "code",
   "execution_count": 380,
   "id": "c3ace589",
   "metadata": {},
   "outputs": [
    {
     "data": {
      "text/plain": [
       "<AxesSubplot:xlabel='gb_used', ylabel='revenue'>"
      ]
     },
     "execution_count": 380,
     "metadata": {},
     "output_type": "execute_result"
    },
    {
     "data": {
      "image/png": "[encoded data removed]",
      "text/plain": [
       "<Figure size 720x360 with 1 Axes>"
      ]
     },
     "metadata": {
      "needs_background": "light"
     },
     "output_type": "display_data"
    }
   ],
   "source": [
    "df_smart.plot(x='gb_used', y='revenue', kind='scatter', alpha=0.1, figsize=(10,5))"
   ]
  },
  {
   "cell_type": "code",
   "execution_count": 381,
   "id": "05e58c33",
   "metadata": {},
   "outputs": [
    {
     "data": {
      "text/plain": [
       "0.2759084791386272"
      ]
     },
     "execution_count": 381,
     "metadata": {},
     "output_type": "execute_result"
    }
   ],
   "source": [
    "len(df_smart.query('revenue <= 550')) / len(df_smart)"
   ]
  },
  {
   "cell_type": "code",
   "execution_count": 382,
   "id": "50264d3a",
   "metadata": {},
   "outputs": [
    {
     "data": {
      "text/plain": [
       "0.1816958277254374"
      ]
     },
     "execution_count": 382,
     "metadata": {},
     "output_type": "execute_result"
    }
   ],
   "source": [
    "len(df_smart.query('revenue >= 1950')) / len(df_smart)"
   ]
  },
  {
   "cell_type": "markdown",
   "id": "9efd7b37",
   "metadata": {},
   "source": [
    "- In only around 28% of cases users stay within the \"free\" limits of the tariff in all aspects and pay just the tariff price\n",
    "- The distribution of the revenue is very skewed to the right with the average being way higher than median due to big outliers\n",
    "- There is clear and strong dependence between the total monthly internet traffic used and revenues\n",
    "- In around of 18% of the cases users could easily switch to the \"ultra\" tariff and pay less"
   ]
  },
  {
   "cell_type": "code",
   "execution_count": 383,
   "id": "35a95aa9",
   "metadata": {},
   "outputs": [
    {
     "data": {
      "text/html": [
       "<div>\n",
       "<style scoped>\n",
       "    .dataframe tbody tr th:only-of-type {\n",
       "        vertical-align: middle;\n",
       "    }\n",
       "\n",
       "    .dataframe tbody tr th {\n",
       "        vertical-align: top;\n",
       "    }\n",
       "\n",
       "    .dataframe thead th {\n",
       "        text-align: right;\n",
       "    }\n",
       "</style>\n",
       "<table border=\"1\" class=\"dataframe\">\n",
       "  <thead>\n",
       "    <tr style=\"text-align: right;\">\n",
       "      <th></th>\n",
       "      <th>user_id</th>\n",
       "      <th>month</th>\n",
       "      <th>calls_duration</th>\n",
       "      <th>messages</th>\n",
       "      <th>gb_used</th>\n",
       "      <th>revenue</th>\n",
       "    </tr>\n",
       "  </thead>\n",
       "  <tbody>\n",
       "    <tr>\n",
       "      <th>count</th>\n",
       "      <td>985.00</td>\n",
       "      <td>985.00</td>\n",
       "      <td>985.00</td>\n",
       "      <td>985.00</td>\n",
       "      <td>985.00</td>\n",
       "      <td>985.00</td>\n",
       "    </tr>\n",
       "    <tr>\n",
       "      <th>mean</th>\n",
       "      <td>1263.09</td>\n",
       "      <td>8.25</td>\n",
       "      <td>526.62</td>\n",
       "      <td>49.36</td>\n",
       "      <td>19.97</td>\n",
       "      <td>2066.80</td>\n",
       "    </tr>\n",
       "    <tr>\n",
       "      <th>std</th>\n",
       "      <td>140.69</td>\n",
       "      <td>2.87</td>\n",
       "      <td>317.61</td>\n",
       "      <td>47.80</td>\n",
       "      <td>10.10</td>\n",
       "      <td>371.93</td>\n",
       "    </tr>\n",
       "    <tr>\n",
       "      <th>min</th>\n",
       "      <td>1000.00</td>\n",
       "      <td>1.00</td>\n",
       "      <td>0.00</td>\n",
       "      <td>0.00</td>\n",
       "      <td>0.00</td>\n",
       "      <td>1950.00</td>\n",
       "    </tr>\n",
       "    <tr>\n",
       "      <th>25%</th>\n",
       "      <td>1143.00</td>\n",
       "      <td>6.00</td>\n",
       "      <td>284.00</td>\n",
       "      <td>6.00</td>\n",
       "      <td>12.00</td>\n",
       "      <td>1950.00</td>\n",
       "    </tr>\n",
       "    <tr>\n",
       "      <th>50%</th>\n",
       "      <td>1277.00</td>\n",
       "      <td>9.00</td>\n",
       "      <td>518.00</td>\n",
       "      <td>38.00</td>\n",
       "      <td>20.00</td>\n",
       "      <td>1950.00</td>\n",
       "    </tr>\n",
       "    <tr>\n",
       "      <th>75%</th>\n",
       "      <td>1381.00</td>\n",
       "      <td>11.00</td>\n",
       "      <td>752.00</td>\n",
       "      <td>79.00</td>\n",
       "      <td>27.00</td>\n",
       "      <td>1950.00</td>\n",
       "    </tr>\n",
       "    <tr>\n",
       "      <th>max</th>\n",
       "      <td>1495.00</td>\n",
       "      <td>12.00</td>\n",
       "      <td>1673.00</td>\n",
       "      <td>224.00</td>\n",
       "      <td>50.00</td>\n",
       "      <td>4800.00</td>\n",
       "    </tr>\n",
       "  </tbody>\n",
       "</table>\n",
       "</div>"
      ],
      "text/plain": [
       "       user_id  month  calls_duration  messages  gb_used  revenue\n",
       "count   985.00 985.00          985.00    985.00   985.00   985.00\n",
       "mean   1263.09   8.25          526.62     49.36    19.97  2066.80\n",
       "std     140.69   2.87          317.61     47.80    10.10   371.93\n",
       "min    1000.00   1.00            0.00      0.00     0.00  1950.00\n",
       "25%    1143.00   6.00          284.00      6.00    12.00  1950.00\n",
       "50%    1277.00   9.00          518.00     38.00    20.00  1950.00\n",
       "75%    1381.00  11.00          752.00     79.00    27.00  1950.00\n",
       "max    1495.00  12.00         1673.00    224.00    50.00  4800.00"
      ]
     },
     "execution_count": 383,
     "metadata": {},
     "output_type": "execute_result"
    }
   ],
   "source": [
    "# we check statistics for Smart tariff\n",
    "\n",
    "df_ultra = df_a[df_a['tariff'] == 'ultra']\n",
    "df_ultra.describe()"
   ]
  },
  {
   "cell_type": "markdown",
   "id": "ccc9870d",
   "metadata": {},
   "source": [
    "**The \"Ultra\" tariff**:\n",
    "- around 30% of paying users\n",
    "- monthly calls duration is 527 minutes on average and 518 minutes in median; both are way below the limits\n",
    "- max monthly calls duration is 1673 minutes which is almost 50% than a tariff limit\n",
    "- users send 49 messages on average and 38 ones in 50% of cases; the max monthly number is way below the limit\n",
    "- both mean and median for amount of monthly traffic used on this tariff is around 20 GB which is 10GB less than the limit\n",
    "- most of the cases for the gb_used are below the limits, however there are some cases that are above the limits\n",
    "- users pay 2067 rubles on average monthly, while in 50% of cases they pay 1950 under this tariff\n",
    "- all the additional revenue generated above the tariff price comes only from the fees from the traffic being used above the limits"
   ]
  },
  {
   "cell_type": "code",
   "execution_count": 384,
   "id": "7e6bec45",
   "metadata": {},
   "outputs": [
    {
     "data": {
      "text/plain": [
       "<AxesSubplot:title={'center':'Monthly calls duration distribution'}, ylabel='Frequency'>"
      ]
     },
     "execution_count": 384,
     "metadata": {},
     "output_type": "execute_result"
    },
    {
     "data": {
      "image/png": "[encoded data removed]",
      "text/plain": [
       "<Figure size 432x288 with 1 Axes>"
      ]
     },
     "metadata": {
      "needs_background": "light"
     },
     "output_type": "display_data"
    }
   ],
   "source": [
    "df_ultra['calls_duration'].plot(kind='hist', bins=50, title='Monthly calls duration distribution')"
   ]
  },
  {
   "cell_type": "code",
   "execution_count": 385,
   "id": "99cef996",
   "metadata": {},
   "outputs": [
    {
     "data": {
      "text/plain": [
       "0.03857868020304569"
      ]
     },
     "execution_count": 385,
     "metadata": {},
     "output_type": "execute_result"
    }
   ],
   "source": [
    "len(df_ultra.query('calls_duration == 0')) / len(df_ultra)"
   ]
  },
  {
   "cell_type": "markdown",
   "id": "1660867f",
   "metadata": {},
   "source": [
    "- Calls look to be skewed towards the right side with some outliers, however the mean and median are not too far from each other\n",
    "- Around 4% of cases have zero monthly calls"
   ]
  },
  {
   "cell_type": "code",
   "execution_count": 386,
   "id": "93e18d93",
   "metadata": {},
   "outputs": [
    {
     "data": {
      "text/plain": [
       "<AxesSubplot:title={'center':'Monthly messages sent distribution'}, ylabel='Frequency'>"
      ]
     },
     "execution_count": 386,
     "metadata": {},
     "output_type": "execute_result"
    },
    {
     "data": {
      "image/png": "[encoded data removed]",
      "text/plain": [
       "<Figure size 432x288 with 1 Axes>"
      ]
     },
     "metadata": {
      "needs_background": "light"
     },
     "output_type": "display_data"
    }
   ],
   "source": [
    "df_ultra['messages'].plot(kind='hist', bins=50, title='Monthly messages sent distribution')"
   ]
  },
  {
   "cell_type": "code",
   "execution_count": 387,
   "id": "12444421",
   "metadata": {},
   "outputs": [
    {
     "data": {
      "text/plain": [
       "0.19289340101522842"
      ]
     },
     "execution_count": 387,
     "metadata": {},
     "output_type": "execute_result"
    }
   ],
   "source": [
    "len(df_ultra.query('messages == 0')) / len(df_ultra)"
   ]
  },
  {
   "cell_type": "markdown",
   "id": "00dbc9f1",
   "metadata": {},
   "source": [
    "In many cases (around 20%) users don't write messages at all which is not surprising."
   ]
  },
  {
   "cell_type": "code",
   "execution_count": 388,
   "id": "52ae2791",
   "metadata": {},
   "outputs": [
    {
     "data": {
      "text/plain": [
       "<AxesSubplot:title={'center':'Monthly GBs used distribution'}, ylabel='Frequency'>"
      ]
     },
     "execution_count": 388,
     "metadata": {},
     "output_type": "execute_result"
    },
    {
     "data": {
      "image/png": "[encoded data removed]",
      "text/plain": [
       "<Figure size 432x288 with 1 Axes>"
      ]
     },
     "metadata": {
      "needs_background": "light"
     },
     "output_type": "display_data"
    }
   ],
   "source": [
    "df_ultra['gb_used'].plot(kind='hist', bins=50, title='Monthly GBs used distribution')"
   ]
  },
  {
   "cell_type": "code",
   "execution_count": 389,
   "id": "5572eca0",
   "metadata": {},
   "outputs": [
    {
     "data": {
      "text/plain": [
       "0.150253807106599"
      ]
     },
     "execution_count": 389,
     "metadata": {},
     "output_type": "execute_result"
    }
   ],
   "source": [
    "len(df_ultra.query('gb_used > 30')) / len(df_ultra)"
   ]
  },
  {
   "cell_type": "markdown",
   "id": "bf4abca2",
   "metadata": {},
   "source": [
    "- The distribution of monthly traffic used looks more normal than others  \n",
    "- Its mean and median are shifted way to left from 30GB tariff \"free\" limit; around 85% of cases are within the limits  \n",
    "- In 15% of cases users break the limit"
   ]
  },
  {
   "cell_type": "code",
   "execution_count": 390,
   "id": "1e52f34b",
   "metadata": {},
   "outputs": [
    {
     "data": {
      "text/plain": [
       "<AxesSubplot:title={'center':'Monthly revenue distribution'}, ylabel='Frequency'>"
      ]
     },
     "execution_count": 390,
     "metadata": {},
     "output_type": "execute_result"
    },
    {
     "data": {
      "image/png": "[encoded data removed]",
      "text/plain": [
       "<Figure size 432x288 with 1 Axes>"
      ]
     },
     "metadata": {
      "needs_background": "light"
     },
     "output_type": "display_data"
    }
   ],
   "source": [
    "df_ultra['revenue'].plot(kind='hist', bins=20, title='Monthly revenue distribution')"
   ]
  },
  {
   "cell_type": "code",
   "execution_count": 391,
   "id": "dff79dca",
   "metadata": {
    "scrolled": true
   },
   "outputs": [
    {
     "data": {
      "text/plain": [
       "<AxesSubplot:xlabel='gb_used', ylabel='revenue'>"
      ]
     },
     "execution_count": 391,
     "metadata": {},
     "output_type": "execute_result"
    },
    {
     "data": {
      "image/png": "[encoded data removed]",
      "text/plain": [
       "<Figure size 720x360 with 1 Axes>"
      ]
     },
     "metadata": {
      "needs_background": "light"
     },
     "output_type": "display_data"
    }
   ],
   "source": [
    "df_ultra.plot(x='gb_used', y='revenue', kind='scatter', alpha=0.1, figsize=(10,5))"
   ]
  },
  {
   "cell_type": "code",
   "execution_count": 392,
   "id": "863c02f9",
   "metadata": {},
   "outputs": [
    {
     "data": {
      "text/plain": [
       "0.1401015228426396"
      ]
     },
     "execution_count": 392,
     "metadata": {},
     "output_type": "execute_result"
    }
   ],
   "source": [
    "len(df_ultra.query('calls_duration<=500 and messages<=50 and gb_used<=15')) / len(df_ultra)"
   ]
  },
  {
   "cell_type": "markdown",
   "id": "fc5a3a81",
   "metadata": {},
   "source": [
    "- As already stated above, all the cases where users pay more than just the tariff price are due to the break of traffic limits\n",
    "- So in 85% of cases, users pay just the tariff price and in 15% - more\n",
    "- In around 14% of cases users definetely could go down to \"Smart\" tariff and pay almost 4 times less\n",
    "- For all the other cases, the deeper analysis is needed"
   ]
  },
  {
   "cell_type": "markdown",
   "id": "b33f898a",
   "metadata": {},
   "source": [
    "We compare two tariffs and see which one generates more revenue."
   ]
  },
  {
   "cell_type": "code",
   "execution_count": 393,
   "id": "c8a4d327",
   "metadata": {},
   "outputs": [
    {
     "data": {
      "text/html": [
       "<div>\n",
       "<style scoped>\n",
       "    .dataframe tbody tr th:only-of-type {\n",
       "        vertical-align: middle;\n",
       "    }\n",
       "\n",
       "    .dataframe tbody tr th {\n",
       "        vertical-align: top;\n",
       "    }\n",
       "\n",
       "    .dataframe thead th {\n",
       "        text-align: right;\n",
       "    }\n",
       "</style>\n",
       "<table border=\"1\" class=\"dataframe\">\n",
       "  <thead>\n",
       "    <tr style=\"text-align: right;\">\n",
       "      <th></th>\n",
       "      <th>sum</th>\n",
       "      <th>count</th>\n",
       "      <th>mean</th>\n",
       "    </tr>\n",
       "    <tr>\n",
       "      <th>tariff</th>\n",
       "      <th></th>\n",
       "      <th></th>\n",
       "      <th></th>\n",
       "    </tr>\n",
       "  </thead>\n",
       "  <tbody>\n",
       "    <tr>\n",
       "      <th>smart</th>\n",
       "      <td>2730751</td>\n",
       "      <td>2229</td>\n",
       "      <td>1225.10</td>\n",
       "    </tr>\n",
       "    <tr>\n",
       "      <th>ultra</th>\n",
       "      <td>2035800</td>\n",
       "      <td>985</td>\n",
       "      <td>2066.80</td>\n",
       "    </tr>\n",
       "  </tbody>\n",
       "</table>\n",
       "</div>"
      ],
      "text/plain": [
       "            sum  count    mean\n",
       "tariff                        \n",
       "smart   2730751   2229 1225.10\n",
       "ultra   2035800    985 2066.80"
      ]
     },
     "execution_count": 393,
     "metadata": {},
     "output_type": "execute_result"
    }
   ],
   "source": [
    "df_a.groupby('tariff')['revenue'].agg(['sum', 'count' ,'mean'])"
   ]
  },
  {
   "cell_type": "markdown",
   "id": "5ed07e67",
   "metadata": {},
   "source": [
    "\"Ultra\" tariff is more preferrable for the telecom company due to:  \n",
    "   - Higher monthly mean revenue on the user\n",
    "   - The fact that user under this tariff do not fully use \"free\" limits"
   ]
  },
  {
   "cell_type": "markdown",
   "id": "c162535f",
   "metadata": {},
   "source": [
    "## Hypothesis checks"
   ]
  },
  {
   "cell_type": "markdown",
   "id": "dee2a149",
   "metadata": {},
   "source": [
    "**1) Average revenues under \"Smart\" and \"Ultra\" tariffs:**\n",
    "- H0: Average revenue of \"Smart\" = average revenue of \"Ultra\"\n",
    "- H1: Average revenue of \"Smart\" != average revenue of \"Ultra\"\n",
    "- Confidence level of 1% and 5%"
   ]
  },
  {
   "cell_type": "markdown",
   "id": "60580823",
   "metadata": {},
   "source": [
    "The samples are independent, so we take the t-test for independent variables."
   ]
  },
  {
   "cell_type": "code",
   "execution_count": 394,
   "id": "b0cf9369",
   "metadata": {},
   "outputs": [],
   "source": [
    "# we get the samples with the revenues of both tariffs\n",
    "\n",
    "df_smart_h = df_smart['revenue'] \n",
    "df_ultra_h = df_ultra['revenue']"
   ]
  },
  {
   "cell_type": "code",
   "execution_count": 395,
   "id": "b39ec8f4",
   "metadata": {},
   "outputs": [
    {
     "name": "stdout",
     "output_type": "stream",
     "text": [
      "p-value: 0.00000\n"
     ]
    }
   ],
   "source": [
    "# we do the t-test for ind\n",
    "\n",
    "results = st.ttest_ind(df_smart_h, df_ultra_h, equal_var = False)\n",
    "print(f'p-value: {results.pvalue:.5f}')"
   ]
  },
  {
   "cell_type": "markdown",
   "id": "aadfc8c1",
   "metadata": {},
   "source": [
    "P-value for this t-test is tending to zero, so independently on any confidence level choosen being 1%, 5%, or any other % - the H0 is **rejected**."
   ]
  },
  {
   "cell_type": "markdown",
   "id": "2f47b2a1",
   "metadata": {},
   "source": [
    "**2) Average revenues in Moscow and other cities (under both tariffs):**\n",
    "- H0: Average revenue in Moscow = average revenue in other cities\n",
    "- H1: Average revenue in Moscow != average revenue in other cities\n",
    "- Confidence level of 1% and 5%"
   ]
  },
  {
   "cell_type": "markdown",
   "id": "542bec00",
   "metadata": {},
   "source": [
    "The samples are independent, so we take the t-test for independent variables."
   ]
  },
  {
   "cell_type": "code",
   "execution_count": 396,
   "id": "bf817b6f",
   "metadata": {},
   "outputs": [],
   "source": [
    "# we get the samples with the revenues of both tariffs\n",
    "\n",
    "df_moscow = df_a.query('city == \"Москва\"')['revenue']\n",
    "df_other_cities = df_a.query('city != \"Москва\"')['revenue']"
   ]
  },
  {
   "cell_type": "code",
   "execution_count": 397,
   "id": "7438073c",
   "metadata": {},
   "outputs": [
    {
     "name": "stdout",
     "output_type": "stream",
     "text": [
      "p-value: 0.44297\n"
     ]
    }
   ],
   "source": [
    "# we do the t-test for ind\n",
    "\n",
    "results = st.ttest_ind(df_moscow, df_other_cities, equal_var = False)\n",
    "print(f'p-value: {results.pvalue:.5f}')"
   ]
  },
  {
   "cell_type": "markdown",
   "id": "8843651c",
   "metadata": {},
   "source": [
    "P-value for this t-test is around 44%, so independently on any confidence level choosen being 1% and 5% - the H0 **can not be rejected**."
   ]
  },
  {
   "cell_type": "markdown",
   "id": "5bc9f7f1",
   "metadata": {},
   "source": [
    "## Results"
   ]
  },
  {
   "cell_type": "markdown",
   "id": "cae894ee",
   "metadata": {},
   "source": [
    "- We had a sample of monthly actions of 500 users in 2018 year (so in total could get 500x12=6000 data points)\n",
    "- In only 54% of cases the revenue was generated due to the fact that some users joined the tariff when the year already started and some quited the tariff before the year end\n",
    "- Out of the cases above the split between \"Smart\" and \"Ultra\" tariffs were around 70% and 30%, respectively\n",
    "- Under \"Smart\" tariff users pay 1225 rubles on average monthly, while in 50% of cases they pay 950; both numbers are higher then the monthly tariff price due to the fact that users break the 'free' limits for everything quite a lot: calls, messages, and internet\n",
    "- Under \"Ultra\" tariff users pay 2067 rubles on average monthly, while in 50% of cases they pay 1950 rubles; all the additional revenue generated above the tariff price comes only from the fees from the traffic being used above the limits\n",
    "- \"Ultra\" tariff seems more preferrable for the telecom company due to the higher monthly mean revenue\n",
    "- Comparing average revenues for \"Smart\" and \"Ultra\" tariffs samples, we can not conclude that they are equal (i.e. H0 is rejected)\n",
    "- Comparing average revenues for both tariffs together in Moscow and other cities, we can not conclude that they are not equal (i.e. H0 is not rejected) as the t-test shows the statistically significant p-value\n"
   ]
  }
 ],
 "metadata": {
  "kernelspec": {
   "display_name": "Python 3 (ipykernel)",
   "language": "python",
   "name": "python3"
  },
  "language_info": {
   "codemirror_mode": {
    "name": "ipython",
    "version": 3
   },
   "file_extension": ".py",
   "mimetype": "text/x-python",
   "name": "python",
   "nbconvert_exporter": "python",
   "pygments_lexer": "ipython3",
   "version": "3.9.7"
  }
 },
 "nbformat": 4,
 "nbformat_minor": 5
}
