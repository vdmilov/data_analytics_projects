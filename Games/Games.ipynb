{
 "cells": [
  {
   "cell_type": "markdown",
   "id": "ea026608",
   "metadata": {},
   "source": [
    "# Games Project"
   ]
  },
  {
   "cell_type": "markdown",
   "id": "7c14a178",
   "metadata": {},
   "source": [
    "**The goal**:\n",
    "- To identify the patterns that determine the success of the game\n",
    "- This will allow to get an understanding on a potentially popular product and plan advertising campaigns\n",
    "\n",
    "**Input data**: \n",
    "- Games sales data up to 2016 year\n",
    "- 2016 year is not full\n",
    "- ESRB (Entertainment Software Rating Board) is an association that determines the age rating of computer games\n",
    "\n",
    "**Analysis structure**:\n",
    "* Data overview\n",
    "* Data preparation\n",
    "* Data analysis\n",
    "* Hypothesis testing\n",
    "* Results"
   ]
  },
  {
   "cell_type": "markdown",
   "id": "f8e05c99",
   "metadata": {
    "id": "Ml1hmfXC_Zcs"
   },
   "source": [
    "## Data overview"
   ]
  },
  {
   "cell_type": "code",
   "execution_count": 629,
   "id": "50c73ae4",
   "metadata": {},
   "outputs": [],
   "source": [
    "import pandas as pd\n",
    "import numpy as np\n",
    "from scipy import stats as st\n",
    "from matplotlib import pyplot as plt\n",
    "import seaborn as sns\n",
    "import datetime as dt"
   ]
  },
  {
   "cell_type": "code",
   "execution_count": 630,
   "id": "0a1c5abf",
   "metadata": {},
   "outputs": [],
   "source": [
    "try:\n",
    "    df = pd.read_csv('/datasets/games.csv')\n",
    "except:\n",
    "    df = pd.read_csv('games.csv')"
   ]
  },
  {
   "cell_type": "code",
   "execution_count": 631,
   "id": "70223369",
   "metadata": {},
   "outputs": [],
   "source": [
    "# set floats formats (in order not to see scientific notation)\n",
    "pd.options.display.float_format = '{:.2f}'.format"
   ]
  },
  {
   "cell_type": "code",
   "execution_count": 632,
   "id": "d96410a4",
   "metadata": {},
   "outputs": [
    {
     "data": {
      "text/html": [
       "<div>\n",
       "<style scoped>\n",
       "    .dataframe tbody tr th:only-of-type {\n",
       "        vertical-align: middle;\n",
       "    }\n",
       "\n",
       "    .dataframe tbody tr th {\n",
       "        vertical-align: top;\n",
       "    }\n",
       "\n",
       "    .dataframe thead th {\n",
       "        text-align: right;\n",
       "    }\n",
       "</style>\n",
       "<table border=\"1\" class=\"dataframe\">\n",
       "  <thead>\n",
       "    <tr style=\"text-align: right;\">\n",
       "      <th></th>\n",
       "      <th>Name</th>\n",
       "      <th>Platform</th>\n",
       "      <th>Year_of_Release</th>\n",
       "      <th>Genre</th>\n",
       "      <th>NA_sales</th>\n",
       "      <th>EU_sales</th>\n",
       "      <th>JP_sales</th>\n",
       "      <th>Other_sales</th>\n",
       "      <th>Critic_Score</th>\n",
       "      <th>User_Score</th>\n",
       "      <th>Rating</th>\n",
       "    </tr>\n",
       "  </thead>\n",
       "  <tbody>\n",
       "    <tr>\n",
       "      <th>0</th>\n",
       "      <td>Wii Sports</td>\n",
       "      <td>Wii</td>\n",
       "      <td>2006.00</td>\n",
       "      <td>Sports</td>\n",
       "      <td>41.36</td>\n",
       "      <td>28.96</td>\n",
       "      <td>3.77</td>\n",
       "      <td>8.45</td>\n",
       "      <td>76.00</td>\n",
       "      <td>8</td>\n",
       "      <td>E</td>\n",
       "    </tr>\n",
       "    <tr>\n",
       "      <th>1</th>\n",
       "      <td>Super Mario Bros.</td>\n",
       "      <td>NES</td>\n",
       "      <td>1985.00</td>\n",
       "      <td>Platform</td>\n",
       "      <td>29.08</td>\n",
       "      <td>3.58</td>\n",
       "      <td>6.81</td>\n",
       "      <td>0.77</td>\n",
       "      <td>NaN</td>\n",
       "      <td>NaN</td>\n",
       "      <td>NaN</td>\n",
       "    </tr>\n",
       "    <tr>\n",
       "      <th>2</th>\n",
       "      <td>Mario Kart Wii</td>\n",
       "      <td>Wii</td>\n",
       "      <td>2008.00</td>\n",
       "      <td>Racing</td>\n",
       "      <td>15.68</td>\n",
       "      <td>12.76</td>\n",
       "      <td>3.79</td>\n",
       "      <td>3.29</td>\n",
       "      <td>82.00</td>\n",
       "      <td>8.3</td>\n",
       "      <td>E</td>\n",
       "    </tr>\n",
       "    <tr>\n",
       "      <th>3</th>\n",
       "      <td>Wii Sports Resort</td>\n",
       "      <td>Wii</td>\n",
       "      <td>2009.00</td>\n",
       "      <td>Sports</td>\n",
       "      <td>15.61</td>\n",
       "      <td>10.93</td>\n",
       "      <td>3.28</td>\n",
       "      <td>2.95</td>\n",
       "      <td>80.00</td>\n",
       "      <td>8</td>\n",
       "      <td>E</td>\n",
       "    </tr>\n",
       "    <tr>\n",
       "      <th>4</th>\n",
       "      <td>Pokemon Red/Pokemon Blue</td>\n",
       "      <td>GB</td>\n",
       "      <td>1996.00</td>\n",
       "      <td>Role-Playing</td>\n",
       "      <td>11.27</td>\n",
       "      <td>8.89</td>\n",
       "      <td>10.22</td>\n",
       "      <td>1.00</td>\n",
       "      <td>NaN</td>\n",
       "      <td>NaN</td>\n",
       "      <td>NaN</td>\n",
       "    </tr>\n",
       "    <tr>\n",
       "      <th>5</th>\n",
       "      <td>Tetris</td>\n",
       "      <td>GB</td>\n",
       "      <td>1989.00</td>\n",
       "      <td>Puzzle</td>\n",
       "      <td>23.20</td>\n",
       "      <td>2.26</td>\n",
       "      <td>4.22</td>\n",
       "      <td>0.58</td>\n",
       "      <td>NaN</td>\n",
       "      <td>NaN</td>\n",
       "      <td>NaN</td>\n",
       "    </tr>\n",
       "    <tr>\n",
       "      <th>6</th>\n",
       "      <td>New Super Mario Bros.</td>\n",
       "      <td>DS</td>\n",
       "      <td>2006.00</td>\n",
       "      <td>Platform</td>\n",
       "      <td>11.28</td>\n",
       "      <td>9.14</td>\n",
       "      <td>6.50</td>\n",
       "      <td>2.88</td>\n",
       "      <td>89.00</td>\n",
       "      <td>8.5</td>\n",
       "      <td>E</td>\n",
       "    </tr>\n",
       "    <tr>\n",
       "      <th>7</th>\n",
       "      <td>Wii Play</td>\n",
       "      <td>Wii</td>\n",
       "      <td>2006.00</td>\n",
       "      <td>Misc</td>\n",
       "      <td>13.96</td>\n",
       "      <td>9.18</td>\n",
       "      <td>2.93</td>\n",
       "      <td>2.84</td>\n",
       "      <td>58.00</td>\n",
       "      <td>6.6</td>\n",
       "      <td>E</td>\n",
       "    </tr>\n",
       "    <tr>\n",
       "      <th>8</th>\n",
       "      <td>New Super Mario Bros. Wii</td>\n",
       "      <td>Wii</td>\n",
       "      <td>2009.00</td>\n",
       "      <td>Platform</td>\n",
       "      <td>14.44</td>\n",
       "      <td>6.94</td>\n",
       "      <td>4.70</td>\n",
       "      <td>2.24</td>\n",
       "      <td>87.00</td>\n",
       "      <td>8.4</td>\n",
       "      <td>E</td>\n",
       "    </tr>\n",
       "    <tr>\n",
       "      <th>9</th>\n",
       "      <td>Duck Hunt</td>\n",
       "      <td>NES</td>\n",
       "      <td>1984.00</td>\n",
       "      <td>Shooter</td>\n",
       "      <td>26.93</td>\n",
       "      <td>0.63</td>\n",
       "      <td>0.28</td>\n",
       "      <td>0.47</td>\n",
       "      <td>NaN</td>\n",
       "      <td>NaN</td>\n",
       "      <td>NaN</td>\n",
       "    </tr>\n",
       "  </tbody>\n",
       "</table>\n",
       "</div>"
      ],
      "text/plain": [
       "                        Name Platform  Year_of_Release         Genre  \\\n",
       "0                 Wii Sports      Wii          2006.00        Sports   \n",
       "1          Super Mario Bros.      NES          1985.00      Platform   \n",
       "2             Mario Kart Wii      Wii          2008.00        Racing   \n",
       "3          Wii Sports Resort      Wii          2009.00        Sports   \n",
       "4   Pokemon Red/Pokemon Blue       GB          1996.00  Role-Playing   \n",
       "5                     Tetris       GB          1989.00        Puzzle   \n",
       "6      New Super Mario Bros.       DS          2006.00      Platform   \n",
       "7                   Wii Play      Wii          2006.00          Misc   \n",
       "8  New Super Mario Bros. Wii      Wii          2009.00      Platform   \n",
       "9                  Duck Hunt      NES          1984.00       Shooter   \n",
       "\n",
       "   NA_sales  EU_sales  JP_sales  Other_sales  Critic_Score User_Score Rating  \n",
       "0     41.36     28.96      3.77         8.45         76.00          8      E  \n",
       "1     29.08      3.58      6.81         0.77           NaN        NaN    NaN  \n",
       "2     15.68     12.76      3.79         3.29         82.00        8.3      E  \n",
       "3     15.61     10.93      3.28         2.95         80.00          8      E  \n",
       "4     11.27      8.89     10.22         1.00           NaN        NaN    NaN  \n",
       "5     23.20      2.26      4.22         0.58           NaN        NaN    NaN  \n",
       "6     11.28      9.14      6.50         2.88         89.00        8.5      E  \n",
       "7     13.96      9.18      2.93         2.84         58.00        6.6      E  \n",
       "8     14.44      6.94      4.70         2.24         87.00        8.4      E  \n",
       "9     26.93      0.63      0.28         0.47           NaN        NaN    NaN  "
      ]
     },
     "execution_count": 632,
     "metadata": {},
     "output_type": "execute_result"
    }
   ],
   "source": [
    "df.head(10)"
   ]
  },
  {
   "cell_type": "code",
   "execution_count": 633,
   "id": "d6082ec4",
   "metadata": {},
   "outputs": [
    {
     "name": "stdout",
     "output_type": "stream",
     "text": [
      "<class 'pandas.core.frame.DataFrame'>\n",
      "RangeIndex: 16715 entries, 0 to 16714\n",
      "Data columns (total 11 columns):\n",
      " #   Column           Non-Null Count  Dtype  \n",
      "---  ------           --------------  -----  \n",
      " 0   Name             16713 non-null  object \n",
      " 1   Platform         16715 non-null  object \n",
      " 2   Year_of_Release  16446 non-null  float64\n",
      " 3   Genre            16713 non-null  object \n",
      " 4   NA_sales         16715 non-null  float64\n",
      " 5   EU_sales         16715 non-null  float64\n",
      " 6   JP_sales         16715 non-null  float64\n",
      " 7   Other_sales      16715 non-null  float64\n",
      " 8   Critic_Score     8137 non-null   float64\n",
      " 9   User_Score       10014 non-null  object \n",
      " 10  Rating           9949 non-null   object \n",
      "dtypes: float64(6), object(5)\n",
      "memory usage: 1.4+ MB\n"
     ]
    }
   ],
   "source": [
    "df.info()"
   ]
  },
  {
   "cell_type": "markdown",
   "id": "5162f80e",
   "metadata": {},
   "source": [
    "There are 11 columns in the dataframe:\n",
    "\n",
    "`Name` - the name of the game; `object`  \n",
    "`Platform` - platform of the game; `object`  \n",
    "`Year_of_Release` - year of release; `float`  \n",
    "`Genre` - game genre; `object`  \n",
    "`NA_sales` - sales in North America (millions of copies sold); `float`  \n",
    "`EU_sales` - sales in Europe (millions of copies sold); `float`  \n",
    "`JP_sales` - sales in Japan (millions of copies sold); `float`  \n",
    "`Other_sales` - sales in other countries (millions of copies sold); `float`  \n",
    "`Critic_Score` - critics score (maximum 100); `float`  \n",
    "`User_Score` - user score (maximum 10); `object`  \n",
    "`Rating` - rating from the ESRB (Entertainment Software Rating Board); `object`  "
   ]
  },
  {
   "cell_type": "markdown",
   "id": "7bcafb1d",
   "metadata": {},
   "source": [
    "As we can see, there are definetely missing data in some columns."
   ]
  },
  {
   "cell_type": "code",
   "execution_count": 634,
   "id": "ad034ab7",
   "metadata": {},
   "outputs": [
    {
     "data": {
      "text/plain": [
       "<AxesSubplot:title={'center':'Proportion of missing values'}>"
      ]
     },
     "execution_count": 634,
     "metadata": {},
     "output_type": "execute_result"
    },
    {
     "data": {
      "image/png": "[encoded data removed]",
      "text/plain": [
       "<Figure size 1296x360 with 1 Axes>"
      ]
     },
     "metadata": {
      "needs_background": "light"
     },
     "output_type": "display_data"
    }
   ],
   "source": [
    "# create a chart with missing values\n",
    "\n",
    "(\n",
    "    df\n",
    "     .isna()\n",
    "     .mean()\n",
    "     .sort_values(ascending=True)\n",
    "     .plot(kind='barh', figsize=(18,5), legend=False, title='Proportion of missing values')\n",
    ")"
   ]
  },
  {
   "cell_type": "markdown",
   "id": "5dfe0ddc",
   "metadata": {},
   "source": [
    "Findings:\n",
    "\n",
    "- The biggest portion of missing values is in `critic_score`: more than 50% of inputs\n",
    "- Both `rating` and `user_score` are missing around 40% of inputs\n",
    "- The year of game release is missing in less than 2% of cases"
   ]
  },
  {
   "cell_type": "markdown",
   "id": "503482c9",
   "metadata": {},
   "source": [
    "We do not know the exact reason behind such high proportions of missing values but below are some thoughts:\n",
    "  \n",
    "- It can be simply a technical mistake while downloading from database\n",
    "- It can be that the user and critics involvment into those games is low, meaning they are not very proactive to give the scores"
   ]
  },
  {
   "cell_type": "code",
   "execution_count": 635,
   "id": "20c2d9dd",
   "metadata": {},
   "outputs": [
    {
     "data": {
      "text/plain": [
       "0"
      ]
     },
     "execution_count": 635,
     "metadata": {},
     "output_type": "execute_result"
    }
   ],
   "source": [
    "# general check for full duplicates\n",
    "\n",
    "df.duplicated().sum()"
   ]
  },
  {
   "cell_type": "markdown",
   "id": "199c2577",
   "metadata": {
    "id": "Ml1hmfXC_Zcs"
   },
   "source": [
    "## Data preparation"
   ]
  },
  {
   "cell_type": "markdown",
   "id": "6d6284b5",
   "metadata": {},
   "source": [
    "### Changing registers"
   ]
  },
  {
   "cell_type": "code",
   "execution_count": 636,
   "id": "9aa9f1a4",
   "metadata": {},
   "outputs": [],
   "source": [
    "# rename columns to lower case\n",
    "df.columns = df.columns.str.lower()"
   ]
  },
  {
   "cell_type": "code",
   "execution_count": 637,
   "id": "40a89463",
   "metadata": {},
   "outputs": [
    {
     "data": {
      "text/plain": [
       "Index(['name', 'platform', 'year_of_release', 'genre', 'na_sales', 'eu_sales',\n",
       "       'jp_sales', 'other_sales', 'critic_score', 'user_score', 'rating'],\n",
       "      dtype='object')"
      ]
     },
     "execution_count": 637,
     "metadata": {},
     "output_type": "execute_result"
    }
   ],
   "source": [
    "df.columns"
   ]
  },
  {
   "cell_type": "markdown",
   "id": "665e07ef",
   "metadata": {},
   "source": [
    "### Changing data types"
   ]
  },
  {
   "cell_type": "code",
   "execution_count": 638,
   "id": "c99e6e04",
   "metadata": {},
   "outputs": [],
   "source": [
    "# in order to change data types for years we cut the df with missing values in years\n",
    "\n",
    "df = df.dropna(subset=['year_of_release'])"
   ]
  },
  {
   "cell_type": "code",
   "execution_count": 639,
   "id": "6c28d6f0",
   "metadata": {},
   "outputs": [],
   "source": [
    "# change type for the year of game release\n",
    "\n",
    "df['year_of_release'] = df['year_of_release'].astype('int64')"
   ]
  },
  {
   "cell_type": "markdown",
   "id": "1d73b6a5",
   "metadata": {},
   "source": [
    "There are some scores in `user_score` marked as 'tbd' which we suppose mean 'to be determined' which can be treated as a missing value.  \n",
    "So we change those for `NaN` in order to change the data type further.  \n",
    "\n"
   ]
  },
  {
   "cell_type": "code",
   "execution_count": 640,
   "id": "c696a57f",
   "metadata": {},
   "outputs": [],
   "source": [
    "df['user_score'] = df['user_score'].replace('tbd', np.nan)"
   ]
  },
  {
   "cell_type": "code",
   "execution_count": 641,
   "id": "ce2e6e4e",
   "metadata": {},
   "outputs": [
    {
     "data": {
      "text/plain": [
       "0.5462118448254895"
      ]
     },
     "execution_count": 641,
     "metadata": {},
     "output_type": "execute_result"
    }
   ],
   "source": [
    "df['user_score'].isna().mean()"
   ]
  },
  {
   "cell_type": "markdown",
   "id": "50ad165c",
   "metadata": {},
   "source": [
    "This brings the portion of missing values for `user_score` up to almost 55%."
   ]
  },
  {
   "cell_type": "code",
   "execution_count": 642,
   "id": "cb2b6067",
   "metadata": {},
   "outputs": [],
   "source": [
    "# change type for user scores\n",
    "\n",
    "df['user_score'] = df['user_score'].astype('float64')"
   ]
  },
  {
   "cell_type": "markdown",
   "id": "9a8b674a",
   "metadata": {},
   "source": [
    "### Missing values\n"
   ]
  },
  {
   "cell_type": "code",
   "execution_count": 643,
   "id": "8d13d7f0",
   "metadata": {},
   "outputs": [
    {
     "data": {
      "text/html": [
       "<div>\n",
       "<style scoped>\n",
       "    .dataframe tbody tr th:only-of-type {\n",
       "        vertical-align: middle;\n",
       "    }\n",
       "\n",
       "    .dataframe tbody tr th {\n",
       "        vertical-align: top;\n",
       "    }\n",
       "\n",
       "    .dataframe thead th {\n",
       "        text-align: right;\n",
       "    }\n",
       "</style>\n",
       "<table border=\"1\" class=\"dataframe\">\n",
       "  <thead>\n",
       "    <tr style=\"text-align: right;\">\n",
       "      <th></th>\n",
       "      <th>name</th>\n",
       "      <th>platform</th>\n",
       "      <th>year_of_release</th>\n",
       "      <th>genre</th>\n",
       "      <th>na_sales</th>\n",
       "      <th>eu_sales</th>\n",
       "      <th>jp_sales</th>\n",
       "      <th>other_sales</th>\n",
       "      <th>critic_score</th>\n",
       "      <th>user_score</th>\n",
       "      <th>rating</th>\n",
       "    </tr>\n",
       "  </thead>\n",
       "  <tbody>\n",
       "    <tr>\n",
       "      <th>659</th>\n",
       "      <td>NaN</td>\n",
       "      <td>GEN</td>\n",
       "      <td>1993</td>\n",
       "      <td>NaN</td>\n",
       "      <td>1.78</td>\n",
       "      <td>0.53</td>\n",
       "      <td>0.00</td>\n",
       "      <td>0.08</td>\n",
       "      <td>NaN</td>\n",
       "      <td>NaN</td>\n",
       "      <td>NaN</td>\n",
       "    </tr>\n",
       "    <tr>\n",
       "      <th>14244</th>\n",
       "      <td>NaN</td>\n",
       "      <td>GEN</td>\n",
       "      <td>1993</td>\n",
       "      <td>NaN</td>\n",
       "      <td>0.00</td>\n",
       "      <td>0.00</td>\n",
       "      <td>0.03</td>\n",
       "      <td>0.00</td>\n",
       "      <td>NaN</td>\n",
       "      <td>NaN</td>\n",
       "      <td>NaN</td>\n",
       "    </tr>\n",
       "  </tbody>\n",
       "</table>\n",
       "</div>"
      ],
      "text/plain": [
       "      name platform  year_of_release genre  na_sales  eu_sales  jp_sales  \\\n",
       "659    NaN      GEN             1993   NaN      1.78      0.53      0.00   \n",
       "14244  NaN      GEN             1993   NaN      0.00      0.00      0.03   \n",
       "\n",
       "       other_sales  critic_score  user_score rating  \n",
       "659           0.08           NaN         NaN    NaN  \n",
       "14244         0.00           NaN         NaN    NaN  "
      ]
     },
     "execution_count": 643,
     "metadata": {},
     "output_type": "execute_result"
    }
   ],
   "source": [
    "# check missing genres\n",
    "\n",
    "df[df['genre'].isna()]"
   ]
  },
  {
   "cell_type": "markdown",
   "id": "6935eb88",
   "metadata": {},
   "source": [
    "As we can see, the rows where the `genre` is missing also includes the missing `name` so we decide just to drop those rows."
   ]
  },
  {
   "cell_type": "code",
   "execution_count": 644,
   "id": "10caaa92",
   "metadata": {},
   "outputs": [],
   "source": [
    "df = df.dropna(subset=['genre'])"
   ]
  },
  {
   "cell_type": "code",
   "execution_count": 645,
   "id": "69e8bcfe",
   "metadata": {},
   "outputs": [],
   "source": [
    "# filling missing ESRB rating with no meaning word in order to see in analysis further on \n",
    "\n",
    "df['rating'] = df['rating'].fillna('no_esrb')"
   ]
  },
  {
   "cell_type": "markdown",
   "id": "1c99b6a4",
   "metadata": {},
   "source": [
    "For other columns and missing values in them, we do not see any option to fill the ones as:\n",
    "- `critic_score` and `user_score` are very subjective values\n",
    "- filling `year_of_release` with any agg function does not bring sense\n",
    "\n",
    "So we just leave the missing values as it is"
   ]
  },
  {
   "cell_type": "markdown",
   "id": "2365eba1",
   "metadata": {},
   "source": [
    "### Calculating total sales\n"
   ]
  },
  {
   "cell_type": "code",
   "execution_count": 646,
   "id": "a0c9d239",
   "metadata": {},
   "outputs": [],
   "source": [
    "df['total_sales'] = df[['na_sales','eu_sales','jp_sales', 'other_sales']].sum(axis='columns')"
   ]
  },
  {
   "cell_type": "markdown",
   "id": "e2d715a9",
   "metadata": {
    "id": "Ml1hmfXC_Zcs"
   },
   "source": [
    "## Data analysis"
   ]
  },
  {
   "cell_type": "markdown",
   "id": "2b112e89",
   "metadata": {},
   "source": [
    "### Years of release\n"
   ]
  },
  {
   "cell_type": "code",
   "execution_count": 648,
   "id": "0379bfdd",
   "metadata": {},
   "outputs": [
    {
     "data": {
      "text/plain": [
       "<AxesSubplot:title={'center':'Number of games released in a year'}, xlabel='year_of_release'>"
      ]
     },
     "execution_count": 648,
     "metadata": {},
     "output_type": "execute_result"
    },
    {
     "data": {
      "image/png": "[encoded data removed]",
      "text/plain": [
       "<Figure size 864x360 with 1 Axes>"
      ]
     },
     "metadata": {
      "needs_background": "light"
     },
     "output_type": "display_data"
    }
   ],
   "source": [
    "# calc how many games were released in each year and plot\n",
    "\n",
    "(\n",
    "    df\n",
    "    .groupby('year_of_release')['name']\n",
    "    .count()\n",
    "    .plot(title='Number of games released in a year', figsize=(12,5))\n",
    ")"
   ]
  },
  {
   "cell_type": "markdown",
   "id": "f1505bf9",
   "metadata": {},
   "source": [
    "Data clearly shows 4 periods:\n",
    "1) 1980-1993: almost same number of games released in a year  \n",
    "2) 1993-2000: steady growth of number of games released  \n",
    "3) 2000-2008: huge growth of releases with peak around 1400 games in a year  \n",
    "4) 2009-now: strong downwards"
   ]
  },
  {
   "cell_type": "markdown",
   "id": "bdc1f237",
   "metadata": {},
   "source": [
    "Some thoughts about the periods above:\n",
    "\n",
    "1) Industry was just borning: Platforms were expensive, meaning less people could afford playing; there were not so many platforms and games developers  \n",
    "2) Industry develops: Both the demand and supply start to accelerate  \n",
    "3) Industry makes a big jump: strong demand due to cheaper platforms, games availability and wider options + supply is super strong  \n",
    "4) Industry decreases: starting from 2009 the mobile games start to overtake platforms, and then especially after the strong adoption of smartphone after first iPhone releases, the mobile (and mobile games) are the modern power growth"
   ]
  },
  {
   "cell_type": "markdown",
   "id": "0717448b",
   "metadata": {},
   "source": [
    "### Platforms\n"
   ]
  },
  {
   "cell_type": "code",
   "execution_count": 713,
   "id": "ba119780",
   "metadata": {},
   "outputs": [
    {
     "data": {
      "text/plain": [
       "<AxesSubplot:title={'center':'Change over time in platforms for all years'}, xlabel='year_of_release'>"
      ]
     },
     "execution_count": 713,
     "metadata": {},
     "output_type": "execute_result"
    },
    {
     "data": {
      "image/png": "[encoded data removed]",
      "text/plain": [
       "<Figure size 1440x720 with 1 Axes>"
      ]
     },
     "metadata": {},
     "output_type": "display_data"
    }
   ],
   "source": [
    "# change over time in platforms for all years\n",
    "\n",
    "(\n",
    "    df\n",
    "    .pivot_table(index='year_of_release', columns='platform', values='total_sales', aggfunc='sum')\n",
    "    .plot\n",
    "    .bar(stacked=True, figsize=(20,10), title='Change over time in platforms for all years')\n",
    ")"
   ]
  },
  {
   "cell_type": "markdown",
   "id": "7cb31571",
   "metadata": {},
   "source": [
    "The graph above proves the periods we highlighted before."
   ]
  },
  {
   "cell_type": "code",
   "execution_count": 21,
   "id": "0a7cff18",
   "metadata": {},
   "outputs": [
    {
     "data": {
      "text/plain": [
       "<AxesSubplot:title={'center':'top 5 biggest platforms by total sales over years'}, xlabel='platform'>"
      ]
     },
     "execution_count": 21,
     "metadata": {},
     "output_type": "execute_result"
    },
    {
     "data": {
      "image/png": "[encoded data removed]",
      "text/plain": [
       "<Figure size 432x288 with 1 Axes>"
      ]
     },
     "metadata": {
      "needs_background": "light"
     },
     "output_type": "display_data"
    }
   ],
   "source": [
    "# top 5 biggest platforms by total sales over years\n",
    "\n",
    "(\n",
    "    df\n",
    "    .groupby('platform')['total_sales']\n",
    "    .sum()\n",
    "    .sort_values(ascending=False)\n",
    "    .head(5)\n",
    "    .plot\n",
    "    .bar(title='top 5 biggest platforms by total sales over years')\n",
    ")"
   ]
  },
  {
   "cell_type": "code",
   "execution_count": 22,
   "id": "ea55fe90",
   "metadata": {},
   "outputs": [
    {
     "data": {
      "text/plain": [
       "<AxesSubplot:title={'center':'Change over years for 5 biggest platforms by total sales'}, xlabel='year_of_release'>"
      ]
     },
     "execution_count": 22,
     "metadata": {},
     "output_type": "execute_result"
    },
    {
     "data": {
      "image/png": "[encoded data removed]",
      "text/plain": [
       "<Figure size 1080x360 with 1 Axes>"
      ]
     },
     "metadata": {
      "needs_background": "light"
     },
     "output_type": "display_data"
    }
   ],
   "source": [
    "# change over years for 5 biggest platforms by total sales\n",
    "\n",
    "df_top_5 = pd.DataFrame(df.groupby('platform')['total_sales'].sum().sort_values(ascending=False).head(5).reset_index())\n",
    "df_top_5_names = df_top_5['platform'].values.tolist()\n",
    "\n",
    "(\n",
    "    df\n",
    "    .pivot_table(index='year_of_release', columns='platform', values='total_sales', aggfunc='sum')[df_top_5_names]\n",
    "    .plot\n",
    "    .bar(stacked=True, figsize=(15,5), title='Change over years for 5 biggest platforms by total sales')\n",
    ")"
   ]
  },
  {
   "cell_type": "markdown",
   "id": "94f6d1fa",
   "metadata": {},
   "source": [
    "Visually we see that top 5 platforms \"live\" on average around 7 years.  \n",
    "We check for all the platform for all the years as well."
   ]
  },
  {
   "cell_type": "code",
   "execution_count": 23,
   "id": "62cc7df5",
   "metadata": {},
   "outputs": [
    {
     "data": {
      "text/plain": [
       "7.67741935483871"
      ]
     },
     "execution_count": 23,
     "metadata": {},
     "output_type": "execute_result"
    }
   ],
   "source": [
    "# check average life of a platform\n",
    "\n",
    "(\n",
    "    df\n",
    "    .pivot_table(index='year_of_release', columns='platform', values='total_sales', aggfunc='sum')\n",
    "    .count()\n",
    "    .mean()\n",
    ")"
   ]
  },
  {
   "cell_type": "markdown",
   "id": "ee4f1ee4",
   "metadata": {},
   "source": [
    "The data proves our visual findings almost perfectly.  \n",
    "So, on average the platform is generating sales for **7,7 years**."
   ]
  },
  {
   "cell_type": "markdown",
   "id": "fcc151f6",
   "metadata": {},
   "source": [
    "**Understanding the actual timeframe for further analysis**"
   ]
  },
  {
   "cell_type": "markdown",
   "id": "e88ce9f4",
   "metadata": {},
   "source": [
    "First, we check the most popular platforms in 2016."
   ]
  },
  {
   "cell_type": "code",
   "execution_count": 24,
   "id": "3db58d7f",
   "metadata": {},
   "outputs": [],
   "source": [
    "df_2016 = df[df['year_of_release'] == 2016]"
   ]
  },
  {
   "cell_type": "code",
   "execution_count": 25,
   "id": "95c091db",
   "metadata": {},
   "outputs": [
    {
     "data": {
      "text/plain": [
       "platform\n",
       "PS4    69.25\n",
       "XOne   26.15\n",
       "3DS    15.14\n",
       "PC      5.25\n",
       "WiiU    4.60\n",
       "PSV     4.25\n",
       "PS3     3.60\n",
       "X360    1.52\n",
       "Wii     0.18\n",
       "Name: total_sales, dtype: float64"
      ]
     },
     "execution_count": 25,
     "metadata": {},
     "output_type": "execute_result"
    }
   ],
   "source": [
    "df_2016.groupby('platform')['total_sales'].sum().sort_values(ascending=False)"
   ]
  },
  {
   "cell_type": "markdown",
   "id": "07e455bf",
   "metadata": {},
   "source": [
    "Top 3 platforms are \"PS4\", \"XOne\", and \"3DS\".  \n",
    "We check their 'lifes' in order to see in what stage they are."
   ]
  },
  {
   "cell_type": "code",
   "execution_count": 714,
   "id": "409faa3b",
   "metadata": {},
   "outputs": [
    {
     "data": {
      "text/plain": [
       "<AxesSubplot:title={'center':'Change over years for 3 biggest platforms by total sales in 2016'}, xlabel='year_of_release'>"
      ]
     },
     "execution_count": 714,
     "metadata": {},
     "output_type": "execute_result"
    },
    {
     "data": {
      "image/png": "[encoded data removed]",
      "text/plain": [
       "<Figure size 1080x360 with 1 Axes>"
      ]
     },
     "metadata": {},
     "output_type": "display_data"
    }
   ],
   "source": [
    "df_2016_top_3 = pd.DataFrame(\n",
    "                            df_2016\n",
    "                            .groupby('platform')['total_sales']\n",
    "                            .sum()\n",
    "                            .sort_values(ascending=False)\n",
    "                            .head(3)\n",
    "                            .reset_index()\n",
    "                            )\n",
    "\n",
    "df_2016_top_3_names = df_2016_top_3['platform'].values.tolist()\n",
    "\n",
    "(\n",
    "    df\n",
    "    .pivot_table(index='year_of_release', columns='platform', values='total_sales', aggfunc='sum')[df_2016_top_3_names]\n",
    "    .plot(figsize=(15,5), title='Change over years for 3 biggest platforms by total sales in 2016')\n",
    ")"
   ]
  },
  {
   "cell_type": "markdown",
   "id": "5def0a2c",
   "metadata": {},
   "source": [
    "So, for further analysis we take the data starting **2013** where our top current platforms started sales.  \n",
    "This is 4 years timeframe which is in line with the above findings of average life of 7,7 years due to:\n",
    "- data for 2016 year is not full\n",
    "- the distribution over the years is pretty normal, meaning exactly half of platform 'life' is growth, and the other half is then the decrease"
   ]
  },
  {
   "cell_type": "code",
   "execution_count": 27,
   "id": "1e6115c2",
   "metadata": {},
   "outputs": [],
   "source": [
    "# \"a\" stands for analysis \n",
    "\n",
    "df_a = df[df['year_of_release'] > 2012]"
   ]
  },
  {
   "cell_type": "markdown",
   "id": "ee59d4f4",
   "metadata": {},
   "source": [
    "### Actual timeframe\n"
   ]
  },
  {
   "cell_type": "code",
   "execution_count": 28,
   "id": "005eca12",
   "metadata": {},
   "outputs": [
    {
     "data": {
      "text/plain": [
       "platform\n",
       "PS4    314.14\n",
       "PS3    181.43\n",
       "XOne   159.32\n",
       "3DS    143.25\n",
       "X360   136.80\n",
       "WiiU    64.63\n",
       "PC      39.43\n",
       "PSV     32.99\n",
       "Wii     13.66\n",
       "PSP      3.50\n",
       "DS       1.54\n",
       "Name: total_sales, dtype: float64"
      ]
     },
     "execution_count": 28,
     "metadata": {},
     "output_type": "execute_result"
    }
   ],
   "source": [
    "# check leading platforms\n",
    "\n",
    "df_a.groupby('platform')['total_sales'].sum().sort_values(ascending=False)"
   ]
  },
  {
   "cell_type": "markdown",
   "id": "fc64f7db",
   "metadata": {},
   "source": [
    "Top 5 platforms in the actual timeframe are 'PS4', 'PS3', 'XOne', '3DS', and 'X360'.  \n",
    "We check how they perform over the years."
   ]
  },
  {
   "cell_type": "code",
   "execution_count": 29,
   "id": "37d27685",
   "metadata": {},
   "outputs": [
    {
     "data": {
      "text/plain": [
       "<AxesSubplot:xlabel='year_of_release'>"
      ]
     },
     "execution_count": 29,
     "metadata": {},
     "output_type": "execute_result"
    },
    {
     "data": {
      "image/png": "[encoded data removed]",
      "text/plain": [
       "<Figure size 1080x360 with 1 Axes>"
      ]
     },
     "metadata": {
      "needs_background": "light"
     },
     "output_type": "display_data"
    }
   ],
   "source": [
    "ticks = np.arange(2013, 2017, 1)\n",
    "\n",
    "(\n",
    "    df_a\n",
    "    .pivot_table(index='year_of_release', columns='platform', values='total_sales', aggfunc='sum')\n",
    "    .plot(figsize=(15,5), xticks=ticks)\n",
    ")"
   ]
  },
  {
   "cell_type": "markdown",
   "id": "cf277d2c",
   "metadata": {},
   "source": [
    "Almost all platforms are heading downwards.\n",
    "The prospective platforms are the ones that still generate the most sales: **\"PS4\" and \"XOne\"**  \n",
    "  \n",
    "It is hard to say about the profitability of the platforms as we do not have data for sales and costs\n"
   ]
  },
  {
   "cell_type": "code",
   "execution_count": 30,
   "id": "ad1124e2",
   "metadata": {},
   "outputs": [
    {
     "data": {
      "text/plain": [
       "<AxesSubplot:title={'center':'total_sales'}, xlabel='platform'>"
      ]
     },
     "execution_count": 30,
     "metadata": {},
     "output_type": "execute_result"
    },
    {
     "data": {
      "image/png": "[encoded data removed]",
      "text/plain": [
       "<Figure size 1080x576 with 1 Axes>"
      ]
     },
     "metadata": {
      "needs_background": "light"
     },
     "output_type": "display_data"
    }
   ],
   "source": [
    "# creating boxplots for platforms\n",
    "\n",
    "df_a.boxplot('total_sales', by = 'platform', figsize = (15,8), vert=False)"
   ]
  },
  {
   "cell_type": "markdown",
   "id": "1a63e7e4",
   "metadata": {},
   "source": [
    "In the graph above the outliers are super strong, so we look deeper at prospective platforms and we cut the outliers."
   ]
  },
  {
   "cell_type": "code",
   "execution_count": 31,
   "id": "7722b288",
   "metadata": {},
   "outputs": [
    {
     "data": {
      "image/png": "[encoded data removed]",
      "text/plain": [
       "<Figure size 432x288 with 1 Axes>"
      ]
     },
     "metadata": {
      "needs_background": "light"
     },
     "output_type": "display_data"
    }
   ],
   "source": [
    "data = df_a.query('platform == \"PS4\" or platform == \"XOne\"')\n",
    "ax = sns.boxplot(x='platform', y='total_sales', data=data)\n",
    "plt.ylim(0,1.75)\n",
    "plt.show()"
   ]
  },
  {
   "cell_type": "markdown",
   "id": "52874f5f",
   "metadata": {},
   "source": [
    "**Looking deeper into \"PS4\" platform**"
   ]
  },
  {
   "cell_type": "code",
   "execution_count": 32,
   "id": "b0aefc29",
   "metadata": {
    "scrolled": true
   },
   "outputs": [
    {
     "data": {
      "text/html": [
       "<div>\n",
       "<style scoped>\n",
       "    .dataframe tbody tr th:only-of-type {\n",
       "        vertical-align: middle;\n",
       "    }\n",
       "\n",
       "    .dataframe tbody tr th {\n",
       "        vertical-align: top;\n",
       "    }\n",
       "\n",
       "    .dataframe thead th {\n",
       "        text-align: right;\n",
       "    }\n",
       "</style>\n",
       "<table border=\"1\" class=\"dataframe\">\n",
       "  <thead>\n",
       "    <tr style=\"text-align: right;\">\n",
       "      <th></th>\n",
       "      <th>critic_score</th>\n",
       "      <th>user_score</th>\n",
       "      <th>total_sales</th>\n",
       "    </tr>\n",
       "  </thead>\n",
       "  <tbody>\n",
       "    <tr>\n",
       "      <th>critic_score</th>\n",
       "      <td>1.00</td>\n",
       "      <td>0.56</td>\n",
       "      <td>0.41</td>\n",
       "    </tr>\n",
       "    <tr>\n",
       "      <th>user_score</th>\n",
       "      <td>0.56</td>\n",
       "      <td>1.00</td>\n",
       "      <td>-0.03</td>\n",
       "    </tr>\n",
       "    <tr>\n",
       "      <th>total_sales</th>\n",
       "      <td>0.41</td>\n",
       "      <td>-0.03</td>\n",
       "      <td>1.00</td>\n",
       "    </tr>\n",
       "  </tbody>\n",
       "</table>\n",
       "</div>"
      ],
      "text/plain": [
       "              critic_score  user_score  total_sales\n",
       "critic_score          1.00        0.56         0.41\n",
       "user_score            0.56        1.00        -0.03\n",
       "total_sales           0.41       -0.03         1.00"
      ]
     },
     "execution_count": 32,
     "metadata": {},
     "output_type": "execute_result"
    }
   ],
   "source": [
    "# calc correlations among scores and sales for \"PS4\"\n",
    "\n",
    "df_a.query('platform == \"PS4\"')[['critic_score', 'user_score', 'total_sales']].corr()"
   ]
  },
  {
   "cell_type": "code",
   "execution_count": 33,
   "id": "b28d9a0c",
   "metadata": {
    "scrolled": true
   },
   "outputs": [
    {
     "data": {
      "text/plain": [
       "<AxesSubplot:title={'center':'Total sales vs Critic score for PS4 platform'}, xlabel='critic_score', ylabel='total_sales'>"
      ]
     },
     "execution_count": 33,
     "metadata": {},
     "output_type": "execute_result"
    },
    {
     "data": {
      "image/png": "[encoded data removed]",
      "text/plain": [
       "<Figure size 432x288 with 1 Axes>"
      ]
     },
     "metadata": {
      "needs_background": "light"
     },
     "output_type": "display_data"
    }
   ],
   "source": [
    "(\n",
    "    df_a\n",
    "    .query('platform == \"PS4\"')\n",
    "    .plot(kind='scatter', x='critic_score', y='total_sales', alpha=0.3, title='Total sales vs Critic score for PS4 platform')\n",
    ")"
   ]
  },
  {
   "cell_type": "code",
   "execution_count": 34,
   "id": "93a55df6",
   "metadata": {},
   "outputs": [
    {
     "data": {
      "text/plain": [
       "<AxesSubplot:title={'center':'Total sales vs User score for PS4 platform'}, xlabel='user_score', ylabel='total_sales'>"
      ]
     },
     "execution_count": 34,
     "metadata": {},
     "output_type": "execute_result"
    },
    {
     "data": {
      "image/png": "[encoded data removed]",
      "text/plain": [
       "<Figure size 432x288 with 1 Axes>"
      ]
     },
     "metadata": {
      "needs_background": "light"
     },
     "output_type": "display_data"
    }
   ],
   "source": [
    "(\n",
    "    df_a\n",
    "    .query('platform == \"PS4\"')\n",
    "    .plot(kind='scatter', x='user_score', y='total_sales', alpha=0.3, title='Total sales vs User score for PS4 platform')\n",
    ")"
   ]
  },
  {
   "cell_type": "markdown",
   "id": "017b6fbe",
   "metadata": {},
   "source": [
    "Some findings:\n",
    "- Total sales show stronger linear dependence with critics scores rather than with user scores\n",
    "- The scatter plot with user scores shows pretty noisy data confirming the correlation values\n",
    "- For both the critics and user scores there almost no 10 or 100 scores"
   ]
  },
  {
   "cell_type": "markdown",
   "id": "46f51fb0",
   "metadata": {},
   "source": [
    "**Looking deeper into other platforms (excluding PS4)**"
   ]
  },
  {
   "cell_type": "code",
   "execution_count": 35,
   "id": "5db60980",
   "metadata": {
    "scrolled": true
   },
   "outputs": [
    {
     "data": {
      "text/html": [
       "<div>\n",
       "<style scoped>\n",
       "    .dataframe tbody tr th:only-of-type {\n",
       "        vertical-align: middle;\n",
       "    }\n",
       "\n",
       "    .dataframe tbody tr th {\n",
       "        vertical-align: top;\n",
       "    }\n",
       "\n",
       "    .dataframe thead th {\n",
       "        text-align: right;\n",
       "    }\n",
       "</style>\n",
       "<table border=\"1\" class=\"dataframe\">\n",
       "  <thead>\n",
       "    <tr style=\"text-align: right;\">\n",
       "      <th></th>\n",
       "      <th>critic_score</th>\n",
       "      <th>user_score</th>\n",
       "      <th>total_sales</th>\n",
       "    </tr>\n",
       "  </thead>\n",
       "  <tbody>\n",
       "    <tr>\n",
       "      <th>critic_score</th>\n",
       "      <td>1.00</td>\n",
       "      <td>0.48</td>\n",
       "      <td>0.28</td>\n",
       "    </tr>\n",
       "    <tr>\n",
       "      <th>user_score</th>\n",
       "      <td>0.48</td>\n",
       "      <td>1.00</td>\n",
       "      <td>-0.00</td>\n",
       "    </tr>\n",
       "    <tr>\n",
       "      <th>total_sales</th>\n",
       "      <td>0.28</td>\n",
       "      <td>-0.00</td>\n",
       "      <td>1.00</td>\n",
       "    </tr>\n",
       "  </tbody>\n",
       "</table>\n",
       "</div>"
      ],
      "text/plain": [
       "              critic_score  user_score  total_sales\n",
       "critic_score          1.00        0.48         0.28\n",
       "user_score            0.48        1.00        -0.00\n",
       "total_sales           0.28       -0.00         1.00"
      ]
     },
     "execution_count": 35,
     "metadata": {},
     "output_type": "execute_result"
    }
   ],
   "source": [
    "# calc correlations among scores and sales for \"PS4\"\n",
    "\n",
    "df_a.query('platform != \"PS4\"')[['critic_score', 'user_score', 'total_sales']].corr()"
   ]
  },
  {
   "cell_type": "code",
   "execution_count": 36,
   "id": "b26db237",
   "metadata": {
    "scrolled": true
   },
   "outputs": [
    {
     "data": {
      "text/plain": [
       "<AxesSubplot:title={'center':'Total sales vs Critic score for other platforms'}, xlabel='critic_score', ylabel='total_sales'>"
      ]
     },
     "execution_count": 36,
     "metadata": {},
     "output_type": "execute_result"
    },
    {
     "data": {
      "image/png": "[encoded data removed]",
      "text/plain": [
       "<Figure size 432x288 with 1 Axes>"
      ]
     },
     "metadata": {
      "needs_background": "light"
     },
     "output_type": "display_data"
    }
   ],
   "source": [
    "(\n",
    "    df_a\n",
    "    .query('platform != \"PS4\"')\n",
    "    .plot(kind='scatter', \n",
    "          x='critic_score', \n",
    "          y='total_sales', \n",
    "          alpha=0.3,\n",
    "          color='g',\n",
    "          title='Total sales vs Critic score for other platforms')\n",
    ")"
   ]
  },
  {
   "cell_type": "code",
   "execution_count": 37,
   "id": "2c219206",
   "metadata": {},
   "outputs": [
    {
     "data": {
      "text/plain": [
       "<AxesSubplot:title={'center':'Total sales vs User score for other platforms'}, xlabel='user_score', ylabel='total_sales'>"
      ]
     },
     "execution_count": 37,
     "metadata": {},
     "output_type": "execute_result"
    },
    {
     "data": {
      "image/png": "[encoded data removed]",
      "text/plain": [
       "<Figure size 432x288 with 1 Axes>"
      ]
     },
     "metadata": {
      "needs_background": "light"
     },
     "output_type": "display_data"
    }
   ],
   "source": [
    "(\n",
    "    df_a\n",
    "    .query('platform != \"PS4\"')\n",
    "    .plot(kind='scatter', \n",
    "          x='user_score', \n",
    "          y='total_sales', \n",
    "          alpha=0.3,\n",
    "          color='g',\n",
    "          title='Total sales vs User score for other platforms')\n",
    ")"
   ]
  },
  {
   "cell_type": "markdown",
   "id": "56d5ebdb",
   "metadata": {},
   "source": [
    "Findings:\n",
    "- Compared to \"PS4\" platform, other platforms' total sales show even weaker linear dependences with critics and users scores"
   ]
  },
  {
   "cell_type": "markdown",
   "id": "4541d297",
   "metadata": {},
   "source": [
    "### Genres\n"
   ]
  },
  {
   "cell_type": "code",
   "execution_count": 682,
   "id": "410f7701",
   "metadata": {},
   "outputs": [],
   "source": [
    "# group by genres\n",
    "\n",
    "genre_group = (\n",
    "    df_a\n",
    "    .groupby('genre')['total_sales']\n",
    "    .agg(['sum', 'count', 'mean'])\n",
    "    .sort_values(by='sum', ascending=False)\n",
    "    .reset_index()\n",
    "                )"
   ]
  },
  {
   "cell_type": "code",
   "execution_count": 685,
   "id": "541f1456",
   "metadata": {},
   "outputs": [
    {
     "data": {
      "text/plain": [
       "Text(0.5, 1.0, 'Total sales and average sales across genres')"
      ]
     },
     "execution_count": 685,
     "metadata": {},
     "output_type": "execute_result"
    },
    {
     "data": {
      "image/png": "[encoded data removed]",
      "text/plain": [
       "<Figure size 864x432 with 2 Axes>"
      ]
     },
     "metadata": {},
     "output_type": "display_data"
    }
   ],
   "source": [
    "ax1 = sns.set_style(style=None, rc=None )\n",
    "\n",
    "fig, ax1 = plt.subplots(figsize=(12,6))\n",
    "\n",
    "sns.barplot(data = genre_group, x='genre', y='sum', alpha=0.5, ax=ax1)\n",
    "ax2 = ax1.twinx()\n",
    "sns.lineplot(data = genre_group['mean'], marker='o', sort = False, ax=ax2)\n",
    "ax1.set_title('Total sales and average sales across genres')"
   ]
  },
  {
   "cell_type": "markdown",
   "id": "80850377",
   "metadata": {},
   "source": [
    "Findings:\n",
    "- The top genres by total sales are: Action, Shooter, Sports, Role-playing, and Misc\n",
    "- There should be more attention given to **Shooter** as it generates the highest sales per game"
   ]
  },
  {
   "cell_type": "markdown",
   "id": "d435decb",
   "metadata": {},
   "source": [
    "### Regional analysis\n"
   ]
  },
  {
   "cell_type": "markdown",
   "id": "64eb4adb",
   "metadata": {},
   "source": [
    "#### Platforms"
   ]
  },
  {
   "cell_type": "code",
   "execution_count": 691,
   "id": "d0374259",
   "metadata": {},
   "outputs": [
    {
     "data": {
      "text/plain": [
       "{'na_sales': platform\n",
       " PS4    108.74\n",
       " XOne    93.12\n",
       " X360    81.66\n",
       " PS3     63.50\n",
       " 3DS     38.20\n",
       " Name: na_sales, dtype: float64,\n",
       " 'eu_sales': platform\n",
       " PS4    141.09\n",
       " PS3     67.81\n",
       " XOne    51.59\n",
       " X360    42.52\n",
       " 3DS     30.96\n",
       " Name: eu_sales, dtype: float64,\n",
       " 'jp_sales': platform\n",
       " 3DS    67.81\n",
       " PS3    23.35\n",
       " PSV    18.59\n",
       " PS4    15.96\n",
       " WiiU   10.88\n",
       " Name: jp_sales, dtype: float64}"
      ]
     },
     "execution_count": 691,
     "metadata": {},
     "output_type": "execute_result"
    }
   ],
   "source": [
    "# getting 5 top platforms for each region\n",
    "\n",
    "top_5_platforms = {}\n",
    "\n",
    "for x in ['na_sales', 'eu_sales', 'jp_sales']:\n",
    "    top_5_platforms[x] = df_a.groupby('platform')[x].sum().sort_values(ascending=False).head(5)\n",
    "    \n",
    "top_5_platforms"
   ]
  },
  {
   "cell_type": "code",
   "execution_count": 706,
   "id": "7cbcba05",
   "metadata": {},
   "outputs": [
    {
     "data": {
      "image/png": "[encoded data removed]",
      "text/plain": [
       "<Figure size 1152x432 with 3 Axes>"
      ]
     },
     "metadata": {},
     "output_type": "display_data"
    }
   ],
   "source": [
    "# creating subplots to compare visually\n",
    "\n",
    "fig, (ax1, ax2, ax3) = plt.subplots(nrows=1, ncols=3, figsize=(16,6))\n",
    "fig.autofmt_xdate();\n",
    "\n",
    "i = 0\n",
    "x = [ax1, ax2, ax3]\n",
    "region = ['na_sales', 'eu_sales', 'jp_sales']\n",
    "\n",
    "for i in range(3):\n",
    "    labels = top_5_platforms[region[i]].index\n",
    "    values = top_5_platforms[region[i]].values\n",
    "    ax = x[i]\n",
    "    ax.set_title(f'Total sales in {region[i]}')\n",
    "    sns.barplot(x=labels, y=values, ax=ax)\n",
    "    ax.bar_label(ax.containers[0])\n",
    "    \n",
    "plt.show()"
   ]
  },
  {
   "cell_type": "markdown",
   "id": "8359b577",
   "metadata": {},
   "source": [
    "**Findings**:\n",
    "- PS4, XOne, and X360 are the biggest platforms in North America\n",
    "- PS4, PS3 (suprisingly), and XOne are the biggest platforms in Europe\n",
    "- Japan game sales differ significantly from North America and Europe\n",
    "- 3DS (having almost half of top 5 sales), PS3, and PSV are the biggest platforms in Japan"
   ]
  },
  {
   "cell_type": "markdown",
   "id": "353e7555",
   "metadata": {},
   "source": [
    "#### Genres"
   ]
  },
  {
   "cell_type": "code",
   "execution_count": 708,
   "id": "23a4c83a",
   "metadata": {},
   "outputs": [
    {
     "data": {
      "text/plain": [
       "{'na_sales': genre\n",
       " Action         126.05\n",
       " Shooter        109.74\n",
       " Sports          65.27\n",
       " Role-Playing    46.40\n",
       " Misc            27.49\n",
       " Name: na_sales, dtype: float64,\n",
       " 'eu_sales': genre\n",
       " Action         118.13\n",
       " Shooter         87.86\n",
       " Sports          60.52\n",
       " Role-Playing    36.97\n",
       " Racing          20.19\n",
       " Name: eu_sales, dtype: float64,\n",
       " 'jp_sales': genre\n",
       " Role-Playing   51.04\n",
       " Action         40.49\n",
       " Misc            9.20\n",
       " Fighting        7.65\n",
       " Shooter         6.61\n",
       " Name: jp_sales, dtype: float64}"
      ]
     },
     "execution_count": 708,
     "metadata": {},
     "output_type": "execute_result"
    }
   ],
   "source": [
    "# getting 5 top genres for each region\n",
    "\n",
    "top_5_genres = {}\n",
    "\n",
    "for x in ['na_sales', 'eu_sales', 'jp_sales']:\n",
    "    top_5_genres[x] = df_a.groupby('genre')[x].sum().sort_values(ascending=False).head(5)\n",
    "    \n",
    "top_5_genres"
   ]
  },
  {
   "cell_type": "code",
   "execution_count": 709,
   "id": "8eeef00e",
   "metadata": {},
   "outputs": [
    {
     "data": {
      "image/png": "[encoded data removed]",
      "text/plain": [
       "<Figure size 1152x432 with 3 Axes>"
      ]
     },
     "metadata": {},
     "output_type": "display_data"
    }
   ],
   "source": [
    "# creating subplots to compare visually\n",
    "\n",
    "fig, (ax1, ax2, ax3) = plt.subplots(nrows=1, ncols=3, figsize=(16,6))\n",
    "fig.autofmt_xdate();\n",
    "\n",
    "i = 0\n",
    "x = [ax1, ax2, ax3]\n",
    "region = ['na_sales', 'eu_sales', 'jp_sales']\n",
    "\n",
    "for i in range(3):\n",
    "    labels = top_5_genres[region[i]].index\n",
    "    values = top_5_genres[region[i]].values\n",
    "    ax = x[i]\n",
    "    ax.set_title(f'Total sales in {region[i]}')\n",
    "    sns.barplot(x=labels, y=values, ax=ax)\n",
    "    ax.bar_label(ax.containers[0])\n",
    "    \n",
    "plt.show()"
   ]
  },
  {
   "cell_type": "markdown",
   "id": "22e3c13a",
   "metadata": {},
   "source": [
    "**Findings**:\n",
    "\n",
    "- Action, Shooter, and Sports are the most sold genres in North America\n",
    "- The same is in Europe as in North America\n",
    "- Role-playing and Action are way the most sold genres in Japan"
   ]
  },
  {
   "cell_type": "markdown",
   "id": "bf3b34c7",
   "metadata": {},
   "source": [
    "#### ESRB Rating"
   ]
  },
  {
   "cell_type": "code",
   "execution_count": 710,
   "id": "c4bff465",
   "metadata": {},
   "outputs": [
    {
     "data": {
      "text/plain": [
       "{'na_sales': rating\n",
       " M         165.21\n",
       " no_esrb    89.42\n",
       " E          79.05\n",
       " E10+       54.24\n",
       " T          49.79\n",
       " Name: na_sales, dtype: float64,\n",
       " 'eu_sales': rating\n",
       " M         145.32\n",
       " E          83.36\n",
       " no_esrb    78.91\n",
       " E10+       42.69\n",
       " T          41.95\n",
       " Name: eu_sales, dtype: float64,\n",
       " 'jp_sales': rating\n",
       " no_esrb   85.05\n",
       " T         20.59\n",
       " E         15.14\n",
       " M         14.11\n",
       " E10+       5.89\n",
       " Name: jp_sales, dtype: float64}"
      ]
     },
     "execution_count": 710,
     "metadata": {},
     "output_type": "execute_result"
    }
   ],
   "source": [
    "# getting 5 top ratings for each region\n",
    "\n",
    "top_5_ratings = {}\n",
    "\n",
    "for x in ['na_sales', 'eu_sales', 'jp_sales']:\n",
    "    top_5_ratings[x] = df_a.groupby('rating')[x].sum().sort_values(ascending=False).head(5)\n",
    "    \n",
    "top_5_ratings"
   ]
  },
  {
   "cell_type": "code",
   "execution_count": 711,
   "id": "bc1128ee",
   "metadata": {},
   "outputs": [
    {
     "data": {
      "image/png": "[encoded data removed]",
      "text/plain": [
       "<Figure size 1152x432 with 3 Axes>"
      ]
     },
     "metadata": {},
     "output_type": "display_data"
    }
   ],
   "source": [
    "# creating subplots to compare visually\n",
    "\n",
    "fig, (ax1, ax2, ax3) = plt.subplots(nrows=1, ncols=3, figsize=(16,6))\n",
    "fig.autofmt_xdate();\n",
    "\n",
    "i = 0\n",
    "x = [ax1, ax2, ax3]\n",
    "region = ['na_sales', 'eu_sales', 'jp_sales']\n",
    "\n",
    "for i in range(3):\n",
    "    labels = top_5_ratings[region[i]].index\n",
    "    values = top_5_ratings[region[i]].values\n",
    "    ax = x[i]\n",
    "    ax.set_title(f'Total sales in {region[i]}')\n",
    "    sns.barplot(x=labels, y=values, ax=ax)\n",
    "    ax.bar_label(ax.containers[0])\n",
    "    \n",
    "plt.show()"
   ]
  },
  {
   "cell_type": "markdown",
   "id": "65034382",
   "metadata": {},
   "source": [
    "**Findings**:\n",
    "- The biggest sales are in \"M\" category of ESRB rating, having more than 1/3 of all the sales\n",
    "\n",
    "- The biggest sales are in \"M\" category of ESRB rating, having more than 1/3 of all the sales\n",
    "\n",
    "- The biggest sales do not have ESRB rating at all as seems this rating was mostly focused on American and European markets"
   ]
  },
  {
   "cell_type": "markdown",
   "id": "b09dce73",
   "metadata": {
    "id": "Ml1hmfXC_Zcs"
   },
   "source": [
    "## Hypothesis testing"
   ]
  },
  {
   "cell_type": "markdown",
   "id": "dee2a149",
   "metadata": {},
   "source": [
    "**1) Average user rating on PC and XOne platforms:**\n",
    "- H0: Average user rating on PC platform = average user rating on XOne platform\n",
    "- H1: Average user rating on PC platform != average user rating on XOne platform"
   ]
  },
  {
   "cell_type": "markdown",
   "id": "60580823",
   "metadata": {},
   "source": [
    "The samples are independent, so we take the t-test for independent variables."
   ]
  },
  {
   "cell_type": "code",
   "execution_count": 51,
   "id": "b0cf9369",
   "metadata": {},
   "outputs": [],
   "source": [
    "# we get the samples with the ratings for both platforms\n",
    "\n",
    "df_pc = df_a[df_a['user_score'].notna()].query('platform == \"PC\"')['user_score']\n",
    "df_xone = df_a[df_a['user_score'].notna()].query('platform == \"XOne\"')['user_score']"
   ]
  },
  {
   "cell_type": "code",
   "execution_count": 52,
   "id": "b39ec8f4",
   "metadata": {},
   "outputs": [
    {
     "name": "stdout",
     "output_type": "stream",
     "text": [
      "p-value: 0.14760\n"
     ]
    }
   ],
   "source": [
    "# we do the t-test for ind\n",
    "\n",
    "results = st.ttest_ind(df_pc, df_xone, equal_var = False)\n",
    "print(f'p-value: {results.pvalue:.5f}')"
   ]
  },
  {
   "cell_type": "markdown",
   "id": "aadfc8c1",
   "metadata": {},
   "source": [
    "P-value for this t-test is around 15%, so independently on any confidence level choosen being 1% and 5% - the **H0 can not be rejected**.  \n",
    "\n",
    "We have no reason to believe that the average user ratings of on PC and XOne platforms are significantly different."
   ]
  },
  {
   "cell_type": "markdown",
   "id": "3cec4803",
   "metadata": {},
   "source": [
    "**2) Average user rating for Action and Sports genres:**\n",
    "- H0: Average user rating for Action genre = average user rating for Sport genre\n",
    "- H1: Average user rating for Action genre != average user rating for Sport genre"
   ]
  },
  {
   "cell_type": "markdown",
   "id": "84e63123",
   "metadata": {},
   "source": [
    "The samples are independent, so we take the t-test for independent variables."
   ]
  },
  {
   "cell_type": "code",
   "execution_count": 53,
   "id": "120fee74",
   "metadata": {},
   "outputs": [],
   "source": [
    "# we get the samples with the ratings for both genres\n",
    "\n",
    "df_action = df_a[df_a['user_score'].notna()].query('genre == \"Action\"')['user_score']\n",
    "df_sport = df_a[df_a['user_score'].notna()].query('genre == \"Sports\"')['user_score']"
   ]
  },
  {
   "cell_type": "code",
   "execution_count": 54,
   "id": "63862e81",
   "metadata": {},
   "outputs": [
    {
     "name": "stdout",
     "output_type": "stream",
     "text": [
      "p-value: 0.00000\n"
     ]
    }
   ],
   "source": [
    "# we do the t-test for ind\n",
    "\n",
    "results = st.ttest_ind(df_action, df_sport, equal_var = False)\n",
    "print(f'p-value: {results.pvalue:.5f}')"
   ]
  },
  {
   "cell_type": "markdown",
   "id": "63c7d30e",
   "metadata": {},
   "source": [
    "P-value for this t-test is tending to zero, so independently on any confidence level choosen being 1%, 5%, or any other % - the **H0 is rejected**.  \n",
    "\n",
    "We have no reason to believe that the average user ratings for Action and Sport genres are equal."
   ]
  },
  {
   "cell_type": "markdown",
   "id": "5bc9f7f1",
   "metadata": {},
   "source": [
    "## Results"
   ]
  },
  {
   "cell_type": "markdown",
   "id": "1838787d",
   "metadata": {},
   "source": [
    "- There are 4 big periods in sales in the data analysed: up to 1993, 1993-2000, 2000-2008, and since then to now\n",
    "- The average 'life' of the platform is around 8 years\n",
    "- For the actual analysis we took the timeframe since 2013\n",
    "- In the actual timeframe the world sales over all platforms are heading downwards which could probably be explained by strong growth of mobile platforms but this is out of the scope of this analysis\n",
    "- The prospective platforms are the ones that still generate the most sales: \"PS4\" and \"XOne\"\n",
    "- Total sales show stronger linear dependence with critics scores rather than with user scores\n",
    "- The top genres by total sales are: Action, Shooter, Sports, Role-playing, and Misc\n",
    "- There should be more attention given to Shooter genre as it generates the highest sales per game\n",
    "- Among regions, there are big differences over platforms, genres, and ratings; this is especially seen between Japan and America and Europe\n",
    "- Comparing average user ratings for PC and XOne platforms, we can not conclude that they are different on PC and XOne platforms (i.e. H0 is not rejected) as the t-test shows the statistically significant p-value\n",
    "- Comparing average user ratings for Action and Sports genres, we can not conclude that they are equal (i.e. H0 is rejected)"
   ]
  }
 ],
 "metadata": {
  "ExecuteTimeLog": [
   {
    "duration": 1559,
    "start_time": "2022-06-22T11:16:53.070Z"
   },
   {
    "duration": 129,
    "start_time": "2022-06-22T11:16:54.634Z"
   },
   {
    "duration": 4,
    "start_time": "2022-06-22T11:16:54.766Z"
   },
   {
    "duration": 41,
    "start_time": "2022-06-22T11:16:54.772Z"
   },
   {
    "duration": 24,
    "start_time": "2022-06-22T11:16:54.816Z"
   },
   {
    "duration": 52,
    "start_time": "2022-06-22T11:16:54.843Z"
   },
   {
    "duration": 231,
    "start_time": "2022-06-22T11:16:54.898Z"
   },
   {
    "duration": 4,
    "start_time": "2022-06-22T11:16:55.130Z"
   },
   {
    "duration": 16,
    "start_time": "2022-06-22T11:16:55.136Z"
   },
   {
    "duration": 23,
    "start_time": "2022-06-22T11:16:55.153Z"
   },
   {
    "duration": 5,
    "start_time": "2022-06-22T11:16:55.178Z"
   },
   {
    "duration": 6,
    "start_time": "2022-06-22T11:16:55.185Z"
   },
   {
    "duration": 6,
    "start_time": "2022-06-22T11:16:55.193Z"
   },
   {
    "duration": 5,
    "start_time": "2022-06-22T11:16:55.203Z"
   },
   {
    "duration": 48,
    "start_time": "2022-06-22T11:16:55.209Z"
   },
   {
    "duration": 12,
    "start_time": "2022-06-22T11:16:55.259Z"
   },
   {
    "duration": 8,
    "start_time": "2022-06-22T11:16:55.272Z"
   },
   {
    "duration": 12,
    "start_time": "2022-06-22T11:16:55.282Z"
   },
   {
    "duration": 190,
    "start_time": "2022-06-22T11:16:55.296Z"
   },
   {
    "duration": 3056,
    "start_time": "2022-06-22T11:16:55.488Z"
   },
   {
    "duration": 162,
    "start_time": "2022-06-22T11:16:58.546Z"
   },
   {
    "duration": 945,
    "start_time": "2022-06-22T11:16:58.710Z"
   },
   {
    "duration": 23,
    "start_time": "2022-06-22T11:16:59.660Z"
   },
   {
    "duration": 5,
    "start_time": "2022-06-22T11:16:59.684Z"
   },
   {
    "duration": 9,
    "start_time": "2022-06-22T11:16:59.692Z"
   },
   {
    "duration": 267,
    "start_time": "2022-06-22T11:16:59.703Z"
   },
   {
    "duration": 6,
    "start_time": "2022-06-22T11:16:59.980Z"
   },
   {
    "duration": 15,
    "start_time": "2022-06-22T11:16:59.989Z"
   },
   {
    "duration": 376,
    "start_time": "2022-06-22T11:17:00.006Z"
   },
   {
    "duration": 348,
    "start_time": "2022-06-22T11:17:00.384Z"
   },
   {
    "duration": 195,
    "start_time": "2022-06-22T11:17:00.735Z"
   },
   {
    "duration": 35,
    "start_time": "2022-06-22T11:17:00.933Z"
   },
   {
    "duration": 206,
    "start_time": "2022-06-22T11:17:00.970Z"
   },
   {
    "duration": 214,
    "start_time": "2022-06-22T11:17:01.179Z"
   },
   {
    "duration": 13,
    "start_time": "2022-06-22T11:17:01.395Z"
   },
   {
    "duration": 186,
    "start_time": "2022-06-22T11:17:01.410Z"
   },
   {
    "duration": 170,
    "start_time": "2022-06-22T11:17:01.598Z"
   },
   {
    "duration": 299,
    "start_time": "2022-06-22T11:17:01.770Z"
   },
   {
    "duration": 14,
    "start_time": "2022-06-22T11:17:02.072Z"
   },
   {
    "duration": 256,
    "start_time": "2022-06-22T11:17:02.089Z"
   },
   {
    "duration": 146,
    "start_time": "2022-06-22T11:17:02.353Z"
   },
   {
    "duration": 136,
    "start_time": "2022-06-22T11:17:02.501Z"
   },
   {
    "duration": 133,
    "start_time": "2022-06-22T11:17:02.639Z"
   },
   {
    "duration": 134,
    "start_time": "2022-06-22T11:17:02.774Z"
   },
   {
    "duration": 131,
    "start_time": "2022-06-22T11:17:02.909Z"
   },
   {
    "duration": 125,
    "start_time": "2022-06-22T11:17:03.042Z"
   },
   {
    "duration": 143,
    "start_time": "2022-06-22T11:17:03.169Z"
   },
   {
    "duration": 134,
    "start_time": "2022-06-22T11:17:03.313Z"
   },
   {
    "duration": 16,
    "start_time": "2022-06-22T11:17:03.453Z"
   },
   {
    "duration": 8,
    "start_time": "2022-06-22T11:17:03.472Z"
   },
   {
    "duration": 20,
    "start_time": "2022-06-22T11:17:03.482Z"
   },
   {
    "duration": 5,
    "start_time": "2022-06-22T11:17:03.504Z"
   },
   {
    "duration": 1239,
    "start_time": "2022-06-22T17:43:50.620Z"
   },
   {
    "duration": 92,
    "start_time": "2022-06-22T17:43:51.861Z"
   },
   {
    "duration": 3,
    "start_time": "2022-06-22T17:43:51.955Z"
   },
   {
    "duration": 26,
    "start_time": "2022-06-22T17:43:51.960Z"
   },
   {
    "duration": 18,
    "start_time": "2022-06-22T17:43:51.988Z"
   },
   {
    "duration": 17,
    "start_time": "2022-06-22T17:43:52.008Z"
   },
   {
    "duration": 193,
    "start_time": "2022-06-22T17:43:52.026Z"
   },
   {
    "duration": 4,
    "start_time": "2022-06-22T17:43:52.221Z"
   },
   {
    "duration": 26,
    "start_time": "2022-06-22T17:43:52.227Z"
   },
   {
    "duration": 24,
    "start_time": "2022-06-22T17:43:52.254Z"
   },
   {
    "duration": 14,
    "start_time": "2022-06-22T17:43:52.280Z"
   },
   {
    "duration": 22,
    "start_time": "2022-06-22T17:43:52.296Z"
   },
   {
    "duration": 31,
    "start_time": "2022-06-22T17:43:52.319Z"
   },
   {
    "duration": 21,
    "start_time": "2022-06-22T17:43:52.353Z"
   },
   {
    "duration": 30,
    "start_time": "2022-06-22T17:43:52.376Z"
   },
   {
    "duration": 31,
    "start_time": "2022-06-22T17:43:52.408Z"
   },
   {
    "duration": 18,
    "start_time": "2022-06-22T17:43:52.441Z"
   },
   {
    "duration": 24,
    "start_time": "2022-06-22T17:43:52.461Z"
   },
   {
    "duration": 158,
    "start_time": "2022-06-22T17:43:52.487Z"
   },
   {
    "duration": 2461,
    "start_time": "2022-06-22T17:43:52.647Z"
   },
   {
    "duration": 130,
    "start_time": "2022-06-22T17:43:55.109Z"
   },
   {
    "duration": 829,
    "start_time": "2022-06-22T17:43:55.241Z"
   },
   {
    "duration": 15,
    "start_time": "2022-06-22T17:43:56.072Z"
   },
   {
    "duration": 4,
    "start_time": "2022-06-22T17:43:56.089Z"
   },
   {
    "duration": 9,
    "start_time": "2022-06-22T17:43:56.095Z"
   },
   {
    "duration": 212,
    "start_time": "2022-06-22T17:43:56.106Z"
   },
   {
    "duration": 4,
    "start_time": "2022-06-22T17:43:56.320Z"
   },
   {
    "duration": 30,
    "start_time": "2022-06-22T17:43:56.325Z"
   },
   {
    "duration": 255,
    "start_time": "2022-06-22T17:43:56.357Z"
   },
   {
    "duration": 247,
    "start_time": "2022-06-22T17:43:56.613Z"
   },
   {
    "duration": 119,
    "start_time": "2022-06-22T17:43:56.861Z"
   },
   {
    "duration": 11,
    "start_time": "2022-06-22T17:43:56.981Z"
   },
   {
    "duration": 155,
    "start_time": "2022-06-22T17:43:56.994Z"
   },
   {
    "duration": 157,
    "start_time": "2022-06-22T17:43:57.150Z"
   },
   {
    "duration": 12,
    "start_time": "2022-06-22T17:43:57.309Z"
   },
   {
    "duration": 184,
    "start_time": "2022-06-22T17:43:57.324Z"
   },
   {
    "duration": 141,
    "start_time": "2022-06-22T17:43:57.510Z"
   },
   {
    "duration": 227,
    "start_time": "2022-06-22T17:43:57.652Z"
   },
   {
    "duration": 10,
    "start_time": "2022-06-22T17:43:57.880Z"
   },
   {
    "duration": 232,
    "start_time": "2022-06-22T17:43:57.891Z"
   },
   {
    "duration": 105,
    "start_time": "2022-06-22T17:43:58.126Z"
   },
   {
    "duration": 111,
    "start_time": "2022-06-22T17:43:58.233Z"
   },
   {
    "duration": 102,
    "start_time": "2022-06-22T17:43:58.345Z"
   },
   {
    "duration": 124,
    "start_time": "2022-06-22T17:43:58.448Z"
   },
   {
    "duration": 127,
    "start_time": "2022-06-22T17:43:58.573Z"
   },
   {
    "duration": 121,
    "start_time": "2022-06-22T17:43:58.702Z"
   },
   {
    "duration": 113,
    "start_time": "2022-06-22T17:43:58.825Z"
   },
   {
    "duration": 120,
    "start_time": "2022-06-22T17:43:58.940Z"
   },
   {
    "duration": 12,
    "start_time": "2022-06-22T17:43:59.062Z"
   },
   {
    "duration": 11,
    "start_time": "2022-06-22T17:43:59.075Z"
   },
   {
    "duration": 17,
    "start_time": "2022-06-22T17:43:59.088Z"
   },
   {
    "duration": 8,
    "start_time": "2022-06-22T17:43:59.107Z"
   },
   {
    "duration": 3,
    "start_time": "2022-06-22T18:02:08.640Z"
   },
   {
    "duration": 57,
    "start_time": "2022-06-22T18:02:08.645Z"
   },
   {
    "duration": 2,
    "start_time": "2022-06-22T18:02:08.704Z"
   },
   {
    "duration": 15,
    "start_time": "2022-06-22T18:02:08.708Z"
   },
   {
    "duration": 21,
    "start_time": "2022-06-22T18:02:08.725Z"
   },
   {
    "duration": 20,
    "start_time": "2022-06-22T18:02:08.748Z"
   },
   {
    "duration": 174,
    "start_time": "2022-06-22T18:02:08.770Z"
   },
   {
    "duration": 3,
    "start_time": "2022-06-22T18:02:08.946Z"
   },
   {
    "duration": 6,
    "start_time": "2022-06-22T18:02:08.958Z"
   },
   {
    "duration": 13,
    "start_time": "2022-06-22T18:02:08.965Z"
   },
   {
    "duration": 10,
    "start_time": "2022-06-22T18:02:08.979Z"
   },
   {
    "duration": 6,
    "start_time": "2022-06-22T18:02:08.991Z"
   },
   {
    "duration": 6,
    "start_time": "2022-06-22T18:02:08.998Z"
   },
   {
    "duration": 5,
    "start_time": "2022-06-22T18:02:09.007Z"
   },
   {
    "duration": 13,
    "start_time": "2022-06-22T18:02:09.013Z"
   },
   {
    "duration": 31,
    "start_time": "2022-06-22T18:02:09.028Z"
   },
   {
    "duration": 6,
    "start_time": "2022-06-22T18:02:09.060Z"
   },
   {
    "duration": 7,
    "start_time": "2022-06-22T18:02:09.067Z"
   },
   {
    "duration": 151,
    "start_time": "2022-06-22T18:02:09.076Z"
   },
   {
    "duration": 2517,
    "start_time": "2022-06-22T18:02:09.228Z"
   },
   {
    "duration": 298,
    "start_time": "2022-06-22T18:02:11.748Z"
   },
   {
    "duration": 650,
    "start_time": "2022-06-22T18:02:12.048Z"
   },
   {
    "duration": 16,
    "start_time": "2022-06-22T18:02:12.700Z"
   },
   {
    "duration": 17,
    "start_time": "2022-06-22T18:02:12.717Z"
   },
   {
    "duration": 33,
    "start_time": "2022-06-22T18:02:12.735Z"
   },
   {
    "duration": 215,
    "start_time": "2022-06-22T18:02:12.769Z"
   },
   {
    "duration": 4,
    "start_time": "2022-06-22T18:02:12.986Z"
   },
   {
    "duration": 13,
    "start_time": "2022-06-22T18:02:12.992Z"
   },
   {
    "duration": 294,
    "start_time": "2022-06-22T18:02:13.007Z"
   },
   {
    "duration": 254,
    "start_time": "2022-06-22T18:02:13.304Z"
   },
   {
    "duration": 260,
    "start_time": "2022-06-22T18:09:17.541Z"
   },
   {
    "duration": 210,
    "start_time": "2022-06-22T18:09:41.065Z"
   },
   {
    "duration": 206,
    "start_time": "2022-06-22T18:10:18.075Z"
   },
   {
    "duration": 180,
    "start_time": "2022-06-22T18:10:24.820Z"
   },
   {
    "duration": 212,
    "start_time": "2022-06-22T18:10:31.693Z"
   },
   {
    "duration": 200,
    "start_time": "2022-06-22T18:10:42.265Z"
   },
   {
    "duration": 98,
    "start_time": "2022-06-22T18:10:50.462Z"
   },
   {
    "duration": 182,
    "start_time": "2022-06-22T18:10:57.695Z"
   },
   {
    "duration": 1159,
    "start_time": "2022-06-24T10:21:43.538Z"
   },
   {
    "duration": 64,
    "start_time": "2022-06-24T10:21:44.699Z"
   },
   {
    "duration": 3,
    "start_time": "2022-06-24T10:21:44.765Z"
   },
   {
    "duration": 23,
    "start_time": "2022-06-24T10:21:44.771Z"
   },
   {
    "duration": 16,
    "start_time": "2022-06-24T10:21:44.795Z"
   },
   {
    "duration": 14,
    "start_time": "2022-06-24T10:21:44.813Z"
   },
   {
    "duration": 241,
    "start_time": "2022-06-24T10:21:44.829Z"
   },
   {
    "duration": 4,
    "start_time": "2022-06-24T10:21:45.072Z"
   },
   {
    "duration": 16,
    "start_time": "2022-06-24T10:21:45.078Z"
   },
   {
    "duration": 15,
    "start_time": "2022-06-24T10:21:45.096Z"
   },
   {
    "duration": 7,
    "start_time": "2022-06-24T10:21:45.113Z"
   },
   {
    "duration": 8,
    "start_time": "2022-06-24T10:21:45.122Z"
   },
   {
    "duration": 9,
    "start_time": "2022-06-24T10:21:45.131Z"
   },
   {
    "duration": 8,
    "start_time": "2022-06-24T10:21:45.142Z"
   },
   {
    "duration": 32,
    "start_time": "2022-06-24T10:21:45.152Z"
   },
   {
    "duration": 8,
    "start_time": "2022-06-24T10:21:45.187Z"
   },
   {
    "duration": 9,
    "start_time": "2022-06-24T10:21:45.197Z"
   },
   {
    "duration": 7,
    "start_time": "2022-06-24T10:21:45.207Z"
   },
   {
    "duration": 208,
    "start_time": "2022-06-24T10:21:45.216Z"
   },
   {
    "duration": 2812,
    "start_time": "2022-06-24T10:21:45.426Z"
   },
   {
    "duration": 140,
    "start_time": "2022-06-24T10:21:48.239Z"
   },
   {
    "duration": 847,
    "start_time": "2022-06-24T10:21:48.380Z"
   },
   {
    "duration": 37,
    "start_time": "2022-06-24T10:21:49.228Z"
   },
   {
    "duration": 6,
    "start_time": "2022-06-24T10:21:49.267Z"
   },
   {
    "duration": 12,
    "start_time": "2022-06-24T10:21:49.275Z"
   },
   {
    "duration": 207,
    "start_time": "2022-06-24T10:21:49.289Z"
   },
   {
    "duration": 4,
    "start_time": "2022-06-24T10:21:49.498Z"
   },
   {
    "duration": 7,
    "start_time": "2022-06-24T10:21:49.505Z"
   },
   {
    "duration": 293,
    "start_time": "2022-06-24T10:21:49.513Z"
   },
   {
    "duration": 288,
    "start_time": "2022-06-24T10:21:49.807Z"
   },
   {
    "duration": 145,
    "start_time": "2022-06-24T10:21:50.097Z"
   },
   {
    "duration": 22,
    "start_time": "2022-06-24T10:21:50.244Z"
   },
   {
    "duration": 176,
    "start_time": "2022-06-24T10:21:50.267Z"
   },
   {
    "duration": 172,
    "start_time": "2022-06-24T10:21:50.445Z"
   },
   {
    "duration": 12,
    "start_time": "2022-06-24T10:21:50.618Z"
   },
   {
    "duration": 159,
    "start_time": "2022-06-24T10:21:50.632Z"
   },
   {
    "duration": 150,
    "start_time": "2022-06-24T10:21:50.793Z"
   },
   {
    "duration": 276,
    "start_time": "2022-06-24T10:21:50.945Z"
   },
   {
    "duration": 20,
    "start_time": "2022-06-24T10:21:51.223Z"
   },
   {
    "duration": 39,
    "start_time": "2022-06-24T10:21:51.254Z"
   },
   {
    "duration": 336,
    "start_time": "2022-06-24T10:23:23.950Z"
   },
   {
    "duration": 80,
    "start_time": "2022-06-24T10:24:10.865Z"
   },
   {
    "duration": 104,
    "start_time": "2022-06-24T10:25:17.041Z"
   },
   {
    "duration": 10,
    "start_time": "2022-06-24T10:25:29.910Z"
   },
   {
    "duration": 22,
    "start_time": "2022-06-24T10:25:37.998Z"
   },
   {
    "duration": 4,
    "start_time": "2022-06-24T10:25:56.034Z"
   },
   {
    "duration": 18,
    "start_time": "2022-06-24T10:26:04.896Z"
   },
   {
    "duration": 10,
    "start_time": "2022-06-24T10:26:13.590Z"
   },
   {
    "duration": 14,
    "start_time": "2022-06-24T10:26:24.666Z"
   },
   {
    "duration": 11,
    "start_time": "2022-06-24T10:26:48.395Z"
   },
   {
    "duration": 350,
    "start_time": "2022-06-24T10:26:52.554Z"
   },
   {
    "duration": 261,
    "start_time": "2022-06-24T10:27:00.686Z"
   },
   {
    "duration": 274,
    "start_time": "2022-06-24T10:27:27.232Z"
   },
   {
    "duration": 251,
    "start_time": "2022-06-24T10:27:31.485Z"
   },
   {
    "duration": 267,
    "start_time": "2022-06-24T10:27:37.214Z"
   },
   {
    "duration": 243,
    "start_time": "2022-06-24T10:27:41.165Z"
   },
   {
    "duration": 17,
    "start_time": "2022-06-24T10:28:49.908Z"
   },
   {
    "duration": 25,
    "start_time": "2022-06-24T10:28:55.446Z"
   },
   {
    "duration": 13,
    "start_time": "2022-06-24T10:29:09.400Z"
   },
   {
    "duration": 253,
    "start_time": "2022-06-24T10:29:36.332Z"
   },
   {
    "duration": 23,
    "start_time": "2022-06-24T10:29:52.886Z"
   },
   {
    "duration": 6,
    "start_time": "2022-06-24T10:30:41.094Z"
   },
   {
    "duration": 283,
    "start_time": "2022-06-24T10:30:52.346Z"
   },
   {
    "duration": 299,
    "start_time": "2022-06-24T10:31:08.092Z"
   },
   {
    "duration": 261,
    "start_time": "2022-06-24T10:31:18.018Z"
   },
   {
    "duration": 276,
    "start_time": "2022-06-24T10:31:32.378Z"
   },
   {
    "duration": 238,
    "start_time": "2022-06-24T10:31:37.812Z"
   },
   {
    "duration": 285,
    "start_time": "2022-06-24T10:31:45.554Z"
   },
   {
    "duration": 13,
    "start_time": "2022-06-24T10:34:29.738Z"
   },
   {
    "duration": 20,
    "start_time": "2022-06-24T10:34:48.191Z"
   },
   {
    "duration": 243,
    "start_time": "2022-06-24T10:34:56.895Z"
   }
  ],
  "kernelspec": {
   "display_name": "Python 3 (ipykernel)",
   "language": "python",
   "name": "python3"
  },
  "language_info": {
   "codemirror_mode": {
    "name": "ipython",
    "version": 3
   },
   "file_extension": ".py",
   "mimetype": "text/x-python",
   "name": "python",
   "nbconvert_exporter": "python",
   "pygments_lexer": "ipython3",
   "version": "3.9.7"
  },
  "toc": {
   "base_numbering": 1,
   "nav_menu": {},
   "number_sections": true,
   "sideBar": true,
   "skip_h1_title": true,
   "title_cell": "Table of Contents",
   "title_sidebar": "Contents",
   "toc_cell": false,
   "toc_position": {},
   "toc_section_display": true,
   "toc_window_display": true
  }
 },
 "nbformat": 4,
 "nbformat_minor": 5
}
