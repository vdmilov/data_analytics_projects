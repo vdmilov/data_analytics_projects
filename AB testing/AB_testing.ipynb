{
 "cells": [
  {
   "cell_type": "markdown",
   "metadata": {
    "datalore": {
     "hide_input_from_viewers": false,
     "hide_output_from_viewers": false,
     "node_id": "3CM78RmB4bBrCkNJobPINO",
     "type": "MD"
    }
   },
   "source": [
    "# A/B testing"
   ]
  },
  {
   "cell_type": "markdown",
   "metadata": {
    "datalore": {
     "hide_input_from_viewers": false,
     "hide_output_from_viewers": false,
     "node_id": "WkpxJnZH4T8Wiyu2u29F4N",
     "type": "MD"
    }
   },
   "source": [
    "## Scope of the project\n",
    "\n",
    "**The goal**:\n",
    "- Analyse the results of A/B tests\n",
    "\n",
    "**Input data**: \n",
    "- We are analysts in the large e-commerce company\n",
    "- We have data for visitors and orders from A/B tests\n",
    "\n",
    "**Analysis structure**:\n",
    "* Data overview\n",
    "* Data preparation\n",
    "* A/B tests interpretation"
   ]
  },
  {
   "cell_type": "markdown",
   "metadata": {
    "datalore": {
     "hide_input_from_viewers": false,
     "hide_output_from_viewers": false,
     "node_id": "dMh7WPNJWi5LbkPTmEnuvG",
     "type": "MD"
    }
   },
   "source": [
    "## Data overview"
   ]
  },
  {
   "cell_type": "code",
   "execution_count": 1,
   "metadata": {
    "datalore": {
     "hide_input_from_viewers": false,
     "hide_output_from_viewers": false,
     "node_id": "CJaJGnwPWDBfAAkiQ1k0oh",
     "type": "CODE"
    }
   },
   "outputs": [],
   "source": [
    "import pandas as pd\n",
    "import numpy as np\n",
    "from matplotlib import pyplot as plt\n",
    "import seaborn as sns\n",
    "from datetime import datetime, timedelta\n",
    "import scipy "
   ]
  },
  {
   "cell_type": "code",
   "execution_count": 2,
   "metadata": {
    "datalore": {
     "hide_input_from_viewers": false,
     "hide_output_from_viewers": false,
     "node_id": "UOKuEOfuuCFMD5CJBtEXUt",
     "type": "CODE"
    }
   },
   "outputs": [],
   "source": [
    "# set floats formats (in order not to see scientific notation) and df columns width\n",
    "\n",
    "pd.options.display.float_format = '{:.2f}'.format\n",
    "\n",
    "pd.options.display.max_colwidth = 210"
   ]
  },
  {
   "cell_type": "code",
   "execution_count": 3,
   "metadata": {
    "datalore": {
     "hide_input_from_viewers": false,
     "hide_output_from_viewers": false,
     "node_id": "T3gPMSkYO2tfPfsQwwQjVD",
     "type": "CODE"
    }
   },
   "outputs": [],
   "source": [
    "# upload data\n",
    "\n",
    "try:\n",
    "    orders = pd.read_csv('/datasets/orders.csv')\n",
    "    visitors = pd.read_csv('/datasets/visitors.csv')\n",
    "except:\n",
    "    orders = pd.read_csv('orders.csv')\n",
    "    visitors = pd.read_csv('visitors.csv')"
   ]
  },
  {
   "cell_type": "code",
   "execution_count": 4,
   "metadata": {
    "datalore": {
     "hide_input_from_viewers": false,
     "hide_output_from_viewers": false,
     "node_id": "XRErVtmcu3BOUcFmRe1JAw",
     "type": "CODE"
    }
   },
   "outputs": [
    {
     "data": {
      "text/html": [
       "<div><div id=a7ffaebf-5ece-423b-bd21-dc00e52dab7d style=\"display:none; background-color:#9D6CFF; color:white; width:200px; height:30px; padding-left:5px; border-radius:4px; flex-direction:row; justify-content:space-around; align-items:center;\" onmouseover=\"this.style.backgroundColor='#BA9BF8'\" onmouseout=\"this.style.backgroundColor='#9D6CFF'\" onclick=\"window.commands?.execute('create-mitosheet-from-dataframe-output');\">See Full Dataframe in Mito</div> <script> if (window.commands?.hasCommand('create-mitosheet-from-dataframe-output')) document.getElementById('a7ffaebf-5ece-423b-bd21-dc00e52dab7d').style.display = 'flex' </script> <table border=\"1\" class=\"dataframe\">\n",
       "  <thead>\n",
       "    <tr style=\"text-align: right;\">\n",
       "      <th></th>\n",
       "      <th>transactionId</th>\n",
       "      <th>visitorId</th>\n",
       "      <th>date</th>\n",
       "      <th>revenue</th>\n",
       "      <th>group</th>\n",
       "    </tr>\n",
       "  </thead>\n",
       "  <tbody>\n",
       "    <tr>\n",
       "      <th>0</th>\n",
       "      <td>3667963787</td>\n",
       "      <td>3312258926</td>\n",
       "      <td>2019-08-15</td>\n",
       "      <td>1650</td>\n",
       "      <td>B</td>\n",
       "    </tr>\n",
       "    <tr>\n",
       "      <th>1</th>\n",
       "      <td>2804400009</td>\n",
       "      <td>3642806036</td>\n",
       "      <td>2019-08-15</td>\n",
       "      <td>730</td>\n",
       "      <td>B</td>\n",
       "    </tr>\n",
       "    <tr>\n",
       "      <th>2</th>\n",
       "      <td>2961555356</td>\n",
       "      <td>4069496402</td>\n",
       "      <td>2019-08-15</td>\n",
       "      <td>400</td>\n",
       "      <td>A</td>\n",
       "    </tr>\n",
       "    <tr>\n",
       "      <th>3</th>\n",
       "      <td>3797467345</td>\n",
       "      <td>1196621759</td>\n",
       "      <td>2019-08-15</td>\n",
       "      <td>9759</td>\n",
       "      <td>B</td>\n",
       "    </tr>\n",
       "    <tr>\n",
       "      <th>4</th>\n",
       "      <td>2282983706</td>\n",
       "      <td>2322279887</td>\n",
       "      <td>2019-08-15</td>\n",
       "      <td>2308</td>\n",
       "      <td>B</td>\n",
       "    </tr>\n",
       "  </tbody>\n",
       "</table></div>"
      ],
      "text/plain": [
       "   transactionId   visitorId        date  revenue group\n",
       "0     3667963787  3312258926  2019-08-15     1650     B\n",
       "1     2804400009  3642806036  2019-08-15      730     B\n",
       "2     2961555356  4069496402  2019-08-15      400     A\n",
       "3     3797467345  1196621759  2019-08-15     9759     B\n",
       "4     2282983706  2322279887  2019-08-15     2308     B"
      ]
     },
     "execution_count": 4,
     "metadata": {},
     "output_type": "execute_result"
    }
   ],
   "source": [
    "orders.head(5)"
   ]
  },
  {
   "cell_type": "code",
   "execution_count": 5,
   "metadata": {
    "datalore": {
     "hide_input_from_viewers": false,
     "hide_output_from_viewers": false,
     "node_id": "2tYldQmcHW6o4YQyx6iSyD",
     "type": "CODE"
    }
   },
   "outputs": [],
   "source": [
    "orders = orders.rename(columns={'transactionId': 'transaction_id', 'visitorId': 'visitor_id'})"
   ]
  },
  {
   "cell_type": "code",
   "execution_count": 6,
   "metadata": {
    "datalore": {
     "hide_input_from_viewers": false,
     "hide_output_from_viewers": false,
     "node_id": "cRfuUh6SQyjlHBvAbYu7jq",
     "type": "CODE"
    }
   },
   "outputs": [
    {
     "name": "stdout",
     "output_type": "stream",
     "text": [
      "<class 'pandas.core.frame.DataFrame'>\n",
      "RangeIndex: 1197 entries, 0 to 1196\n",
      "Data columns (total 5 columns):\n",
      " #   Column          Non-Null Count  Dtype \n",
      "---  ------          --------------  ----- \n",
      " 0   transaction_id  1197 non-null   int64 \n",
      " 1   visitor_id      1197 non-null   int64 \n",
      " 2   date            1197 non-null   object\n",
      " 3   revenue         1197 non-null   int64 \n",
      " 4   group           1197 non-null   object\n",
      "dtypes: int64(3), object(2)\n",
      "memory usage: 46.9+ KB\n"
     ]
    }
   ],
   "source": [
    "orders.info()"
   ]
  },
  {
   "cell_type": "code",
   "execution_count": 7,
   "metadata": {
    "datalore": {
     "hide_input_from_viewers": false,
     "hide_output_from_viewers": false,
     "node_id": "imrRTAY45xbfhu9k7XvoK6",
     "type": "CODE"
    }
   },
   "outputs": [],
   "source": [
    "orders['date'] = pd.to_datetime(orders['date'])"
   ]
  },
  {
   "cell_type": "code",
   "execution_count": 8,
   "metadata": {
    "datalore": {
     "hide_input_from_viewers": false,
     "hide_output_from_viewers": false,
     "node_id": "u64WhJf963obLdVgW4VZ2c",
     "type": "CODE"
    }
   },
   "outputs": [
    {
     "data": {
      "text/html": [
       "<div><div id=36f4756b-d6d6-49fc-a829-05c32ead947c style=\"display:none; background-color:#9D6CFF; color:white; width:200px; height:30px; padding-left:5px; border-radius:4px; flex-direction:row; justify-content:space-around; align-items:center;\" onmouseover=\"this.style.backgroundColor='#BA9BF8'\" onmouseout=\"this.style.backgroundColor='#9D6CFF'\" onclick=\"window.commands?.execute('create-mitosheet-from-dataframe-output');\">See Full Dataframe in Mito</div> <script> if (window.commands?.hasCommand('create-mitosheet-from-dataframe-output')) document.getElementById('36f4756b-d6d6-49fc-a829-05c32ead947c').style.display = 'flex' </script> <table border=\"1\" class=\"dataframe\">\n",
       "  <thead>\n",
       "    <tr style=\"text-align: right;\">\n",
       "      <th></th>\n",
       "      <th>date</th>\n",
       "      <th>group</th>\n",
       "      <th>visitors</th>\n",
       "    </tr>\n",
       "  </thead>\n",
       "  <tbody>\n",
       "    <tr>\n",
       "      <th>0</th>\n",
       "      <td>2019-08-01</td>\n",
       "      <td>A</td>\n",
       "      <td>719</td>\n",
       "    </tr>\n",
       "    <tr>\n",
       "      <th>1</th>\n",
       "      <td>2019-08-02</td>\n",
       "      <td>A</td>\n",
       "      <td>619</td>\n",
       "    </tr>\n",
       "    <tr>\n",
       "      <th>2</th>\n",
       "      <td>2019-08-03</td>\n",
       "      <td>A</td>\n",
       "      <td>507</td>\n",
       "    </tr>\n",
       "    <tr>\n",
       "      <th>3</th>\n",
       "      <td>2019-08-04</td>\n",
       "      <td>A</td>\n",
       "      <td>717</td>\n",
       "    </tr>\n",
       "    <tr>\n",
       "      <th>4</th>\n",
       "      <td>2019-08-05</td>\n",
       "      <td>A</td>\n",
       "      <td>756</td>\n",
       "    </tr>\n",
       "  </tbody>\n",
       "</table></div>"
      ],
      "text/plain": [
       "         date group  visitors\n",
       "0  2019-08-01     A       719\n",
       "1  2019-08-02     A       619\n",
       "2  2019-08-03     A       507\n",
       "3  2019-08-04     A       717\n",
       "4  2019-08-05     A       756"
      ]
     },
     "execution_count": 8,
     "metadata": {},
     "output_type": "execute_result"
    }
   ],
   "source": [
    "visitors.head(5)"
   ]
  },
  {
   "cell_type": "code",
   "execution_count": 9,
   "metadata": {
    "datalore": {
     "hide_input_from_viewers": false,
     "hide_output_from_viewers": false,
     "node_id": "goqC1FZxKpVRTDFNbfaCcl",
     "type": "CODE"
    }
   },
   "outputs": [
    {
     "name": "stdout",
     "output_type": "stream",
     "text": [
      "<class 'pandas.core.frame.DataFrame'>\n",
      "RangeIndex: 62 entries, 0 to 61\n",
      "Data columns (total 3 columns):\n",
      " #   Column    Non-Null Count  Dtype \n",
      "---  ------    --------------  ----- \n",
      " 0   date      62 non-null     object\n",
      " 1   group     62 non-null     object\n",
      " 2   visitors  62 non-null     int64 \n",
      "dtypes: int64(1), object(2)\n",
      "memory usage: 1.6+ KB\n"
     ]
    }
   ],
   "source": [
    "visitors.info()"
   ]
  },
  {
   "cell_type": "code",
   "execution_count": 10,
   "metadata": {
    "datalore": {
     "hide_input_from_viewers": false,
     "hide_output_from_viewers": false,
     "node_id": "8hWyjRyCek8sHxsxrToHsP",
     "type": "CODE"
    }
   },
   "outputs": [],
   "source": [
    "visitors['date'] = pd.to_datetime(visitors['date'])"
   ]
  },
  {
   "cell_type": "markdown",
   "metadata": {},
   "source": [
    "## Data preparation"
   ]
  },
  {
   "cell_type": "code",
   "execution_count": 11,
   "metadata": {},
   "outputs": [
    {
     "data": {
      "text/plain": [
       "0"
      ]
     },
     "execution_count": 11,
     "metadata": {},
     "output_type": "execute_result"
    }
   ],
   "source": [
    "# general check for duplicates\n",
    "\n",
    "orders.duplicated().sum()"
   ]
  },
  {
   "cell_type": "code",
   "execution_count": 12,
   "metadata": {},
   "outputs": [
    {
     "data": {
      "text/html": [
       "<div><div id=8c28d698-f9df-47d3-95f4-c43bf3b86018 style=\"display:none; background-color:#9D6CFF; color:white; width:200px; height:30px; padding-left:5px; border-radius:4px; flex-direction:row; justify-content:space-around; align-items:center;\" onmouseover=\"this.style.backgroundColor='#BA9BF8'\" onmouseout=\"this.style.backgroundColor='#9D6CFF'\" onclick=\"window.commands?.execute('create-mitosheet-from-dataframe-output');\">See Full Dataframe in Mito</div> <script> if (window.commands?.hasCommand('create-mitosheet-from-dataframe-output')) document.getElementById('8c28d698-f9df-47d3-95f4-c43bf3b86018').style.display = 'flex' </script> <table border=\"1\" class=\"dataframe\">\n",
       "  <thead>\n",
       "    <tr style=\"text-align: right;\">\n",
       "      <th></th>\n",
       "      <th>transaction_id</th>\n",
       "      <th>visitor_id</th>\n",
       "      <th>date</th>\n",
       "      <th>revenue</th>\n",
       "      <th>group</th>\n",
       "    </tr>\n",
       "  </thead>\n",
       "  <tbody>\n",
       "    <tr>\n",
       "      <th>0</th>\n",
       "      <td>3667963787</td>\n",
       "      <td>3312258926</td>\n",
       "      <td>2019-08-15</td>\n",
       "      <td>1650</td>\n",
       "      <td>B</td>\n",
       "    </tr>\n",
       "    <tr>\n",
       "      <th>1</th>\n",
       "      <td>2804400009</td>\n",
       "      <td>3642806036</td>\n",
       "      <td>2019-08-15</td>\n",
       "      <td>730</td>\n",
       "      <td>B</td>\n",
       "    </tr>\n",
       "    <tr>\n",
       "      <th>2</th>\n",
       "      <td>2961555356</td>\n",
       "      <td>4069496402</td>\n",
       "      <td>2019-08-15</td>\n",
       "      <td>400</td>\n",
       "      <td>A</td>\n",
       "    </tr>\n",
       "    <tr>\n",
       "      <th>3</th>\n",
       "      <td>3797467345</td>\n",
       "      <td>1196621759</td>\n",
       "      <td>2019-08-15</td>\n",
       "      <td>9759</td>\n",
       "      <td>B</td>\n",
       "    </tr>\n",
       "    <tr>\n",
       "      <th>4</th>\n",
       "      <td>2282983706</td>\n",
       "      <td>2322279887</td>\n",
       "      <td>2019-08-15</td>\n",
       "      <td>2308</td>\n",
       "      <td>B</td>\n",
       "    </tr>\n",
       "  </tbody>\n",
       "</table></div>"
      ],
      "text/plain": [
       "   transaction_id  visitor_id       date  revenue group\n",
       "0      3667963787  3312258926 2019-08-15     1650     B\n",
       "1      2804400009  3642806036 2019-08-15      730     B\n",
       "2      2961555356  4069496402 2019-08-15      400     A\n",
       "3      3797467345  1196621759 2019-08-15     9759     B\n",
       "4      2282983706  2322279887 2019-08-15     2308     B"
      ]
     },
     "execution_count": 12,
     "metadata": {},
     "output_type": "execute_result"
    }
   ],
   "source": [
    "orders.head()"
   ]
  },
  {
   "cell_type": "code",
   "execution_count": 13,
   "metadata": {},
   "outputs": [
    {
     "data": {
      "text/html": [
       "<div><div id=edbc957f-36d4-4794-ab67-bb57bfa96a51 style=\"display:none; background-color:#9D6CFF; color:white; width:200px; height:30px; padding-left:5px; border-radius:4px; flex-direction:row; justify-content:space-around; align-items:center;\" onmouseover=\"this.style.backgroundColor='#BA9BF8'\" onmouseout=\"this.style.backgroundColor='#9D6CFF'\" onclick=\"window.commands?.execute('create-mitosheet-from-dataframe-output');\">See Full Dataframe in Mito</div> <script> if (window.commands?.hasCommand('create-mitosheet-from-dataframe-output')) document.getElementById('edbc957f-36d4-4794-ab67-bb57bfa96a51').style.display = 'flex' </script> <table border=\"1\" class=\"dataframe\">\n",
       "  <thead>\n",
       "    <tr>\n",
       "      <th></th>\n",
       "      <th>visitor_id</th>\n",
       "      <th>transaction_id</th>\n",
       "      <th>revenue</th>\n",
       "      <th colspan=\"2\" halign=\"left\">date</th>\n",
       "    </tr>\n",
       "    <tr>\n",
       "      <th></th>\n",
       "      <th>nunique</th>\n",
       "      <th>nunique</th>\n",
       "      <th>sum</th>\n",
       "      <th>min</th>\n",
       "      <th>max</th>\n",
       "    </tr>\n",
       "    <tr>\n",
       "      <th>group</th>\n",
       "      <th></th>\n",
       "      <th></th>\n",
       "      <th></th>\n",
       "      <th></th>\n",
       "      <th></th>\n",
       "    </tr>\n",
       "  </thead>\n",
       "  <tbody>\n",
       "    <tr>\n",
       "      <th>A</th>\n",
       "      <td>503</td>\n",
       "      <td>557</td>\n",
       "      <td>4084803</td>\n",
       "      <td>2019-08-01</td>\n",
       "      <td>2019-08-31</td>\n",
       "    </tr>\n",
       "    <tr>\n",
       "      <th>B</th>\n",
       "      <td>586</td>\n",
       "      <td>640</td>\n",
       "      <td>5907760</td>\n",
       "      <td>2019-08-01</td>\n",
       "      <td>2019-08-31</td>\n",
       "    </tr>\n",
       "  </tbody>\n",
       "</table></div>"
      ],
      "text/plain": [
       "      visitor_id transaction_id  revenue       date           \n",
       "         nunique        nunique      sum        min        max\n",
       "group                                                         \n",
       "A            503            557  4084803 2019-08-01 2019-08-31\n",
       "B            586            640  5907760 2019-08-01 2019-08-31"
      ]
     },
     "execution_count": 13,
     "metadata": {},
     "output_type": "execute_result"
    }
   ],
   "source": [
    "# general view on groups\n",
    "\n",
    "(\n",
    "    orders\n",
    "    .groupby('group')\n",
    "    .agg(\n",
    "        {'visitor_id':'nunique', \n",
    "         'transaction_id':'nunique', \n",
    "         'revenue':'sum',\n",
    "         'date':['min', 'max']\n",
    "        }\n",
    "    )\n",
    ")"
   ]
  },
  {
   "cell_type": "markdown",
   "metadata": {},
   "source": [
    "* **Group B is a bit bigger than group A** in every metric\n",
    "* There are more unique transactions than unique buyers, meaning that **some buyers did more than 1 order**\n",
    "* **Total revenue for group B is almost 50% bigger than in group A**, which needs to be researched in detail further on\n",
    "* The test happend over **1 month in August 2019**"
   ]
  },
  {
   "cell_type": "code",
   "execution_count": 14,
   "metadata": {},
   "outputs": [],
   "source": [
    "# check for unique buyers in each group\n",
    "\n",
    "buyers_a = pd.DataFrame(orders.query('group == \"A\"')['visitor_id'].unique(), columns=['buyer'])\n",
    "buyers_b = pd.DataFrame(orders.query('group == \"B\"')['visitor_id'].unique(), columns=['buyer'])"
   ]
  },
  {
   "cell_type": "code",
   "execution_count": 15,
   "metadata": {},
   "outputs": [
    {
     "data": {
      "text/plain": [
       "58"
      ]
     },
     "execution_count": 15,
     "metadata": {},
     "output_type": "execute_result"
    }
   ],
   "source": [
    "# merge two groups with unique buyers to find the crossing ones\n",
    "\n",
    "id_to_drop = buyers_a.merge(buyers_b, on='buyer', how='inner')\n",
    "len(id_to_drop)"
   ]
  },
  {
   "cell_type": "markdown",
   "metadata": {},
   "source": [
    "* There are 58 buyers that happen to be in both groups\n",
    "* So we drop those ones from orders df"
   ]
  },
  {
   "cell_type": "code",
   "execution_count": 16,
   "metadata": {},
   "outputs": [],
   "source": [
    "# filter out the orders with only unique buyers in two groups\n",
    "\n",
    "orders = orders[~orders['visitor_id'].isin(id_to_drop['buyer'])]"
   ]
  },
  {
   "cell_type": "markdown",
   "metadata": {
    "datalore": {
     "hide_input_from_viewers": false,
     "hide_output_from_viewers": false,
     "node_id": "d12Fnaucx5tyvSsnpxOOeJ",
     "type": "MD"
    }
   },
   "source": [
    "## A/B tests interpretation"
   ]
  },
  {
   "cell_type": "code",
   "execution_count": 17,
   "metadata": {
    "datalore": {
     "hide_input_from_viewers": false,
     "hide_output_from_viewers": false,
     "node_id": "SOLNChxhJsrxGjnAqvhppr",
     "type": "CODE"
    }
   },
   "outputs": [],
   "source": [
    "# create a function to calc cumulative data by test group and other parameter  \n",
    "\n",
    "def cumulative_data(test_group, groupby):\n",
    "    orders_group = orders.query('group == @test_group').sort_values(by='date').reset_index(drop=True)\n",
    "    visitors_group = visitors.query('group == @test_group').sort_values(by='date').set_index(visitors.columns[0])\n",
    "    cumulative_group = (\n",
    "        orders_group\n",
    "        .groupby(groupby)\n",
    "        .agg({'revenue':'sum', 'transaction_id':'nunique', 'visitor_id':'nunique', 'group':'max'})\n",
    "    )\n",
    "    cumulative_group['revenue_cum'] = cumulative_group['revenue'].cumsum()\n",
    "    cumulative_group['orders_cum'] = cumulative_group['transaction_id'].cumsum()\n",
    "    cumulative_group['buyers_cum'] = cumulative_group['visitor_id'].cumsum()\n",
    "    cumulative_group['paycheck'] = cumulative_group['revenue_cum'] / cumulative_group['orders_cum']\n",
    "    cumulative_group = cumulative_group.join(visitors_group['visitors'], how='left')\n",
    "    cumulative_group['visitors_cum'] = cumulative_group['visitors'].cumsum()\n",
    "    cumulative_group['conversion'] = cumulative_group['visitor_id'] / cumulative_group['visitors']\n",
    "    cumulative_group['conversion_cum'] = cumulative_group['buyers_cum'] / cumulative_group['visitors_cum']\n",
    "\n",
    "    return cumulative_group"
   ]
  },
  {
   "cell_type": "code",
   "execution_count": 18,
   "metadata": {
    "datalore": {
     "hide_input_from_viewers": false,
     "hide_output_from_viewers": false,
     "node_id": "Do7MXkb0erf7OZ8dwhplxf",
     "type": "CODE"
    }
   },
   "outputs": [],
   "source": [
    "# get cum data for groups\n",
    "\n",
    "cum_a = cumulative_data(\"A\", \"date\")\n",
    "cum_b = cumulative_data(\"B\", \"date\")"
   ]
  },
  {
   "cell_type": "code",
   "execution_count": 19,
   "metadata": {
    "datalore": {
     "hide_input_from_viewers": false,
     "hide_output_from_viewers": false,
     "node_id": "E61FyjUQqeV5lZhK9buFPm",
     "type": "CODE"
    }
   },
   "outputs": [],
   "source": [
    "# get merged df for both groups\n",
    "\n",
    "try:\n",
    "    del(merged_cum)\n",
    "    merged_cum = cum_a.merge(cum_b, on='date', how='left', suffixes=['_a', '_b'])\n",
    "except:\n",
    "    merged_cum = cum_a.merge(cum_b, on='date', how='left', suffixes=['_a', '_b'])  "
   ]
  },
  {
   "cell_type": "code",
   "execution_count": 20,
   "metadata": {
    "datalore": {
     "hide_input_from_viewers": false,
     "hide_output_from_viewers": false,
     "node_id": "atpLRH0G7Qp53II5ULaqyY",
     "type": "CODE"
    }
   },
   "outputs": [
    {
     "data": {
      "text/html": [
       "<div><div id=40ae095a-91a7-4349-8ee5-9ad54e5aec04 style=\"display:none; background-color:#9D6CFF; color:white; width:200px; height:30px; padding-left:5px; border-radius:4px; flex-direction:row; justify-content:space-around; align-items:center;\" onmouseover=\"this.style.backgroundColor='#BA9BF8'\" onmouseout=\"this.style.backgroundColor='#9D6CFF'\" onclick=\"window.commands?.execute('create-mitosheet-from-dataframe-output');\">See Full Dataframe in Mito</div> <script> if (window.commands?.hasCommand('create-mitosheet-from-dataframe-output')) document.getElementById('40ae095a-91a7-4349-8ee5-9ad54e5aec04').style.display = 'flex' </script> <table border=\"1\" class=\"dataframe\">\n",
       "  <thead>\n",
       "    <tr style=\"text-align: right;\">\n",
       "      <th></th>\n",
       "      <th>revenue_a</th>\n",
       "      <th>transaction_id_a</th>\n",
       "      <th>visitor_id_a</th>\n",
       "      <th>group_a</th>\n",
       "      <th>revenue_cum_a</th>\n",
       "      <th>orders_cum_a</th>\n",
       "      <th>buyers_cum_a</th>\n",
       "      <th>paycheck_a</th>\n",
       "      <th>visitors_a</th>\n",
       "      <th>visitors_cum_a</th>\n",
       "      <th>...</th>\n",
       "      <th>visitor_id_b</th>\n",
       "      <th>group_b</th>\n",
       "      <th>revenue_cum_b</th>\n",
       "      <th>orders_cum_b</th>\n",
       "      <th>buyers_cum_b</th>\n",
       "      <th>paycheck_b</th>\n",
       "      <th>visitors_b</th>\n",
       "      <th>visitors_cum_b</th>\n",
       "      <th>conversion_b</th>\n",
       "      <th>conversion_cum_b</th>\n",
       "    </tr>\n",
       "    <tr>\n",
       "      <th>date</th>\n",
       "      <th></th>\n",
       "      <th></th>\n",
       "      <th></th>\n",
       "      <th></th>\n",
       "      <th></th>\n",
       "      <th></th>\n",
       "      <th></th>\n",
       "      <th></th>\n",
       "      <th></th>\n",
       "      <th></th>\n",
       "      <th></th>\n",
       "      <th></th>\n",
       "      <th></th>\n",
       "      <th></th>\n",
       "      <th></th>\n",
       "      <th></th>\n",
       "      <th></th>\n",
       "      <th></th>\n",
       "      <th></th>\n",
       "      <th></th>\n",
       "      <th></th>\n",
       "    </tr>\n",
       "  </thead>\n",
       "  <tbody>\n",
       "    <tr>\n",
       "      <th>2019-08-01</th>\n",
       "      <td>142779</td>\n",
       "      <td>23</td>\n",
       "      <td>19</td>\n",
       "      <td>A</td>\n",
       "      <td>142779</td>\n",
       "      <td>23</td>\n",
       "      <td>19</td>\n",
       "      <td>6207.78</td>\n",
       "      <td>719</td>\n",
       "      <td>719</td>\n",
       "      <td>...</td>\n",
       "      <td>17</td>\n",
       "      <td>B</td>\n",
       "      <td>59758</td>\n",
       "      <td>17</td>\n",
       "      <td>17</td>\n",
       "      <td>3515.18</td>\n",
       "      <td>713</td>\n",
       "      <td>713</td>\n",
       "      <td>0.02</td>\n",
       "      <td>0.02</td>\n",
       "    </tr>\n",
       "    <tr>\n",
       "      <th>2019-08-02</th>\n",
       "      <td>91602</td>\n",
       "      <td>19</td>\n",
       "      <td>18</td>\n",
       "      <td>A</td>\n",
       "      <td>234381</td>\n",
       "      <td>42</td>\n",
       "      <td>37</td>\n",
       "      <td>5580.50</td>\n",
       "      <td>619</td>\n",
       "      <td>1338</td>\n",
       "      <td>...</td>\n",
       "      <td>22</td>\n",
       "      <td>B</td>\n",
       "      <td>221801</td>\n",
       "      <td>40</td>\n",
       "      <td>39</td>\n",
       "      <td>5545.02</td>\n",
       "      <td>581</td>\n",
       "      <td>1294</td>\n",
       "      <td>0.04</td>\n",
       "      <td>0.03</td>\n",
       "    </tr>\n",
       "    <tr>\n",
       "      <th>2019-08-03</th>\n",
       "      <td>112473</td>\n",
       "      <td>24</td>\n",
       "      <td>24</td>\n",
       "      <td>A</td>\n",
       "      <td>346854</td>\n",
       "      <td>66</td>\n",
       "      <td>61</td>\n",
       "      <td>5255.36</td>\n",
       "      <td>507</td>\n",
       "      <td>1845</td>\n",
       "      <td>...</td>\n",
       "      <td>14</td>\n",
       "      <td>B</td>\n",
       "      <td>288850</td>\n",
       "      <td>54</td>\n",
       "      <td>53</td>\n",
       "      <td>5349.07</td>\n",
       "      <td>509</td>\n",
       "      <td>1803</td>\n",
       "      <td>0.03</td>\n",
       "      <td>0.03</td>\n",
       "    </tr>\n",
       "    <tr>\n",
       "      <th>2019-08-04</th>\n",
       "      <td>41176</td>\n",
       "      <td>11</td>\n",
       "      <td>11</td>\n",
       "      <td>A</td>\n",
       "      <td>388030</td>\n",
       "      <td>77</td>\n",
       "      <td>72</td>\n",
       "      <td>5039.35</td>\n",
       "      <td>717</td>\n",
       "      <td>2562</td>\n",
       "      <td>...</td>\n",
       "      <td>13</td>\n",
       "      <td>B</td>\n",
       "      <td>385740</td>\n",
       "      <td>68</td>\n",
       "      <td>66</td>\n",
       "      <td>5672.65</td>\n",
       "      <td>770</td>\n",
       "      <td>2573</td>\n",
       "      <td>0.02</td>\n",
       "      <td>0.03</td>\n",
       "    </tr>\n",
       "    <tr>\n",
       "      <th>2019-08-05</th>\n",
       "      <td>86383</td>\n",
       "      <td>22</td>\n",
       "      <td>22</td>\n",
       "      <td>A</td>\n",
       "      <td>474413</td>\n",
       "      <td>99</td>\n",
       "      <td>94</td>\n",
       "      <td>4792.05</td>\n",
       "      <td>756</td>\n",
       "      <td>3318</td>\n",
       "      <td>...</td>\n",
       "      <td>21</td>\n",
       "      <td>B</td>\n",
       "      <td>475648</td>\n",
       "      <td>89</td>\n",
       "      <td>87</td>\n",
       "      <td>5344.36</td>\n",
       "      <td>707</td>\n",
       "      <td>3280</td>\n",
       "      <td>0.03</td>\n",
       "      <td>0.03</td>\n",
       "    </tr>\n",
       "    <tr>\n",
       "      <th>2019-08-06</th>\n",
       "      <td>40919</td>\n",
       "      <td>15</td>\n",
       "      <td>12</td>\n",
       "      <td>A</td>\n",
       "      <td>515332</td>\n",
       "      <td>114</td>\n",
       "      <td>106</td>\n",
       "      <td>4520.46</td>\n",
       "      <td>667</td>\n",
       "      <td>3985</td>\n",
       "      <td>...</td>\n",
       "      <td>22</td>\n",
       "      <td>B</td>\n",
       "      <td>690490</td>\n",
       "      <td>112</td>\n",
       "      <td>109</td>\n",
       "      <td>6165.09</td>\n",
       "      <td>655</td>\n",
       "      <td>3935</td>\n",
       "      <td>0.03</td>\n",
       "      <td>0.03</td>\n",
       "    </tr>\n",
       "    <tr>\n",
       "      <th>2019-08-07</th>\n",
       "      <td>123248</td>\n",
       "      <td>16</td>\n",
       "      <td>16</td>\n",
       "      <td>A</td>\n",
       "      <td>638580</td>\n",
       "      <td>130</td>\n",
       "      <td>122</td>\n",
       "      <td>4912.15</td>\n",
       "      <td>644</td>\n",
       "      <td>4629</td>\n",
       "      <td>...</td>\n",
       "      <td>23</td>\n",
       "      <td>B</td>\n",
       "      <td>909654</td>\n",
       "      <td>135</td>\n",
       "      <td>132</td>\n",
       "      <td>6738.18</td>\n",
       "      <td>709</td>\n",
       "      <td>4644</td>\n",
       "      <td>0.03</td>\n",
       "      <td>0.03</td>\n",
       "    </tr>\n",
       "    <tr>\n",
       "      <th>2019-08-08</th>\n",
       "      <td>88639</td>\n",
       "      <td>14</td>\n",
       "      <td>14</td>\n",
       "      <td>A</td>\n",
       "      <td>727219</td>\n",
       "      <td>144</td>\n",
       "      <td>136</td>\n",
       "      <td>5050.13</td>\n",
       "      <td>610</td>\n",
       "      <td>5239</td>\n",
       "      <td>...</td>\n",
       "      <td>22</td>\n",
       "      <td>B</td>\n",
       "      <td>1059795</td>\n",
       "      <td>157</td>\n",
       "      <td>154</td>\n",
       "      <td>6750.29</td>\n",
       "      <td>654</td>\n",
       "      <td>5298</td>\n",
       "      <td>0.03</td>\n",
       "      <td>0.03</td>\n",
       "    </tr>\n",
       "    <tr>\n",
       "      <th>2019-08-09</th>\n",
       "      <td>134237</td>\n",
       "      <td>11</td>\n",
       "      <td>11</td>\n",
       "      <td>A</td>\n",
       "      <td>861456</td>\n",
       "      <td>155</td>\n",
       "      <td>147</td>\n",
       "      <td>5557.78</td>\n",
       "      <td>617</td>\n",
       "      <td>5856</td>\n",
       "      <td>...</td>\n",
       "      <td>19</td>\n",
       "      <td>B</td>\n",
       "      <td>1162961</td>\n",
       "      <td>176</td>\n",
       "      <td>173</td>\n",
       "      <td>6607.73</td>\n",
       "      <td>610</td>\n",
       "      <td>5908</td>\n",
       "      <td>0.03</td>\n",
       "      <td>0.03</td>\n",
       "    </tr>\n",
       "    <tr>\n",
       "      <th>2019-08-10</th>\n",
       "      <td>152275</td>\n",
       "      <td>15</td>\n",
       "      <td>15</td>\n",
       "      <td>A</td>\n",
       "      <td>1013731</td>\n",
       "      <td>170</td>\n",
       "      <td>162</td>\n",
       "      <td>5963.12</td>\n",
       "      <td>406</td>\n",
       "      <td>6262</td>\n",
       "      <td>...</td>\n",
       "      <td>22</td>\n",
       "      <td>B</td>\n",
       "      <td>1268123</td>\n",
       "      <td>198</td>\n",
       "      <td>195</td>\n",
       "      <td>6404.66</td>\n",
       "      <td>369</td>\n",
       "      <td>6277</td>\n",
       "      <td>0.06</td>\n",
       "      <td>0.03</td>\n",
       "    </tr>\n",
       "  </tbody>\n",
       "</table></div>"
      ],
      "text/plain": [
       "            revenue_a  transaction_id_a  visitor_id_a group_a  revenue_cum_a  \\\n",
       "date                                                                           \n",
       "2019-08-01     142779                23            19       A         142779   \n",
       "2019-08-02      91602                19            18       A         234381   \n",
       "2019-08-03     112473                24            24       A         346854   \n",
       "2019-08-04      41176                11            11       A         388030   \n",
       "2019-08-05      86383                22            22       A         474413   \n",
       "2019-08-06      40919                15            12       A         515332   \n",
       "2019-08-07     123248                16            16       A         638580   \n",
       "2019-08-08      88639                14            14       A         727219   \n",
       "2019-08-09     134237                11            11       A         861456   \n",
       "2019-08-10     152275                15            15       A        1013731   \n",
       "\n",
       "            orders_cum_a  buyers_cum_a  paycheck_a  visitors_a  \\\n",
       "date                                                             \n",
       "2019-08-01            23            19     6207.78         719   \n",
       "2019-08-02            42            37     5580.50         619   \n",
       "2019-08-03            66            61     5255.36         507   \n",
       "2019-08-04            77            72     5039.35         717   \n",
       "2019-08-05            99            94     4792.05         756   \n",
       "2019-08-06           114           106     4520.46         667   \n",
       "2019-08-07           130           122     4912.15         644   \n",
       "2019-08-08           144           136     5050.13         610   \n",
       "2019-08-09           155           147     5557.78         617   \n",
       "2019-08-10           170           162     5963.12         406   \n",
       "\n",
       "            visitors_cum_a  ...  visitor_id_b  group_b  revenue_cum_b  \\\n",
       "date                        ...                                         \n",
       "2019-08-01             719  ...            17        B          59758   \n",
       "2019-08-02            1338  ...            22        B         221801   \n",
       "2019-08-03            1845  ...            14        B         288850   \n",
       "2019-08-04            2562  ...            13        B         385740   \n",
       "2019-08-05            3318  ...            21        B         475648   \n",
       "2019-08-06            3985  ...            22        B         690490   \n",
       "2019-08-07            4629  ...            23        B         909654   \n",
       "2019-08-08            5239  ...            22        B        1059795   \n",
       "2019-08-09            5856  ...            19        B        1162961   \n",
       "2019-08-10            6262  ...            22        B        1268123   \n",
       "\n",
       "            orders_cum_b  buyers_cum_b paycheck_b  visitors_b  visitors_cum_b  \\\n",
       "date                                                                            \n",
       "2019-08-01            17            17    3515.18         713             713   \n",
       "2019-08-02            40            39    5545.02         581            1294   \n",
       "2019-08-03            54            53    5349.07         509            1803   \n",
       "2019-08-04            68            66    5672.65         770            2573   \n",
       "2019-08-05            89            87    5344.36         707            3280   \n",
       "2019-08-06           112           109    6165.09         655            3935   \n",
       "2019-08-07           135           132    6738.18         709            4644   \n",
       "2019-08-08           157           154    6750.29         654            5298   \n",
       "2019-08-09           176           173    6607.73         610            5908   \n",
       "2019-08-10           198           195    6404.66         369            6277   \n",
       "\n",
       "            conversion_b  conversion_cum_b  \n",
       "date                                        \n",
       "2019-08-01          0.02              0.02  \n",
       "2019-08-02          0.04              0.03  \n",
       "2019-08-03          0.03              0.03  \n",
       "2019-08-04          0.02              0.03  \n",
       "2019-08-05          0.03              0.03  \n",
       "2019-08-06          0.03              0.03  \n",
       "2019-08-07          0.03              0.03  \n",
       "2019-08-08          0.03              0.03  \n",
       "2019-08-09          0.03              0.03  \n",
       "2019-08-10          0.06              0.03  \n",
       "\n",
       "[10 rows x 24 columns]"
      ]
     },
     "execution_count": 20,
     "metadata": {},
     "output_type": "execute_result"
    }
   ],
   "source": [
    "merged_cum.head(10)"
   ]
  },
  {
   "cell_type": "markdown",
   "metadata": {
    "datalore": {
     "hide_input_from_viewers": false,
     "hide_output_from_viewers": false,
     "node_id": "38Al1j7eyOdKRLsXGr3gdl",
     "type": "MD"
    }
   },
   "source": [
    "### 1. Cumulative revenue by group"
   ]
  },
  {
   "cell_type": "code",
   "execution_count": 57,
   "metadata": {
    "datalore": {
     "hide_input_from_viewers": false,
     "hide_output_from_viewers": false,
     "node_id": "6IR1TDpc0r3cf2Kn9papTv",
     "type": "CODE"
    }
   },
   "outputs": [
    {
     "data": {
      "image/png": "[encoded data removed]",
      "text/plain": [
       "<Figure size 1080x576 with 1 Axes>"
      ]
     },
     "metadata": {},
     "output_type": "display_data"
    }
   ],
   "source": [
    "# plotting charts for cumulative revenues in both groups\n",
    "\n",
    "sns.lineplot(data=merged_cum, x=merged_cum.index, y=merged_cum['revenue_cum_a'], label='A').set(title='Cumulative revenue by group')\n",
    "sns.lineplot(data=merged_cum, x=merged_cum.index, y=merged_cum['revenue_cum_b'], label='B')\n",
    "sns.set(rc = {'figure.figsize':(15,8)})\n",
    "plt.show()"
   ]
  },
  {
   "cell_type": "markdown",
   "metadata": {
    "datalore": {
     "hide_input_from_viewers": false,
     "hide_output_from_viewers": false,
     "node_id": "lwxrK77LUliSUnOBheUkxe",
     "type": "MD"
    }
   },
   "source": [
    "* Cumulative revenue for **group A is growing smoothly** which is great\n",
    "* However, for group B there is a clear jump in the second part of the test which **indicates the definite outliers**"
   ]
  },
  {
   "cell_type": "markdown",
   "metadata": {
    "datalore": {
     "hide_input_from_viewers": false,
     "hide_output_from_viewers": false,
     "node_id": "WqiU88h4KshPEb5zb79UXV",
     "type": "MD"
    }
   },
   "source": [
    "### 2. Cumulative average paycheck by group"
   ]
  },
  {
   "cell_type": "code",
   "execution_count": 22,
   "metadata": {
    "datalore": {
     "hide_input_from_viewers": false,
     "hide_output_from_viewers": false,
     "node_id": "U9TMg18W3eAXd2LBPB8iDJ",
     "type": "CODE"
    }
   },
   "outputs": [
    {
     "data": {
      "image/png": "[encoded data removed]",
      "text/plain": [
       "<Figure size 1080x576 with 1 Axes>"
      ]
     },
     "metadata": {},
     "output_type": "display_data"
    }
   ],
   "source": [
    "# plotting charts for cumulative paychecks in both groups\n",
    "\n",
    "sns.lineplot(data=merged_cum, x=merged_cum.index, y=merged_cum['paycheck_a'], label='A').set(title='Cumulative paycheck by group')\n",
    "sns.lineplot(data=merged_cum, x=merged_cum.index, y=merged_cum['paycheck_b'], label='B')\n",
    "sns.set(rc = {'figure.figsize':(15,8)})\n",
    "plt.show()"
   ]
  },
  {
   "cell_type": "markdown",
   "metadata": {
    "datalore": {
     "hide_input_from_viewers": false,
     "hide_output_from_viewers": false,
     "node_id": "jm7gVPWV13p6LMasmKQr6b",
     "type": "MD"
    }
   },
   "source": [
    "* Cumulative average check for both groups shows **quite a variability in the first 10 days of the test**\n",
    "* While **for group A it stabilizes closer to the end**\n",
    "* **For group B again it skyrockets in the second part of the test** = clearly, there are outliers in data which we need to filter out further on"
   ]
  },
  {
   "cell_type": "markdown",
   "metadata": {
    "datalore": {
     "hide_input_from_viewers": false,
     "hide_output_from_viewers": false,
     "node_id": "iy5XC33wrGA5RElWOlUibj",
     "type": "MD"
    }
   },
   "source": [
    "### 3. Cumulative relative change in paychecks (group B to group A)"
   ]
  },
  {
   "cell_type": "code",
   "execution_count": 23,
   "metadata": {
    "datalore": {
     "hide_input_from_viewers": false,
     "hide_output_from_viewers": false,
     "node_id": "xDpgi0Lf5qeSkCeUUM68FR",
     "type": "CODE"
    }
   },
   "outputs": [],
   "source": [
    "# calc relative paycheck\n",
    "\n",
    "merged_cum['relative_paycheck'] = merged_cum['paycheck_b'] / merged_cum['paycheck_a'] - 1"
   ]
  },
  {
   "cell_type": "code",
   "execution_count": 24,
   "metadata": {
    "datalore": {
     "hide_input_from_viewers": false,
     "hide_output_from_viewers": false,
     "node_id": "rpKupMo8M6oUtItCmPi7qY",
     "type": "CODE"
    }
   },
   "outputs": [
    {
     "data": {
      "image/png": "[encoded data removed]",
      "text/plain": [
       "<Figure size 1080x576 with 1 Axes>"
      ]
     },
     "metadata": {},
     "output_type": "display_data"
    }
   ],
   "source": [
    "# plotting relative paycheck with 0 line helper\n",
    "\n",
    "merged_cum['relative_paycheck'].plot(title='Cumulative relative paycheck (B to A)')\n",
    "plt.axhline(y=0, color='black', linestyle='--') \n",
    "plt.show()"
   ]
  },
  {
   "cell_type": "markdown",
   "metadata": {
    "datalore": {
     "hide_input_from_viewers": false,
     "hide_output_from_viewers": false,
     "node_id": "mvUkUGUwEE7qAOjNvy33IA",
     "type": "MD"
    }
   },
   "source": [
    "* The cumulative relative paycheck (group B to group A) is very **unstable over time**\n",
    "* **There are several big jumps**: one in the second part of the test is very visible and repeats what we saw previously in above charts\n",
    "* Large orders and **outliers are definitely hidden somewhere** – we will get them more in detail further on"
   ]
  },
  {
   "cell_type": "markdown",
   "metadata": {
    "datalore": {
     "hide_input_from_viewers": false,
     "hide_output_from_viewers": false,
     "node_id": "fxMeQZNBdMmJor0WGrmu3e",
     "type": "MD"
    }
   },
   "source": [
    "### 4. Cumulative conversion by group"
   ]
  },
  {
   "cell_type": "code",
   "execution_count": 25,
   "metadata": {
    "datalore": {
     "hide_input_from_viewers": false,
     "hide_output_from_viewers": false,
     "node_id": "CQWhoXcfYEFTagEARNU8FC",
     "type": "CODE"
    }
   },
   "outputs": [
    {
     "data": {
      "image/png": "[encoded data removed]",
      "text/plain": [
       "<Figure size 1080x576 with 1 Axes>"
      ]
     },
     "metadata": {},
     "output_type": "display_data"
    }
   ],
   "source": [
    "# plotting charts for cumulative conversion in both groups\n",
    "\n",
    "sns.lineplot(data=merged_cum, x=merged_cum.index, y=merged_cum['conversion_cum_a'], label='A').set(title='Cumulative conversion by group')\n",
    "sns.lineplot(data=merged_cum, x=merged_cum.index, y=merged_cum['conversion_cum_b'], label='B')\n",
    "sns.set(rc = {'figure.figsize':(15,8)})\n",
    "plt.show()"
   ]
  },
  {
   "cell_type": "markdown",
   "metadata": {
    "datalore": {
     "hide_input_from_viewers": false,
     "hide_output_from_viewers": false,
     "node_id": "Fg1A15ZOCd8x5NEApGwkV4",
     "type": "MD"
    }
   },
   "source": [
    "* Not surprisingly, in the first part of the test, **the conversions vary a lot**\n",
    "* Later on, there is some stability coming although not a straight line\n",
    "* We do not see the jump in conversion for group B in the second part of the test as before, meaning **the outliers are not in the number of buyers but purely in the amounts**"
   ]
  },
  {
   "cell_type": "markdown",
   "metadata": {
    "datalore": {
     "hide_input_from_viewers": false,
     "hide_output_from_viewers": false,
     "node_id": "YBiyMYSGIxat8HQXRn6HZC",
     "type": "MD"
    }
   },
   "source": [
    "### 5. Cumulative relative change in conversions (group B to group A)"
   ]
  },
  {
   "cell_type": "code",
   "execution_count": 26,
   "metadata": {
    "datalore": {
     "hide_input_from_viewers": false,
     "hide_output_from_viewers": false,
     "node_id": "V7IfFWGV9RjBYuRrvv1JZZ",
     "type": "CODE"
    }
   },
   "outputs": [],
   "source": [
    "# calc relative conversions\n",
    "\n",
    "merged_cum['relative_conversion'] = merged_cum['conversion_cum_b'] / merged_cum['conversion_cum_a'] - 1"
   ]
  },
  {
   "cell_type": "code",
   "execution_count": 27,
   "metadata": {
    "datalore": {
     "hide_input_from_viewers": false,
     "hide_output_from_viewers": false,
     "node_id": "uEeWuR5L6LFkbWAVHoTSXu",
     "type": "CODE"
    }
   },
   "outputs": [
    {
     "data": {
      "image/png": "[encoded data removed]",
      "text/plain": [
       "<Figure size 1080x576 with 1 Axes>"
      ]
     },
     "metadata": {},
     "output_type": "display_data"
    }
   ],
   "source": [
    "# plotting relative conversions with 0 line helper\n",
    "\n",
    "merged_cum['relative_conversion'].plot(title='Cumulative relative conversion (B to A)')\n",
    "plt.axhline(y=0, color='black', linestyle='--') \n",
    "plt.show()"
   ]
  },
  {
   "cell_type": "markdown",
   "metadata": {
    "datalore": {
     "hide_input_from_viewers": false,
     "hide_output_from_viewers": false,
     "node_id": "MlPLl2i3pYegBeL1BDuOeB",
     "type": "MD"
    }
   },
   "source": [
    "* In the beginning, conversion in group B was smaller than in group A\n",
    "* Later on, it improved a lot and stayed on high relative levels\n",
    "* There is still no hard stabilization   "
   ]
  },
  {
   "cell_type": "markdown",
   "metadata": {
    "datalore": {
     "hide_input_from_viewers": false,
     "hide_output_from_viewers": false,
     "node_id": "wWmt2ZtOSe2lzPJCKWEMsw",
     "type": "MD"
    }
   },
   "source": [
    "### 6. Number of orders per buyers"
   ]
  },
  {
   "cell_type": "code",
   "execution_count": 28,
   "metadata": {
    "datalore": {
     "hide_input_from_viewers": false,
     "hide_output_from_viewers": false,
     "node_id": "neW8FM4LKoxy4H1wYT5xIG",
     "type": "CODE"
    }
   },
   "outputs": [],
   "source": [
    "# group orders by buyers\n",
    "\n",
    "orders_per_buyer = orders.groupby('visitor_id').agg({'transaction_id':'nunique', 'group':'first'}).reset_index()"
   ]
  },
  {
   "cell_type": "code",
   "execution_count": 29,
   "metadata": {
    "datalore": {
     "hide_input_from_viewers": false,
     "hide_output_from_viewers": false,
     "node_id": "lZXKq2sNp3vj6WSBpkZ7ni",
     "type": "CODE"
    }
   },
   "outputs": [
    {
     "data": {
      "image/png": "[encoded data removed]",
      "text/plain": [
       "<Figure size 1080x576 with 1 Axes>"
      ]
     },
     "metadata": {},
     "output_type": "display_data"
    }
   ],
   "source": [
    "# plot the hist for orders by buyer\n",
    "\n",
    "orders_per_buyer['transaction_id'].hist();"
   ]
  },
  {
   "cell_type": "markdown",
   "metadata": {
    "datalore": {
     "hide_input_from_viewers": false,
     "hide_output_from_viewers": false,
     "node_id": "1bwIS7jRuFzKcaec80cxH0",
     "type": "MD"
    }
   },
   "source": [
    "* We clearly see that most of the users do 1 order\n",
    "* Everything above that are the outliers, but we support it further with the data"
   ]
  },
  {
   "cell_type": "code",
   "execution_count": 30,
   "metadata": {
    "datalore": {
     "hide_input_from_viewers": false,
     "hide_output_from_viewers": false,
     "node_id": "oclvFotoe2jUFJyfpaN7Ov",
     "type": "CODE"
    }
   },
   "outputs": [
    {
     "data": {
      "image/png": "[encoded data removed]",
      "text/plain": [
       "<Figure size 1080x576 with 1 Axes>"
      ]
     },
     "metadata": {},
     "output_type": "display_data"
    }
   ],
   "source": [
    "# plot the orders by buyers to see the outliers\n",
    "\n",
    "(\n",
    "    sns\n",
    "    .scatterplot(\n",
    "        data=orders_per_buyer, \n",
    "        x=orders_per_buyer['visitor_id'], \n",
    "        y=orders_per_buyer['transaction_id'], \n",
    "        hue=orders_per_buyer['group']\n",
    "    )\n",
    "    .set(title='Number of orders per buyer')\n",
    ");"
   ]
  },
  {
   "cell_type": "markdown",
   "metadata": {
    "datalore": {
     "hide_input_from_viewers": false,
     "hide_output_from_viewers": false,
     "node_id": "1zsZAuGDQwKDF0oG9WUR9q",
     "type": "MD"
    }
   },
   "source": [
    "* The scatter plot supports the findings above"
   ]
  },
  {
   "cell_type": "markdown",
   "metadata": {
    "datalore": {
     "hide_input_from_viewers": false,
     "hide_output_from_viewers": false,
     "node_id": "Ru1aFIEIQJMiy0gW2F280E",
     "type": "MD"
    }
   },
   "source": [
    "### 7. Number of orders by buyers; 95th and 99th percentiles"
   ]
  },
  {
   "cell_type": "code",
   "execution_count": 31,
   "metadata": {
    "datalore": {
     "hide_input_from_viewers": false,
     "hide_output_from_viewers": false,
     "node_id": "cZGOeKfAhtEfh0Ag30TRsh",
     "type": "CODE"
    }
   },
   "outputs": [
    {
     "data": {
      "text/plain": [
       "array([1., 2.])"
      ]
     },
     "execution_count": 31,
     "metadata": {},
     "output_type": "execute_result"
    }
   ],
   "source": [
    "np.percentile(orders_per_buyer['transaction_id'], [95, 99])"
   ]
  },
  {
   "cell_type": "markdown",
   "metadata": {
    "datalore": {
     "hide_input_from_viewers": false,
     "hide_output_from_viewers": false,
     "node_id": "PbPGHnOeEJNdERvG5MiyzE",
     "type": "MD"
    }
   },
   "source": [
    "* Only 5% of buyers did more than 1 order\n",
    "* 2 orders by buyers happen only in 1% of cases\n",
    "* It seems it is appropriate to **cut the outliers at 95th percentile, i.e. 1 order by buyers**"
   ]
  },
  {
   "cell_type": "markdown",
   "metadata": {
    "datalore": {
     "hide_input_from_viewers": false,
     "hide_output_from_viewers": false,
     "node_id": "hUGBx0Re8hPrV0eGWffO0F",
     "type": "MD"
    }
   },
   "source": [
    "### 8. Revenue distribution"
   ]
  },
  {
   "cell_type": "code",
   "execution_count": 32,
   "metadata": {
    "datalore": {
     "hide_input_from_viewers": false,
     "hide_output_from_viewers": false,
     "node_id": "Q2YmsYk3UwfpFwrntY4opk",
     "type": "CODE"
    }
   },
   "outputs": [
    {
     "data": {
      "image/png": "[encoded data removed]",
      "text/plain": [
       "<Figure size 1080x576 with 1 Axes>"
      ]
     },
     "metadata": {},
     "output_type": "display_data"
    }
   ],
   "source": [
    "# check the raw revenues by dates\n",
    "\n",
    "sns.scatterplot(data=orders, x=orders['date'], y=orders['revenue'], hue=orders['group']).set(title='Revenue by date');"
   ]
  },
  {
   "cell_type": "markdown",
   "metadata": {
    "datalore": {
     "hide_input_from_viewers": false,
     "hide_output_from_viewers": false,
     "node_id": "HxEHUtC9BCUXcsBCHiG1s7",
     "type": "MD"
    }
   },
   "source": [
    "* We clearly see **2 large outliers on this scale in group B**"
   ]
  },
  {
   "cell_type": "code",
   "execution_count": 33,
   "metadata": {
    "datalore": {
     "hide_input_from_viewers": false,
     "hide_output_from_viewers": false,
     "node_id": "KeKT5DgOXjwMA96OlWLIRb",
     "type": "CODE"
    }
   },
   "outputs": [
    {
     "data": {
      "text/plain": [
       "count      1016.00\n",
       "mean       8300.81\n",
       "std       42121.99\n",
       "min          50.00\n",
       "25%        1190.00\n",
       "50%        2955.00\n",
       "75%        8134.25\n",
       "max     1294500.00\n",
       "Name: revenue, dtype: float64"
      ]
     },
     "execution_count": 33,
     "metadata": {},
     "output_type": "execute_result"
    }
   ],
   "source": [
    "orders['revenue'].describe()"
   ]
  },
  {
   "cell_type": "markdown",
   "metadata": {
    "datalore": {
     "hide_input_from_viewers": false,
     "hide_output_from_viewers": false,
     "node_id": "O71scKEi9OcwDsNscCdcUm",
     "type": "MD"
    }
   },
   "source": [
    "* 75% of all orders are under 8134\n",
    "* While there is **one large order of $1,3mln** which drives the mean high up (almost 3x the median)\n",
    "* It seems we found a data point which influenced the previous graphs so ugly  "
   ]
  },
  {
   "cell_type": "markdown",
   "metadata": {
    "datalore": {
     "hide_input_from_viewers": false,
     "hide_output_from_viewers": false,
     "node_id": "pHkNiYI7KgQWXZLIkGa6C4",
     "type": "MD"
    }
   },
   "source": [
    "### 9. Revenue distribution; 95th and 99th percentiles"
   ]
  },
  {
   "cell_type": "code",
   "execution_count": 34,
   "metadata": {
    "datalore": {
     "hide_input_from_viewers": false,
     "hide_output_from_viewers": false,
     "node_id": "IrZCFnvrBP7SGiur9qE079",
     "type": "CODE"
    }
   },
   "outputs": [
    {
     "data": {
      "text/plain": [
       "array([26785., 53904.])"
      ]
     },
     "execution_count": 34,
     "metadata": {},
     "output_type": "execute_result"
    }
   ],
   "source": [
    "np.percentile(orders['revenue'], [95, 99])"
   ]
  },
  {
   "cell_type": "markdown",
   "metadata": {
    "datalore": {
     "hide_input_from_viewers": false,
     "hide_output_from_viewers": false,
     "node_id": "UJRvOdUsEqdVLxec4sThft",
     "type": "MD"
    }
   },
   "source": [
    "* In 95% of cases, the amount of order is not bigger than 26,8k\n",
    "* And only in 1% of cases, the revenue from one order is larger than 53,9k\n",
    "* It seems it would be appropriate to **cut the outliers at 26,8k revenue per order** level for further studies"
   ]
  },
  {
   "cell_type": "markdown",
   "metadata": {
    "datalore": {
     "hide_input_from_viewers": false,
     "hide_output_from_viewers": false,
     "node_id": "QoLsL6V7G9175F6cCFn9Qc",
     "type": "MD"
    }
   },
   "source": [
    "* We suppose that our data does not have a normal distribution\n",
    "* Thus, we apply Mann Whitney U-test, which is a non parametric one"
   ]
  },
  {
   "cell_type": "markdown",
   "metadata": {
    "datalore": {
     "hide_input_from_viewers": false,
     "hide_output_from_viewers": false,
     "node_id": "QBd0UuPmgS2QSaIIGacQFm",
     "type": "MD"
    }
   },
   "source": [
    "### 10. Statistical tests of conversions in raw data"
   ]
  },
  {
   "cell_type": "markdown",
   "metadata": {
    "datalore": {
     "hide_input_from_viewers": false,
     "hide_output_from_viewers": false,
     "node_id": "Sb6NwUx5qCrbhRHdPFGHxX",
     "type": "MD"
    }
   },
   "source": [
    "* H0: conversions in two groups are equal\n",
    "* H1: conversions in two groups are not equal\n",
    "* Alpha: 0,05"
   ]
  },
  {
   "cell_type": "code",
   "execution_count": 35,
   "metadata": {
    "datalore": {
     "hide_input_from_viewers": false,
     "hide_output_from_viewers": false,
     "node_id": "UzF2WAOMiZoLxoHzsdq4L3",
     "type": "CODE"
    }
   },
   "outputs": [],
   "source": [
    "# group orders by buyers for each group to get number of orders per buyer\n",
    "\n",
    "buyers_a = orders.query('group == \"A\"').groupby('visitor_id')['transaction_id'].nunique()\n",
    "buyers_b = orders.query('group == \"B\"').groupby('visitor_id')['transaction_id'].nunique()"
   ]
  },
  {
   "cell_type": "code",
   "execution_count": 36,
   "metadata": {
    "datalore": {
     "hide_input_from_viewers": false,
     "hide_output_from_viewers": false,
     "node_id": "AjGedPpy45E039li8K6tLp",
     "type": "CODE"
    }
   },
   "outputs": [],
   "source": [
    "# calc total visitors for each group\n",
    "\n",
    "visitors_a = visitors.query('group == \"A\"')['visitors'].sum()\n",
    "visitors_b = visitors.query('group == \"B\"')['visitors'].sum()"
   ]
  },
  {
   "cell_type": "code",
   "execution_count": 37,
   "metadata": {
    "datalore": {
     "hide_input_from_viewers": false,
     "hide_output_from_viewers": false,
     "node_id": "7vkUxj5jUNfl5VjelqbUJA",
     "type": "CODE"
    }
   },
   "outputs": [],
   "source": [
    "# create df with non buyers\n",
    "\n",
    "non_buyers_a = pd.Series(0, index=np.arange(visitors_a - len(buyers_a)), name='transaction_id')\n",
    "non_buyers_b = pd.Series(0, index=np.arange(visitors_b - len(buyers_b)), name='transaction_id')"
   ]
  },
  {
   "cell_type": "code",
   "execution_count": 38,
   "metadata": {
    "datalore": {
     "hide_input_from_viewers": false,
     "hide_output_from_viewers": false,
     "node_id": "rcTUWsyDR4Z6Sow9aNjwBZ",
     "type": "CODE"
    }
   },
   "outputs": [],
   "source": [
    "# enrich buyers with visitors who did not buy anything\n",
    "\n",
    "df_a = pd.concat([buyers_a, non_buyers_a], axis=0)\n",
    "df_b = pd.concat([buyers_b, non_buyers_b], axis=0)"
   ]
  },
  {
   "cell_type": "code",
   "execution_count": 39,
   "metadata": {
    "datalore": {
     "hide_input_from_viewers": false,
     "hide_output_from_viewers": false,
     "node_id": "2x9nCCRXDvmqi4POigjR9G",
     "type": "CODE"
    }
   },
   "outputs": [],
   "source": [
    "# do Mann Whitneyu test for two groups on raw data of conversions\n",
    "\n",
    "stat_results = scipy.stats.mannwhitneyu(df_a, df_b)"
   ]
  },
  {
   "cell_type": "code",
   "execution_count": 40,
   "metadata": {
    "datalore": {
     "hide_input_from_viewers": false,
     "hide_output_from_viewers": false,
     "node_id": "SVfGVwxy9NJk39KclSs2Mz",
     "type": "CODE"
    }
   },
   "outputs": [
    {
     "name": "stdout",
     "output_type": "stream",
     "text": [
      "P value of the test is 0.011018084110014696\n"
     ]
    }
   ],
   "source": [
    "# stat test results\n",
    "\n",
    "print(f'P value of the test is {stat_results.pvalue}')"
   ]
  },
  {
   "cell_type": "code",
   "execution_count": 41,
   "metadata": {},
   "outputs": [],
   "source": [
    "# calc the lift in conversions\n",
    "\n",
    "lift = round((df_b.mean() / df_a.mean()) * 100 - 1, 4)"
   ]
  },
  {
   "cell_type": "code",
   "execution_count": 42,
   "metadata": {
    "datalore": {
     "hide_input_from_viewers": false,
     "hide_output_from_viewers": false,
     "node_id": "xdCIGfD6F9dOWdAgYGfGxC",
     "type": "CODE"
    }
   },
   "outputs": [
    {
     "name": "stdout",
     "output_type": "stream",
     "text": [
      "The lift in the conversions (group B to group A) is 114.9798%\n"
     ]
    }
   ],
   "source": [
    "print(f'The lift in the conversions (group B to group A) is {lift}%')"
   ]
  },
  {
   "cell_type": "markdown",
   "metadata": {
    "datalore": {
     "hide_input_from_viewers": false,
     "hide_output_from_viewers": false,
     "node_id": "t2uqCoHgfs6XSBqcZcRTkP",
     "type": "MD"
    }
   },
   "source": [
    "* P-value of the test is lower than the chosen alpha level of 0,05\n",
    "* Thus, we can **reject H0**\n",
    "* **There is statistically significant difference in the conversions in two groups** on raw data\n",
    "* Moreover, there is a lift of **16% in conversions** (group B to group A)"
   ]
  },
  {
   "cell_type": "markdown",
   "metadata": {
    "datalore": {
     "hide_input_from_viewers": false,
     "hide_output_from_viewers": false,
     "node_id": "8zYgBuuzKTIRb3D9t5cQUK",
     "type": "MD"
    }
   },
   "source": [
    "### 11. Statistical test of the average amount of the order"
   ]
  },
  {
   "cell_type": "markdown",
   "metadata": {
    "datalore": {
     "hide_input_from_viewers": false,
     "hide_output_from_viewers": false,
     "node_id": "4VGQq3i9tAQcmoAuSiTf5e",
     "type": "MD"
    }
   },
   "source": [
    "* H0: average amount of the order in two groups is equal\n",
    "* H1: average amount of the order in two groups is not equal\n",
    "* Alpha: 0,05"
   ]
  },
  {
   "cell_type": "code",
   "execution_count": 43,
   "metadata": {
    "datalore": {
     "hide_input_from_viewers": false,
     "hide_output_from_viewers": false,
     "node_id": "X5UlPXHboVuZgQTgrOVnNA",
     "type": "CODE"
    }
   },
   "outputs": [],
   "source": [
    "# do Mann Whitneyu test for two groups on raw data of order amount\n",
    "\n",
    "revenue_a = pd.Series(orders.query('group == \"A\"')['revenue'])\n",
    "revenue_b = pd.Series(orders.query('group == \"B\"')['revenue'])\n",
    "\n",
    "stat_results = scipy.stats.mannwhitneyu(revenue_a, revenue_b)"
   ]
  },
  {
   "cell_type": "code",
   "execution_count": 44,
   "metadata": {
    "datalore": {
     "hide_input_from_viewers": false,
     "hide_output_from_viewers": false,
     "node_id": "Usa9AM08dKtLKeARcm6gnn",
     "type": "CODE"
    }
   },
   "outputs": [
    {
     "name": "stdout",
     "output_type": "stream",
     "text": [
      "P value of the test is 0.8294908998149533\n"
     ]
    }
   ],
   "source": [
    "# stat test results\n",
    "\n",
    "print(f'P value of the test is {stat_results.pvalue}')"
   ]
  },
  {
   "cell_type": "code",
   "execution_count": 45,
   "metadata": {},
   "outputs": [],
   "source": [
    "# calc the lift in the average order amount\n",
    "\n",
    "lift = round((revenue_b.mean() / revenue_a.mean() - 1) * 100, 4)"
   ]
  },
  {
   "cell_type": "code",
   "execution_count": 46,
   "metadata": {
    "datalore": {
     "hide_input_from_viewers": false,
     "hide_output_from_viewers": false,
     "node_id": "xFlQbHf3bOTULYBu2TvoE9",
     "type": "CODE"
    }
   },
   "outputs": [
    {
     "name": "stdout",
     "output_type": "stream",
     "text": [
      "The lift in average order amount (group B to group A) is 28.6603\n"
     ]
    }
   ],
   "source": [
    "print(f'The lift in average order amount (group B to group A) is {lift}')"
   ]
  },
  {
   "cell_type": "markdown",
   "metadata": {
    "datalore": {
     "hide_input_from_viewers": false,
     "hide_output_from_viewers": false,
     "node_id": "Bcr2ZmX6FhdBcXaPZncw2w",
     "type": "MD"
    }
   },
   "source": [
    "* P-value of the test is bigger than the chosen alpha level of 0,05\n",
    "* Thus, we **do not have a reason to reject H0**\n",
    "* **There is no statistically significant difference in the order amount in two groups** on raw data\n",
    "* Although, there is a significant lift of **28,7% in the average order amount** (B group to A group), which is due to several huge outliers "
   ]
  },
  {
   "cell_type": "markdown",
   "metadata": {
    "datalore": {
     "hide_input_from_viewers": false,
     "hide_output_from_viewers": false,
     "node_id": "HsqxOt7O138LSilKuvb1yb",
     "type": "MD"
    }
   },
   "source": [
    "### 12. Statistical tests of conversions with filtered data"
   ]
  },
  {
   "cell_type": "markdown",
   "metadata": {
    "datalore": {
     "hide_input_from_viewers": false,
     "hide_output_from_viewers": false,
     "node_id": "UWhlVxaIqdFHRaGghYikK0",
     "type": "MD"
    }
   },
   "source": [
    "* H0: filtered conversions in two groups are equal\n",
    "* H1: filtered conversions in two groups are not equal\n",
    "* Alpha: 0,05"
   ]
  },
  {
   "cell_type": "code",
   "execution_count": 47,
   "metadata": {
    "datalore": {
     "hide_input_from_viewers": false,
     "hide_output_from_viewers": false,
     "node_id": "Y7DcZPtyEmYVhVlrWemejk",
     "type": "CODE"
    }
   },
   "outputs": [],
   "source": [
    "# filter out outliers in number of transactions per user\n",
    "\n",
    "orders_filter = np.percentile(orders_per_buyer['transaction_id'], 95)\n",
    "\n",
    "df_a_filtered = df_a.reset_index().query('transaction_id <= @orders_filter')\n",
    "df_b_filtered = df_b.reset_index().query('transaction_id <= @orders_filter')"
   ]
  },
  {
   "cell_type": "code",
   "execution_count": 48,
   "metadata": {
    "datalore": {
     "hide_input_from_viewers": false,
     "hide_output_from_viewers": false,
     "node_id": "tLdFP2cKIxiT2GWxtMNHr6",
     "type": "CODE"
    }
   },
   "outputs": [],
   "source": [
    "# do Mann Whitneyu test for two groups on filtered data of conversions\n",
    "\n",
    "stat_results = scipy.stats.mannwhitneyu(df_a_filtered['transaction_id'], df_b_filtered['transaction_id'])"
   ]
  },
  {
   "cell_type": "code",
   "execution_count": 49,
   "metadata": {
    "datalore": {
     "hide_input_from_viewers": false,
     "hide_output_from_viewers": false,
     "node_id": "WVLHa8f8lO05r0D4yOinxp",
     "type": "CODE"
    }
   },
   "outputs": [
    {
     "name": "stdout",
     "output_type": "stream",
     "text": [
      "P value of the test is 0.009388750157649953\n"
     ]
    }
   ],
   "source": [
    "# stat test results\n",
    "\n",
    "print(f'P value of the test is {stat_results.pvalue}')"
   ]
  },
  {
   "cell_type": "code",
   "execution_count": 50,
   "metadata": {},
   "outputs": [],
   "source": [
    "# calc the lift in filtered conversions\n",
    "\n",
    "lift = round((df_b_filtered['transaction_id'].mean() / df_a_filtered['transaction_id'].mean()) * 100 - 1, 4)"
   ]
  },
  {
   "cell_type": "code",
   "execution_count": 51,
   "metadata": {
    "datalore": {
     "hide_input_from_viewers": false,
     "hide_output_from_viewers": false,
     "node_id": "KdyIbCJmUv0vTybroC6pyA",
     "type": "CODE"
    }
   },
   "outputs": [
    {
     "name": "stdout",
     "output_type": "stream",
     "text": [
      "The lift in average filtered conversion (group B to group A) is 117.3003 %\n"
     ]
    }
   ],
   "source": [
    "print(f'The lift in average filtered conversion (group B to group A) is {lift} %')"
   ]
  },
  {
   "cell_type": "markdown",
   "metadata": {
    "datalore": {
     "hide_input_from_viewers": false,
     "hide_output_from_viewers": false,
     "node_id": "01g8tlFh817OQv9iLRrdHV",
     "type": "MD"
    }
   },
   "source": [
    "* P-value for filtered data changed but still is lower than the chosen alpha level of 0,05\n",
    "* Thus, we **reject H0**\n",
    "* **There is a statistically significant difference in the conversions in two groups** also on filtered data\n",
    "* Moreover, there is a bigger lift of **18,3% in the average conversions after filtering** (B group to A group)"
   ]
  },
  {
   "cell_type": "markdown",
   "metadata": {
    "datalore": {
     "hide_input_from_viewers": false,
     "hide_output_from_viewers": false,
     "node_id": "oa6tvV8bSU8zXI37owbqbQ",
     "type": "MD"
    }
   },
   "source": [
    "### 13. Statistical test of the average amount of the order"
   ]
  },
  {
   "cell_type": "markdown",
   "metadata": {
    "datalore": {
     "hide_input_from_viewers": false,
     "hide_output_from_viewers": false,
     "node_id": "87ViaFOKtflQGhfaALJ566",
     "type": "MD"
    }
   },
   "source": [
    "* H0: average amount of the order in two groups is equal\n",
    "* H1: average amount of the order in two groups is not equal\n",
    "* Alpha: 0,05"
   ]
  },
  {
   "cell_type": "code",
   "execution_count": 52,
   "metadata": {
    "datalore": {
     "hide_input_from_viewers": false,
     "hide_output_from_viewers": false,
     "node_id": "EID4uJG960N0tk6CxBFQKS",
     "type": "CODE"
    }
   },
   "outputs": [],
   "source": [
    "# get the filters on order amounts\n",
    "\n",
    "revenue_filter = np.percentile(orders['revenue'], 95)\n",
    "\n",
    "revenue_a_filtered = revenue_a.reset_index().query('revenue <= @revenue_filter')\n",
    "revenue_b_filtered = revenue_b.reset_index().query('revenue <= @revenue_filter')"
   ]
  },
  {
   "cell_type": "code",
   "execution_count": 53,
   "metadata": {
    "datalore": {
     "hide_input_from_viewers": false,
     "hide_output_from_viewers": false,
     "node_id": "sro1K0CYrzdp4sGPlJyM3p",
     "type": "CODE"
    }
   },
   "outputs": [],
   "source": [
    "# do Mann Whitneyu test for two groups on filtered data of order amount\n",
    "\n",
    "stat_results = scipy.stats.mannwhitneyu(revenue_a_filtered['revenue'], revenue_b_filtered['revenue'])"
   ]
  },
  {
   "cell_type": "code",
   "execution_count": 54,
   "metadata": {
    "datalore": {
     "hide_input_from_viewers": false,
     "hide_output_from_viewers": false,
     "node_id": "mzjpWlayhlg7Ez8zanKcE5",
     "type": "CODE"
    }
   },
   "outputs": [
    {
     "name": "stdout",
     "output_type": "stream",
     "text": [
      "P value of the test is 0.6986767755765741\n"
     ]
    }
   ],
   "source": [
    "# stat test results\n",
    "\n",
    "print(f'P value of the test is {stat_results.pvalue}')"
   ]
  },
  {
   "cell_type": "code",
   "execution_count": 55,
   "metadata": {
    "datalore": {
     "hide_input_from_viewers": false,
     "hide_output_from_viewers": false,
     "node_id": "Vib3x6cnai47cIh71Qdw4K",
     "type": "CODE"
    }
   },
   "outputs": [],
   "source": [
    "# calc the lift in the average filtered order amount\n",
    "\n",
    "lift = round((revenue_b_filtered['revenue'].mean() / revenue_a_filtered['revenue'].mean()) * 100 - 1, 4)"
   ]
  },
  {
   "cell_type": "code",
   "execution_count": 56,
   "metadata": {},
   "outputs": [
    {
     "name": "stdout",
     "output_type": "stream",
     "text": [
      "The lift in average filtered order amount (group B to group A) is 93.1272%\n"
     ]
    }
   ],
   "source": [
    "print(f'The lift in average filtered order amount (group B to group A) is {lift}%')"
   ]
  },
  {
   "cell_type": "markdown",
   "metadata": {
    "datalore": {
     "hide_input_from_viewers": false,
     "hide_output_from_viewers": false,
     "node_id": "mus0rWt3AnBU3GMckb5hKE",
     "type": "MD"
    }
   },
   "source": [
    "* P-value of the test is bigger than the chosen alpha level of 0,05\n",
    "* Thus, we **do not have a reason to reject H0**\n",
    "* **There is no statistically significant difference in the order amount in two groups** on the filtered data as well\n",
    "* There is even a negative lift of **5,9% in the average order amount** (B group to A group)"
   ]
  },
  {
   "cell_type": "markdown",
   "metadata": {
    "datalore": {
     "hide_input_from_viewers": false,
     "hide_output_from_viewers": false,
     "node_id": "O7UjlUz9xUBKHJGUEUiTMs",
     "type": "MD"
    }
   },
   "source": [
    "### 14. Test results"
   ]
  },
  {
   "cell_type": "markdown",
   "metadata": {
    "datalore": {
     "hide_input_from_viewers": false,
     "hide_output_from_viewers": false,
     "node_id": "Pv1yXYZVjaC4y6yNrZrhZ2",
     "type": "MD"
    }
   },
   "source": [
    "1. Looking at cumulative data for two groups, we spotted some **large outliers in data points**\n",
    "2. Thus, later on, **we filtered the data by number of orders per user (not more than 1) and by order amount (not more than 26,8k)**\n",
    "3. **Closer to the end of the test, cumulative conversions got some stability**, although not with straight lines\n",
    "4. Having done the statistical tests (Mann Whitney U-test) we found out that: \n",
    "    * There is a **statistically significant difference in the conversions in two groups both on the raw and filtered data**\n",
    "    * However, on the other hand, there is **no statistically significant difference in the orders' amounts both on the raw and filtered data**\n",
    "    * Actually, after the filtration, the **lift in the average orders' amounts (group B to group A) became even negative (of 5,9%)**\n",
    "5. As a result, we **stop the test and mark it as a negative one** due to the fact that we believe the revenue is more important than just the conversions\n",
    "6. The **version B should not go into production**"
   ]
  }
 ],
 "metadata": {
  "ExecuteTimeLog": [
   {
    "duration": 1342,
    "start_time": "2022-08-02T20:42:20.228Z"
   },
   {
    "duration": 3,
    "start_time": "2022-08-02T20:42:21.572Z"
   },
   {
    "duration": 189,
    "start_time": "2022-08-02T20:42:21.576Z"
   },
   {
    "duration": 12,
    "start_time": "2022-08-02T20:42:21.766Z"
   },
   {
    "duration": 7,
    "start_time": "2022-08-02T20:42:21.780Z"
   },
   {
    "duration": 6,
    "start_time": "2022-08-02T20:42:21.789Z"
   },
   {
    "duration": 15,
    "start_time": "2022-08-02T20:42:21.796Z"
   },
   {
    "duration": 16,
    "start_time": "2022-08-02T20:42:21.813Z"
   },
   {
    "duration": 11,
    "start_time": "2022-08-02T20:42:21.831Z"
   },
   {
    "duration": 17,
    "start_time": "2022-08-02T20:42:21.844Z"
   },
   {
    "duration": 21,
    "start_time": "2022-08-02T20:42:21.863Z"
   },
   {
    "duration": 19,
    "start_time": "2022-08-02T20:42:21.886Z"
   },
   {
    "duration": 19,
    "start_time": "2022-08-02T20:42:21.907Z"
   },
   {
    "duration": 15,
    "start_time": "2022-08-02T20:42:21.930Z"
   },
   {
    "duration": 17,
    "start_time": "2022-08-02T20:42:21.947Z"
   },
   {
    "duration": 18,
    "start_time": "2022-08-02T20:42:21.966Z"
   },
   {
    "duration": 8,
    "start_time": "2022-08-02T20:42:21.985Z"
   },
   {
    "duration": 15,
    "start_time": "2022-08-02T20:42:21.994Z"
   },
   {
    "duration": 22,
    "start_time": "2022-08-02T20:42:22.011Z"
   },
   {
    "duration": 16,
    "start_time": "2022-08-02T20:42:22.035Z"
   },
   {
    "duration": 55,
    "start_time": "2022-08-02T20:42:22.053Z"
   },
   {
    "duration": 10,
    "start_time": "2022-08-02T20:42:22.110Z"
   },
   {
    "duration": 30,
    "start_time": "2022-08-02T20:42:22.122Z"
   },
   {
    "duration": 298,
    "start_time": "2022-08-02T20:42:22.153Z"
   },
   {
    "duration": 339,
    "start_time": "2022-08-02T20:42:22.453Z"
   },
   {
    "duration": 4,
    "start_time": "2022-08-02T20:42:22.793Z"
   },
   {
    "duration": 516,
    "start_time": "2022-08-02T20:42:22.799Z"
   },
   {
    "duration": 353,
    "start_time": "2022-08-02T20:42:23.317Z"
   },
   {
    "duration": 6,
    "start_time": "2022-08-02T20:42:23.672Z"
   },
   {
    "duration": 399,
    "start_time": "2022-08-02T20:42:23.679Z"
   },
   {
    "duration": 12,
    "start_time": "2022-08-02T20:42:24.079Z"
   },
   {
    "duration": 172,
    "start_time": "2022-08-02T20:42:24.092Z"
   },
   {
    "duration": 243,
    "start_time": "2022-08-02T20:42:24.266Z"
   },
   {
    "duration": 5,
    "start_time": "2022-08-02T20:42:24.510Z"
   },
   {
    "duration": 362,
    "start_time": "2022-08-02T20:42:24.516Z"
   },
   {
    "duration": 9,
    "start_time": "2022-08-02T20:42:24.880Z"
   },
   {
    "duration": 22,
    "start_time": "2022-08-02T20:42:24.890Z"
   },
   {
    "duration": 11,
    "start_time": "2022-08-02T20:42:24.914Z"
   },
   {
    "duration": 12,
    "start_time": "2022-08-02T20:42:24.927Z"
   },
   {
    "duration": 9,
    "start_time": "2022-08-02T20:42:24.942Z"
   },
   {
    "duration": 4,
    "start_time": "2022-08-02T20:42:24.955Z"
   },
   {
    "duration": 30,
    "start_time": "2022-08-02T20:42:24.961Z"
   },
   {
    "duration": 3,
    "start_time": "2022-08-02T20:42:24.992Z"
   },
   {
    "duration": 10,
    "start_time": "2022-08-02T20:42:24.997Z"
   },
   {
    "duration": 19,
    "start_time": "2022-08-02T20:42:25.009Z"
   },
   {
    "duration": 10,
    "start_time": "2022-08-02T20:42:25.030Z"
   },
   {
    "duration": 13,
    "start_time": "2022-08-02T20:42:25.042Z"
   },
   {
    "duration": 13,
    "start_time": "2022-08-02T20:42:25.056Z"
   },
   {
    "duration": 30,
    "start_time": "2022-08-02T20:42:25.071Z"
   },
   {
    "duration": 4,
    "start_time": "2022-08-02T20:42:25.103Z"
   },
   {
    "duration": 13,
    "start_time": "2022-08-02T20:42:25.108Z"
   },
   {
    "duration": 16,
    "start_time": "2022-08-02T20:42:25.122Z"
   },
   {
    "duration": 7,
    "start_time": "2022-08-02T20:42:25.140Z"
   },
   {
    "duration": 9,
    "start_time": "2022-08-02T20:42:25.148Z"
   },
   {
    "duration": 9,
    "start_time": "2022-08-02T20:42:25.158Z"
   },
   {
    "duration": 7,
    "start_time": "2022-08-02T20:43:01.782Z"
   },
   {
    "duration": 26,
    "start_time": "2022-08-02T20:43:01.790Z"
   },
   {
    "duration": 90,
    "start_time": "2022-08-02T20:43:01.818Z"
   },
   {
    "duration": 9,
    "start_time": "2022-08-02T20:43:01.910Z"
   },
   {
    "duration": 15,
    "start_time": "2022-08-02T20:43:01.921Z"
   },
   {
    "duration": 12,
    "start_time": "2022-08-02T20:43:01.938Z"
   },
   {
    "duration": 30,
    "start_time": "2022-08-02T20:43:01.951Z"
   },
   {
    "duration": 23,
    "start_time": "2022-08-02T20:43:01.983Z"
   },
   {
    "duration": 13,
    "start_time": "2022-08-02T20:43:02.008Z"
   },
   {
    "duration": 36,
    "start_time": "2022-08-02T20:43:02.022Z"
   },
   {
    "duration": 12,
    "start_time": "2022-08-02T20:43:02.060Z"
   },
   {
    "duration": 15,
    "start_time": "2022-08-02T20:43:02.074Z"
   },
   {
    "duration": 15,
    "start_time": "2022-08-02T20:43:02.091Z"
   },
   {
    "duration": 11,
    "start_time": "2022-08-02T20:43:02.108Z"
   },
   {
    "duration": 12,
    "start_time": "2022-08-02T20:43:02.121Z"
   },
   {
    "duration": 13,
    "start_time": "2022-08-02T20:43:02.134Z"
   },
   {
    "duration": 17,
    "start_time": "2022-08-02T20:43:02.149Z"
   },
   {
    "duration": 18,
    "start_time": "2022-08-02T20:43:02.167Z"
   },
   {
    "duration": 13,
    "start_time": "2022-08-02T20:43:02.186Z"
   },
   {
    "duration": 11,
    "start_time": "2022-08-02T20:43:02.201Z"
   },
   {
    "duration": 67,
    "start_time": "2022-08-02T20:43:02.214Z"
   },
   {
    "duration": 12,
    "start_time": "2022-08-02T20:43:02.283Z"
   },
   {
    "duration": 27,
    "start_time": "2022-08-02T20:43:02.297Z"
   },
   {
    "duration": 331,
    "start_time": "2022-08-02T20:43:02.326Z"
   },
   {
    "duration": 367,
    "start_time": "2022-08-02T20:43:02.659Z"
   },
   {
    "duration": 4,
    "start_time": "2022-08-02T20:43:03.028Z"
   },
   {
    "duration": 534,
    "start_time": "2022-08-02T20:43:03.034Z"
   },
   {
    "duration": 354,
    "start_time": "2022-08-02T20:43:03.570Z"
   },
   {
    "duration": 4,
    "start_time": "2022-08-02T20:43:03.925Z"
   },
   {
    "duration": 436,
    "start_time": "2022-08-02T20:43:03.931Z"
   },
   {
    "duration": 5,
    "start_time": "2022-08-02T20:43:04.369Z"
   },
   {
    "duration": 200,
    "start_time": "2022-08-02T20:43:04.376Z"
   },
   {
    "duration": 242,
    "start_time": "2022-08-02T20:43:04.578Z"
   },
   {
    "duration": 5,
    "start_time": "2022-08-02T20:43:04.822Z"
   },
   {
    "duration": 310,
    "start_time": "2022-08-02T20:43:04.828Z"
   },
   {
    "duration": 8,
    "start_time": "2022-08-02T20:43:05.139Z"
   },
   {
    "duration": 19,
    "start_time": "2022-08-02T20:43:05.148Z"
   },
   {
    "duration": 32,
    "start_time": "2022-08-02T20:43:05.169Z"
   },
   {
    "duration": 46,
    "start_time": "2022-08-02T20:43:05.202Z"
   },
   {
    "duration": 31,
    "start_time": "2022-08-02T20:43:05.249Z"
   },
   {
    "duration": 32,
    "start_time": "2022-08-02T20:43:05.281Z"
   },
   {
    "duration": 54,
    "start_time": "2022-08-02T20:43:05.315Z"
   },
   {
    "duration": 5,
    "start_time": "2022-08-02T20:43:05.370Z"
   },
   {
    "duration": 24,
    "start_time": "2022-08-02T20:43:05.376Z"
   },
   {
    "duration": 48,
    "start_time": "2022-08-02T20:43:05.402Z"
   },
   {
    "duration": 22,
    "start_time": "2022-08-02T20:43:05.452Z"
   },
   {
    "duration": 23,
    "start_time": "2022-08-02T20:43:05.476Z"
   },
   {
    "duration": 39,
    "start_time": "2022-08-02T20:43:05.500Z"
   },
   {
    "duration": 45,
    "start_time": "2022-08-02T20:43:05.541Z"
   },
   {
    "duration": 24,
    "start_time": "2022-08-02T20:43:05.588Z"
   },
   {
    "duration": 31,
    "start_time": "2022-08-02T20:43:05.614Z"
   },
   {
    "duration": 19,
    "start_time": "2022-08-02T20:43:05.647Z"
   },
   {
    "duration": 36,
    "start_time": "2022-08-02T20:43:05.668Z"
   },
   {
    "duration": 42,
    "start_time": "2022-08-02T20:43:05.706Z"
   },
   {
    "duration": 38,
    "start_time": "2022-08-02T20:43:05.750Z"
   },
   {
    "duration": 46,
    "start_time": "2022-08-02T21:16:01.351Z"
   },
   {
    "duration": 1311,
    "start_time": "2022-08-02T21:16:04.749Z"
   },
   {
    "duration": 3,
    "start_time": "2022-08-02T21:16:06.062Z"
   },
   {
    "duration": 1268,
    "start_time": "2022-08-04T10:10:59.948Z"
   },
   {
    "duration": 4,
    "start_time": "2022-08-04T10:11:01.218Z"
   },
   {
    "duration": 237,
    "start_time": "2022-08-04T10:11:01.223Z"
   },
   {
    "duration": 13,
    "start_time": "2022-08-04T10:11:01.462Z"
   },
   {
    "duration": 27,
    "start_time": "2022-08-04T10:11:01.478Z"
   },
   {
    "duration": 18,
    "start_time": "2022-08-04T10:11:01.506Z"
   },
   {
    "duration": 16,
    "start_time": "2022-08-04T10:11:01.525Z"
   },
   {
    "duration": 22,
    "start_time": "2022-08-04T10:11:01.542Z"
   },
   {
    "duration": 10,
    "start_time": "2022-08-04T10:11:01.565Z"
   },
   {
    "duration": 33,
    "start_time": "2022-08-04T10:11:01.576Z"
   },
   {
    "duration": 12,
    "start_time": "2022-08-04T10:11:01.611Z"
   },
   {
    "duration": 13,
    "start_time": "2022-08-04T10:11:01.624Z"
   },
   {
    "duration": 24,
    "start_time": "2022-08-04T10:11:01.639Z"
   },
   {
    "duration": 26,
    "start_time": "2022-08-04T10:11:01.665Z"
   },
   {
    "duration": 7,
    "start_time": "2022-08-04T10:11:01.693Z"
   },
   {
    "duration": 16,
    "start_time": "2022-08-04T10:11:01.702Z"
   },
   {
    "duration": 10,
    "start_time": "2022-08-04T10:11:01.719Z"
   },
   {
    "duration": 12,
    "start_time": "2022-08-04T10:11:01.730Z"
   },
   {
    "duration": 14,
    "start_time": "2022-08-04T10:11:01.743Z"
   },
   {
    "duration": 37,
    "start_time": "2022-08-04T10:11:01.758Z"
   },
   {
    "duration": 18,
    "start_time": "2022-08-04T10:11:01.796Z"
   },
   {
    "duration": 25,
    "start_time": "2022-08-04T10:11:01.815Z"
   },
   {
    "duration": 7,
    "start_time": "2022-08-04T10:11:01.842Z"
   },
   {
    "duration": 13,
    "start_time": "2022-08-04T10:11:01.850Z"
   },
   {
    "duration": 20,
    "start_time": "2022-08-04T10:11:01.864Z"
   },
   {
    "duration": 8,
    "start_time": "2022-08-04T10:11:01.885Z"
   },
   {
    "duration": 45,
    "start_time": "2022-08-04T10:11:01.894Z"
   },
   {
    "duration": 9,
    "start_time": "2022-08-04T10:11:01.941Z"
   },
   {
    "duration": 49,
    "start_time": "2022-08-04T10:11:01.952Z"
   },
   {
    "duration": 333,
    "start_time": "2022-08-04T10:11:02.002Z"
   },
   {
    "duration": 316,
    "start_time": "2022-08-04T10:11:02.336Z"
   },
   {
    "duration": 4,
    "start_time": "2022-08-04T10:11:02.653Z"
   },
   {
    "duration": 475,
    "start_time": "2022-08-04T10:11:02.658Z"
   },
   {
    "duration": 349,
    "start_time": "2022-08-04T10:11:03.135Z"
   },
   {
    "duration": 4,
    "start_time": "2022-08-04T10:11:03.486Z"
   },
   {
    "duration": 424,
    "start_time": "2022-08-04T10:11:03.491Z"
   },
   {
    "duration": 7,
    "start_time": "2022-08-04T10:11:03.916Z"
   },
   {
    "duration": 203,
    "start_time": "2022-08-04T10:11:03.924Z"
   },
   {
    "duration": 248,
    "start_time": "2022-08-04T10:11:04.129Z"
   },
   {
    "duration": 4,
    "start_time": "2022-08-04T10:11:04.379Z"
   },
   {
    "duration": 380,
    "start_time": "2022-08-04T10:11:04.387Z"
   },
   {
    "duration": 8,
    "start_time": "2022-08-04T10:11:04.768Z"
   },
   {
    "duration": 7,
    "start_time": "2022-08-04T10:11:04.777Z"
   },
   {
    "duration": 25,
    "start_time": "2022-08-04T10:11:04.785Z"
   },
   {
    "duration": 6,
    "start_time": "2022-08-04T10:11:04.811Z"
   },
   {
    "duration": 8,
    "start_time": "2022-08-04T10:11:04.819Z"
   },
   {
    "duration": 3,
    "start_time": "2022-08-04T10:11:04.830Z"
   },
   {
    "duration": 19,
    "start_time": "2022-08-04T10:11:04.835Z"
   },
   {
    "duration": 3,
    "start_time": "2022-08-04T10:11:04.856Z"
   },
   {
    "duration": 7,
    "start_time": "2022-08-04T10:11:04.860Z"
   },
   {
    "duration": 9,
    "start_time": "2022-08-04T10:11:04.868Z"
   },
   {
    "duration": 13,
    "start_time": "2022-08-04T10:11:04.878Z"
   },
   {
    "duration": 3,
    "start_time": "2022-08-04T10:11:04.905Z"
   },
   {
    "duration": 5,
    "start_time": "2022-08-04T10:11:04.909Z"
   },
   {
    "duration": 5,
    "start_time": "2022-08-04T10:11:04.916Z"
   },
   {
    "duration": 10,
    "start_time": "2022-08-04T10:11:04.922Z"
   },
   {
    "duration": 18,
    "start_time": "2022-08-04T10:11:04.933Z"
   },
   {
    "duration": 3,
    "start_time": "2022-08-04T10:11:04.953Z"
   },
   {
    "duration": 6,
    "start_time": "2022-08-04T10:11:04.957Z"
   },
   {
    "duration": 5,
    "start_time": "2022-08-04T10:11:04.965Z"
   },
   {
    "duration": 38,
    "start_time": "2022-08-04T10:11:04.971Z"
   },
   {
    "duration": 20,
    "start_time": "2022-08-04T10:11:05.010Z"
   },
   {
    "duration": 5,
    "start_time": "2022-08-04T10:11:05.032Z"
   },
   {
    "duration": 7,
    "start_time": "2022-08-04T10:11:05.039Z"
   },
   {
    "duration": 12,
    "start_time": "2022-08-04T10:11:05.047Z"
   },
   {
    "duration": 1093,
    "start_time": "2022-08-04T10:35:32.968Z"
   },
   {
    "duration": 3,
    "start_time": "2022-08-04T10:35:34.064Z"
   },
   {
    "duration": 80,
    "start_time": "2022-08-04T10:35:34.068Z"
   },
   {
    "duration": 10,
    "start_time": "2022-08-04T10:35:34.150Z"
   },
   {
    "duration": 5,
    "start_time": "2022-08-04T10:35:34.161Z"
   },
   {
    "duration": 5,
    "start_time": "2022-08-04T10:35:34.167Z"
   },
   {
    "duration": 12,
    "start_time": "2022-08-04T10:35:34.173Z"
   },
   {
    "duration": 9,
    "start_time": "2022-08-04T10:35:34.186Z"
   },
   {
    "duration": 4,
    "start_time": "2022-08-04T10:35:34.196Z"
   },
   {
    "duration": 10,
    "start_time": "2022-08-04T10:35:34.203Z"
   },
   {
    "duration": 9,
    "start_time": "2022-08-04T10:35:34.214Z"
   },
   {
    "duration": 10,
    "start_time": "2022-08-04T10:35:34.224Z"
   },
   {
    "duration": 10,
    "start_time": "2022-08-04T10:35:34.235Z"
   },
   {
    "duration": 6,
    "start_time": "2022-08-04T10:35:34.246Z"
   },
   {
    "duration": 7,
    "start_time": "2022-08-04T10:35:34.253Z"
   },
   {
    "duration": 9,
    "start_time": "2022-08-04T10:35:34.261Z"
   },
   {
    "duration": 5,
    "start_time": "2022-08-04T10:35:34.271Z"
   },
   {
    "duration": 10,
    "start_time": "2022-08-04T10:35:34.277Z"
   },
   {
    "duration": 9,
    "start_time": "2022-08-04T10:35:34.305Z"
   },
   {
    "duration": 8,
    "start_time": "2022-08-04T10:35:34.315Z"
   },
   {
    "duration": 7,
    "start_time": "2022-08-04T10:35:34.324Z"
   },
   {
    "duration": 19,
    "start_time": "2022-08-04T10:35:34.332Z"
   },
   {
    "duration": 7,
    "start_time": "2022-08-04T10:35:34.352Z"
   },
   {
    "duration": 9,
    "start_time": "2022-08-04T10:35:34.361Z"
   },
   {
    "duration": 34,
    "start_time": "2022-08-04T10:35:34.371Z"
   },
   {
    "duration": 6,
    "start_time": "2022-08-04T10:35:34.407Z"
   },
   {
    "duration": 37,
    "start_time": "2022-08-04T10:35:34.415Z"
   },
   {
    "duration": 15,
    "start_time": "2022-08-04T10:35:34.457Z"
   },
   {
    "duration": 35,
    "start_time": "2022-08-04T10:35:34.474Z"
   },
   {
    "duration": 269,
    "start_time": "2022-08-04T10:35:34.511Z"
   },
   {
    "duration": 319,
    "start_time": "2022-08-04T10:35:34.781Z"
   },
   {
    "duration": 6,
    "start_time": "2022-08-04T10:35:35.101Z"
   },
   {
    "duration": 377,
    "start_time": "2022-08-04T10:35:35.109Z"
   },
   {
    "duration": 352,
    "start_time": "2022-08-04T10:35:35.488Z"
   },
   {
    "duration": 5,
    "start_time": "2022-08-04T10:35:35.842Z"
   },
   {
    "duration": 451,
    "start_time": "2022-08-04T10:35:35.848Z"
   },
   {
    "duration": 8,
    "start_time": "2022-08-04T10:35:36.301Z"
   },
   {
    "duration": 178,
    "start_time": "2022-08-04T10:35:36.310Z"
   },
   {
    "duration": 274,
    "start_time": "2022-08-04T10:35:36.490Z"
   },
   {
    "duration": 5,
    "start_time": "2022-08-04T10:35:36.767Z"
   },
   {
    "duration": 416,
    "start_time": "2022-08-04T10:35:36.774Z"
   },
   {
    "duration": 14,
    "start_time": "2022-08-04T10:35:37.192Z"
   },
   {
    "duration": 4,
    "start_time": "2022-08-04T10:35:37.208Z"
   },
   {
    "duration": 9,
    "start_time": "2022-08-04T10:35:37.213Z"
   },
   {
    "duration": 5,
    "start_time": "2022-08-04T10:35:37.224Z"
   },
   {
    "duration": 5,
    "start_time": "2022-08-04T10:35:37.231Z"
   },
   {
    "duration": 5,
    "start_time": "2022-08-04T10:35:37.237Z"
   },
   {
    "duration": 19,
    "start_time": "2022-08-04T10:35:37.243Z"
   },
   {
    "duration": 2,
    "start_time": "2022-08-04T10:35:37.264Z"
   },
   {
    "duration": 5,
    "start_time": "2022-08-04T10:35:37.268Z"
   },
   {
    "duration": 33,
    "start_time": "2022-08-04T10:35:37.274Z"
   },
   {
    "duration": 10,
    "start_time": "2022-08-04T10:35:37.309Z"
   },
   {
    "duration": 6,
    "start_time": "2022-08-04T10:35:37.320Z"
   },
   {
    "duration": 4,
    "start_time": "2022-08-04T10:35:37.328Z"
   },
   {
    "duration": 6,
    "start_time": "2022-08-04T10:35:37.333Z"
   },
   {
    "duration": 11,
    "start_time": "2022-08-04T10:35:37.340Z"
   },
   {
    "duration": 18,
    "start_time": "2022-08-04T10:35:37.352Z"
   },
   {
    "duration": 4,
    "start_time": "2022-08-04T10:35:37.371Z"
   },
   {
    "duration": 30,
    "start_time": "2022-08-04T10:35:37.376Z"
   },
   {
    "duration": 3,
    "start_time": "2022-08-04T10:35:37.407Z"
   },
   {
    "duration": 10,
    "start_time": "2022-08-04T10:35:37.411Z"
   },
   {
    "duration": 6,
    "start_time": "2022-08-04T10:35:37.422Z"
   },
   {
    "duration": 3,
    "start_time": "2022-08-04T10:35:37.429Z"
   },
   {
    "duration": 5,
    "start_time": "2022-08-04T10:35:37.434Z"
   },
   {
    "duration": 9,
    "start_time": "2022-08-04T10:35:37.440Z"
   },
   {
    "duration": 3,
    "start_time": "2022-08-04T10:36:53.526Z"
   },
   {
    "duration": 3,
    "start_time": "2022-08-04T10:36:59.803Z"
   },
   {
    "duration": 3,
    "start_time": "2022-08-04T10:37:03.548Z"
   },
   {
    "duration": 3,
    "start_time": "2022-08-04T10:37:03.766Z"
   },
   {
    "duration": 4,
    "start_time": "2022-08-04T10:37:41.173Z"
   },
   {
    "duration": 3,
    "start_time": "2022-08-04T10:37:44.963Z"
   },
   {
    "duration": 3,
    "start_time": "2022-08-04T10:38:00.384Z"
   },
   {
    "duration": 3,
    "start_time": "2022-08-04T10:38:01.937Z"
   },
   {
    "duration": 3,
    "start_time": "2022-08-04T10:38:04.539Z"
   },
   {
    "duration": 4,
    "start_time": "2022-08-04T10:38:06.890Z"
   },
   {
    "duration": 4,
    "start_time": "2022-08-04T10:38:19.595Z"
   },
   {
    "duration": 3,
    "start_time": "2022-08-04T10:38:19.945Z"
   },
   {
    "duration": 4,
    "start_time": "2022-08-04T10:38:20.345Z"
   },
   {
    "duration": 3,
    "start_time": "2022-08-04T10:38:27.345Z"
   },
   {
    "duration": 4,
    "start_time": "2022-08-04T10:38:28.536Z"
   },
   {
    "duration": 2,
    "start_time": "2022-08-04T10:38:38.394Z"
   },
   {
    "duration": 3,
    "start_time": "2022-08-04T10:38:38.935Z"
   },
   {
    "duration": 3,
    "start_time": "2022-08-04T10:38:39.087Z"
   },
   {
    "duration": 4,
    "start_time": "2022-08-04T10:38:47.137Z"
   },
   {
    "duration": 4,
    "start_time": "2022-08-04T10:38:47.307Z"
   },
   {
    "duration": 4,
    "start_time": "2022-08-04T10:38:47.521Z"
   },
   {
    "duration": 3,
    "start_time": "2022-08-04T10:39:03.448Z"
   },
   {
    "duration": 3,
    "start_time": "2022-08-04T10:39:04.483Z"
   },
   {
    "duration": 3,
    "start_time": "2022-08-04T10:39:08.362Z"
   },
   {
    "duration": 3,
    "start_time": "2022-08-04T10:39:09.800Z"
   }
  ],
  "datalore": {
   "base_environment": "default",
   "computation_mode": "JUPYTER",
   "package_manager": "pip",
   "packages": [],
   "version": 1
  },
  "kernelspec": {
   "display_name": "Python 3 (ipykernel)",
   "language": "python",
   "name": "python3"
  },
  "language_info": {
   "codemirror_mode": {
    "name": "ipython",
    "version": 3
   },
   "file_extension": ".py",
   "mimetype": "text/x-python",
   "name": "python",
   "nbconvert_exporter": "python",
   "pygments_lexer": "ipython3",
   "version": "3.9.7"
  },
  "toc": {
   "base_numbering": 1,
   "nav_menu": {},
   "number_sections": true,
   "sideBar": true,
   "skip_h1_title": true,
   "title_cell": "Table of Contents",
   "title_sidebar": "Contents",
   "toc_cell": false,
   "toc_position": {},
   "toc_section_display": true,
   "toc_window_display": false
  }
 },
 "nbformat": 4,
 "nbformat_minor": 4
}
