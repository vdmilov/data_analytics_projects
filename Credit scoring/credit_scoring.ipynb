{
 "cells": [
  {
   "cell_type": "markdown",
   "id": "78a9793a",
   "metadata": {},
   "source": [
    "# Credit Scoring"
   ]
  },
  {
   "cell_type": "markdown",
   "id": "a3efa96d",
   "metadata": {},
   "source": [
    "**Analysis goals**:\n",
    "- Find out whether the marital status and the number of children affect the fact of repaying the loan on time.\n",
    "\n",
    "Input data: clients' solvency statistics from the bank.  \n",
    "Output data will be taken into account when building a credit scoring model.\n",
    "\n",
    "**Analysis structure**:\n",
    "* Data overview\n",
    "* Data preparation\n",
    "* Hypothesis check"
   ]
  },
  {
   "cell_type": "markdown",
   "id": "7805368b",
   "metadata": {
    "id": "Ml1hmfXC_Zcs"
   },
   "source": [
    "## Data overview"
   ]
  },
  {
   "cell_type": "code",
   "execution_count": 25,
   "id": "1f2ee3dc",
   "metadata": {},
   "outputs": [],
   "source": [
    "import pandas as pd"
   ]
  },
  {
   "cell_type": "code",
   "execution_count": 26,
   "id": "0f7bef59",
   "metadata": {},
   "outputs": [],
   "source": [
    "df = pd.read_csv('data.csv')"
   ]
  },
  {
   "cell_type": "code",
   "execution_count": 27,
   "id": "ef39405b",
   "metadata": {},
   "outputs": [
    {
     "data": {
      "text/html": [
       "<div>\n",
       "<style scoped>\n",
       "    .dataframe tbody tr th:only-of-type {\n",
       "        vertical-align: middle;\n",
       "    }\n",
       "\n",
       "    .dataframe tbody tr th {\n",
       "        vertical-align: top;\n",
       "    }\n",
       "\n",
       "    .dataframe thead th {\n",
       "        text-align: right;\n",
       "    }\n",
       "</style>\n",
       "<table border=\"1\" class=\"dataframe\">\n",
       "  <thead>\n",
       "    <tr style=\"text-align: right;\">\n",
       "      <th></th>\n",
       "      <th>children</th>\n",
       "      <th>days_employed</th>\n",
       "      <th>dob_years</th>\n",
       "      <th>education</th>\n",
       "      <th>education_id</th>\n",
       "      <th>family_status</th>\n",
       "      <th>family_status_id</th>\n",
       "      <th>gender</th>\n",
       "      <th>income_type</th>\n",
       "      <th>debt</th>\n",
       "      <th>total_income</th>\n",
       "      <th>purpose</th>\n",
       "    </tr>\n",
       "  </thead>\n",
       "  <tbody>\n",
       "    <tr>\n",
       "      <th>0</th>\n",
       "      <td>1</td>\n",
       "      <td>-8437.673028</td>\n",
       "      <td>42</td>\n",
       "      <td>высшее</td>\n",
       "      <td>0</td>\n",
       "      <td>женат / замужем</td>\n",
       "      <td>0</td>\n",
       "      <td>F</td>\n",
       "      <td>сотрудник</td>\n",
       "      <td>0</td>\n",
       "      <td>253875.639453</td>\n",
       "      <td>покупка жилья</td>\n",
       "    </tr>\n",
       "    <tr>\n",
       "      <th>1</th>\n",
       "      <td>1</td>\n",
       "      <td>-4024.803754</td>\n",
       "      <td>36</td>\n",
       "      <td>среднее</td>\n",
       "      <td>1</td>\n",
       "      <td>женат / замужем</td>\n",
       "      <td>0</td>\n",
       "      <td>F</td>\n",
       "      <td>сотрудник</td>\n",
       "      <td>0</td>\n",
       "      <td>112080.014102</td>\n",
       "      <td>приобретение автомобиля</td>\n",
       "    </tr>\n",
       "    <tr>\n",
       "      <th>2</th>\n",
       "      <td>0</td>\n",
       "      <td>-5623.422610</td>\n",
       "      <td>33</td>\n",
       "      <td>Среднее</td>\n",
       "      <td>1</td>\n",
       "      <td>женат / замужем</td>\n",
       "      <td>0</td>\n",
       "      <td>M</td>\n",
       "      <td>сотрудник</td>\n",
       "      <td>0</td>\n",
       "      <td>145885.952297</td>\n",
       "      <td>покупка жилья</td>\n",
       "    </tr>\n",
       "    <tr>\n",
       "      <th>3</th>\n",
       "      <td>3</td>\n",
       "      <td>-4124.747207</td>\n",
       "      <td>32</td>\n",
       "      <td>среднее</td>\n",
       "      <td>1</td>\n",
       "      <td>женат / замужем</td>\n",
       "      <td>0</td>\n",
       "      <td>M</td>\n",
       "      <td>сотрудник</td>\n",
       "      <td>0</td>\n",
       "      <td>267628.550329</td>\n",
       "      <td>дополнительное образование</td>\n",
       "    </tr>\n",
       "    <tr>\n",
       "      <th>4</th>\n",
       "      <td>0</td>\n",
       "      <td>340266.072047</td>\n",
       "      <td>53</td>\n",
       "      <td>среднее</td>\n",
       "      <td>1</td>\n",
       "      <td>гражданский брак</td>\n",
       "      <td>1</td>\n",
       "      <td>F</td>\n",
       "      <td>пенсионер</td>\n",
       "      <td>0</td>\n",
       "      <td>158616.077870</td>\n",
       "      <td>сыграть свадьбу</td>\n",
       "    </tr>\n",
       "    <tr>\n",
       "      <th>5</th>\n",
       "      <td>0</td>\n",
       "      <td>-926.185831</td>\n",
       "      <td>27</td>\n",
       "      <td>высшее</td>\n",
       "      <td>0</td>\n",
       "      <td>гражданский брак</td>\n",
       "      <td>1</td>\n",
       "      <td>M</td>\n",
       "      <td>компаньон</td>\n",
       "      <td>0</td>\n",
       "      <td>255763.565419</td>\n",
       "      <td>покупка жилья</td>\n",
       "    </tr>\n",
       "    <tr>\n",
       "      <th>6</th>\n",
       "      <td>0</td>\n",
       "      <td>-2879.202052</td>\n",
       "      <td>43</td>\n",
       "      <td>высшее</td>\n",
       "      <td>0</td>\n",
       "      <td>женат / замужем</td>\n",
       "      <td>0</td>\n",
       "      <td>F</td>\n",
       "      <td>компаньон</td>\n",
       "      <td>0</td>\n",
       "      <td>240525.971920</td>\n",
       "      <td>операции с жильем</td>\n",
       "    </tr>\n",
       "    <tr>\n",
       "      <th>7</th>\n",
       "      <td>0</td>\n",
       "      <td>-152.779569</td>\n",
       "      <td>50</td>\n",
       "      <td>СРЕДНЕЕ</td>\n",
       "      <td>1</td>\n",
       "      <td>женат / замужем</td>\n",
       "      <td>0</td>\n",
       "      <td>M</td>\n",
       "      <td>сотрудник</td>\n",
       "      <td>0</td>\n",
       "      <td>135823.934197</td>\n",
       "      <td>образование</td>\n",
       "    </tr>\n",
       "    <tr>\n",
       "      <th>8</th>\n",
       "      <td>2</td>\n",
       "      <td>-6929.865299</td>\n",
       "      <td>35</td>\n",
       "      <td>ВЫСШЕЕ</td>\n",
       "      <td>0</td>\n",
       "      <td>гражданский брак</td>\n",
       "      <td>1</td>\n",
       "      <td>F</td>\n",
       "      <td>сотрудник</td>\n",
       "      <td>0</td>\n",
       "      <td>95856.832424</td>\n",
       "      <td>на проведение свадьбы</td>\n",
       "    </tr>\n",
       "    <tr>\n",
       "      <th>9</th>\n",
       "      <td>0</td>\n",
       "      <td>-2188.756445</td>\n",
       "      <td>41</td>\n",
       "      <td>среднее</td>\n",
       "      <td>1</td>\n",
       "      <td>женат / замужем</td>\n",
       "      <td>0</td>\n",
       "      <td>M</td>\n",
       "      <td>сотрудник</td>\n",
       "      <td>0</td>\n",
       "      <td>144425.938277</td>\n",
       "      <td>покупка жилья для семьи</td>\n",
       "    </tr>\n",
       "  </tbody>\n",
       "</table>\n",
       "</div>"
      ],
      "text/plain": [
       "   children  days_employed  dob_years education  education_id  \\\n",
       "0         1   -8437.673028         42    высшее             0   \n",
       "1         1   -4024.803754         36   среднее             1   \n",
       "2         0   -5623.422610         33   Среднее             1   \n",
       "3         3   -4124.747207         32   среднее             1   \n",
       "4         0  340266.072047         53   среднее             1   \n",
       "5         0    -926.185831         27    высшее             0   \n",
       "6         0   -2879.202052         43    высшее             0   \n",
       "7         0    -152.779569         50   СРЕДНЕЕ             1   \n",
       "8         2   -6929.865299         35    ВЫСШЕЕ             0   \n",
       "9         0   -2188.756445         41   среднее             1   \n",
       "\n",
       "      family_status  family_status_id gender income_type  debt   total_income  \\\n",
       "0   женат / замужем                 0      F   сотрудник     0  253875.639453   \n",
       "1   женат / замужем                 0      F   сотрудник     0  112080.014102   \n",
       "2   женат / замужем                 0      M   сотрудник     0  145885.952297   \n",
       "3   женат / замужем                 0      M   сотрудник     0  267628.550329   \n",
       "4  гражданский брак                 1      F   пенсионер     0  158616.077870   \n",
       "5  гражданский брак                 1      M   компаньон     0  255763.565419   \n",
       "6   женат / замужем                 0      F   компаньон     0  240525.971920   \n",
       "7   женат / замужем                 0      M   сотрудник     0  135823.934197   \n",
       "8  гражданский брак                 1      F   сотрудник     0   95856.832424   \n",
       "9   женат / замужем                 0      M   сотрудник     0  144425.938277   \n",
       "\n",
       "                      purpose  \n",
       "0               покупка жилья  \n",
       "1     приобретение автомобиля  \n",
       "2               покупка жилья  \n",
       "3  дополнительное образование  \n",
       "4             сыграть свадьбу  \n",
       "5               покупка жилья  \n",
       "6           операции с жильем  \n",
       "7                 образование  \n",
       "8       на проведение свадьбы  \n",
       "9     покупка жилья для семьи  "
      ]
     },
     "execution_count": 27,
     "metadata": {},
     "output_type": "execute_result"
    }
   ],
   "source": [
    "df.head(10)"
   ]
  },
  {
   "cell_type": "code",
   "execution_count": 28,
   "id": "0caf6376",
   "metadata": {
    "scrolled": false
   },
   "outputs": [
    {
     "name": "stdout",
     "output_type": "stream",
     "text": [
      "<class 'pandas.core.frame.DataFrame'>\n",
      "RangeIndex: 21525 entries, 0 to 21524\n",
      "Data columns (total 12 columns):\n",
      " #   Column            Non-Null Count  Dtype  \n",
      "---  ------            --------------  -----  \n",
      " 0   children          21525 non-null  int64  \n",
      " 1   days_employed     19351 non-null  float64\n",
      " 2   dob_years         21525 non-null  int64  \n",
      " 3   education         21525 non-null  object \n",
      " 4   education_id      21525 non-null  int64  \n",
      " 5   family_status     21525 non-null  object \n",
      " 6   family_status_id  21525 non-null  int64  \n",
      " 7   gender            21525 non-null  object \n",
      " 8   income_type       21525 non-null  object \n",
      " 9   debt              21525 non-null  int64  \n",
      " 10  total_income      19351 non-null  float64\n",
      " 11  purpose           21525 non-null  object \n",
      "dtypes: float64(2), int64(5), object(5)\n",
      "memory usage: 2.0+ MB\n"
     ]
    }
   ],
   "source": [
    "df.info()"
   ]
  },
  {
   "cell_type": "markdown",
   "id": "89da9e17",
   "metadata": {
    "id": "TaQ2Iwbr_Zct"
   },
   "source": [
    "There are 11 columns in the table:\n",
    "\n",
    "`children` — number of kids in the family; data type `int`  \n",
    "`days_employed` — number of days employed; data type `float`  \n",
    "`dob_years` — client's age in years; data type `int`  \n",
    "`education` — client's level of education; data type `object`  \n",
    "`education_id` — education identification; data type `int`  \n",
    "`family_status` — client's family status; data type `object`  \n",
    "`family_status_id` — family status identification; data type `int`  \n",
    "`gender` — client's gender; data type `object`  \n",
    "`income_type` — client's income type; data type `object`  \n",
    "`debt` — whether missed debt payments previously; data type `int`  \n",
    "`total_income` — client's total monthly income; data type `float`  \n",
    "`purpose` — client's credit purpose; data type `object`  \n",
    "\n",
    "\n",
    "- Non-null count for columns is different, so there are missing values in `days_employed` and `total_income` data.\n",
    "- Some of the data entries in `days_employed` are negative and some are way too high, which is strange and needs to be analysed in details.\n",
    "- There are definetely implicit duplicates regarding register in `education` which needs to be fixed.\n",
    "- Data in `purpose` also has implicit duplicates as it was filled in a free form."
   ]
  },
  {
   "cell_type": "markdown",
   "id": "7c86c567",
   "metadata": {
    "id": "SjYF6Ub9_Zct"
   },
   "source": [
    "## Data preparation"
   ]
  },
  {
   "cell_type": "markdown",
   "id": "35626057",
   "metadata": {
    "id": "5ISfbcfY_Zct"
   },
   "source": [
    "### Missing values in data"
   ]
  },
  {
   "cell_type": "markdown",
   "id": "05ebd713",
   "metadata": {},
   "source": [
    "We start with missing values in `total_income`. Let's first understand the proportion of missed data and then fix it."
   ]
  },
  {
   "cell_type": "code",
   "execution_count": 29,
   "id": "0ea88d65",
   "metadata": {},
   "outputs": [
    {
     "data": {
      "text/plain": [
       "0.10099883855981417"
      ]
     },
     "execution_count": 29,
     "metadata": {},
     "output_type": "execute_result"
    }
   ],
   "source": [
    "df['total_income'].isna().mean()"
   ]
  },
  {
   "cell_type": "markdown",
   "id": "65a94e97",
   "metadata": {},
   "source": [
    "Missing values are in around 10% of the cases - it is significant number. Most probably people when filling the form just omitted the field.  \n",
    "We fill the missing values with the median from each income type in order to exclude data outliers."
   ]
  },
  {
   "cell_type": "code",
   "execution_count": 30,
   "id": "e8c69516",
   "metadata": {},
   "outputs": [],
   "source": [
    "df['total_income'] = df['total_income'].fillna(df.groupby('income_type')['total_income'].transform(\"median\"))"
   ]
  },
  {
   "cell_type": "markdown",
   "id": "ebbcbeb3",
   "metadata": {
    "id": "5ISfbcfY_Zct"
   },
   "source": [
    "### Anomalies"
   ]
  },
  {
   "cell_type": "markdown",
   "id": "e6098e50",
   "metadata": {},
   "source": [
    "Let's check for some anomalies in data and fix it if needed."
   ]
  },
  {
   "cell_type": "markdown",
   "id": "27ab49b8",
   "metadata": {},
   "source": [
    "**Children**"
   ]
  },
  {
   "cell_type": "code",
   "execution_count": 31,
   "id": "99ff4c0d",
   "metadata": {},
   "outputs": [
    {
     "data": {
      "text/plain": [
       " 0     14149\n",
       " 1      4818\n",
       " 2      2055\n",
       " 3       330\n",
       " 20       76\n",
       "-1        47\n",
       " 4        41\n",
       " 5         9\n",
       "Name: children, dtype: int64"
      ]
     },
     "execution_count": 31,
     "metadata": {},
     "output_type": "execute_result"
    }
   ],
   "source": [
    "df['children'].value_counts()"
   ]
  },
  {
   "cell_type": "markdown",
   "id": "38636643",
   "metadata": {},
   "source": [
    "It is very strange to see that there can be `-1` and `20` children.  \n",
    "Assumptions:\n",
    "* In `-1` case the mistake was that it included the dash, so will turn this into `1`\n",
    "* In `20` case the mistake was that it was intended to be `2`, so will turn this into `2` "
   ]
  },
  {
   "cell_type": "code",
   "execution_count": 32,
   "id": "a8063332",
   "metadata": {},
   "outputs": [],
   "source": [
    "df.loc[df['children'] == -1, 'children'] = 1\n",
    "df.loc[df['children'] == 20, 'children'] = 2"
   ]
  },
  {
   "cell_type": "markdown",
   "id": "4d36fbb7",
   "metadata": {},
   "source": [
    "**Days employed**"
   ]
  },
  {
   "cell_type": "code",
   "execution_count": 33,
   "id": "1160137d",
   "metadata": {},
   "outputs": [
    {
     "data": {
      "text/plain": [
       "0.8219730246498889"
      ]
     },
     "execution_count": 33,
     "metadata": {},
     "output_type": "execute_result"
    }
   ],
   "source": [
    "df[df['days_employed'] < 0]['days_employed'].count() / df['days_employed'].count()"
   ]
  },
  {
   "cell_type": "markdown",
   "id": "ced58505",
   "metadata": {},
   "source": [
    "More than 80% of all the values are negative which is definetely an anomaly."
   ]
  },
  {
   "cell_type": "code",
   "execution_count": 34,
   "id": "c66f0bc0",
   "metadata": {
    "scrolled": true
   },
   "outputs": [
    {
     "data": {
      "text/plain": [
       "<AxesSubplot:ylabel='Frequency'>"
      ]
     },
     "execution_count": 34,
     "metadata": {},
     "output_type": "execute_result"
    },
    {
     "data": {
      "image/png": "[encoded data removed]",
      "text/plain": [
       "<Figure size 432x288 with 1 Axes>"
      ]
     },
     "metadata": {
      "needs_background": "light"
     },
     "output_type": "display_data"
    }
   ],
   "source": [
    "df['days_employed'].plot.hist(bins=100)"
   ]
  },
  {
   "cell_type": "markdown",
   "id": "f70b53cc",
   "metadata": {},
   "source": [
    "It is very clear on the histagram that there are only negative and way too big positive values (which are impossible to be: let's assume the maximum working period could be around 50 years, so it would be 50 years times 365 days = around 18k days only but not more than 400k).  \n",
    "  \n",
    "Let's have a deeper look into histagrams."
   ]
  },
  {
   "cell_type": "code",
   "execution_count": 36,
   "id": "8fe12599",
   "metadata": {},
   "outputs": [
    {
     "data": {
      "text/plain": [
       "<AxesSubplot:ylabel='Frequency'>"
      ]
     },
     "execution_count": 36,
     "metadata": {},
     "output_type": "execute_result"
    },
    {
     "data": {
      "image/png": "[encoded data removed]",
      "text/plain": [
       "<Figure size 432x288 with 1 Axes>"
      ]
     },
     "metadata": {
      "needs_background": "light"
     },
     "output_type": "display_data"
    }
   ],
   "source": [
    "df[df['days_employed'] < 0]['days_employed'].plot.hist(bins=100)"
   ]
  },
  {
   "cell_type": "markdown",
   "id": "d97b0f51",
   "metadata": {},
   "source": [
    "Negative part looks ok in terms of the numbers (max is around 17k) and distribution."
   ]
  },
  {
   "cell_type": "code",
   "execution_count": 37,
   "id": "1a6348c3",
   "metadata": {
    "scrolled": true
   },
   "outputs": [
    {
     "data": {
      "text/plain": [
       "<AxesSubplot:ylabel='Frequency'>"
      ]
     },
     "execution_count": 37,
     "metadata": {},
     "output_type": "execute_result"
    },
    {
     "data": {
      "image/png": "[encoded data removed]",
      "text/plain": [
       "<Figure size 432x288 with 1 Axes>"
      ]
     },
     "metadata": {
      "needs_background": "light"
     },
     "output_type": "display_data"
    }
   ],
   "source": [
    "df[df['days_employed'] > 0]['days_employed'].plot.hist(bins=100)"
   ]
  },
  {
   "cell_type": "markdown",
   "id": "a0860c26",
   "metadata": {},
   "source": [
    "Positive part is very anomal both in terms of the numbers and distribution."
   ]
  },
  {
   "cell_type": "markdown",
   "id": "b64d6964",
   "metadata": {},
   "source": [
    "Let's fix the anomalies.\n",
    "\n",
    "Assumptions:  \n",
    "* For negative values, we suppose the mistake is that includes the dash from the form, which here turned to be minus. So we turn all the negative values into positive.\n",
    "* For positive values, we suppose there is a technical mistake. So we apply the median for those ones. \n",
    "* Moreover, we apply medians for each income type for all the missing data in `days_employed` as well"
   ]
  },
  {
   "cell_type": "code",
   "execution_count": 38,
   "id": "b08f4041",
   "metadata": {},
   "outputs": [],
   "source": [
    "days_employed_median = abs(int(df[df['days_employed'] < 0]['days_employed'].median()))"
   ]
  },
  {
   "cell_type": "code",
   "execution_count": 39,
   "id": "652fe17b",
   "metadata": {},
   "outputs": [],
   "source": [
    "df['days_employed'] = df['days_employed'].apply(lambda x: days_employed_median if (x > 0) else abs(x))"
   ]
  },
  {
   "cell_type": "code",
   "execution_count": 40,
   "id": "1358140a",
   "metadata": {},
   "outputs": [],
   "source": [
    "df['days_employed'] = df['days_employed'].fillna(df.groupby('income_type')['days_employed'].transform('median'))"
   ]
  },
  {
   "cell_type": "code",
   "execution_count": 41,
   "id": "8c17b881",
   "metadata": {},
   "outputs": [
    {
     "data": {
      "text/plain": [
       "<AxesSubplot:ylabel='Frequency'>"
      ]
     },
     "execution_count": 41,
     "metadata": {},
     "output_type": "execute_result"
    },
    {
     "data": {
      "image/png": "[encoded data removed]",
      "text/plain": [
       "<Figure size 432x288 with 1 Axes>"
      ]
     },
     "metadata": {
      "needs_background": "light"
     },
     "output_type": "display_data"
    }
   ],
   "source": [
    "df['days_employed'].plot.hist(bins=100)"
   ]
  },
  {
   "cell_type": "markdown",
   "id": "8964cd05",
   "metadata": {},
   "source": [
    "The histogram now looks way less normal than for negative side two steps before but that is the only way we can work it out now.  \n",
    "We defenitely need to discuss these data entries with the developers to see how to fix it."
   ]
  },
  {
   "cell_type": "markdown",
   "id": "92c240d2",
   "metadata": {},
   "source": [
    "**Total income**"
   ]
  },
  {
   "cell_type": "markdown",
   "id": "0620bcc1",
   "metadata": {},
   "source": [
    "We bring `days_employed` and `total_income` to datatype `int` as those values should not be floats."
   ]
  },
  {
   "cell_type": "code",
   "execution_count": 42,
   "id": "11766cf3",
   "metadata": {},
   "outputs": [],
   "source": [
    "df['days_employed'] = df['days_employed'].astype(int)\n",
    "df['total_income'] = df['total_income'].astype(int)"
   ]
  },
  {
   "cell_type": "markdown",
   "id": "3458fec0",
   "metadata": {},
   "source": [
    "**Gender**"
   ]
  },
  {
   "cell_type": "code",
   "execution_count": 44,
   "id": "1f8cf6bd",
   "metadata": {},
   "outputs": [
    {
     "data": {
      "text/plain": [
       "F      14236\n",
       "M       7288\n",
       "XNA        1\n",
       "Name: gender, dtype: int64"
      ]
     },
     "execution_count": 44,
     "metadata": {},
     "output_type": "execute_result"
    }
   ],
   "source": [
    "df['gender'].value_counts()"
   ]
  },
  {
   "cell_type": "code",
   "execution_count": 45,
   "id": "15ae59fa",
   "metadata": {},
   "outputs": [
    {
     "data": {
      "text/html": [
       "<div>\n",
       "<style scoped>\n",
       "    .dataframe tbody tr th:only-of-type {\n",
       "        vertical-align: middle;\n",
       "    }\n",
       "\n",
       "    .dataframe tbody tr th {\n",
       "        vertical-align: top;\n",
       "    }\n",
       "\n",
       "    .dataframe thead th {\n",
       "        text-align: right;\n",
       "    }\n",
       "</style>\n",
       "<table border=\"1\" class=\"dataframe\">\n",
       "  <thead>\n",
       "    <tr style=\"text-align: right;\">\n",
       "      <th></th>\n",
       "      <th>children</th>\n",
       "      <th>days_employed</th>\n",
       "      <th>dob_years</th>\n",
       "      <th>education</th>\n",
       "      <th>education_id</th>\n",
       "      <th>family_status</th>\n",
       "      <th>family_status_id</th>\n",
       "      <th>gender</th>\n",
       "      <th>income_type</th>\n",
       "      <th>debt</th>\n",
       "      <th>total_income</th>\n",
       "      <th>purpose</th>\n",
       "    </tr>\n",
       "  </thead>\n",
       "  <tbody>\n",
       "    <tr>\n",
       "      <th>10701</th>\n",
       "      <td>0</td>\n",
       "      <td>2358</td>\n",
       "      <td>24</td>\n",
       "      <td>неоконченное высшее</td>\n",
       "      <td>2</td>\n",
       "      <td>гражданский брак</td>\n",
       "      <td>1</td>\n",
       "      <td>XNA</td>\n",
       "      <td>компаньон</td>\n",
       "      <td>0</td>\n",
       "      <td>203905</td>\n",
       "      <td>покупка недвижимости</td>\n",
       "    </tr>\n",
       "  </tbody>\n",
       "</table>\n",
       "</div>"
      ],
      "text/plain": [
       "       children  days_employed  dob_years            education  education_id  \\\n",
       "10701         0           2358         24  неоконченное высшее             2   \n",
       "\n",
       "          family_status  family_status_id gender income_type  debt  \\\n",
       "10701  гражданский брак                 1    XNA   компаньон     0   \n",
       "\n",
       "       total_income               purpose  \n",
       "10701        203905  покупка недвижимости  "
      ]
     },
     "execution_count": 45,
     "metadata": {},
     "output_type": "execute_result"
    }
   ],
   "source": [
    "df[df['gender'] == 'XNA']"
   ]
  },
  {
   "cell_type": "markdown",
   "id": "e90b60a2",
   "metadata": {},
   "source": [
    "There is one anomaly in `gender` which can not be attributed to either type so we drop this line and reset index."
   ]
  },
  {
   "cell_type": "code",
   "execution_count": 46,
   "id": "03ed91ff",
   "metadata": {},
   "outputs": [],
   "source": [
    "df = df.drop(index=10701).reset_index(drop=True)"
   ]
  },
  {
   "cell_type": "markdown",
   "id": "d9a6f6e6",
   "metadata": {
    "id": "5ISfbcfY_Zct"
   },
   "source": [
    "### Duplicates in data"
   ]
  },
  {
   "cell_type": "markdown",
   "id": "bff78811",
   "metadata": {},
   "source": [
    "**Education**"
   ]
  },
  {
   "cell_type": "markdown",
   "id": "a4890028",
   "metadata": {},
   "source": [
    "There are implicit duplicates regarding register in `education` which needs to be fixed. We simply get all the data into lower register."
   ]
  },
  {
   "cell_type": "code",
   "execution_count": 47,
   "id": "b010a880",
   "metadata": {},
   "outputs": [],
   "source": [
    "df['education'] = df['education'].str.lower()"
   ]
  },
  {
   "cell_type": "code",
   "execution_count": 48,
   "id": "17f9c296",
   "metadata": {},
   "outputs": [
    {
     "data": {
      "text/plain": [
       "education\n",
       "высшее                 [0]\n",
       "среднее                [1]\n",
       "неоконченное высшее    [2]\n",
       "начальное              [3]\n",
       "ученая степень         [4]\n",
       "Name: education_id, dtype: object"
      ]
     },
     "execution_count": 48,
     "metadata": {},
     "output_type": "execute_result"
    }
   ],
   "source": [
    "df.groupby('education')['education_id'].unique().sort_values()"
   ]
  },
  {
   "cell_type": "markdown",
   "id": "e1dd6e44",
   "metadata": {},
   "source": [
    "Checking the results, we see that there are no more implicit duplicates in `education`.  \n",
    "Moreover, each level of education in `education` has one and only `education_id`."
   ]
  },
  {
   "cell_type": "markdown",
   "id": "4ff8e29b",
   "metadata": {},
   "source": [
    "**Family status**"
   ]
  },
  {
   "cell_type": "markdown",
   "id": "9c4d14ee",
   "metadata": {},
   "source": [
    "There can also be implicit duplicates in `family_status`, let's check it."
   ]
  },
  {
   "cell_type": "code",
   "execution_count": 49,
   "id": "25a54bd2",
   "metadata": {},
   "outputs": [
    {
     "data": {
      "text/plain": [
       "family_status\n",
       "женат / замужем          [0]\n",
       "гражданский брак         [1]\n",
       "вдовец / вдова           [2]\n",
       "в разводе                [3]\n",
       "Не женат / не замужем    [4]\n",
       "Name: family_status_id, dtype: object"
      ]
     },
     "execution_count": 49,
     "metadata": {},
     "output_type": "execute_result"
    }
   ],
   "source": [
    "df.groupby('family_status')['family_status_id'].unique().sort_values()"
   ]
  },
  {
   "cell_type": "markdown",
   "id": "94a81a12",
   "metadata": {},
   "source": [
    "It's all good here - no duplicates. Moreover, each family status has one and only family status id."
   ]
  },
  {
   "cell_type": "markdown",
   "id": "e427ccd6",
   "metadata": {},
   "source": [
    "**Income type**"
   ]
  },
  {
   "cell_type": "code",
   "execution_count": 50,
   "id": "8f117ba0",
   "metadata": {},
   "outputs": [
    {
     "data": {
      "text/plain": [
       "array(['сотрудник', 'пенсионер', 'компаньон', 'госслужащий',\n",
       "       'безработный', 'предприниматель', 'студент', 'в декрете'],\n",
       "      dtype=object)"
      ]
     },
     "execution_count": 50,
     "metadata": {},
     "output_type": "execute_result"
    }
   ],
   "source": [
    "df['income_type'].unique()"
   ]
  },
  {
   "cell_type": "markdown",
   "id": "6954dd2e",
   "metadata": {},
   "source": [
    "It's also all good with `income_type` - no duplicates."
   ]
  },
  {
   "cell_type": "markdown",
   "id": "2882fc92",
   "metadata": {},
   "source": [
    "**Credit purpose**"
   ]
  },
  {
   "cell_type": "code",
   "execution_count": 51,
   "id": "ac9291da",
   "metadata": {},
   "outputs": [
    {
     "data": {
      "text/plain": [
       "array(['покупка жилья', 'приобретение автомобиля',\n",
       "       'дополнительное образование', 'сыграть свадьбу',\n",
       "       'операции с жильем', 'образование', 'на проведение свадьбы',\n",
       "       'покупка жилья для семьи', 'покупка недвижимости',\n",
       "       'покупка коммерческой недвижимости', 'покупка жилой недвижимости',\n",
       "       'строительство собственной недвижимости', 'недвижимость',\n",
       "       'строительство недвижимости', 'на покупку подержанного автомобиля',\n",
       "       'на покупку своего автомобиля',\n",
       "       'операции с коммерческой недвижимостью',\n",
       "       'строительство жилой недвижимости', 'жилье',\n",
       "       'операции со своей недвижимостью', 'автомобили',\n",
       "       'заняться образованием', 'сделка с подержанным автомобилем',\n",
       "       'получение образования', 'автомобиль', 'свадьба',\n",
       "       'получение дополнительного образования', 'покупка своего жилья',\n",
       "       'операции с недвижимостью', 'получение высшего образования',\n",
       "       'свой автомобиль', 'сделка с автомобилем',\n",
       "       'профильное образование', 'высшее образование',\n",
       "       'покупка жилья для сдачи', 'на покупку автомобиля', 'ремонт жилью',\n",
       "       'заняться высшим образованием'], dtype=object)"
      ]
     },
     "execution_count": 51,
     "metadata": {},
     "output_type": "execute_result"
    }
   ],
   "source": [
    "df['purpose'].unique()"
   ]
  },
  {
   "cell_type": "markdown",
   "id": "1269c4fc",
   "metadata": {},
   "source": [
    "Data in `purpose` also has implicit duplicates as it seems it was filled in a free form.  \n",
    "Data can be grouped into 4 categories regarding:\n",
    "- car\n",
    "- real estate \n",
    "- marriage\n",
    "- education\n",
    "\n",
    "In order to do it correctly, we create a function that will group each subcategory into a bigger category."
   ]
  },
  {
   "cell_type": "code",
   "execution_count": 52,
   "id": "ff7fb3e2",
   "metadata": {},
   "outputs": [],
   "source": [
    "def purpose_group(purpose):\n",
    "        if 'авто' in purpose:\n",
    "            return 'операции с автомобилем'\n",
    "        elif 'жиль' in purpose:\n",
    "            return 'операции с недвижимостью'\n",
    "        elif 'едвижим' in purpose:\n",
    "            return 'операции с недвижимостью'    \n",
    "        elif 'вадьб' in purpose:\n",
    "            return 'проведение свадьбы'\n",
    "        elif 'бразован' in purpose:\n",
    "            return 'получение образования'   \n",
    "        else: return 'осталось без категории, проверь вординг'"
   ]
  },
  {
   "cell_type": "code",
   "execution_count": 53,
   "id": "e7984cba",
   "metadata": {},
   "outputs": [],
   "source": [
    "df['purpose_category'] = df['purpose'].apply(purpose_group)"
   ]
  },
  {
   "cell_type": "code",
   "execution_count": 54,
   "id": "cb2d239f",
   "metadata": {},
   "outputs": [
    {
     "data": {
      "text/plain": [
       "array(['операции с недвижимостью', 'операции с автомобилем',\n",
       "       'получение образования', 'проведение свадьбы'], dtype=object)"
      ]
     },
     "execution_count": 54,
     "metadata": {},
     "output_type": "execute_result"
    }
   ],
   "source": [
    "df['purpose_category'].unique()"
   ]
  },
  {
   "cell_type": "markdown",
   "id": "be322ff4",
   "metadata": {},
   "source": [
    "The function works perfectly - all the subcategories are grouped as wanted."
   ]
  },
  {
   "cell_type": "markdown",
   "id": "a939ce34",
   "metadata": {},
   "source": [
    "**General duplicates**"
   ]
  },
  {
   "cell_type": "markdown",
   "id": "4c161993",
   "metadata": {},
   "source": [
    "We check for all other duplicates overall and delete if there are some."
   ]
  },
  {
   "cell_type": "code",
   "execution_count": 55,
   "id": "5f97e407",
   "metadata": {},
   "outputs": [
    {
     "data": {
      "text/plain": [
       "71"
      ]
     },
     "execution_count": 55,
     "metadata": {},
     "output_type": "execute_result"
    }
   ],
   "source": [
    "df.duplicated().sum()"
   ]
  },
  {
   "cell_type": "code",
   "execution_count": 56,
   "id": "91fc6f6d",
   "metadata": {},
   "outputs": [],
   "source": [
    "df = df.drop_duplicates().reset_index(drop=True)"
   ]
  },
  {
   "cell_type": "markdown",
   "id": "797289ac",
   "metadata": {},
   "source": [
    "### Creating new dataframes"
   ]
  },
  {
   "cell_type": "markdown",
   "id": "d6694b9b",
   "metadata": {},
   "source": [
    "Creating new dataframes from the main one regarding education and family identifications."
   ]
  },
  {
   "cell_type": "code",
   "execution_count": 57,
   "id": "6d302086",
   "metadata": {},
   "outputs": [],
   "source": [
    "education_df = df[['education', 'education_id']]\n",
    "education_df = education_df.drop_duplicates().reset_index(drop=True)"
   ]
  },
  {
   "cell_type": "code",
   "execution_count": 58,
   "id": "8cb886cf",
   "metadata": {},
   "outputs": [],
   "source": [
    "family_df = df[['family_status', 'family_status_id']]\n",
    "family_df = family_df.drop_duplicates().reset_index(drop=True)"
   ]
  },
  {
   "cell_type": "markdown",
   "id": "5e6c00bd",
   "metadata": {},
   "source": [
    "Deleting `education` and `family_status` from the main dataframe."
   ]
  },
  {
   "cell_type": "code",
   "execution_count": 59,
   "id": "06546006",
   "metadata": {},
   "outputs": [],
   "source": [
    "df = df.drop(['education', 'family_status'], axis=1)"
   ]
  },
  {
   "cell_type": "markdown",
   "id": "b3607312",
   "metadata": {},
   "source": [
    "### Creating new income categories"
   ]
  },
  {
   "cell_type": "markdown",
   "id": "3e2c012e",
   "metadata": {},
   "source": [
    "We range income categories based on `total_income` with the help of new function. There are 5 groups in total."
   ]
  },
  {
   "cell_type": "code",
   "execution_count": 60,
   "id": "d4ab0fae",
   "metadata": {},
   "outputs": [],
   "source": [
    "def income_category(income):\n",
    "        if income <= 30000:\n",
    "            return 'E'\n",
    "        if income <= 50000:\n",
    "            return 'D'\n",
    "        if income <= 200000:\n",
    "            return 'C'\n",
    "        if income <= 1000000:\n",
    "            return 'B'\n",
    "        elif income > 1000000:\n",
    "            return 'A'\n",
    "        else: return 'check the numbers'"
   ]
  },
  {
   "cell_type": "code",
   "execution_count": 61,
   "id": "6f09fd47",
   "metadata": {},
   "outputs": [],
   "source": [
    "df['total_income_category'] = df['total_income'].apply(income_category)"
   ]
  },
  {
   "cell_type": "code",
   "execution_count": 62,
   "id": "900b4433",
   "metadata": {},
   "outputs": [
    {
     "data": {
      "text/plain": [
       "array(['B', 'C', 'D', 'E', 'A'], dtype=object)"
      ]
     },
     "execution_count": 62,
     "metadata": {},
     "output_type": "execute_result"
    }
   ],
   "source": [
    "df['total_income_category'].unique()"
   ]
  },
  {
   "cell_type": "markdown",
   "id": "35eff6b7",
   "metadata": {},
   "source": [
    "## Hypothesis check"
   ]
  },
  {
   "cell_type": "markdown",
   "id": "2f99ec12",
   "metadata": {},
   "source": [
    "The main goal is to find out what affects the fact of repaying the loan on time.\n",
    "\n",
    "We check this from 7 different angles:\n",
    "* Children and indebtness\n",
    "* Family status and indebtness\n",
    "* Level of income and indebtness\n",
    "* Purpose of credit and indebtness\n",
    "* Age group and indebtness\n",
    "* Income type and indebtness\n",
    "* Education and indebtness"
   ]
  },
  {
   "cell_type": "markdown",
   "id": "1190a64a",
   "metadata": {},
   "source": [
    "### Children and indebtness"
   ]
  },
  {
   "cell_type": "code",
   "execution_count": 63,
   "id": "cbfe2676",
   "metadata": {},
   "outputs": [
    {
     "data": {
      "text/html": [
       "<div>\n",
       "<style scoped>\n",
       "    .dataframe tbody tr th:only-of-type {\n",
       "        vertical-align: middle;\n",
       "    }\n",
       "\n",
       "    .dataframe tbody tr th {\n",
       "        vertical-align: top;\n",
       "    }\n",
       "\n",
       "    .dataframe thead tr th {\n",
       "        text-align: left;\n",
       "    }\n",
       "\n",
       "    .dataframe thead tr:last-of-type th {\n",
       "        text-align: right;\n",
       "    }\n",
       "</style>\n",
       "<table border=\"1\" class=\"dataframe\">\n",
       "  <thead>\n",
       "    <tr>\n",
       "      <th></th>\n",
       "      <th colspan=\"3\" halign=\"left\">debt</th>\n",
       "    </tr>\n",
       "    <tr>\n",
       "      <th></th>\n",
       "      <th>count</th>\n",
       "      <th>mean</th>\n",
       "      <th>sum</th>\n",
       "    </tr>\n",
       "    <tr>\n",
       "      <th>children</th>\n",
       "      <th></th>\n",
       "      <th></th>\n",
       "      <th></th>\n",
       "    </tr>\n",
       "  </thead>\n",
       "  <tbody>\n",
       "    <tr>\n",
       "      <th>0</th>\n",
       "      <td>14090.0</td>\n",
       "      <td>0.075444</td>\n",
       "      <td>1063.0</td>\n",
       "    </tr>\n",
       "    <tr>\n",
       "      <th>1</th>\n",
       "      <td>4855.0</td>\n",
       "      <td>0.091658</td>\n",
       "      <td>445.0</td>\n",
       "    </tr>\n",
       "    <tr>\n",
       "      <th>2</th>\n",
       "      <td>2128.0</td>\n",
       "      <td>0.094925</td>\n",
       "      <td>202.0</td>\n",
       "    </tr>\n",
       "    <tr>\n",
       "      <th>3</th>\n",
       "      <td>330.0</td>\n",
       "      <td>0.081818</td>\n",
       "      <td>27.0</td>\n",
       "    </tr>\n",
       "    <tr>\n",
       "      <th>4</th>\n",
       "      <td>41.0</td>\n",
       "      <td>0.097561</td>\n",
       "      <td>4.0</td>\n",
       "    </tr>\n",
       "    <tr>\n",
       "      <th>5</th>\n",
       "      <td>9.0</td>\n",
       "      <td>0.000000</td>\n",
       "      <td>0.0</td>\n",
       "    </tr>\n",
       "  </tbody>\n",
       "</table>\n",
       "</div>"
      ],
      "text/plain": [
       "             debt                  \n",
       "            count      mean     sum\n",
       "children                           \n",
       "0         14090.0  0.075444  1063.0\n",
       "1          4855.0  0.091658   445.0\n",
       "2          2128.0  0.094925   202.0\n",
       "3           330.0  0.081818    27.0\n",
       "4            41.0  0.097561     4.0\n",
       "5             9.0  0.000000     0.0"
      ]
     },
     "execution_count": 63,
     "metadata": {},
     "output_type": "execute_result"
    }
   ],
   "source": [
    "df.pivot_table(index=['children'], \n",
    "               values=['debt'], \n",
    "               aggfunc=('sum', 'count', 'mean')\n",
    "              )"
   ]
  },
  {
   "cell_type": "markdown",
   "id": "4be17588",
   "metadata": {},
   "source": [
    "**Findings**\n",
    "\n",
    "1) In general, the lower the number of children in the family, the less people don't pay their loan on time; i.e. people who do not have kids at all have the lowest indebtness ratios  \n",
    "2) However, people with 3 children are outlining from the trend a bit, but not significantly  \n",
    "3) People with 5 children (although small number - only 9 people) have never missed a payment on the loan"
   ]
  },
  {
   "cell_type": "markdown",
   "id": "d38e564d",
   "metadata": {},
   "source": [
    "### Family status and indebtness"
   ]
  },
  {
   "cell_type": "code",
   "execution_count": 64,
   "id": "9d37e38e",
   "metadata": {},
   "outputs": [],
   "source": [
    "family = df.merge(family_df, on='family_status_id', how='left')\n",
    "\n",
    "# we first get the family statuses from a separate dictionary"
   ]
  },
  {
   "cell_type": "code",
   "execution_count": 65,
   "id": "46e83d78",
   "metadata": {
    "scrolled": false
   },
   "outputs": [
    {
     "data": {
      "text/html": [
       "<div>\n",
       "<style scoped>\n",
       "    .dataframe tbody tr th:only-of-type {\n",
       "        vertical-align: middle;\n",
       "    }\n",
       "\n",
       "    .dataframe tbody tr th {\n",
       "        vertical-align: top;\n",
       "    }\n",
       "\n",
       "    .dataframe thead tr th {\n",
       "        text-align: left;\n",
       "    }\n",
       "\n",
       "    .dataframe thead tr:last-of-type th {\n",
       "        text-align: right;\n",
       "    }\n",
       "</style>\n",
       "<table border=\"1\" class=\"dataframe\">\n",
       "  <thead>\n",
       "    <tr>\n",
       "      <th></th>\n",
       "      <th colspan=\"3\" halign=\"left\">debt</th>\n",
       "    </tr>\n",
       "    <tr>\n",
       "      <th></th>\n",
       "      <th>count</th>\n",
       "      <th>mean</th>\n",
       "      <th>sum</th>\n",
       "    </tr>\n",
       "    <tr>\n",
       "      <th>family_status</th>\n",
       "      <th></th>\n",
       "      <th></th>\n",
       "      <th></th>\n",
       "    </tr>\n",
       "  </thead>\n",
       "  <tbody>\n",
       "    <tr>\n",
       "      <th>вдовец / вдова</th>\n",
       "      <td>959.0</td>\n",
       "      <td>0.065693</td>\n",
       "      <td>63.0</td>\n",
       "    </tr>\n",
       "    <tr>\n",
       "      <th>в разводе</th>\n",
       "      <td>1195.0</td>\n",
       "      <td>0.071130</td>\n",
       "      <td>85.0</td>\n",
       "    </tr>\n",
       "    <tr>\n",
       "      <th>женат / замужем</th>\n",
       "      <td>12339.0</td>\n",
       "      <td>0.075452</td>\n",
       "      <td>931.0</td>\n",
       "    </tr>\n",
       "    <tr>\n",
       "      <th>гражданский брак</th>\n",
       "      <td>4150.0</td>\n",
       "      <td>0.093494</td>\n",
       "      <td>388.0</td>\n",
       "    </tr>\n",
       "    <tr>\n",
       "      <th>Не женат / не замужем</th>\n",
       "      <td>2810.0</td>\n",
       "      <td>0.097509</td>\n",
       "      <td>274.0</td>\n",
       "    </tr>\n",
       "  </tbody>\n",
       "</table>\n",
       "</div>"
      ],
      "text/plain": [
       "                          debt                 \n",
       "                         count      mean    sum\n",
       "family_status                                  \n",
       "вдовец / вдова           959.0  0.065693   63.0\n",
       "в разводе               1195.0  0.071130   85.0\n",
       "женат / замужем        12339.0  0.075452  931.0\n",
       "гражданский брак        4150.0  0.093494  388.0\n",
       "Не женат / не замужем   2810.0  0.097509  274.0"
      ]
     },
     "execution_count": 65,
     "metadata": {},
     "output_type": "execute_result"
    }
   ],
   "source": [
    "family.pivot_table(index=['family_status'], \n",
    "                   values=['debt'],\n",
    "                   aggfunc=('sum', 'count', 'mean')\n",
    "                  ).sort_values(by=('debt', 'mean'))"
   ]
  },
  {
   "cell_type": "markdown",
   "id": "c8be14d7",
   "metadata": {},
   "source": [
    "**Findings**\n",
    "\n",
    "1) People who lost their partners or divorced have the lowest indebtness ratios   \n",
    "2) Married people are in the middle - they fail to pay on time in 7,5% of the cases  \n",
    "3) Compared to married people, those in partnerships have higher rates of not paying on time  \n",
    "4) The highest levels of indebtness are among single people"
   ]
  },
  {
   "cell_type": "markdown",
   "id": "45548635",
   "metadata": {},
   "source": [
    "### Level of income and indebtness"
   ]
  },
  {
   "cell_type": "code",
   "execution_count": 66,
   "id": "7dfa137f",
   "metadata": {},
   "outputs": [],
   "source": [
    "income_category = {'total_income_category': ['A', 'B', 'C', 'D', 'E'],\n",
    "                   'range': ['up to 30k', 'up to 50k', 'up to 200k', 'up to 1 mln', 'more than 1 mln']\n",
    "                  }\n",
    "income_df = pd.DataFrame(income_category)\n",
    "\n",
    "# we create a special dictionary for income categories \n",
    "# so it is easier to analyse further in the pivot"
   ]
  },
  {
   "cell_type": "code",
   "execution_count": 67,
   "id": "60428910",
   "metadata": {},
   "outputs": [],
   "source": [
    "income = df.merge(income_df, on='total_income_category', how='left')"
   ]
  },
  {
   "cell_type": "code",
   "execution_count": 68,
   "id": "aea90b91",
   "metadata": {
    "scrolled": false
   },
   "outputs": [
    {
     "data": {
      "text/html": [
       "<div>\n",
       "<style scoped>\n",
       "    .dataframe tbody tr th:only-of-type {\n",
       "        vertical-align: middle;\n",
       "    }\n",
       "\n",
       "    .dataframe tbody tr th {\n",
       "        vertical-align: top;\n",
       "    }\n",
       "\n",
       "    .dataframe thead tr th {\n",
       "        text-align: left;\n",
       "    }\n",
       "\n",
       "    .dataframe thead tr:last-of-type th {\n",
       "        text-align: right;\n",
       "    }\n",
       "</style>\n",
       "<table border=\"1\" class=\"dataframe\">\n",
       "  <thead>\n",
       "    <tr>\n",
       "      <th></th>\n",
       "      <th colspan=\"3\" halign=\"left\">debt</th>\n",
       "    </tr>\n",
       "    <tr>\n",
       "      <th></th>\n",
       "      <th>count</th>\n",
       "      <th>mean</th>\n",
       "      <th>sum</th>\n",
       "    </tr>\n",
       "    <tr>\n",
       "      <th>range</th>\n",
       "      <th></th>\n",
       "      <th></th>\n",
       "      <th></th>\n",
       "    </tr>\n",
       "  </thead>\n",
       "  <tbody>\n",
       "    <tr>\n",
       "      <th>up to 1 mln</th>\n",
       "      <td>350.0</td>\n",
       "      <td>0.060000</td>\n",
       "      <td>21.0</td>\n",
       "    </tr>\n",
       "    <tr>\n",
       "      <th>up to 50k</th>\n",
       "      <td>5041.0</td>\n",
       "      <td>0.070621</td>\n",
       "      <td>356.0</td>\n",
       "    </tr>\n",
       "    <tr>\n",
       "      <th>up to 30k</th>\n",
       "      <td>25.0</td>\n",
       "      <td>0.080000</td>\n",
       "      <td>2.0</td>\n",
       "    </tr>\n",
       "    <tr>\n",
       "      <th>up to 200k</th>\n",
       "      <td>16015.0</td>\n",
       "      <td>0.084920</td>\n",
       "      <td>1360.0</td>\n",
       "    </tr>\n",
       "    <tr>\n",
       "      <th>more than 1 mln</th>\n",
       "      <td>22.0</td>\n",
       "      <td>0.090909</td>\n",
       "      <td>2.0</td>\n",
       "    </tr>\n",
       "  </tbody>\n",
       "</table>\n",
       "</div>"
      ],
      "text/plain": [
       "                    debt                  \n",
       "                   count      mean     sum\n",
       "range                                     \n",
       "up to 1 mln        350.0  0.060000    21.0\n",
       "up to 50k         5041.0  0.070621   356.0\n",
       "up to 30k           25.0  0.080000     2.0\n",
       "up to 200k       16015.0  0.084920  1360.0\n",
       "more than 1 mln     22.0  0.090909     2.0"
      ]
     },
     "execution_count": 68,
     "metadata": {},
     "output_type": "execute_result"
    }
   ],
   "source": [
    "income.pivot_table(index=['range'], \n",
    "                   values=['debt'],\n",
    "                   aggfunc=('sum', 'count', 'mean')\n",
    "                  ).sort_values(by=('debt', 'mean'))"
   ]
  },
  {
   "cell_type": "markdown",
   "id": "d6461e92",
   "metadata": {},
   "source": [
    "**Findings**\n",
    "\n",
    "1) There is no clear correlation between the level of income and indebtness  \n",
    "2) People earning high income (up to 1 mln a month) have the lowest ratios while people earning the highest income (more than 1 mln a month) have the highest ratios  \n",
    "3) The dependence b/w level of income and indebtness should be the most important one for the modelling however in this case the data does not provide the clear trend"
   ]
  },
  {
   "cell_type": "markdown",
   "id": "b4a40702",
   "metadata": {},
   "source": [
    "### Purpose of credit and indebtness"
   ]
  },
  {
   "cell_type": "code",
   "execution_count": 69,
   "id": "512e2273",
   "metadata": {
    "scrolled": false
   },
   "outputs": [
    {
     "data": {
      "text/html": [
       "<div>\n",
       "<style scoped>\n",
       "    .dataframe tbody tr th:only-of-type {\n",
       "        vertical-align: middle;\n",
       "    }\n",
       "\n",
       "    .dataframe tbody tr th {\n",
       "        vertical-align: top;\n",
       "    }\n",
       "\n",
       "    .dataframe thead tr th {\n",
       "        text-align: left;\n",
       "    }\n",
       "\n",
       "    .dataframe thead tr:last-of-type th {\n",
       "        text-align: right;\n",
       "    }\n",
       "</style>\n",
       "<table border=\"1\" class=\"dataframe\">\n",
       "  <thead>\n",
       "    <tr>\n",
       "      <th></th>\n",
       "      <th colspan=\"3\" halign=\"left\">debt</th>\n",
       "    </tr>\n",
       "    <tr>\n",
       "      <th></th>\n",
       "      <th>count</th>\n",
       "      <th>mean</th>\n",
       "      <th>sum</th>\n",
       "    </tr>\n",
       "    <tr>\n",
       "      <th>purpose_category</th>\n",
       "      <th></th>\n",
       "      <th></th>\n",
       "      <th></th>\n",
       "    </tr>\n",
       "  </thead>\n",
       "  <tbody>\n",
       "    <tr>\n",
       "      <th>операции с недвижимостью</th>\n",
       "      <td>10810.0</td>\n",
       "      <td>0.072340</td>\n",
       "      <td>782.0</td>\n",
       "    </tr>\n",
       "    <tr>\n",
       "      <th>проведение свадьбы</th>\n",
       "      <td>2324.0</td>\n",
       "      <td>0.080034</td>\n",
       "      <td>186.0</td>\n",
       "    </tr>\n",
       "    <tr>\n",
       "      <th>получение образования</th>\n",
       "      <td>4013.0</td>\n",
       "      <td>0.092200</td>\n",
       "      <td>370.0</td>\n",
       "    </tr>\n",
       "    <tr>\n",
       "      <th>операции с автомобилем</th>\n",
       "      <td>4306.0</td>\n",
       "      <td>0.093590</td>\n",
       "      <td>403.0</td>\n",
       "    </tr>\n",
       "  </tbody>\n",
       "</table>\n",
       "</div>"
      ],
      "text/plain": [
       "                             debt                 \n",
       "                            count      mean    sum\n",
       "purpose_category                                  \n",
       "операции с недвижимостью  10810.0  0.072340  782.0\n",
       "проведение свадьбы         2324.0  0.080034  186.0\n",
       "получение образования      4013.0  0.092200  370.0\n",
       "операции с автомобилем     4306.0  0.093590  403.0"
      ]
     },
     "execution_count": 69,
     "metadata": {},
     "output_type": "execute_result"
    }
   ],
   "source": [
    "df.pivot_table(index=['purpose_category'],\n",
    "                   values=['debt'],\n",
    "                   aggfunc=('sum', 'count', 'mean')\n",
    "                   ).sort_values(by=('debt', 'mean'))"
   ]
  },
  {
   "cell_type": "markdown",
   "id": "ed96146a",
   "metadata": {},
   "source": [
    "**Findings**\n",
    "\n",
    "1) There is not a great dispersion in rates of indebtness according to the purpose of the credit  \n",
    "2) The lowest ones are with the Real Estate and the highest ones are with Car loan  \n",
    "3) It could be expected that people fail the highest (compared to RE and car loans) to pay on the loans for marriages and education, however the data does not prove it\n"
   ]
  },
  {
   "cell_type": "markdown",
   "id": "3d6cb00c",
   "metadata": {},
   "source": [
    "### Age group and indebtness"
   ]
  },
  {
   "cell_type": "markdown",
   "id": "499675ca",
   "metadata": {},
   "source": [
    "First we create a function that groups people according to the age and then we analyse it in detail."
   ]
  },
  {
   "cell_type": "code",
   "execution_count": 70,
   "id": "5d4d4fff",
   "metadata": {},
   "outputs": [],
   "source": [
    "def age_group(age):\n",
    "        if age < 30:\n",
    "            return 'under 30'\n",
    "        if age < 45:\n",
    "            return 'under 45'\n",
    "        if age < 60:\n",
    "            return 'under 60'\n",
    "        if age < 75:\n",
    "            return 'under 75'\n",
    "        elif age >= 75:\n",
    "            return 'more than 75'\n",
    "        else: return 'check the numbers'"
   ]
  },
  {
   "cell_type": "code",
   "execution_count": 71,
   "id": "5be57454",
   "metadata": {},
   "outputs": [],
   "source": [
    "df['age_group'] = df['dob_years'].apply(age_group)"
   ]
  },
  {
   "cell_type": "code",
   "execution_count": 72,
   "id": "65e576fa",
   "metadata": {
    "scrolled": true
   },
   "outputs": [
    {
     "data": {
      "text/plain": [
       "array(['under 45', 'under 60', 'under 30', 'under 75', 'more than 75'],\n",
       "      dtype=object)"
      ]
     },
     "execution_count": 72,
     "metadata": {},
     "output_type": "execute_result"
    }
   ],
   "source": [
    "df['age_group'].unique()"
   ]
  },
  {
   "cell_type": "code",
   "execution_count": 73,
   "id": "31a3a7e3",
   "metadata": {
    "scrolled": true
   },
   "outputs": [
    {
     "data": {
      "text/html": [
       "<div>\n",
       "<style scoped>\n",
       "    .dataframe tbody tr th:only-of-type {\n",
       "        vertical-align: middle;\n",
       "    }\n",
       "\n",
       "    .dataframe tbody tr th {\n",
       "        vertical-align: top;\n",
       "    }\n",
       "\n",
       "    .dataframe thead tr th {\n",
       "        text-align: left;\n",
       "    }\n",
       "\n",
       "    .dataframe thead tr:last-of-type th {\n",
       "        text-align: right;\n",
       "    }\n",
       "</style>\n",
       "<table border=\"1\" class=\"dataframe\">\n",
       "  <thead>\n",
       "    <tr>\n",
       "      <th></th>\n",
       "      <th colspan=\"3\" halign=\"left\">debt</th>\n",
       "    </tr>\n",
       "    <tr>\n",
       "      <th></th>\n",
       "      <th>count</th>\n",
       "      <th>mean</th>\n",
       "      <th>sum</th>\n",
       "    </tr>\n",
       "    <tr>\n",
       "      <th>age_group</th>\n",
       "      <th></th>\n",
       "      <th></th>\n",
       "      <th></th>\n",
       "    </tr>\n",
       "  </thead>\n",
       "  <tbody>\n",
       "    <tr>\n",
       "      <th>more than 75</th>\n",
       "      <td>1.0</td>\n",
       "      <td>0.000000</td>\n",
       "      <td>0.0</td>\n",
       "    </tr>\n",
       "    <tr>\n",
       "      <th>under 75</th>\n",
       "      <td>2499.0</td>\n",
       "      <td>0.049220</td>\n",
       "      <td>123.0</td>\n",
       "    </tr>\n",
       "    <tr>\n",
       "      <th>under 60</th>\n",
       "      <td>7146.0</td>\n",
       "      <td>0.067870</td>\n",
       "      <td>485.0</td>\n",
       "    </tr>\n",
       "    <tr>\n",
       "      <th>under 45</th>\n",
       "      <td>8527.0</td>\n",
       "      <td>0.091005</td>\n",
       "      <td>776.0</td>\n",
       "    </tr>\n",
       "    <tr>\n",
       "      <th>under 30</th>\n",
       "      <td>3280.0</td>\n",
       "      <td>0.108841</td>\n",
       "      <td>357.0</td>\n",
       "    </tr>\n",
       "  </tbody>\n",
       "</table>\n",
       "</div>"
      ],
      "text/plain": [
       "                debt                 \n",
       "               count      mean    sum\n",
       "age_group                            \n",
       "more than 75     1.0  0.000000    0.0\n",
       "under 75      2499.0  0.049220  123.0\n",
       "under 60      7146.0  0.067870  485.0\n",
       "under 45      8527.0  0.091005  776.0\n",
       "under 30      3280.0  0.108841  357.0"
      ]
     },
     "execution_count": 73,
     "metadata": {},
     "output_type": "execute_result"
    }
   ],
   "source": [
    "df.pivot_table(index=['age_group'],\n",
    "                   values=['debt'],\n",
    "                   aggfunc=('sum', 'count', 'mean')\n",
    "                   ).sort_values(by=('debt', 'mean'))"
   ]
  },
  {
   "cell_type": "markdown",
   "id": "0739f8df",
   "metadata": {},
   "source": [
    "**Findings**\n",
    "\n",
    "1) Here is the clear dependence between the age group and indebtness  \n",
    "2) The younger the people, the more often they fail on paying loans on time  \n",
    "3) People under the age of 30 have the highest rates of almost 11%\n"
   ]
  },
  {
   "cell_type": "markdown",
   "id": "3b6efa28",
   "metadata": {},
   "source": [
    "### Income type and indebtness"
   ]
  },
  {
   "cell_type": "code",
   "execution_count": 74,
   "id": "2b821795",
   "metadata": {
    "scrolled": true
   },
   "outputs": [
    {
     "data": {
      "text/html": [
       "<div>\n",
       "<style scoped>\n",
       "    .dataframe tbody tr th:only-of-type {\n",
       "        vertical-align: middle;\n",
       "    }\n",
       "\n",
       "    .dataframe tbody tr th {\n",
       "        vertical-align: top;\n",
       "    }\n",
       "\n",
       "    .dataframe thead tr th {\n",
       "        text-align: left;\n",
       "    }\n",
       "\n",
       "    .dataframe thead tr:last-of-type th {\n",
       "        text-align: right;\n",
       "    }\n",
       "</style>\n",
       "<table border=\"1\" class=\"dataframe\">\n",
       "  <thead>\n",
       "    <tr>\n",
       "      <th></th>\n",
       "      <th colspan=\"3\" halign=\"left\">debt</th>\n",
       "    </tr>\n",
       "    <tr>\n",
       "      <th></th>\n",
       "      <th>count</th>\n",
       "      <th>mean</th>\n",
       "      <th>sum</th>\n",
       "    </tr>\n",
       "    <tr>\n",
       "      <th>income_type</th>\n",
       "      <th></th>\n",
       "      <th></th>\n",
       "      <th></th>\n",
       "    </tr>\n",
       "  </thead>\n",
       "  <tbody>\n",
       "    <tr>\n",
       "      <th>предприниматель</th>\n",
       "      <td>2.0</td>\n",
       "      <td>0.000000</td>\n",
       "      <td>0.0</td>\n",
       "    </tr>\n",
       "    <tr>\n",
       "      <th>студент</th>\n",
       "      <td>1.0</td>\n",
       "      <td>0.000000</td>\n",
       "      <td>0.0</td>\n",
       "    </tr>\n",
       "    <tr>\n",
       "      <th>пенсионер</th>\n",
       "      <td>3829.0</td>\n",
       "      <td>0.056412</td>\n",
       "      <td>216.0</td>\n",
       "    </tr>\n",
       "    <tr>\n",
       "      <th>госслужащий</th>\n",
       "      <td>1457.0</td>\n",
       "      <td>0.059025</td>\n",
       "      <td>86.0</td>\n",
       "    </tr>\n",
       "    <tr>\n",
       "      <th>компаньон</th>\n",
       "      <td>5077.0</td>\n",
       "      <td>0.074059</td>\n",
       "      <td>376.0</td>\n",
       "    </tr>\n",
       "    <tr>\n",
       "      <th>сотрудник</th>\n",
       "      <td>11084.0</td>\n",
       "      <td>0.095724</td>\n",
       "      <td>1061.0</td>\n",
       "    </tr>\n",
       "    <tr>\n",
       "      <th>безработный</th>\n",
       "      <td>2.0</td>\n",
       "      <td>0.500000</td>\n",
       "      <td>1.0</td>\n",
       "    </tr>\n",
       "    <tr>\n",
       "      <th>в декрете</th>\n",
       "      <td>1.0</td>\n",
       "      <td>1.000000</td>\n",
       "      <td>1.0</td>\n",
       "    </tr>\n",
       "  </tbody>\n",
       "</table>\n",
       "</div>"
      ],
      "text/plain": [
       "                    debt                  \n",
       "                   count      mean     sum\n",
       "income_type                               \n",
       "предприниматель      2.0  0.000000     0.0\n",
       "студент              1.0  0.000000     0.0\n",
       "пенсионер         3829.0  0.056412   216.0\n",
       "госслужащий       1457.0  0.059025    86.0\n",
       "компаньон         5077.0  0.074059   376.0\n",
       "сотрудник        11084.0  0.095724  1061.0\n",
       "безработный          2.0  0.500000     1.0\n",
       "в декрете            1.0  1.000000     1.0"
      ]
     },
     "execution_count": 74,
     "metadata": {},
     "output_type": "execute_result"
    }
   ],
   "source": [
    "df.pivot_table(index=['income_type'],\n",
    "                   values=['debt'],\n",
    "                   aggfunc=('sum', 'count', 'mean')\n",
    "                   ).sort_values(by=('debt', 'mean'))"
   ]
  },
  {
   "cell_type": "markdown",
   "id": "6f7804a6",
   "metadata": {},
   "source": [
    "**Findings**\n",
    "\n",
    "1) Here is a pretty clear dependence between the income type and indebtness  \n",
    "2) Pensioners and people in the public sector have, as expected, the lowest rates of not paying on time  \n",
    "3) People on maternity leave and jobless have the highest rates of failing to pay a loan on time (although the sample is small)  \n",
    "4) Students and businessmen have the rate of 0 although again the sample is small"
   ]
  },
  {
   "cell_type": "markdown",
   "id": "f01fb0cf",
   "metadata": {},
   "source": [
    "### Education and indebtness"
   ]
  },
  {
   "cell_type": "code",
   "execution_count": 75,
   "id": "df375332",
   "metadata": {},
   "outputs": [],
   "source": [
    "education = df.merge(education_df, on='education_id', how='left')\n",
    "\n",
    "# we first get the family statuses from a separate dictionary"
   ]
  },
  {
   "cell_type": "code",
   "execution_count": 76,
   "id": "36f6f7c6",
   "metadata": {
    "scrolled": false
   },
   "outputs": [
    {
     "data": {
      "text/html": [
       "<div>\n",
       "<style scoped>\n",
       "    .dataframe tbody tr th:only-of-type {\n",
       "        vertical-align: middle;\n",
       "    }\n",
       "\n",
       "    .dataframe tbody tr th {\n",
       "        vertical-align: top;\n",
       "    }\n",
       "\n",
       "    .dataframe thead tr th {\n",
       "        text-align: left;\n",
       "    }\n",
       "\n",
       "    .dataframe thead tr:last-of-type th {\n",
       "        text-align: right;\n",
       "    }\n",
       "</style>\n",
       "<table border=\"1\" class=\"dataframe\">\n",
       "  <thead>\n",
       "    <tr>\n",
       "      <th></th>\n",
       "      <th colspan=\"3\" halign=\"left\">debt</th>\n",
       "    </tr>\n",
       "    <tr>\n",
       "      <th></th>\n",
       "      <th>count</th>\n",
       "      <th>mean</th>\n",
       "      <th>sum</th>\n",
       "    </tr>\n",
       "    <tr>\n",
       "      <th>education</th>\n",
       "      <th></th>\n",
       "      <th></th>\n",
       "      <th></th>\n",
       "    </tr>\n",
       "  </thead>\n",
       "  <tbody>\n",
       "    <tr>\n",
       "      <th>ученая степень</th>\n",
       "      <td>6.0</td>\n",
       "      <td>0.000000</td>\n",
       "      <td>0.0</td>\n",
       "    </tr>\n",
       "    <tr>\n",
       "      <th>высшее</th>\n",
       "      <td>5250.0</td>\n",
       "      <td>0.052952</td>\n",
       "      <td>278.0</td>\n",
       "    </tr>\n",
       "    <tr>\n",
       "      <th>среднее</th>\n",
       "      <td>15172.0</td>\n",
       "      <td>0.089902</td>\n",
       "      <td>1364.0</td>\n",
       "    </tr>\n",
       "    <tr>\n",
       "      <th>неоконченное высшее</th>\n",
       "      <td>743.0</td>\n",
       "      <td>0.091521</td>\n",
       "      <td>68.0</td>\n",
       "    </tr>\n",
       "    <tr>\n",
       "      <th>начальное</th>\n",
       "      <td>282.0</td>\n",
       "      <td>0.109929</td>\n",
       "      <td>31.0</td>\n",
       "    </tr>\n",
       "  </tbody>\n",
       "</table>\n",
       "</div>"
      ],
      "text/plain": [
       "                        debt                  \n",
       "                       count      mean     sum\n",
       "education                                     \n",
       "ученая степень           6.0  0.000000     0.0\n",
       "высшее                5250.0  0.052952   278.0\n",
       "среднее              15172.0  0.089902  1364.0\n",
       "неоконченное высшее    743.0  0.091521    68.0\n",
       "начальное              282.0  0.109929    31.0"
      ]
     },
     "execution_count": 76,
     "metadata": {},
     "output_type": "execute_result"
    }
   ],
   "source": [
    "education.pivot_table(index=['education'],\n",
    "               values=['debt'],\n",
    "               aggfunc=('sum', 'count', 'mean')\n",
    "               ).sort_values(by=('debt', 'mean'))"
   ]
  },
  {
   "cell_type": "markdown",
   "id": "d4022573",
   "metadata": {},
   "source": [
    "**Findings**\n",
    "\n",
    "1) The dependence between education and indebtness is pretty clear: the higher is the education level, the less people fail on repaying the loan on time  \n",
    "2) The only outlier is the `неоконченное высшее` as according to basic expectations it should have the lower ratio than for the `среднее` one "
   ]
  },
  {
   "cell_type": "markdown",
   "id": "b5e59df3",
   "metadata": {
    "id": "Ml1hmfXC_Zcs"
   },
   "source": [
    "# Research results"
   ]
  },
  {
   "cell_type": "markdown",
   "id": "eb4aeb47",
   "metadata": {},
   "source": [
    "We have analysed the data in detail and tested 7 dependencies. Here are the outcomes:\n",
    "\n",
    "* Children: People with no kids fail on paying the loan on time less often that people with children  \n",
    "* Family status: People who lost their partners or divorced have way lower indebtness ratios than single people  \n",
    "* Income level: There is no clear correlation between the level of income and indebtness: people earning the most have the highest levels of failing to pay on time, which is counter intuitive  \n",
    "* Credit purpose: People with mortgages/real estate connected loans fail the lowest; people having car loans - the highest  \n",
    "* Age group: The younger the people, the more often they fail on paying loans on time  \n",
    "* Income type: Pensioners and people in the public sector have, as expected, the lowest rates of not paying on time\n",
    "* Education: The dependence between education and indebtness is pretty clear: the higher is the education level, the less people fail on repaying the loan on time"
   ]
  }
 ],
 "metadata": {
  "ExecuteTimeLog": [
   {
    "duration": 0,
    "start_time": "2022-05-08T04:55:46.857Z"
   },
   {
    "duration": 0,
    "start_time": "2022-05-08T04:55:46.858Z"
   },
   {
    "duration": 0,
    "start_time": "2022-05-08T04:55:46.859Z"
   },
   {
    "duration": 0,
    "start_time": "2022-05-08T04:55:46.923Z"
   },
   {
    "duration": 0,
    "start_time": "2022-05-08T04:55:46.924Z"
   },
   {
    "duration": 0,
    "start_time": "2022-05-08T04:55:46.924Z"
   },
   {
    "duration": 0,
    "start_time": "2022-05-08T04:55:46.925Z"
   },
   {
    "duration": 0,
    "start_time": "2022-05-08T04:55:46.926Z"
   },
   {
    "duration": 0,
    "start_time": "2022-05-08T04:55:46.927Z"
   },
   {
    "duration": 0,
    "start_time": "2022-05-08T04:55:46.928Z"
   },
   {
    "duration": 0,
    "start_time": "2022-05-08T04:55:46.929Z"
   },
   {
    "duration": 0,
    "start_time": "2022-05-08T04:55:46.930Z"
   },
   {
    "duration": 0,
    "start_time": "2022-05-08T04:55:46.931Z"
   },
   {
    "duration": 0,
    "start_time": "2022-05-08T04:55:46.932Z"
   },
   {
    "duration": 0,
    "start_time": "2022-05-08T04:55:46.932Z"
   },
   {
    "duration": 0,
    "start_time": "2022-05-08T04:55:46.934Z"
   },
   {
    "duration": 0,
    "start_time": "2022-05-08T04:55:46.934Z"
   },
   {
    "duration": 0,
    "start_time": "2022-05-08T04:55:46.935Z"
   },
   {
    "duration": 0,
    "start_time": "2022-05-08T04:55:46.936Z"
   },
   {
    "duration": 0,
    "start_time": "2022-05-08T04:55:46.937Z"
   },
   {
    "duration": 0,
    "start_time": "2022-05-08T04:55:46.938Z"
   },
   {
    "duration": 0,
    "start_time": "2022-05-08T04:55:46.939Z"
   },
   {
    "duration": 0,
    "start_time": "2022-05-08T04:55:46.940Z"
   },
   {
    "duration": 0,
    "start_time": "2022-05-08T04:55:46.941Z"
   },
   {
    "duration": 0,
    "start_time": "2022-05-08T04:55:46.942Z"
   },
   {
    "duration": 1,
    "start_time": "2022-05-08T04:55:46.942Z"
   },
   {
    "duration": 0,
    "start_time": "2022-05-08T04:55:46.943Z"
   },
   {
    "duration": 0,
    "start_time": "2022-05-08T04:55:46.944Z"
   },
   {
    "duration": 0,
    "start_time": "2022-05-08T04:55:46.945Z"
   },
   {
    "duration": 0,
    "start_time": "2022-05-08T04:55:46.946Z"
   },
   {
    "duration": 0,
    "start_time": "2022-05-08T04:55:46.947Z"
   },
   {
    "duration": 0,
    "start_time": "2022-05-08T04:55:46.948Z"
   },
   {
    "duration": 0,
    "start_time": "2022-05-08T04:55:46.949Z"
   },
   {
    "duration": 0,
    "start_time": "2022-05-08T04:55:46.950Z"
   },
   {
    "duration": 0,
    "start_time": "2022-05-08T04:55:46.951Z"
   },
   {
    "duration": 0,
    "start_time": "2022-05-08T04:55:46.952Z"
   },
   {
    "duration": 0,
    "start_time": "2022-05-08T04:55:46.953Z"
   },
   {
    "duration": 0,
    "start_time": "2022-05-08T04:55:46.954Z"
   },
   {
    "duration": 0,
    "start_time": "2022-05-08T04:55:46.955Z"
   },
   {
    "duration": 0,
    "start_time": "2022-05-08T04:55:46.955Z"
   },
   {
    "duration": 0,
    "start_time": "2022-05-08T04:55:46.956Z"
   },
   {
    "duration": 0,
    "start_time": "2022-05-08T04:55:46.957Z"
   },
   {
    "duration": 0,
    "start_time": "2022-05-08T04:55:46.958Z"
   },
   {
    "duration": 0,
    "start_time": "2022-05-08T04:55:47.023Z"
   },
   {
    "duration": 0,
    "start_time": "2022-05-08T04:55:47.024Z"
   },
   {
    "duration": 0,
    "start_time": "2022-05-08T04:55:47.025Z"
   },
   {
    "duration": 0,
    "start_time": "2022-05-08T04:55:47.026Z"
   },
   {
    "duration": 0,
    "start_time": "2022-05-08T04:55:47.027Z"
   },
   {
    "duration": 0,
    "start_time": "2022-05-08T04:55:47.028Z"
   },
   {
    "duration": 0,
    "start_time": "2022-05-08T04:55:47.029Z"
   },
   {
    "duration": 0,
    "start_time": "2022-05-08T04:55:47.030Z"
   },
   {
    "duration": 0,
    "start_time": "2022-05-08T04:55:47.030Z"
   },
   {
    "duration": 0,
    "start_time": "2022-05-08T04:55:47.031Z"
   },
   {
    "duration": 0,
    "start_time": "2022-05-08T04:55:47.032Z"
   },
   {
    "duration": 0,
    "start_time": "2022-05-08T04:55:47.033Z"
   },
   {
    "duration": 422,
    "start_time": "2022-05-08T04:56:03.362Z"
   },
   {
    "duration": 168,
    "start_time": "2022-05-08T04:56:03.786Z"
   },
   {
    "duration": 0,
    "start_time": "2022-05-08T04:56:03.958Z"
   },
   {
    "duration": 0,
    "start_time": "2022-05-08T04:56:03.959Z"
   },
   {
    "duration": 0,
    "start_time": "2022-05-08T04:56:03.960Z"
   },
   {
    "duration": 0,
    "start_time": "2022-05-08T04:56:03.961Z"
   },
   {
    "duration": 0,
    "start_time": "2022-05-08T04:56:03.962Z"
   },
   {
    "duration": 0,
    "start_time": "2022-05-08T04:56:03.963Z"
   },
   {
    "duration": 0,
    "start_time": "2022-05-08T04:56:03.964Z"
   },
   {
    "duration": 0,
    "start_time": "2022-05-08T04:56:03.965Z"
   },
   {
    "duration": 0,
    "start_time": "2022-05-08T04:56:03.966Z"
   },
   {
    "duration": 0,
    "start_time": "2022-05-08T04:56:03.967Z"
   },
   {
    "duration": 0,
    "start_time": "2022-05-08T04:56:03.969Z"
   },
   {
    "duration": 0,
    "start_time": "2022-05-08T04:56:03.970Z"
   },
   {
    "duration": 0,
    "start_time": "2022-05-08T04:56:03.971Z"
   },
   {
    "duration": 0,
    "start_time": "2022-05-08T04:56:03.972Z"
   },
   {
    "duration": 0,
    "start_time": "2022-05-08T04:56:03.973Z"
   },
   {
    "duration": 0,
    "start_time": "2022-05-08T04:56:03.974Z"
   },
   {
    "duration": 1,
    "start_time": "2022-05-08T04:56:03.975Z"
   },
   {
    "duration": 0,
    "start_time": "2022-05-08T04:56:03.977Z"
   },
   {
    "duration": 0,
    "start_time": "2022-05-08T04:56:03.978Z"
   },
   {
    "duration": 0,
    "start_time": "2022-05-08T04:56:03.979Z"
   },
   {
    "duration": 0,
    "start_time": "2022-05-08T04:56:04.022Z"
   },
   {
    "duration": 0,
    "start_time": "2022-05-08T04:56:04.024Z"
   },
   {
    "duration": 0,
    "start_time": "2022-05-08T04:56:04.025Z"
   },
   {
    "duration": 0,
    "start_time": "2022-05-08T04:56:04.026Z"
   },
   {
    "duration": 0,
    "start_time": "2022-05-08T04:56:04.027Z"
   },
   {
    "duration": 0,
    "start_time": "2022-05-08T04:56:04.028Z"
   },
   {
    "duration": 0,
    "start_time": "2022-05-08T04:56:04.029Z"
   },
   {
    "duration": 0,
    "start_time": "2022-05-08T04:56:04.030Z"
   },
   {
    "duration": 0,
    "start_time": "2022-05-08T04:56:04.031Z"
   },
   {
    "duration": 0,
    "start_time": "2022-05-08T04:56:04.032Z"
   },
   {
    "duration": 0,
    "start_time": "2022-05-08T04:56:04.033Z"
   },
   {
    "duration": 0,
    "start_time": "2022-05-08T04:56:04.035Z"
   },
   {
    "duration": 0,
    "start_time": "2022-05-08T04:56:04.036Z"
   },
   {
    "duration": 0,
    "start_time": "2022-05-08T04:56:04.037Z"
   },
   {
    "duration": 0,
    "start_time": "2022-05-08T04:56:04.038Z"
   },
   {
    "duration": 0,
    "start_time": "2022-05-08T04:56:04.039Z"
   },
   {
    "duration": 0,
    "start_time": "2022-05-08T04:56:04.041Z"
   },
   {
    "duration": 0,
    "start_time": "2022-05-08T04:56:04.042Z"
   },
   {
    "duration": 0,
    "start_time": "2022-05-08T04:56:04.043Z"
   },
   {
    "duration": 0,
    "start_time": "2022-05-08T04:56:04.044Z"
   },
   {
    "duration": 0,
    "start_time": "2022-05-08T04:56:04.045Z"
   },
   {
    "duration": 0,
    "start_time": "2022-05-08T04:56:04.046Z"
   },
   {
    "duration": 0,
    "start_time": "2022-05-08T04:56:04.047Z"
   },
   {
    "duration": 0,
    "start_time": "2022-05-08T04:56:04.048Z"
   },
   {
    "duration": 0,
    "start_time": "2022-05-08T04:56:04.049Z"
   },
   {
    "duration": 0,
    "start_time": "2022-05-08T04:56:04.050Z"
   },
   {
    "duration": 0,
    "start_time": "2022-05-08T04:56:04.051Z"
   },
   {
    "duration": 0,
    "start_time": "2022-05-08T04:56:04.052Z"
   },
   {
    "duration": 0,
    "start_time": "2022-05-08T04:56:04.054Z"
   },
   {
    "duration": 0,
    "start_time": "2022-05-08T04:56:04.055Z"
   },
   {
    "duration": 0,
    "start_time": "2022-05-08T04:56:04.056Z"
   },
   {
    "duration": 0,
    "start_time": "2022-05-08T04:56:04.057Z"
   },
   {
    "duration": 0,
    "start_time": "2022-05-08T04:56:04.058Z"
   },
   {
    "duration": 72,
    "start_time": "2022-05-08T16:10:43.016Z"
   },
   {
    "duration": 520,
    "start_time": "2022-05-08T16:10:46.675Z"
   },
   {
    "duration": 74,
    "start_time": "2022-05-08T16:10:47.198Z"
   },
   {
    "duration": 545,
    "start_time": "2022-05-08T16:10:58.662Z"
   },
   {
    "duration": 79,
    "start_time": "2022-05-08T16:10:59.210Z"
   },
   {
    "duration": 31,
    "start_time": "2022-05-08T16:10:59.292Z"
   },
   {
    "duration": 21,
    "start_time": "2022-05-08T16:10:59.327Z"
   },
   {
    "duration": 33,
    "start_time": "2022-05-08T16:10:59.350Z"
   },
   {
    "duration": 6,
    "start_time": "2022-05-08T16:10:59.386Z"
   },
   {
    "duration": 8,
    "start_time": "2022-05-08T16:10:59.394Z"
   },
   {
    "duration": 10,
    "start_time": "2022-05-08T16:10:59.404Z"
   },
   {
    "duration": 9,
    "start_time": "2022-05-08T16:10:59.416Z"
   },
   {
    "duration": 1066,
    "start_time": "2022-05-08T16:10:59.429Z"
   },
   {
    "duration": 408,
    "start_time": "2022-05-08T16:11:00.498Z"
   },
   {
    "duration": 575,
    "start_time": "2022-05-08T16:11:00.909Z"
   },
   {
    "duration": 11,
    "start_time": "2022-05-08T16:11:01.487Z"
   },
   {
    "duration": 16,
    "start_time": "2022-05-08T16:11:01.500Z"
   },
   {
    "duration": 9,
    "start_time": "2022-05-08T16:11:01.519Z"
   },
   {
    "duration": 422,
    "start_time": "2022-05-08T16:11:01.530Z"
   },
   {
    "duration": 7,
    "start_time": "2022-05-08T16:11:01.954Z"
   },
   {
    "duration": 52,
    "start_time": "2022-05-08T16:11:01.962Z"
   },
   {
    "duration": 48,
    "start_time": "2022-05-08T16:11:02.016Z"
   },
   {
    "duration": 34,
    "start_time": "2022-05-08T16:11:02.066Z"
   },
   {
    "duration": 45,
    "start_time": "2022-05-08T16:11:02.102Z"
   },
   {
    "duration": 27,
    "start_time": "2022-05-08T16:11:02.150Z"
   },
   {
    "duration": 22,
    "start_time": "2022-05-08T16:11:02.180Z"
   },
   {
    "duration": 17,
    "start_time": "2022-05-08T16:11:02.205Z"
   },
   {
    "duration": 16,
    "start_time": "2022-05-08T16:11:02.224Z"
   },
   {
    "duration": 32,
    "start_time": "2022-05-08T16:11:02.243Z"
   },
   {
    "duration": 14,
    "start_time": "2022-05-08T16:11:02.278Z"
   },
   {
    "duration": 8,
    "start_time": "2022-05-08T16:11:02.297Z"
   },
   {
    "duration": 9,
    "start_time": "2022-05-08T16:11:02.307Z"
   },
   {
    "duration": 6,
    "start_time": "2022-05-08T16:11:02.318Z"
   },
   {
    "duration": 36,
    "start_time": "2022-05-08T16:11:02.326Z"
   },
   {
    "duration": 8,
    "start_time": "2022-05-08T16:11:02.382Z"
   },
   {
    "duration": 48,
    "start_time": "2022-05-08T16:11:02.392Z"
   },
   {
    "duration": 48,
    "start_time": "2022-05-08T16:11:02.442Z"
   },
   {
    "duration": 18,
    "start_time": "2022-05-08T16:11:02.493Z"
   },
   {
    "duration": 12,
    "start_time": "2022-05-08T16:11:02.514Z"
   },
   {
    "duration": 13,
    "start_time": "2022-05-08T16:11:02.528Z"
   },
   {
    "duration": 6,
    "start_time": "2022-05-08T16:11:02.543Z"
   },
   {
    "duration": 32,
    "start_time": "2022-05-08T16:11:02.550Z"
   },
   {
    "duration": 16,
    "start_time": "2022-05-08T16:11:02.584Z"
   },
   {
    "duration": 10,
    "start_time": "2022-05-08T16:11:02.602Z"
   },
   {
    "duration": 41,
    "start_time": "2022-05-08T16:11:02.614Z"
   },
   {
    "duration": 36,
    "start_time": "2022-05-08T16:11:02.658Z"
   },
   {
    "duration": 45,
    "start_time": "2022-05-08T16:11:02.697Z"
   },
   {
    "duration": 5,
    "start_time": "2022-05-08T16:11:02.744Z"
   },
   {
    "duration": 42,
    "start_time": "2022-05-08T16:11:02.752Z"
   },
   {
    "duration": 44,
    "start_time": "2022-05-08T16:11:02.797Z"
   },
   {
    "duration": 67,
    "start_time": "2022-05-08T16:11:02.843Z"
   },
   {
    "duration": 4,
    "start_time": "2022-05-08T16:11:02.912Z"
   },
   {
    "duration": 14,
    "start_time": "2022-05-08T16:11:02.918Z"
   },
   {
    "duration": 12,
    "start_time": "2022-05-08T16:11:02.934Z"
   },
   {
    "duration": 64,
    "start_time": "2022-05-08T16:11:02.948Z"
   },
   {
    "duration": 39,
    "start_time": "2022-05-08T16:11:03.014Z"
   },
   {
    "duration": 40,
    "start_time": "2022-05-08T16:11:03.055Z"
   },
   {
    "duration": 42,
    "start_time": "2022-05-08T16:11:03.097Z"
   },
   {
    "duration": 84,
    "start_time": "2022-05-09T15:43:27.394Z"
   },
   {
    "duration": 574,
    "start_time": "2022-05-09T15:43:41.910Z"
   },
   {
    "duration": 84,
    "start_time": "2022-05-09T15:43:42.486Z"
   },
   {
    "duration": 32,
    "start_time": "2022-05-09T15:43:42.573Z"
   },
   {
    "duration": 22,
    "start_time": "2022-05-09T15:43:42.607Z"
   },
   {
    "duration": 33,
    "start_time": "2022-05-09T15:43:42.631Z"
   },
   {
    "duration": 36,
    "start_time": "2022-05-09T15:43:42.666Z"
   },
   {
    "duration": 22,
    "start_time": "2022-05-09T15:43:42.705Z"
   },
   {
    "duration": 24,
    "start_time": "2022-05-09T15:43:42.730Z"
   },
   {
    "duration": 36,
    "start_time": "2022-05-09T15:43:42.757Z"
   },
   {
    "duration": 1096,
    "start_time": "2022-05-09T15:43:42.795Z"
   },
   {
    "duration": 441,
    "start_time": "2022-05-09T15:43:43.893Z"
   },
   {
    "duration": 506,
    "start_time": "2022-05-09T15:43:44.336Z"
   },
   {
    "duration": 17,
    "start_time": "2022-05-09T15:43:44.844Z"
   },
   {
    "duration": 23,
    "start_time": "2022-05-09T15:43:44.866Z"
   },
   {
    "duration": 10,
    "start_time": "2022-05-09T15:43:44.892Z"
   },
   {
    "duration": 587,
    "start_time": "2022-05-09T15:43:44.905Z"
   },
   {
    "duration": 80,
    "start_time": "2022-05-09T15:43:45.495Z"
   },
   {
    "duration": 8,
    "start_time": "2022-05-09T15:43:45.578Z"
   },
   {
    "duration": 16,
    "start_time": "2022-05-09T15:43:45.588Z"
   },
   {
    "duration": 10,
    "start_time": "2022-05-09T15:43:45.606Z"
   },
   {
    "duration": 10,
    "start_time": "2022-05-09T15:43:45.618Z"
   },
   {
    "duration": 17,
    "start_time": "2022-05-09T15:43:45.657Z"
   },
   {
    "duration": 17,
    "start_time": "2022-05-09T15:43:45.679Z"
   },
   {
    "duration": 17,
    "start_time": "2022-05-09T15:43:45.699Z"
   },
   {
    "duration": 13,
    "start_time": "2022-05-09T15:43:45.718Z"
   },
   {
    "duration": 24,
    "start_time": "2022-05-09T15:43:45.762Z"
   },
   {
    "duration": 16,
    "start_time": "2022-05-09T15:43:45.789Z"
   },
   {
    "duration": 13,
    "start_time": "2022-05-09T15:43:45.807Z"
   },
   {
    "duration": 41,
    "start_time": "2022-05-09T15:43:45.822Z"
   },
   {
    "duration": 20,
    "start_time": "2022-05-09T15:43:45.865Z"
   },
   {
    "duration": 11,
    "start_time": "2022-05-09T15:43:45.887Z"
   },
   {
    "duration": 21,
    "start_time": "2022-05-09T15:43:45.900Z"
   },
   {
    "duration": 40,
    "start_time": "2022-05-09T15:43:45.923Z"
   },
   {
    "duration": 37,
    "start_time": "2022-05-09T15:43:45.968Z"
   },
   {
    "duration": 35,
    "start_time": "2022-05-09T15:43:46.008Z"
   },
   {
    "duration": 35,
    "start_time": "2022-05-09T15:43:46.052Z"
   },
   {
    "duration": 12,
    "start_time": "2022-05-09T15:43:46.089Z"
   },
   {
    "duration": 12,
    "start_time": "2022-05-09T15:43:46.103Z"
   },
   {
    "duration": 7,
    "start_time": "2022-05-09T15:43:46.118Z"
   },
   {
    "duration": 6,
    "start_time": "2022-05-09T15:43:46.154Z"
   },
   {
    "duration": 34,
    "start_time": "2022-05-09T15:43:46.165Z"
   },
   {
    "duration": 12,
    "start_time": "2022-05-09T15:43:46.202Z"
   },
   {
    "duration": 56,
    "start_time": "2022-05-09T15:43:46.217Z"
   },
   {
    "duration": 21,
    "start_time": "2022-05-09T15:43:46.278Z"
   },
   {
    "duration": 55,
    "start_time": "2022-05-09T15:43:46.301Z"
   },
   {
    "duration": 13,
    "start_time": "2022-05-09T15:43:46.358Z"
   },
   {
    "duration": 29,
    "start_time": "2022-05-09T15:43:46.373Z"
   },
   {
    "duration": 53,
    "start_time": "2022-05-09T15:43:46.404Z"
   },
   {
    "duration": 42,
    "start_time": "2022-05-09T15:43:46.464Z"
   },
   {
    "duration": 5,
    "start_time": "2022-05-09T15:43:46.509Z"
   },
   {
    "duration": 42,
    "start_time": "2022-05-09T15:43:46.516Z"
   },
   {
    "duration": 9,
    "start_time": "2022-05-09T15:43:46.564Z"
   },
   {
    "duration": 44,
    "start_time": "2022-05-09T15:43:46.577Z"
   },
   {
    "duration": 64,
    "start_time": "2022-05-09T15:43:46.623Z"
   },
   {
    "duration": 18,
    "start_time": "2022-05-09T15:43:46.691Z"
   },
   {
    "duration": 74,
    "start_time": "2022-05-09T15:43:46.711Z"
   },
   {
    "duration": 20,
    "start_time": "2022-05-09T15:44:41.133Z"
   },
   {
    "duration": 122,
    "start_time": "2022-05-09T15:46:37.577Z"
   },
   {
    "duration": 31,
    "start_time": "2022-05-09T15:46:51.444Z"
   },
   {
    "duration": 35,
    "start_time": "2022-05-09T15:46:54.709Z"
   },
   {
    "duration": 28,
    "start_time": "2022-05-09T15:47:01.088Z"
   },
   {
    "duration": 6,
    "start_time": "2022-05-09T15:47:03.234Z"
   },
   {
    "duration": 25,
    "start_time": "2022-05-09T15:47:08.042Z"
   },
   {
    "duration": 50,
    "start_time": "2022-05-09T15:48:45.627Z"
   },
   {
    "duration": 50,
    "start_time": "2022-05-09T16:30:25.865Z"
   },
   {
    "duration": 486,
    "start_time": "2022-05-09T16:30:31.234Z"
   },
   {
    "duration": 687,
    "start_time": "2022-05-09T16:30:31.722Z"
   },
   {
    "duration": 18,
    "start_time": "2022-05-09T16:30:32.410Z"
   },
   {
    "duration": 14,
    "start_time": "2022-05-09T16:30:32.430Z"
   },
   {
    "duration": 5,
    "start_time": "2022-05-09T16:30:34.644Z"
   },
   {
    "duration": 7,
    "start_time": "2022-05-09T16:33:07.510Z"
   },
   {
    "duration": 24,
    "start_time": "2022-05-09T16:38:35.193Z"
   },
   {
    "duration": 3,
    "start_time": "2022-05-09T16:38:46.026Z"
   },
   {
    "duration": 84,
    "start_time": "2022-05-09T16:38:46.031Z"
   },
   {
    "duration": 34,
    "start_time": "2022-05-09T16:38:46.118Z"
   },
   {
    "duration": 36,
    "start_time": "2022-05-09T16:38:46.154Z"
   },
   {
    "duration": 4,
    "start_time": "2022-05-09T16:38:46.192Z"
   },
   {
    "duration": 9,
    "start_time": "2022-05-09T16:38:46.197Z"
   },
   {
    "duration": 7,
    "start_time": "2022-05-09T16:38:46.207Z"
   },
   {
    "duration": 5,
    "start_time": "2022-05-09T16:38:46.215Z"
   },
   {
    "duration": 26,
    "start_time": "2022-05-09T16:38:46.221Z"
   },
   {
    "duration": 660,
    "start_time": "2022-05-09T16:38:46.250Z"
   },
   {
    "duration": 294,
    "start_time": "2022-05-09T16:38:46.914Z"
   },
   {
    "duration": 280,
    "start_time": "2022-05-09T16:38:47.209Z"
   },
   {
    "duration": 6,
    "start_time": "2022-05-09T16:38:47.490Z"
   },
   {
    "duration": 10,
    "start_time": "2022-05-09T16:38:47.498Z"
   },
   {
    "duration": 4,
    "start_time": "2022-05-09T16:38:47.509Z"
   },
   {
    "duration": 256,
    "start_time": "2022-05-09T16:38:47.514Z"
   },
   {
    "duration": 4,
    "start_time": "2022-05-09T16:38:47.772Z"
   },
   {
    "duration": 7,
    "start_time": "2022-05-09T16:38:47.778Z"
   },
   {
    "duration": 7,
    "start_time": "2022-05-09T16:38:47.787Z"
   },
   {
    "duration": 6,
    "start_time": "2022-05-09T16:38:47.795Z"
   },
   {
    "duration": 4,
    "start_time": "2022-05-09T16:38:47.803Z"
   },
   {
    "duration": 41,
    "start_time": "2022-05-09T16:38:47.808Z"
   },
   {
    "duration": 13,
    "start_time": "2022-05-09T16:38:47.850Z"
   },
   {
    "duration": 23,
    "start_time": "2022-05-09T16:38:47.866Z"
   },
   {
    "duration": 11,
    "start_time": "2022-05-09T16:38:47.890Z"
   },
   {
    "duration": 14,
    "start_time": "2022-05-09T16:38:47.903Z"
   },
   {
    "duration": 8,
    "start_time": "2022-05-09T16:38:47.918Z"
   },
   {
    "duration": 30,
    "start_time": "2022-05-09T16:38:47.928Z"
   },
   {
    "duration": 13,
    "start_time": "2022-05-09T16:38:47.963Z"
   },
   {
    "duration": 7,
    "start_time": "2022-05-09T16:38:47.977Z"
   },
   {
    "duration": 20,
    "start_time": "2022-05-09T16:38:47.985Z"
   },
   {
    "duration": 8,
    "start_time": "2022-05-09T16:38:48.007Z"
   },
   {
    "duration": 34,
    "start_time": "2022-05-09T16:38:48.017Z"
   },
   {
    "duration": 29,
    "start_time": "2022-05-09T16:38:48.053Z"
   },
   {
    "duration": 11,
    "start_time": "2022-05-09T16:38:48.083Z"
   },
   {
    "duration": 9,
    "start_time": "2022-05-09T16:38:48.095Z"
   },
   {
    "duration": 7,
    "start_time": "2022-05-09T16:38:48.105Z"
   },
   {
    "duration": 4,
    "start_time": "2022-05-09T16:38:48.114Z"
   },
   {
    "duration": 9,
    "start_time": "2022-05-09T16:38:48.119Z"
   },
   {
    "duration": 13,
    "start_time": "2022-05-09T16:38:48.152Z"
   },
   {
    "duration": 8,
    "start_time": "2022-05-09T16:38:48.167Z"
   },
   {
    "duration": 24,
    "start_time": "2022-05-09T16:38:51.786Z"
   },
   {
    "duration": 21,
    "start_time": "2022-05-09T16:38:53.106Z"
   },
   {
    "duration": 37,
    "start_time": "2022-05-09T16:42:50.998Z"
   },
   {
    "duration": 2,
    "start_time": "2022-05-09T16:42:55.501Z"
   },
   {
    "duration": 63,
    "start_time": "2022-05-09T16:42:55.505Z"
   },
   {
    "duration": 12,
    "start_time": "2022-05-09T16:42:55.570Z"
   },
   {
    "duration": 14,
    "start_time": "2022-05-09T16:42:55.583Z"
   },
   {
    "duration": 4,
    "start_time": "2022-05-09T16:42:55.599Z"
   },
   {
    "duration": 56,
    "start_time": "2022-05-09T16:42:55.604Z"
   },
   {
    "duration": 4,
    "start_time": "2022-05-09T16:42:55.662Z"
   },
   {
    "duration": 7,
    "start_time": "2022-05-09T16:42:55.668Z"
   },
   {
    "duration": 8,
    "start_time": "2022-05-09T16:42:55.676Z"
   },
   {
    "duration": 268,
    "start_time": "2022-05-09T16:42:55.686Z"
   },
   {
    "duration": 249,
    "start_time": "2022-05-09T16:42:55.958Z"
   },
   {
    "duration": 224,
    "start_time": "2022-05-09T16:42:56.209Z"
   },
   {
    "duration": 7,
    "start_time": "2022-05-09T16:42:56.435Z"
   },
   {
    "duration": 20,
    "start_time": "2022-05-09T16:42:56.443Z"
   },
   {
    "duration": 5,
    "start_time": "2022-05-09T16:42:56.465Z"
   },
   {
    "duration": 293,
    "start_time": "2022-05-09T16:42:56.472Z"
   },
   {
    "duration": 5,
    "start_time": "2022-05-09T16:42:56.767Z"
   },
   {
    "duration": 6,
    "start_time": "2022-05-09T16:42:56.773Z"
   },
   {
    "duration": 9,
    "start_time": "2022-05-09T16:42:56.781Z"
   },
   {
    "duration": 8,
    "start_time": "2022-05-09T16:42:56.792Z"
   },
   {
    "duration": 5,
    "start_time": "2022-05-09T16:42:56.801Z"
   },
   {
    "duration": 7,
    "start_time": "2022-05-09T16:42:56.808Z"
   },
   {
    "duration": 21,
    "start_time": "2022-05-09T16:42:56.848Z"
   },
   {
    "duration": 11,
    "start_time": "2022-05-09T16:42:56.871Z"
   },
   {
    "duration": 10,
    "start_time": "2022-05-09T16:42:56.884Z"
   },
   {
    "duration": 11,
    "start_time": "2022-05-09T16:42:56.896Z"
   },
   {
    "duration": 8,
    "start_time": "2022-05-09T16:42:56.908Z"
   },
   {
    "duration": 34,
    "start_time": "2022-05-09T16:42:56.918Z"
   },
   {
    "duration": 9,
    "start_time": "2022-05-09T16:42:56.957Z"
   },
   {
    "duration": 6,
    "start_time": "2022-05-09T16:42:56.967Z"
   },
   {
    "duration": 10,
    "start_time": "2022-05-09T16:42:56.979Z"
   },
   {
    "duration": 7,
    "start_time": "2022-05-09T16:42:56.991Z"
   },
   {
    "duration": 18,
    "start_time": "2022-05-09T16:42:56.999Z"
   },
   {
    "duration": 57,
    "start_time": "2022-05-09T16:42:57.019Z"
   },
   {
    "duration": 11,
    "start_time": "2022-05-09T16:42:57.078Z"
   },
   {
    "duration": 10,
    "start_time": "2022-05-09T16:42:57.090Z"
   },
   {
    "duration": 7,
    "start_time": "2022-05-09T16:42:57.102Z"
   },
   {
    "duration": 4,
    "start_time": "2022-05-09T16:42:57.110Z"
   },
   {
    "duration": 5,
    "start_time": "2022-05-09T16:42:57.115Z"
   },
   {
    "duration": 38,
    "start_time": "2022-05-09T16:42:57.121Z"
   },
   {
    "duration": 11,
    "start_time": "2022-05-09T16:42:57.161Z"
   },
   {
    "duration": 22,
    "start_time": "2022-05-09T16:42:57.174Z"
   },
   {
    "duration": 9,
    "start_time": "2022-05-09T16:42:57.198Z"
   },
   {
    "duration": 10,
    "start_time": "2022-05-09T16:42:58.532Z"
   },
   {
    "duration": 40,
    "start_time": "2022-05-09T16:42:58.968Z"
   },
   {
    "duration": 43,
    "start_time": "2022-05-09T16:43:16.532Z"
   },
   {
    "duration": 35,
    "start_time": "2022-05-09T16:43:21.568Z"
   },
   {
    "duration": 36,
    "start_time": "2022-05-09T16:43:38.961Z"
   },
   {
    "duration": 21,
    "start_time": "2022-05-09T16:44:10.115Z"
   },
   {
    "duration": 25,
    "start_time": "2022-05-09T16:44:17.458Z"
   },
   {
    "duration": 23,
    "start_time": "2022-05-09T16:44:33.895Z"
   },
   {
    "duration": 9,
    "start_time": "2022-05-09T16:45:19.040Z"
   },
   {
    "duration": 3,
    "start_time": "2022-05-09T16:45:24.595Z"
   },
   {
    "duration": 63,
    "start_time": "2022-05-09T16:45:24.600Z"
   },
   {
    "duration": 16,
    "start_time": "2022-05-09T16:45:24.665Z"
   },
   {
    "duration": 22,
    "start_time": "2022-05-09T16:45:24.683Z"
   },
   {
    "duration": 5,
    "start_time": "2022-05-09T16:45:24.707Z"
   },
   {
    "duration": 42,
    "start_time": "2022-05-09T16:45:24.714Z"
   },
   {
    "duration": 7,
    "start_time": "2022-05-09T16:45:24.759Z"
   },
   {
    "duration": 11,
    "start_time": "2022-05-09T16:45:24.768Z"
   },
   {
    "duration": 8,
    "start_time": "2022-05-09T16:45:24.781Z"
   },
   {
    "duration": 337,
    "start_time": "2022-05-09T16:45:24.791Z"
   },
   {
    "duration": 252,
    "start_time": "2022-05-09T16:45:25.131Z"
   },
   {
    "duration": 233,
    "start_time": "2022-05-09T16:45:25.384Z"
   },
   {
    "duration": 6,
    "start_time": "2022-05-09T16:45:25.619Z"
   },
   {
    "duration": 25,
    "start_time": "2022-05-09T16:45:25.627Z"
   },
   {
    "duration": 14,
    "start_time": "2022-05-09T16:45:25.655Z"
   },
   {
    "duration": 345,
    "start_time": "2022-05-09T16:45:25.671Z"
   },
   {
    "duration": 4,
    "start_time": "2022-05-09T16:45:26.018Z"
   },
   {
    "duration": 10,
    "start_time": "2022-05-09T16:45:26.023Z"
   },
   {
    "duration": 26,
    "start_time": "2022-05-09T16:45:26.047Z"
   },
   {
    "duration": 6,
    "start_time": "2022-05-09T16:45:26.075Z"
   },
   {
    "duration": 6,
    "start_time": "2022-05-09T16:45:26.083Z"
   },
   {
    "duration": 9,
    "start_time": "2022-05-09T16:45:26.091Z"
   },
   {
    "duration": 13,
    "start_time": "2022-05-09T16:45:26.101Z"
   },
   {
    "duration": 35,
    "start_time": "2022-05-09T16:45:26.116Z"
   },
   {
    "duration": 15,
    "start_time": "2022-05-09T16:45:26.153Z"
   },
   {
    "duration": 10,
    "start_time": "2022-05-09T16:45:26.170Z"
   },
   {
    "duration": 9,
    "start_time": "2022-05-09T16:45:26.182Z"
   },
   {
    "duration": 5,
    "start_time": "2022-05-09T16:45:26.192Z"
   },
   {
    "duration": 6,
    "start_time": "2022-05-09T16:45:26.200Z"
   },
   {
    "duration": 4,
    "start_time": "2022-05-09T16:45:26.207Z"
   },
   {
    "duration": 14,
    "start_time": "2022-05-09T16:45:26.249Z"
   },
   {
    "duration": 7,
    "start_time": "2022-05-09T16:45:26.266Z"
   },
   {
    "duration": 27,
    "start_time": "2022-05-09T16:45:26.275Z"
   },
   {
    "duration": 55,
    "start_time": "2022-05-09T16:45:26.304Z"
   },
   {
    "duration": 16,
    "start_time": "2022-05-09T16:45:26.361Z"
   },
   {
    "duration": 11,
    "start_time": "2022-05-09T16:45:26.379Z"
   },
   {
    "duration": 7,
    "start_time": "2022-05-09T16:45:26.391Z"
   },
   {
    "duration": 4,
    "start_time": "2022-05-09T16:45:26.400Z"
   },
   {
    "duration": 4,
    "start_time": "2022-05-09T16:45:26.406Z"
   },
   {
    "duration": 10,
    "start_time": "2022-05-09T16:45:26.411Z"
   },
   {
    "duration": 11,
    "start_time": "2022-05-09T16:45:26.452Z"
   },
   {
    "duration": 21,
    "start_time": "2022-05-09T16:45:26.465Z"
   },
   {
    "duration": 10,
    "start_time": "2022-05-09T16:45:26.488Z"
   },
   {
    "duration": 24,
    "start_time": "2022-05-09T16:45:26.499Z"
   },
   {
    "duration": 25,
    "start_time": "2022-05-09T16:45:26.524Z"
   },
   {
    "duration": 21,
    "start_time": "2022-05-09T16:45:26.551Z"
   },
   {
    "duration": 10,
    "start_time": "2022-05-09T16:45:27.515Z"
   },
   {
    "duration": 27,
    "start_time": "2022-05-09T16:45:28.110Z"
   },
   {
    "duration": 81,
    "start_time": "2022-05-09T16:45:50.232Z"
   },
   {
    "duration": 36,
    "start_time": "2022-05-09T16:45:57.334Z"
   },
   {
    "duration": 32,
    "start_time": "2022-05-09T16:46:03.374Z"
   },
   {
    "duration": 19,
    "start_time": "2022-05-09T16:46:34.419Z"
   },
   {
    "duration": 3,
    "start_time": "2022-05-09T16:46:38.591Z"
   },
   {
    "duration": 711,
    "start_time": "2022-05-09T16:46:38.597Z"
   },
   {
    "duration": 19,
    "start_time": "2022-05-09T16:46:39.310Z"
   },
   {
    "duration": 32,
    "start_time": "2022-05-09T16:46:39.332Z"
   },
   {
    "duration": 5,
    "start_time": "2022-05-09T16:46:39.367Z"
   },
   {
    "duration": 9,
    "start_time": "2022-05-09T16:46:39.374Z"
   },
   {
    "duration": 6,
    "start_time": "2022-05-09T16:46:39.385Z"
   },
   {
    "duration": 5,
    "start_time": "2022-05-09T16:46:39.393Z"
   },
   {
    "duration": 8,
    "start_time": "2022-05-09T16:46:39.401Z"
   },
   {
    "duration": 309,
    "start_time": "2022-05-09T16:46:39.410Z"
   },
   {
    "duration": 348,
    "start_time": "2022-05-09T16:46:39.722Z"
   },
   {
    "duration": 236,
    "start_time": "2022-05-09T16:46:40.072Z"
   },
   {
    "duration": 7,
    "start_time": "2022-05-09T16:46:40.310Z"
   },
   {
    "duration": 31,
    "start_time": "2022-05-09T16:46:40.319Z"
   },
   {
    "duration": 6,
    "start_time": "2022-05-09T16:46:40.353Z"
   },
   {
    "duration": 338,
    "start_time": "2022-05-09T16:46:40.361Z"
   },
   {
    "duration": 6,
    "start_time": "2022-05-09T16:46:40.700Z"
   },
   {
    "duration": 7,
    "start_time": "2022-05-09T16:46:40.707Z"
   },
   {
    "duration": 9,
    "start_time": "2022-05-09T16:46:40.716Z"
   },
   {
    "duration": 8,
    "start_time": "2022-05-09T16:46:40.748Z"
   },
   {
    "duration": 19,
    "start_time": "2022-05-09T16:46:40.758Z"
   },
   {
    "duration": 11,
    "start_time": "2022-05-09T16:46:40.780Z"
   },
   {
    "duration": 16,
    "start_time": "2022-05-09T16:46:40.793Z"
   },
   {
    "duration": 8,
    "start_time": "2022-05-09T16:46:40.813Z"
   },
   {
    "duration": 36,
    "start_time": "2022-05-09T16:46:40.823Z"
   },
   {
    "duration": 11,
    "start_time": "2022-05-09T16:46:40.860Z"
   },
   {
    "duration": 13,
    "start_time": "2022-05-09T16:46:40.874Z"
   },
   {
    "duration": 6,
    "start_time": "2022-05-09T16:46:40.889Z"
   },
   {
    "duration": 8,
    "start_time": "2022-05-09T16:46:40.897Z"
   },
   {
    "duration": 45,
    "start_time": "2022-05-09T16:46:40.907Z"
   },
   {
    "duration": 14,
    "start_time": "2022-05-09T16:46:40.953Z"
   },
   {
    "duration": 5,
    "start_time": "2022-05-09T16:46:40.972Z"
   },
   {
    "duration": 19,
    "start_time": "2022-05-09T16:46:40.979Z"
   },
   {
    "duration": 20,
    "start_time": "2022-05-09T16:46:41.000Z"
   },
   {
    "duration": 38,
    "start_time": "2022-05-09T16:46:41.022Z"
   },
   {
    "duration": 17,
    "start_time": "2022-05-09T16:46:41.062Z"
   },
   {
    "duration": 10,
    "start_time": "2022-05-09T16:46:41.081Z"
   },
   {
    "duration": 5,
    "start_time": "2022-05-09T16:46:41.093Z"
   },
   {
    "duration": 5,
    "start_time": "2022-05-09T16:46:41.099Z"
   },
   {
    "duration": 13,
    "start_time": "2022-05-09T16:46:41.105Z"
   },
   {
    "duration": 33,
    "start_time": "2022-05-09T16:46:41.120Z"
   },
   {
    "duration": 33,
    "start_time": "2022-05-09T16:46:41.155Z"
   },
   {
    "duration": 12,
    "start_time": "2022-05-09T16:46:41.190Z"
   },
   {
    "duration": 54,
    "start_time": "2022-05-09T16:46:41.204Z"
   },
   {
    "duration": 6,
    "start_time": "2022-05-09T16:46:41.260Z"
   },
   {
    "duration": 15,
    "start_time": "2022-05-09T16:46:41.268Z"
   },
   {
    "duration": 25,
    "start_time": "2022-05-09T16:46:41.284Z"
   },
   {
    "duration": 46,
    "start_time": "2022-05-09T16:46:41.311Z"
   },
   {
    "duration": 4,
    "start_time": "2022-05-09T16:46:41.359Z"
   },
   {
    "duration": 12,
    "start_time": "2022-05-09T16:46:41.365Z"
   },
   {
    "duration": 6,
    "start_time": "2022-05-09T16:46:41.379Z"
   },
   {
    "duration": 6,
    "start_time": "2022-05-09T16:46:42.792Z"
   },
   {
    "duration": 35,
    "start_time": "2022-05-09T16:46:43.713Z"
   },
   {
    "duration": 34,
    "start_time": "2022-05-09T16:47:09.987Z"
   },
   {
    "duration": 36,
    "start_time": "2022-05-09T16:47:18.977Z"
   },
   {
    "duration": 15,
    "start_time": "2022-05-09T16:48:10.586Z"
   },
   {
    "duration": 29,
    "start_time": "2022-05-09T16:48:12.606Z"
   },
   {
    "duration": 22,
    "start_time": "2022-05-09T16:48:26.200Z"
   },
   {
    "duration": 22,
    "start_time": "2022-05-09T16:48:31.500Z"
   },
   {
    "duration": 424,
    "start_time": "2022-05-10T09:02:20.744Z"
   },
   {
    "duration": 66,
    "start_time": "2022-05-10T09:02:21.170Z"
   },
   {
    "duration": 21,
    "start_time": "2022-05-10T09:02:21.239Z"
   },
   {
    "duration": 20,
    "start_time": "2022-05-10T09:02:21.262Z"
   },
   {
    "duration": 5,
    "start_time": "2022-05-10T09:02:21.284Z"
   },
   {
    "duration": 38,
    "start_time": "2022-05-10T09:02:21.291Z"
   },
   {
    "duration": 6,
    "start_time": "2022-05-10T09:02:21.332Z"
   },
   {
    "duration": 8,
    "start_time": "2022-05-10T09:02:21.340Z"
   },
   {
    "duration": 11,
    "start_time": "2022-05-10T09:02:21.350Z"
   },
   {
    "duration": 844,
    "start_time": "2022-05-10T09:02:21.363Z"
   },
   {
    "duration": 273,
    "start_time": "2022-05-10T09:02:22.209Z"
   },
   {
    "duration": 329,
    "start_time": "2022-05-10T09:02:22.484Z"
   },
   {
    "duration": 13,
    "start_time": "2022-05-10T09:02:22.814Z"
   },
   {
    "duration": 17,
    "start_time": "2022-05-10T09:02:22.829Z"
   },
   {
    "duration": 5,
    "start_time": "2022-05-10T09:02:22.848Z"
   },
   {
    "duration": 316,
    "start_time": "2022-05-10T09:02:22.855Z"
   },
   {
    "duration": 6,
    "start_time": "2022-05-10T09:02:23.173Z"
   },
   {
    "duration": 5,
    "start_time": "2022-05-10T09:02:23.184Z"
   },
   {
    "duration": 9,
    "start_time": "2022-05-10T09:02:23.191Z"
   },
   {
    "duration": 9,
    "start_time": "2022-05-10T09:02:23.235Z"
   },
   {
    "duration": 6,
    "start_time": "2022-05-10T09:02:23.245Z"
   },
   {
    "duration": 8,
    "start_time": "2022-05-10T09:02:23.253Z"
   },
   {
    "duration": 13,
    "start_time": "2022-05-10T09:02:23.264Z"
   },
   {
    "duration": 8,
    "start_time": "2022-05-10T09:02:23.280Z"
   },
   {
    "duration": 45,
    "start_time": "2022-05-10T09:02:23.290Z"
   },
   {
    "duration": 21,
    "start_time": "2022-05-10T09:02:23.337Z"
   },
   {
    "duration": 13,
    "start_time": "2022-05-10T09:02:23.360Z"
   },
   {
    "duration": 7,
    "start_time": "2022-05-10T09:02:23.376Z"
   },
   {
    "duration": 57,
    "start_time": "2022-05-10T09:02:23.385Z"
   },
   {
    "duration": 4,
    "start_time": "2022-05-10T09:02:23.445Z"
   },
   {
    "duration": 17,
    "start_time": "2022-05-10T09:02:23.451Z"
   },
   {
    "duration": 10,
    "start_time": "2022-05-10T09:02:23.470Z"
   },
   {
    "duration": 47,
    "start_time": "2022-05-10T09:02:23.484Z"
   },
   {
    "duration": 27,
    "start_time": "2022-05-10T09:02:23.533Z"
   },
   {
    "duration": 11,
    "start_time": "2022-05-10T09:02:23.562Z"
   },
   {
    "duration": 10,
    "start_time": "2022-05-10T09:02:23.575Z"
   },
   {
    "duration": 11,
    "start_time": "2022-05-10T09:02:23.587Z"
   },
   {
    "duration": 16,
    "start_time": "2022-05-10T09:02:23.622Z"
   },
   {
    "duration": 4,
    "start_time": "2022-05-10T09:02:23.641Z"
   },
   {
    "duration": 18,
    "start_time": "2022-05-10T09:02:23.647Z"
   },
   {
    "duration": 9,
    "start_time": "2022-05-10T09:02:23.667Z"
   },
   {
    "duration": 56,
    "start_time": "2022-05-10T09:02:23.679Z"
   },
   {
    "duration": 16,
    "start_time": "2022-05-10T09:02:23.737Z"
   },
   {
    "duration": 29,
    "start_time": "2022-05-10T09:02:23.755Z"
   },
   {
    "duration": 4,
    "start_time": "2022-05-10T09:02:23.786Z"
   },
   {
    "duration": 42,
    "start_time": "2022-05-10T09:02:23.792Z"
   },
   {
    "duration": 41,
    "start_time": "2022-05-10T09:02:23.836Z"
   },
   {
    "duration": 52,
    "start_time": "2022-05-10T09:02:23.879Z"
   },
   {
    "duration": 5,
    "start_time": "2022-05-10T09:02:23.936Z"
   },
   {
    "duration": 15,
    "start_time": "2022-05-10T09:02:23.943Z"
   },
   {
    "duration": 9,
    "start_time": "2022-05-10T09:02:23.960Z"
   },
   {
    "duration": 27,
    "start_time": "2022-05-10T09:02:23.971Z"
   },
   {
    "duration": 51,
    "start_time": "2022-05-10T09:02:24.000Z"
   },
   {
    "duration": 16,
    "start_time": "2022-05-10T09:02:24.053Z"
   },
   {
    "duration": 63,
    "start_time": "2022-05-10T09:02:24.072Z"
   }
  ],
  "kernelspec": {
   "display_name": "Python 3 (ipykernel)",
   "language": "python",
   "name": "python3"
  },
  "language_info": {
   "codemirror_mode": {
    "name": "ipython",
    "version": 3
   },
   "file_extension": ".py",
   "mimetype": "text/x-python",
   "name": "python",
   "nbconvert_exporter": "python",
   "pygments_lexer": "ipython3",
   "version": "3.9.7"
  },
  "toc": {
   "base_numbering": 1,
   "nav_menu": {},
   "number_sections": true,
   "sideBar": true,
   "skip_h1_title": true,
   "title_cell": "Table of Contents",
   "title_sidebar": "Contents",
   "toc_cell": false,
   "toc_position": {},
   "toc_section_display": true,
   "toc_window_display": false
  }
 },
 "nbformat": 4,
 "nbformat_minor": 5
}
