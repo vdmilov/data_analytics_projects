{
 "cells": [
  {
   "cell_type": "markdown",
   "id": "08f2d83c",
   "metadata": {
    "datalore": {
     "hide_input_from_viewers": false,
     "hide_output_from_viewers": false,
     "node_id": "5FOW0IHKWuC0oRceMexk2y",
     "type": "MD"
    }
   },
   "source": [
    "# User interaction on Yandex media platform"
   ]
  },
  {
   "cell_type": "markdown",
   "id": "94159eed",
   "metadata": {
    "datalore": {
     "hide_input_from_viewers": false,
     "hide_output_from_viewers": false,
     "node_id": "NzxvCHNUPeZsYMSyifTFZw",
     "type": "MD"
    }
   },
   "source": [
    "## Scope of the project\n",
    "\n",
    "**The goal**:\n",
    "- Create a dashboard for managers\n",
    "\n",
    "**Input data**: \n",
    "- We have data with users interactions on the platform on 24.09.2019 from 18:28 till 19:00\n",
    "\n",
    "**Analysis structure**:\n",
    "* Data overview\n",
    "* Terms of reference\n",
    "* Links\n",
    "* Results"
   ]
  },
  {
   "cell_type": "code",
   "execution_count": 47,
   "id": "905bb67b",
   "metadata": {},
   "outputs": [],
   "source": [
    "import pandas as pd\n",
    "from sqlalchemy import create_engine\n",
    "from yaml import load, FullLoader"
   ]
  },
  {
   "cell_type": "code",
   "execution_count": 48,
   "id": "a68fdb32",
   "metadata": {},
   "outputs": [],
   "source": [
    "# read yaml file with configs\n",
    "\n",
    "config = load(open('config.yaml'), Loader=FullLoader)"
   ]
  },
  {
   "cell_type": "code",
   "execution_count": 49,
   "id": "52a0d06d",
   "metadata": {},
   "outputs": [],
   "source": [
    "user = config['db_config']['user']\n",
    "pwd = config['db_config']['pwd']\n",
    "host = config['db_config']['host']\n",
    "port = config['db_config']['port']\n",
    "db = config['db_config']['db']"
   ]
  },
  {
   "cell_type": "code",
   "execution_count": 50,
   "id": "79fb3f16",
   "metadata": {},
   "outputs": [],
   "source": [
    "# create connection str\n",
    "\n",
    "connection_string = 'postgresql+psycopg2://{}:{}@{}:{}/{}'.format(\n",
    "    user,\n",
    "    pwd,\n",
    "    host,\n",
    "    port,\n",
    "    db,\n",
    ")"
   ]
  },
  {
   "cell_type": "code",
   "execution_count": 51,
   "id": "09303413",
   "metadata": {},
   "outputs": [],
   "source": [
    "# create connection\n",
    "\n",
    "engine = create_engine(connection_string)"
   ]
  },
  {
   "cell_type": "code",
   "execution_count": 52,
   "id": "112aadc8",
   "metadata": {},
   "outputs": [],
   "source": [
    "# create function for selecting\n",
    "\n",
    "def select(query):\n",
    "    return pd.io.sql.read_sql(query, con = engine)"
   ]
  },
  {
   "cell_type": "code",
   "execution_count": 53,
   "id": "c7681935",
   "metadata": {},
   "outputs": [],
   "source": [
    "# write query\n",
    "\n",
    "query = \"\"\"\n",
    "select *\n",
    "from dash_visits\n",
    "\"\"\""
   ]
  },
  {
   "cell_type": "code",
   "execution_count": 54,
   "id": "d982401e",
   "metadata": {},
   "outputs": [],
   "source": [
    "visits = select(query)"
   ]
  },
  {
   "cell_type": "markdown",
   "id": "0034a3b9",
   "metadata": {},
   "source": [
    "## Data overview"
   ]
  },
  {
   "cell_type": "code",
   "execution_count": 57,
   "id": "d077bbc6",
   "metadata": {},
   "outputs": [
    {
     "data": {
      "text/html": [
       "<div>\n",
       "<style scoped>\n",
       "    .dataframe tbody tr th:only-of-type {\n",
       "        vertical-align: middle;\n",
       "    }\n",
       "\n",
       "    .dataframe tbody tr th {\n",
       "        vertical-align: top;\n",
       "    }\n",
       "\n",
       "    .dataframe thead th {\n",
       "        text-align: right;\n",
       "    }\n",
       "</style>\n",
       "<table border=\"1\" class=\"dataframe\">\n",
       "  <thead>\n",
       "    <tr style=\"text-align: right;\">\n",
       "      <th></th>\n",
       "      <th>record_id</th>\n",
       "      <th>item_topic</th>\n",
       "      <th>source_topic</th>\n",
       "      <th>age_segment</th>\n",
       "      <th>dt</th>\n",
       "      <th>visits</th>\n",
       "    </tr>\n",
       "  </thead>\n",
       "  <tbody>\n",
       "    <tr>\n",
       "      <th>0</th>\n",
       "      <td>1040597</td>\n",
       "      <td>Деньги</td>\n",
       "      <td>Авто</td>\n",
       "      <td>18-25</td>\n",
       "      <td>2019-09-24 18:32:00</td>\n",
       "      <td>3</td>\n",
       "    </tr>\n",
       "    <tr>\n",
       "      <th>1</th>\n",
       "      <td>1040598</td>\n",
       "      <td>Деньги</td>\n",
       "      <td>Авто</td>\n",
       "      <td>18-25</td>\n",
       "      <td>2019-09-24 18:35:00</td>\n",
       "      <td>1</td>\n",
       "    </tr>\n",
       "    <tr>\n",
       "      <th>2</th>\n",
       "      <td>1040599</td>\n",
       "      <td>Деньги</td>\n",
       "      <td>Авто</td>\n",
       "      <td>18-25</td>\n",
       "      <td>2019-09-24 18:54:00</td>\n",
       "      <td>4</td>\n",
       "    </tr>\n",
       "    <tr>\n",
       "      <th>3</th>\n",
       "      <td>1040600</td>\n",
       "      <td>Деньги</td>\n",
       "      <td>Авто</td>\n",
       "      <td>18-25</td>\n",
       "      <td>2019-09-24 18:55:00</td>\n",
       "      <td>17</td>\n",
       "    </tr>\n",
       "    <tr>\n",
       "      <th>4</th>\n",
       "      <td>1040601</td>\n",
       "      <td>Деньги</td>\n",
       "      <td>Авто</td>\n",
       "      <td>18-25</td>\n",
       "      <td>2019-09-24 18:56:00</td>\n",
       "      <td>27</td>\n",
       "    </tr>\n",
       "  </tbody>\n",
       "</table>\n",
       "</div>"
      ],
      "text/plain": [
       "   record_id item_topic source_topic age_segment                  dt  visits\n",
       "0    1040597     Деньги         Авто       18-25 2019-09-24 18:32:00       3\n",
       "1    1040598     Деньги         Авто       18-25 2019-09-24 18:35:00       1\n",
       "2    1040599     Деньги         Авто       18-25 2019-09-24 18:54:00       4\n",
       "3    1040600     Деньги         Авто       18-25 2019-09-24 18:55:00      17\n",
       "4    1040601     Деньги         Авто       18-25 2019-09-24 18:56:00      27"
      ]
     },
     "execution_count": 57,
     "metadata": {},
     "output_type": "execute_result"
    }
   ],
   "source": [
    "visits.head(5)"
   ]
  },
  {
   "cell_type": "code",
   "execution_count": 58,
   "id": "9025e9de",
   "metadata": {},
   "outputs": [
    {
     "name": "stdout",
     "output_type": "stream",
     "text": [
      "<class 'pandas.core.frame.DataFrame'>\n",
      "RangeIndex: 30745 entries, 0 to 30744\n",
      "Data columns (total 6 columns):\n",
      " #   Column        Non-Null Count  Dtype         \n",
      "---  ------        --------------  -----         \n",
      " 0   record_id     30745 non-null  int64         \n",
      " 1   item_topic    30745 non-null  object        \n",
      " 2   source_topic  30745 non-null  object        \n",
      " 3   age_segment   30745 non-null  object        \n",
      " 4   dt            30745 non-null  datetime64[ns]\n",
      " 5   visits        30745 non-null  int64         \n",
      "dtypes: datetime64[ns](1), int64(2), object(3)\n",
      "memory usage: 1.4+ MB\n"
     ]
    }
   ],
   "source": [
    "visits.info()"
   ]
  },
  {
   "cell_type": "markdown",
   "id": "7260ce57",
   "metadata": {},
   "source": [
    "There are 6 columns in the dataframe:\n",
    "\n",
    "`record_id` - id  \n",
    "`item_topic` - topic of the card  \n",
    "`source_topic` - topic of the source of the card  \n",
    "`age_segment` - age category  \n",
    "`dt` - date stamp  \n",
    "`visits` - number of visits  "
   ]
  },
  {
   "cell_type": "code",
   "execution_count": 60,
   "id": "80150530",
   "metadata": {},
   "outputs": [
    {
     "data": {
      "text/plain": [
       "array(['Деньги', 'Дети', 'Женская психология', 'Женщины', 'Здоровье',\n",
       "       'Знаменитости', 'Интересные факты', 'Искусство', 'История',\n",
       "       'Красота', 'Культура', 'Наука', 'Общество', 'Отношения',\n",
       "       'Подборки', 'Полезные советы', 'Психология', 'Путешествия',\n",
       "       'Рассказы', 'Россия', 'Семья', 'Скандалы', 'Туризм', 'Шоу', 'Юмор'],\n",
       "      dtype=object)"
      ]
     },
     "execution_count": 60,
     "metadata": {},
     "output_type": "execute_result"
    }
   ],
   "source": [
    "visits['item_topic'].unique()"
   ]
  },
  {
   "cell_type": "code",
   "execution_count": 62,
   "id": "3febb09c",
   "metadata": {},
   "outputs": [
    {
     "data": {
      "text/plain": [
       "array(['Авто', 'Деньги', 'Дети', 'Еда', 'Здоровье', 'Знаменитости',\n",
       "       'Интерьеры', 'Искусство', 'История', 'Кино', 'Музыка', 'Одежда',\n",
       "       'Полезные советы', 'Политика', 'Психология', 'Путешествия',\n",
       "       'Ремонт', 'Россия', 'Сад и дача', 'Сделай сам',\n",
       "       'Семейные отношения', 'Семья', 'Спорт', 'Строительство',\n",
       "       'Технологии', 'Финансы'], dtype=object)"
      ]
     },
     "execution_count": 62,
     "metadata": {},
     "output_type": "execute_result"
    }
   ],
   "source": [
    "visits['source_topic'].unique()"
   ]
  },
  {
   "cell_type": "code",
   "execution_count": 63,
   "id": "03dc4b3e",
   "metadata": {},
   "outputs": [
    {
     "data": {
      "text/plain": [
       "array(['18-25', '26-30', '31-35', '36-40', '41-45', '45+'], dtype=object)"
      ]
     },
     "execution_count": 63,
     "metadata": {},
     "output_type": "execute_result"
    }
   ],
   "source": [
    "visits['age_segment'].unique()"
   ]
  },
  {
   "cell_type": "code",
   "execution_count": 66,
   "id": "5fd56ad1",
   "metadata": {},
   "outputs": [
    {
     "data": {
      "text/plain": [
       "Timestamp('2019-09-24 18:28:00')"
      ]
     },
     "execution_count": 66,
     "metadata": {},
     "output_type": "execute_result"
    }
   ],
   "source": [
    "visits['dt'].min()"
   ]
  },
  {
   "cell_type": "code",
   "execution_count": 67,
   "id": "710c0f0f",
   "metadata": {},
   "outputs": [
    {
     "data": {
      "text/plain": [
       "Timestamp('2019-09-24 19:00:00')"
      ]
     },
     "execution_count": 67,
     "metadata": {},
     "output_type": "execute_result"
    }
   ],
   "source": [
    "visits['dt'].max()"
   ]
  },
  {
   "cell_type": "code",
   "execution_count": 68,
   "id": "a3e37da9",
   "metadata": {
    "scrolled": false
   },
   "outputs": [],
   "source": [
    "# to csv to work in Tableau\n",
    "\n",
    "visits.to_csv('dash_visits.csv', index=False)"
   ]
  },
  {
   "cell_type": "markdown",
   "id": "0f9e6c59",
   "metadata": {},
   "source": [
    "## Terms of reference"
   ]
  },
  {
   "cell_type": "markdown",
   "id": "b98567d4",
   "metadata": {},
   "source": [
    "After talking with managers and database administrators, we wrote a brief terms of reference:  \n",
    "\n",
    "* **Business task**: analysis of user interaction with Yandex.Zen cards; \n",
    "* **Use of the dashboard**: at least once a week;  \n",
    "* **Main users of the dashboard**: content analysis managers;  \n",
    "* **Data for the dashboard**:\n",
    "    * History of events on the topics of cards (two graphs - absolute numbers and percentage);\n",
    "    * Breakdown of events by topics of sources;\n",
    "    * Correspondence table of the topics of the sources to the topics of the cards;\n",
    "* **By what parameters should the data be grouped**:\n",
    "    * Date and time;\n",
    "    * The topic of the card;\n",
    "    * The source topic;\n",
    "    * Age group;\n",
    "* **Importance**: all charts are of equal importance;\n",
    "* **Data sources for the dashboard**: raw data about user interaction events with cards;\n",
    "* **Database where the aggregated data will be stored**: additional aggregated tables in the zen database;\n",
    "* **Data update frequency**: once a day, at midnight UTC"
   ]
  },
  {
   "cell_type": "markdown",
   "id": "d2e2e2bb",
   "metadata": {},
   "source": [
    "## Links"
   ]
  },
  {
   "cell_type": "markdown",
   "id": "f511c74d",
   "metadata": {},
   "source": [
    "Link to the dashboard: https://public.tableau.com/views/Yandex_Dzen_dashboard/Dashboard?:language=en-US&:display_count=n&:origin=viz_share_link"
   ]
  },
  {
   "cell_type": "markdown",
   "id": "e9a96ac3",
   "metadata": {},
   "source": [
    "## Results"
   ]
  },
  {
   "cell_type": "markdown",
   "id": "d7f89671",
   "metadata": {},
   "source": [
    "* In the period from 18:28 to 18:53, the total number of visits on all cards did not exceed 2,5k\n",
    "* However, later there was a sharp jump in visits with a peak at 18:58 - about 60k visits\n",
    "* Science, relationships, interesting facts, society, and collections are in the top 5 card topics by total visits for the period\n",
    "\n",
    "\n",
    "\n",
    "* Top 5 topics take about 35% of the total number of visits\n",
    "* Their share remains at the same average level, with a dip around 18:35, when the topic of the cards “History” and “Useful tips” strongly wins back the share\n",
    "* The remaining topics of the cards are fairly stable in their proportions throughout the analysis\n",
    "\n",
    "\n",
    "* Top 3 source topics: “Family Relations”, “Russia”, and “Useful Tips”\n",
    "* Together they occupy about 30% of all topics of sources\n",
    "* There are 3 topics of sources that each occupy less than 1% of the total: “Finance”, “Music”, and “Construction”"
   ]
  }
 ],
 "metadata": {
  "kernelspec": {
   "display_name": "Python 3 (ipykernel)",
   "language": "python",
   "name": "python3"
  },
  "language_info": {
   "codemirror_mode": {
    "name": "ipython",
    "version": 3
   },
   "file_extension": ".py",
   "mimetype": "text/x-python",
   "name": "python",
   "nbconvert_exporter": "python",
   "pygments_lexer": "ipython3",
   "version": "3.9.12"
  }
 },
 "nbformat": 4,
 "nbformat_minor": 5
}
